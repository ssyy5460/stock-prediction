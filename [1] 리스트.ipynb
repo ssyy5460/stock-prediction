{
 "cells": [
  {
   "cell_type": "markdown",
   "metadata": {},
   "source": [
    "<strong>주가 예측 프로젝트 prac 1</strong>\n",
    "\n",
    "- fdr 라이브러리 사용\n",
    "- 프로그래밍적 사고\n",
    "- pandas dataframe 자료구조는 열 기반 자료 구조로 반복적으로 처리하는 사고력을 기르기 부적합\n",
    "- list 형태로 바꿔서 사용\n",
    "\n",
    "<strong> 수행시간 O(N)</strong> \n",
    "- 과제 1: 0초\n",
    "- 과제 2: 4분 50초\n",
    "- 과제 3: 4분"
   ]
  },
  {
   "cell_type": "markdown",
   "metadata": {},
   "source": [
    "# 과제 1\n",
    "- tab separated 형식\n",
    "- fdr 라이브러리를 사용하여 전체 종목 코드 다운받기\n",
    "- 상장일 2018년 1월 2일 이후 종목 텍스트 파일로 저장하기<br>"
   ]
  },
  {
   "cell_type": "code",
   "execution_count": 1,
   "metadata": {
    "ExecuteTime": {
     "end_time": "2022-10-26T16:11:17.168020Z",
     "start_time": "2022-10-26T16:11:15.892223Z"
    }
   },
   "outputs": [],
   "source": [
    "import pandas as pd\n",
    "import numpy as np\n",
    "import FinanceDataReader as fdr\n",
    "from tqdm import tqdm"
   ]
  },
  {
   "cell_type": "code",
   "execution_count": 2,
   "metadata": {
    "ExecuteTime": {
     "end_time": "2022-10-26T16:11:19.004594Z",
     "start_time": "2022-10-26T16:11:17.171010Z"
    }
   },
   "outputs": [
    {
     "data": {
      "text/html": [
       "<div>\n",
       "<style scoped>\n",
       "    .dataframe tbody tr th:only-of-type {\n",
       "        vertical-align: middle;\n",
       "    }\n",
       "\n",
       "    .dataframe tbody tr th {\n",
       "        vertical-align: top;\n",
       "    }\n",
       "\n",
       "    .dataframe thead th {\n",
       "        text-align: right;\n",
       "    }\n",
       "</style>\n",
       "<table border=\"1\" class=\"dataframe\">\n",
       "  <thead>\n",
       "    <tr style=\"text-align: right;\">\n",
       "      <th></th>\n",
       "      <th>회사명</th>\n",
       "      <th>종목코드</th>\n",
       "      <th>업종</th>\n",
       "      <th>주요제품</th>\n",
       "      <th>상장일</th>\n",
       "      <th>결산월</th>\n",
       "      <th>대표자명</th>\n",
       "      <th>홈페이지</th>\n",
       "      <th>지역</th>\n",
       "    </tr>\n",
       "  </thead>\n",
       "  <tbody>\n",
       "    <tr>\n",
       "      <th>0</th>\n",
       "      <td>BNK금융지주</td>\n",
       "      <td>138930</td>\n",
       "      <td>기타 금융업</td>\n",
       "      <td>금융지주회사</td>\n",
       "      <td>2011-03-30</td>\n",
       "      <td>12월</td>\n",
       "      <td>빈대인</td>\n",
       "      <td>http://www.bnkfg.com</td>\n",
       "      <td>부산광역시</td>\n",
       "    </tr>\n",
       "    <tr>\n",
       "      <th>1</th>\n",
       "      <td>DRB동일</td>\n",
       "      <td>4840</td>\n",
       "      <td>고무제품 제조업</td>\n",
       "      <td>고무벨트(V벨트,콘베이어벨트,평벨트),프라스틱제품 제조,판매</td>\n",
       "      <td>1976-05-21</td>\n",
       "      <td>12월</td>\n",
       "      <td>류영식</td>\n",
       "      <td>http://drbworld.com</td>\n",
       "      <td>부산광역시</td>\n",
       "    </tr>\n",
       "    <tr>\n",
       "      <th>2</th>\n",
       "      <td>DSR</td>\n",
       "      <td>155660</td>\n",
       "      <td>1차 비철금속 제조업</td>\n",
       "      <td>합섬섬유로프</td>\n",
       "      <td>2013-05-15</td>\n",
       "      <td>12월</td>\n",
       "      <td>홍석빈</td>\n",
       "      <td>http://www.dsr.com</td>\n",
       "      <td>부산광역시</td>\n",
       "    </tr>\n",
       "    <tr>\n",
       "      <th>3</th>\n",
       "      <td>GS</td>\n",
       "      <td>78930</td>\n",
       "      <td>기타 금융업</td>\n",
       "      <td>지주회사/부동산 임대</td>\n",
       "      <td>2004-08-05</td>\n",
       "      <td>12월</td>\n",
       "      <td>허태수, 홍순기 (각자 대표이사)</td>\n",
       "      <td>NaN</td>\n",
       "      <td>서울특별시</td>\n",
       "    </tr>\n",
       "    <tr>\n",
       "      <th>4</th>\n",
       "      <td>HDC현대산업개발</td>\n",
       "      <td>294870</td>\n",
       "      <td>건물 건설업</td>\n",
       "      <td>외주주택, 자체공사, 일반건축, 토목 등</td>\n",
       "      <td>2018-06-12</td>\n",
       "      <td>12월</td>\n",
       "      <td>최익훈, 정익희, 김회언 (각자 대표이사)</td>\n",
       "      <td>http://www.hdc-dvp.com</td>\n",
       "      <td>서울특별시</td>\n",
       "    </tr>\n",
       "  </tbody>\n",
       "</table>\n",
       "</div>"
      ],
      "text/plain": [
       "         회사명    종목코드           업종                               주요제품  \\\n",
       "0    BNK금융지주  138930       기타 금융업                             금융지주회사   \n",
       "1      DRB동일    4840     고무제품 제조업  고무벨트(V벨트,콘베이어벨트,평벨트),프라스틱제품 제조,판매   \n",
       "2        DSR  155660  1차 비철금속 제조업                             합섬섬유로프   \n",
       "3         GS   78930       기타 금융업                        지주회사/부동산 임대   \n",
       "4  HDC현대산업개발  294870       건물 건설업             외주주택, 자체공사, 일반건축, 토목 등   \n",
       "\n",
       "          상장일  결산월                     대표자명                    홈페이지     지역  \n",
       "0  2011-03-30  12월                      빈대인    http://www.bnkfg.com  부산광역시  \n",
       "1  1976-05-21  12월                      류영식     http://drbworld.com  부산광역시  \n",
       "2  2013-05-15  12월                      홍석빈      http://www.dsr.com  부산광역시  \n",
       "3  2004-08-05  12월       허태수, 홍순기 (각자 대표이사)                     NaN  서울특별시  \n",
       "4  2018-06-12  12월  최익훈, 정익희, 김회언 (각자 대표이사)  http://www.hdc-dvp.com  서울특별시  "
      ]
     },
     "execution_count": 2,
     "metadata": {},
     "output_type": "execute_result"
    }
   ],
   "source": [
    "df_stock = pd.read_html('http://kind.krx.co.kr/corpgeneral/corpList.do?method=download', header=0)[0] #데이터 불러오기\n",
    "df_stock.head()"
   ]
  },
  {
   "cell_type": "code",
   "execution_count": 3,
   "metadata": {
    "ExecuteTime": {
     "end_time": "2022-10-26T16:11:19.020551Z",
     "start_time": "2022-10-26T16:11:19.006589Z"
    }
   },
   "outputs": [],
   "source": [
    "lst_stock = df_stock.values.tolist() #데이터를 dataframe에서 리스트로 변환"
   ]
  },
  {
   "cell_type": "code",
   "execution_count": 4,
   "metadata": {
    "ExecuteTime": {
     "end_time": "2022-10-26T16:11:19.098862Z",
     "start_time": "2022-10-26T16:11:19.023545Z"
    }
   },
   "outputs": [
    {
     "name": "stderr",
     "output_type": "stream",
     "text": [
      "100%|██████████████████████████████████████████████████████████████████████████| 2586/2586 [00:00<00:00, 216259.00it/s]\n"
     ]
    }
   ],
   "source": [
    "lst_result = []\n",
    "\n",
    "\n",
    "for row in tqdm(lst_stock):\n",
    "    code, name, date = str(row[1]).zfill(6), row[0] , str(row[4])\n",
    "    if date <= '2018-01-02' : \n",
    "            lst_result.append([code,name])\n",
    "\n",
    "OF = open('../../data/assingnment1.txt','w')\n",
    "for row in lst_result:\n",
    "    OF.write(row[0]+'\\t'+row[1]+'\\n')\n",
    "OF.close()"
   ]
  },
  {
   "cell_type": "markdown",
   "metadata": {},
   "source": [
    "# 과제 2\n",
    "\n",
    "[참고]https://financedata.github.io/posts/finance-data-reader-users-guide.html\n",
    "- 과제1에서 선정한 종목 중에서 거래대금 1조 이상인 날짜 수집\n",
    "- Date, Open, High, Close, Volume, Change"
   ]
  },
  {
   "cell_type": "code",
   "execution_count": 5,
   "metadata": {
    "ExecuteTime": {
     "end_time": "2022-10-24T16:15:39.718549Z",
     "start_time": "2022-10-24T16:10:56.016906Z"
    }
   },
   "outputs": [
    {
     "name": "stderr",
     "output_type": "stream",
     "text": [
      "100%|██████████████████████████████████████████████████████████████████████████████| 1961/1961 [04:50<00:00,  6.75it/s]\n"
     ]
    }
   ],
   "source": [
    "lst_code2date = []\n",
    "\n",
    "start_date = '20180102'\n",
    "end_date = '20211231'\n",
    "\n",
    "\n",
    "for row in tqdm(lst_result):\n",
    "    code = row[0]\n",
    "    stock = fdr.DataReader(code, start_date ,end_date)\n",
    "    stock.index = stock.index.strftime('%Y-%m-%d')\n",
    "    stock = stock.reset_index('Date')\n",
    "    lst_stock = stock.values.tolist()\n",
    "    for row in lst_stock:\n",
    "        date, close, volume, trading = row[0], row[3],row[4], row[3]*row[4]\n",
    "        if trading >= 1000000000000:\n",
    "            lst_code2date.append([code, date])"
   ]
  },
  {
   "cell_type": "markdown",
   "metadata": {},
   "source": [
    "# 과제 3\n",
    "- 머신러닝 데이터 만들기\n",
    "- 과제2에서 선정한 거래대금 1조 이상인 종목과 날자를 기준일로하여 거래일을 기준으로하여\n",
    "기준일 포함 10일 간 주가와 거래대금을 설명변쑤로 기준일 다음날의 2% 상승여부를 반응변수로 하는 데이터를 만듦"
   ]
  },
  {
   "cell_type": "code",
   "execution_count": 6,
   "metadata": {
    "ExecuteTime": {
     "end_time": "2022-10-24T16:45:03.730253Z",
     "start_time": "2022-10-24T16:41:13.510229Z"
    }
   },
   "outputs": [
    {
     "name": "stderr",
     "output_type": "stream",
     "text": [
      "100%|██████████████████████████████████████████████████████████████████████████████| 1666/1666 [04:02<00:00,  6.87it/s]\n"
     ]
    }
   ],
   "source": [
    "lst_result = []\n",
    "\n",
    "\n",
    "OF = open('../../data/assignment3.txt', 'w')\n",
    "for row in tqdm(lst_code2date):\n",
    "    code, D0_date = row[0], row[1]\n",
    "    \n",
    "    stock = fdr.DataReader(code, start= '20171215' ,end = '20220115')\n",
    "    stock.index = stock.index.strftime('%Y-%m-%d')\n",
    "    stock = stock.reset_index('Date')\n",
    "    lst_stock = stock.values.tolist()\n",
    "    \n",
    "    for i,row in enumerate(lst_stock):\n",
    "        date = row[0]\n",
    "        if i < 9 :\n",
    "            continue\n",
    "        if date not in D0_date:\n",
    "            continue\n",
    "        \n",
    "        sub_stock = lst_stock[i-9:i+1]\n",
    "        pred_price = lst_stock[i+1][-1]\n",
    "        result = []\n",
    "        \n",
    "        for j,row2 in enumerate(sub_stock):\n",
    "            open, high, low, close, volume = row2[1:6]\n",
    "            trading_value = close*volume\n",
    "            result += [open, high, low, close, trading_value]\n",
    "\n",
    "        result = ','.join(map(str,result))\n",
    "        ratio = str(int(lst_stock[i+1][-1]>=0.02))\n",
    "        \n",
    "        a=('\\t'.join(map(str,[code, date, result, ratio]))+ '\\n')\n",
    "\n",
    "        OF.write('\\t'.join(map(str,[code, date, result, ratio]))+ '\\n')\n",
    "OF.close()"
   ]
  }
 ],
 "metadata": {
  "kernelspec": {
   "display_name": "Python 3",
   "language": "python",
   "name": "python3"
  },
  "language_info": {
   "codemirror_mode": {
    "name": "ipython",
    "version": 3
   },
   "file_extension": ".py",
   "mimetype": "text/x-python",
   "name": "python",
   "nbconvert_exporter": "python",
   "pygments_lexer": "ipython3",
   "version": "3.8.5"
  },
  "toc": {
   "base_numbering": 1,
   "nav_menu": {},
   "number_sections": true,
   "sideBar": true,
   "skip_h1_title": false,
   "title_cell": "Table of Contents",
   "title_sidebar": "Contents",
   "toc_cell": false,
   "toc_position": {},
   "toc_section_display": true,
   "toc_window_display": false
  }
 },
 "nbformat": 4,
 "nbformat_minor": 4
}
