{
 "cells": [
  {
   "cell_type": "markdown",
   "id": "4dc29616",
   "metadata": {
    "ExecuteTime": {
     "end_time": "2023-06-14T04:59:28.097522Z",
     "start_time": "2023-06-14T04:59:28.085209Z"
    }
   },
   "source": [
    "# 라이브러리 및 함수 불러오기"
   ]
  },
  {
   "cell_type": "code",
   "execution_count": 1,
   "id": "e06d2c2e",
   "metadata": {
    "ExecuteTime": {
     "end_time": "2023-06-23T16:28:11.887767Z",
     "start_time": "2023-06-23T16:28:08.325461Z"
    }
   },
   "outputs": [],
   "source": [
    "import warnings\n",
    "warnings.filterwarnings('ignore')\n",
    "import os\n",
    "import time\n",
    "import pandas as pd\n",
    "import numpy as np\n",
    "import datetime\n",
    "import pickle\n",
    "import pymysql\n",
    "from sqlalchemy import create_engine\n",
    "from tqdm import tqdm\n",
    "import random\n",
    "\n",
    "\n",
    "# model\n",
    "from sklearn.linear_model import LogisticRegression\n",
    "from sklearn.neighbors import KNeighborsClassifier\n",
    "from sklearn.ensemble import GradientBoostingClassifier\n",
    "from sklearn.naive_bayes import GaussianNB\n",
    "from sklearn.ensemble import RandomForestClassifier\n",
    "from sklearn.tree import DecisionTreeClassifier\n",
    "from xgboost import XGBClassifier \n",
    "from lightgbm import LGBMClassifier\n",
    "from sklearn.neural_network import MLPClassifier\n",
    "import sklearn.metrics as metrics\n",
    "from sklearn.metrics import accuracy_score, roc_auc_score\n",
    "\n",
    "# scaling\n",
    "from sklearn.preprocessing import MinMaxScaler # 정규화"
   ]
  },
  {
   "cell_type": "code",
   "execution_count": 3,
   "id": "f65d262f",
   "metadata": {
    "ExecuteTime": {
     "end_time": "2023-06-23T16:28:42.660842Z",
     "start_time": "2023-06-23T16:28:42.643915Z"
    },
    "scrolled": true
   },
   "outputs": [],
   "source": [
    "#con = pymysql.connect()\n",
    "#cursor = con.cursor()"
   ]
  },
  {
   "cell_type": "code",
   "execution_count": 4,
   "id": "3a125b70",
   "metadata": {
    "ExecuteTime": {
     "end_time": "2023-06-23T16:28:46.192665Z",
     "start_time": "2023-06-23T16:28:46.177677Z"
    }
   },
   "outputs": [],
   "source": [
    "def load_file(TYPE,trading, days,target):\n",
    "    with open('../data/{}_{}_{}_{}.pickle'.format(TYPE,trading, days,target), 'rb') as f:\n",
    "        data = pickle.load(f)\n",
    "    return data"
   ]
  },
  {
   "cell_type": "code",
   "execution_count": 5,
   "id": "764497bd",
   "metadata": {
    "ExecuteTime": {
     "end_time": "2023-06-23T16:28:46.947858Z",
     "start_time": "2023-06-23T16:28:46.929908Z"
    }
   },
   "outputs": [],
   "source": [
    "def set_random_seed(seed=42):\n",
    "  np.random.seed(seed)\n",
    "  random.seed(seed)"
   ]
  },
  {
   "cell_type": "code",
   "execution_count": 6,
   "id": "55632be3",
   "metadata": {
    "ExecuteTime": {
     "end_time": "2023-06-23T16:28:47.744018Z",
     "start_time": "2023-06-23T16:28:47.737007Z"
    }
   },
   "outputs": [],
   "source": [
    "set_random_seed()"
   ]
  },
  {
   "cell_type": "code",
   "execution_count": 7,
   "id": "212d106f",
   "metadata": {
    "ExecuteTime": {
     "end_time": "2023-06-23T16:28:50.349956Z",
     "start_time": "2023-06-23T16:28:50.330010Z"
    }
   },
   "outputs": [],
   "source": [
    "def order_request(trading_val, days,label,predY,lst_code2date,TYPE):\n",
    "    lst_output = []\n",
    "    \n",
    "    for (code,date),y in zip(lst_code2date, predY):\n",
    "        if y[1] >= 0.9:\n",
    "            lst_output.append([code, date, 'buy','all'])\n",
    "            lst_output.append([code, date+\"n\", 'sell', 'all'])\n",
    "        elif y[1] >= 0.7:\n",
    "            lst_output.append([code, date, 'buy','r90'])\n",
    "            lst_output.append([code, date+\"n\", 'sell', 'all'])\n",
    "        elif y[1] >= 0.5:\n",
    "            lst_output.append([code, date, 'buy', 'r50'])\n",
    "            lst_output.append([code, date+\"n\", 'sell', 'all'])\n",
    "        elif y[1] >= 0.3:\n",
    "            lst_output.append([code, date, 'buy', 'r30'])\n",
    "            lst_output.append([code, date+\"n\", 'sell', 'all'])\n",
    "        \n",
    "    lst_output.sort(key = lambda x: x[1]) # date 기준으로 주문 요청 결과 정렬\n",
    "\n",
    "    OF = open('../data/order_request_{}_{}_{}_{}.txt'.format(trading_val, days,label,TYPE),'w')\n",
    "    for row in lst_output:\n",
    "        OF.write('\\t'.join(map(str, row)) + '\\n')\n",
    "    OF.close()"
   ]
  },
  {
   "cell_type": "code",
   "execution_count": 8,
   "id": "d8d4ce1d",
   "metadata": {
    "ExecuteTime": {
     "end_time": "2023-06-23T16:28:51.442268Z",
     "start_time": "2023-06-23T16:28:51.426349Z"
    }
   },
   "outputs": [],
   "source": [
    "def make_rate(trading_val, days,label,con):\n",
    "    start_money = 10000000 # 초기 현금 1천만원\n",
    "    money = start_money\n",
    "    dic_code2num ={}  # 보유 종목\n",
    "\n",
    "    IF = open('../data/order_request_{}_{}_{}_val.txt'.format(trading_val, days,label))\n",
    "    for i, line in tqdm(enumerate(IF)): #주문 일지를 한 줄 읽어 옴\n",
    "        code, date, request, amount = line.strip().split(\"\\t\")\n",
    "\n",
    "        ##############################################################################################\n",
    "        sql_query = '''\n",
    "                    SELECT *\n",
    "                    FROM stock_{}\n",
    "                    WHERE Date\n",
    "                    BETWEEN '2021-01-01' AND '2021-07-01'\n",
    "                    '''.format(code)\n",
    "        stock = pd.read_sql(sql = sql_query, con = con)\n",
    "        lst_stock = stock.values.tolist()\n",
    "\n",
    "        for idx, row in enumerate(lst_stock):\n",
    "            Date = row[0].strftime('%Y%m%d')        \n",
    "            if date.endswith('n'):\n",
    "                if date.rstrip('n') == Date:\n",
    "                    sell_close = lst_stock[idx+1][4]\n",
    "            elif date == Date:\n",
    "                buy_close = lst_stock[idx][4]\n",
    "\n",
    "        ##############################################################################################\n",
    "\n",
    "        if request == 'buy': \n",
    "            if amount.startswith('r'):\n",
    "                request_money = money * float(amount.lstrip(\"r\")) / 100\n",
    "            elif amount == 'all':\n",
    "                request_money = money\n",
    "            elif amount.isdigit():\n",
    "                request_money = int(amount)\n",
    "        \n",
    "            else:\n",
    "                raise Exception('Not permitted option')\n",
    "            request_money = min(request_money, money)\n",
    "            buy_num = int(request_money / buy_close)\n",
    "            money -= buy_num * buy_close  # 현재 금액(money)을 실제 매수액을 뺀 만큼 업데이트\n",
    "            if code not in dic_code2num:\n",
    "                dic_code2num[code] = 0\n",
    "            dic_code2num[code] += buy_num # 보유 종목 데이터에 구매 종목(code)를 매수 개수 만큼 증가\n",
    "        if request == 'sell': # sell인 경우\n",
    "            if amount == 'all':\n",
    "                sell_num = dic_code2num[code]\n",
    "   \n",
    "            else:\n",
    "                raise Exception('Not permitted option')            \n",
    "            money += sell_num * sell_close\n",
    "            dic_code2num[code] -= sell_num\n",
    "            if dic_code2num[code] == 0:\n",
    "                del dic_code2num[code]\n",
    "    IF.close()            \n",
    "\n",
    "    if dic_code2num != {}: # 매매가 종료되었는데 보유 종목이 있으면\n",
    "        raise Exception('Not empty stock') \n",
    "\n",
    "    print(\"Final earning rate : {} %\".format(str((money-start_money) / start_money * 100)))"
   ]
  },
  {
   "cell_type": "code",
   "execution_count": 9,
   "id": "606c265b",
   "metadata": {
    "ExecuteTime": {
     "end_time": "2023-06-23T16:28:52.542857Z",
     "start_time": "2023-06-23T16:28:52.529893Z"
    }
   },
   "outputs": [],
   "source": [
    "def make_rate_test(trading_val, days,label,con):\n",
    "    start_money = 10000000 # 초기 현금 1천만원\n",
    "    money = start_money\n",
    "    dic_code2num ={}  # 보유 종목\n",
    "\n",
    "    IF = open('../data/order_request_{}_{}_{}_test.txt'.format(trading_val, days,label))\n",
    "    for i, line in tqdm(enumerate(IF)): #주문 일지를 한 줄 읽어 옴\n",
    "        code, date, request, amount = line.strip().split(\"\\t\")\n",
    "\n",
    "        ##############################################################################################\n",
    "        sql_query = '''\n",
    "                    SELECT *\n",
    "                    FROM stock_{}\n",
    "                    WHERE Date\n",
    "                    BETWEEN '2021-07-01' AND '2021-12-31'\n",
    "                    '''.format(code)\n",
    "        stock = pd.read_sql(sql = sql_query, con = con)\n",
    "        lst_stock = stock.values.tolist()\n",
    "\n",
    "        for idx, row in enumerate(lst_stock):\n",
    "            Date = row[0].strftime('%Y%m%d')        \n",
    "            if date.endswith('n'):\n",
    "                if date.rstrip('n') == Date:\n",
    "                    sell_close = lst_stock[idx+1][4]\n",
    "            elif date == Date:\n",
    "                buy_close = lst_stock[idx][4]\n",
    "\n",
    "        ##############################################################################################\n",
    "\n",
    "        if request == 'buy': \n",
    "            if amount.startswith('r'):\n",
    "                request_money = money * float(amount.lstrip(\"r\")) / 100\n",
    "            elif amount == 'all':\n",
    "                request_money = money\n",
    "            elif amount.isdigit():\n",
    "                request_money = int(amount)\n",
    "        \n",
    "            else:\n",
    "                raise Exception('Not permitted option')\n",
    "            request_money = min(request_money, money)\n",
    "            buy_num = int(request_money / buy_close)\n",
    "            money -= buy_num * buy_close  # 현재 금액(money)을 실제 매수액을 뺀 만큼 업데이트\n",
    "            if code not in dic_code2num:\n",
    "                dic_code2num[code] = 0\n",
    "            dic_code2num[code] += buy_num # 보유 종목 데이터에 구매 종목(code)를 매수 개수 만큼 증가\n",
    "        if request == 'sell': # sell인 경우\n",
    "            if amount == 'all':\n",
    "                sell_num = dic_code2num[code]\n",
    "   \n",
    "            else:\n",
    "                raise Exception('Not permitted option')            \n",
    "            money += sell_num * sell_close\n",
    "            dic_code2num[code] -= sell_num\n",
    "            if dic_code2num[code] == 0:\n",
    "                del dic_code2num[code]\n",
    "    IF.close()            \n",
    "\n",
    "    if dic_code2num != {}: # 매매가 종료되었는데 보유 종목이 있으면\n",
    "        raise Exception('Not empty stock') \n",
    "\n",
    "    print(\"Final earning rate : {} %\".format(str((money-start_money) / start_money * 100)))"
   ]
  },
  {
   "cell_type": "markdown",
   "id": "15d75935",
   "metadata": {},
   "source": [
    "# Base-line\n",
    "1. 모델 : LR\n",
    "2. 거래대금 : 1조 <br>\n",
    "3. 거래일 : 10일\n",
    "4. 오늘 대비 다음 날 종가 상승률 임계값 : 0.02 \n"
   ]
  },
  {
   "cell_type": "code",
   "execution_count": 30,
   "id": "84ffdcf0",
   "metadata": {
    "ExecuteTime": {
     "end_time": "2023-06-22T16:51:36.838915Z",
     "start_time": "2023-06-22T16:51:36.629477Z"
    },
    "scrolled": true
   },
   "outputs": [],
   "source": [
    "train = load_file('train',10000,10,0.02)\n",
    "val = load_file('val',10000,10,0.02)\n",
    "test = load_file('test',10000,10,0.02)"
   ]
  },
  {
   "cell_type": "code",
   "execution_count": 31,
   "id": "c5113257",
   "metadata": {
    "ExecuteTime": {
     "end_time": "2023-06-22T16:51:36.979541Z",
     "start_time": "2023-06-22T16:51:36.841910Z"
    }
   },
   "outputs": [],
   "source": [
    "lst_code2date = []\n",
    "trainX = []\n",
    "trainY = []\n",
    "\n",
    "for line in train:\n",
    "    code, date, x, y = line\n",
    "    lst_code2date.append([code,date])\n",
    "    trainX.append(list(map(int, x.split(','))))\n",
    "    trainY.append(int(y))\n",
    "    \n",
    "trainX = np.array(trainX)\n",
    "trainY = np.array(trainY)"
   ]
  },
  {
   "cell_type": "code",
   "execution_count": 32,
   "id": "76a61cdd",
   "metadata": {
    "ExecuteTime": {
     "end_time": "2023-06-22T16:51:37.043370Z",
     "start_time": "2023-06-22T16:51:36.982533Z"
    }
   },
   "outputs": [],
   "source": [
    "val_code2date = []\n",
    "valX = []\n",
    "valY = []\n",
    "\n",
    "for line in val:\n",
    "    code, date, x, y = line\n",
    "    val_code2date.append([code,date])\n",
    "    valX.append(list(map(int, x.split(','))))\n",
    "    valY.append(int(y))\n",
    "valX = np.array(valX)\n",
    "valY = np.array(valY)"
   ]
  },
  {
   "cell_type": "code",
   "execution_count": 33,
   "id": "a2037136",
   "metadata": {
    "ExecuteTime": {
     "end_time": "2023-06-22T16:51:37.059327Z",
     "start_time": "2023-06-22T16:51:37.046362Z"
    }
   },
   "outputs": [
    {
     "data": {
      "text/plain": [
       "((350, 50), (187, 50))"
      ]
     },
     "execution_count": 33,
     "metadata": {},
     "output_type": "execute_result"
    }
   ],
   "source": [
    "trainX.shape , valX.shape"
   ]
  },
  {
   "cell_type": "markdown",
   "id": "e4deebe2",
   "metadata": {
    "tags": []
   },
   "source": [
    "# 모델 성능"
   ]
  },
  {
   "cell_type": "markdown",
   "id": "142dcf75",
   "metadata": {},
   "source": [
    "## LR"
   ]
  },
  {
   "cell_type": "code",
   "execution_count": 51,
   "id": "ed01e93a",
   "metadata": {
    "ExecuteTime": {
     "end_time": "2023-06-22T16:53:57.400410Z",
     "start_time": "2023-06-22T16:53:57.375479Z"
    }
   },
   "outputs": [
    {
     "name": "stdout",
     "output_type": "stream",
     "text": [
      "Accuracy :  0.8663\n",
      "ROC :  0.8234\n"
     ]
    }
   ],
   "source": [
    "LR = LogisticRegression()\n",
    "LR.fit(trainX, trainY)\n",
    "predY = LR.predict_proba(valX) \n",
    "predY2 = LR.predict(valX) \n",
    "\n",
    "print('Accuracy : ', round(accuracy_score(valY,predY2),4))\n",
    "print('ROC : ', round(roc_auc_score(valY,predY2),4))"
   ]
  },
  {
   "cell_type": "code",
   "execution_count": 52,
   "id": "70c395c1",
   "metadata": {
    "ExecuteTime": {
     "end_time": "2023-06-22T16:53:59.258071Z",
     "start_time": "2023-06-22T16:53:59.244109Z"
    }
   },
   "outputs": [
    {
     "name": "stdout",
     "output_type": "stream",
     "text": [
      "[0.29387045 0.70612955]\n",
      "[0.28675539 0.71324461]\n",
      "[0.2048895 0.7951105]\n"
     ]
    }
   ],
   "source": [
    "for y in predY:\n",
    "    if y[1] > 0.7:\n",
    "        print(y)"
   ]
  },
  {
   "cell_type": "code",
   "execution_count": 36,
   "id": "7f8dfff0",
   "metadata": {
    "ExecuteTime": {
     "end_time": "2023-06-22T16:51:40.776106Z",
     "start_time": "2023-06-22T16:51:40.748180Z"
    },
    "scrolled": true
   },
   "outputs": [],
   "source": [
    "order_request(10000, 10,0.02,predY,val_code2date,'val')"
   ]
  },
  {
   "cell_type": "code",
   "execution_count": 38,
   "id": "73a675c5",
   "metadata": {
    "ExecuteTime": {
     "end_time": "2023-06-22T16:51:48.724635Z",
     "start_time": "2023-06-22T16:51:46.524243Z"
    }
   },
   "outputs": [
    {
     "name": "stderr",
     "output_type": "stream",
     "text": [
      "224it [00:02, 102.92it/s]"
     ]
    },
    {
     "name": "stdout",
     "output_type": "stream",
     "text": [
      "Final earning rate : -54.36991 %\n"
     ]
    },
    {
     "name": "stderr",
     "output_type": "stream",
     "text": [
      "\n"
     ]
    }
   ],
   "source": [
    "make_rate(10000,10,0.02,con)"
   ]
  },
  {
   "cell_type": "markdown",
   "id": "00e6fb1f",
   "metadata": {
    "ExecuteTime": {
     "end_time": "2023-06-14T05:24:05.492313Z",
     "start_time": "2023-06-14T05:24:05.478315Z"
    }
   },
   "source": [
    "## GB"
   ]
  },
  {
   "cell_type": "code",
   "execution_count": 53,
   "id": "9ddf2241",
   "metadata": {
    "ExecuteTime": {
     "end_time": "2023-06-22T16:54:05.835032Z",
     "start_time": "2023-06-22T16:54:05.476990Z"
    },
    "scrolled": true
   },
   "outputs": [
    {
     "name": "stdout",
     "output_type": "stream",
     "text": [
      "Accuracy :  0.4866\n",
      "ROC :  0.576\n"
     ]
    }
   ],
   "source": [
    "GB = GradientBoostingClassifier()\n",
    "GB.fit(trainX, trainY)\n",
    "predY = GB.predict_proba(valX) \n",
    "predY2 = GB.predict(valX) \n",
    "\n",
    "print('Accuracy : ', round(accuracy_score(valY,predY2),4))\n",
    "print('ROC : ', round(roc_auc_score(valY,predY2),4))"
   ]
  },
  {
   "cell_type": "code",
   "execution_count": 40,
   "id": "29983b56",
   "metadata": {
    "ExecuteTime": {
     "end_time": "2023-06-22T16:51:54.402882Z",
     "start_time": "2023-06-22T16:51:54.389889Z"
    },
    "scrolled": true
   },
   "outputs": [
    {
     "name": "stdout",
     "output_type": "stream",
     "text": [
      "72\n"
     ]
    }
   ],
   "source": [
    "SUM = 0 \n",
    "\n",
    "for y in predY:\n",
    "    if y[1] > 0.7:\n",
    "        SUM += 1\n",
    "print(SUM)"
   ]
  },
  {
   "cell_type": "code",
   "execution_count": 41,
   "id": "dc947093",
   "metadata": {
    "ExecuteTime": {
     "end_time": "2023-06-22T16:51:55.219139Z",
     "start_time": "2023-06-22T16:51:55.204150Z"
    },
    "scrolled": true
   },
   "outputs": [],
   "source": [
    "order_request(10000, 10,0.02,predY,val_code2date,'val')"
   ]
  },
  {
   "cell_type": "code",
   "execution_count": 43,
   "id": "25c9810e",
   "metadata": {
    "ExecuteTime": {
     "end_time": "2023-06-22T16:52:03.336542Z",
     "start_time": "2023-06-22T16:51:59.894220Z"
    },
    "scrolled": true
   },
   "outputs": [
    {
     "name": "stderr",
     "output_type": "stream",
     "text": [
      "350it [00:03, 102.42it/s]"
     ]
    },
    {
     "name": "stdout",
     "output_type": "stream",
     "text": [
      "Final earning rate : -63.91111000000001 %\n"
     ]
    },
    {
     "name": "stderr",
     "output_type": "stream",
     "text": [
      "\n"
     ]
    }
   ],
   "source": [
    "make_rate(10000,10,0.02,con)"
   ]
  },
  {
   "cell_type": "markdown",
   "id": "e4c3c4ef",
   "metadata": {},
   "source": [
    "## GN"
   ]
  },
  {
   "cell_type": "code",
   "execution_count": 54,
   "id": "5bd7af4b",
   "metadata": {
    "ExecuteTime": {
     "end_time": "2023-06-22T16:54:14.014157Z",
     "start_time": "2023-06-22T16:54:14.004184Z"
    }
   },
   "outputs": [
    {
     "name": "stdout",
     "output_type": "stream",
     "text": [
      "Accuracy :  0.5561\n",
      "ROC :  0.6326\n"
     ]
    }
   ],
   "source": [
    "GN = GaussianNB()\n",
    "GN.fit(trainX, trainY)\n",
    "predY = GN.predict_proba(valX) \n",
    "predY2 = GN.predict(valX) \n",
    "\n",
    "print('Accuracy : ', round(accuracy_score(valY,predY2),4))\n",
    "print('ROC : ', round(roc_auc_score(valY,predY2),4))"
   ]
  },
  {
   "cell_type": "code",
   "execution_count": 55,
   "id": "ad27f42f",
   "metadata": {
    "ExecuteTime": {
     "end_time": "2023-06-22T16:54:14.029116Z",
     "start_time": "2023-06-22T16:54:14.016152Z"
    }
   },
   "outputs": [
    {
     "name": "stdout",
     "output_type": "stream",
     "text": [
      "95\n"
     ]
    }
   ],
   "source": [
    "SUM = 0 \n",
    "\n",
    "for y in predY:\n",
    "    if y[1] > 0.7:\n",
    "        SUM += 1\n",
    "print(SUM)"
   ]
  },
  {
   "cell_type": "code",
   "execution_count": 56,
   "id": "8f454659",
   "metadata": {
    "ExecuteTime": {
     "end_time": "2023-06-22T16:54:14.044104Z",
     "start_time": "2023-06-22T16:54:14.031111Z"
    },
    "scrolled": true
   },
   "outputs": [],
   "source": [
    "order_request(10000, 10,0.02,predY,val_code2date,'val')"
   ]
  },
  {
   "cell_type": "code",
   "execution_count": 58,
   "id": "dcf82582",
   "metadata": {
    "ExecuteTime": {
     "end_time": "2023-06-22T16:54:20.888482Z",
     "start_time": "2023-06-22T16:54:17.701111Z"
    }
   },
   "outputs": [
    {
     "name": "stderr",
     "output_type": "stream",
     "text": [
      "288it [00:03, 90.90it/s]"
     ]
    },
    {
     "name": "stdout",
     "output_type": "stream",
     "text": [
      "Final earning rate : -71.84048 %\n"
     ]
    },
    {
     "name": "stderr",
     "output_type": "stream",
     "text": [
      "\n"
     ]
    }
   ],
   "source": [
    "make_rate(10000,10,0.02,con)"
   ]
  },
  {
   "cell_type": "markdown",
   "id": "7ab2c06d",
   "metadata": {},
   "source": [
    "## RF"
   ]
  },
  {
   "cell_type": "code",
   "execution_count": 41,
   "id": "75fa09d4",
   "metadata": {
    "ExecuteTime": {
     "end_time": "2023-06-20T10:57:43.493440Z",
     "start_time": "2023-06-20T10:57:43.194416Z"
    }
   },
   "outputs": [
    {
     "name": "stdout",
     "output_type": "stream",
     "text": [
      "Accuracy :  0.3316\n",
      "ROC :  0.4581\n"
     ]
    }
   ],
   "source": [
    "RF = RandomForestClassifier(random_state = 42)\n",
    "RF.fit(trainX, trainY)\n",
    "predY = RF.predict_proba(valX) \n",
    "predY2 = RF.predict(valX) \n",
    "\n",
    "print('Accuracy : ', round(accuracy_score(valY,predY2),4))\n",
    "print('ROC : ', round(roc_auc_score(valY,predY2),4))"
   ]
  },
  {
   "cell_type": "code",
   "execution_count": 42,
   "id": "607ec58a",
   "metadata": {
    "ExecuteTime": {
     "end_time": "2023-06-20T10:57:45.734517Z",
     "start_time": "2023-06-20T10:57:45.721553Z"
    }
   },
   "outputs": [
    {
     "name": "stdout",
     "output_type": "stream",
     "text": [
      "33\n"
     ]
    }
   ],
   "source": [
    "SUM = 0 \n",
    "\n",
    "for y in predY:\n",
    "    if y[1] > 0.7:\n",
    "        SUM += 1\n",
    "print(SUM)"
   ]
  },
  {
   "cell_type": "code",
   "execution_count": 43,
   "id": "f31aa8b8",
   "metadata": {
    "ExecuteTime": {
     "end_time": "2023-06-20T10:57:52.661132Z",
     "start_time": "2023-06-20T10:57:52.652121Z"
    },
    "scrolled": true
   },
   "outputs": [],
   "source": [
    "order_request(10000, 10,0.02,predY,val_code2date,'val')"
   ]
  },
  {
   "cell_type": "code",
   "execution_count": 59,
   "id": "c4146ddb",
   "metadata": {
    "ExecuteTime": {
     "end_time": "2023-06-22T16:54:40.878160Z",
     "start_time": "2023-06-22T16:54:37.749133Z"
    },
    "scrolled": true
   },
   "outputs": [
    {
     "name": "stderr",
     "output_type": "stream",
     "text": [
      "288it [00:03, 92.51it/s]"
     ]
    },
    {
     "name": "stdout",
     "output_type": "stream",
     "text": [
      "Final earning rate : -71.84048 %\n"
     ]
    },
    {
     "name": "stderr",
     "output_type": "stream",
     "text": [
      "\n"
     ]
    }
   ],
   "source": [
    "make_rate(10000,10,0.02,con)"
   ]
  },
  {
   "cell_type": "markdown",
   "id": "a18d29a3",
   "metadata": {},
   "source": [
    "## MLP"
   ]
  },
  {
   "cell_type": "code",
   "execution_count": 60,
   "id": "047bd679",
   "metadata": {
    "ExecuteTime": {
     "end_time": "2023-06-22T16:54:44.726000Z",
     "start_time": "2023-06-22T16:54:44.508111Z"
    }
   },
   "outputs": [
    {
     "name": "stdout",
     "output_type": "stream",
     "text": [
      "Accuracy :  0.7647\n",
      "ROC :  0.705\n"
     ]
    }
   ],
   "source": [
    "MLP = MLPClassifier(random_state = 42)\n",
    "MLP.fit(trainX, trainY)\n",
    "predY = MLP.predict_proba(valX) \n",
    "predY2 = MLP.predict(valX) \n",
    "\n",
    "print('Accuracy : ', round(accuracy_score(valY,predY2),4))\n",
    "print('ROC : ', round(roc_auc_score(valY,predY2),4))"
   ]
  },
  {
   "cell_type": "code",
   "execution_count": 61,
   "id": "a91196a5",
   "metadata": {
    "ExecuteTime": {
     "end_time": "2023-06-22T16:54:45.469570Z",
     "start_time": "2023-06-22T16:54:45.460618Z"
    }
   },
   "outputs": [
    {
     "name": "stdout",
     "output_type": "stream",
     "text": [
      "46\n"
     ]
    }
   ],
   "source": [
    "SUM = 0 \n",
    "\n",
    "for y in predY:\n",
    "    if y[1] > 0.7:\n",
    "        SUM += 1\n",
    "print(SUM)"
   ]
  },
  {
   "cell_type": "code",
   "execution_count": 62,
   "id": "233bf96d",
   "metadata": {
    "ExecuteTime": {
     "end_time": "2023-06-22T16:54:46.362079Z",
     "start_time": "2023-06-22T16:54:46.356096Z"
    },
    "scrolled": true
   },
   "outputs": [],
   "source": [
    "order_request(10000, 10,0.02,predY,val_code2date,'val')"
   ]
  },
  {
   "cell_type": "code",
   "execution_count": 63,
   "id": "59a157b4",
   "metadata": {
    "ExecuteTime": {
     "end_time": "2023-06-22T16:54:50.440144Z",
     "start_time": "2023-06-22T16:54:49.427862Z"
    }
   },
   "outputs": [
    {
     "name": "stderr",
     "output_type": "stream",
     "text": [
      "92it [00:00, 92.61it/s]"
     ]
    },
    {
     "name": "stdout",
     "output_type": "stream",
     "text": [
      "Final earning rate : -59.99539 %\n"
     ]
    },
    {
     "name": "stderr",
     "output_type": "stream",
     "text": [
      "\n"
     ]
    }
   ],
   "source": [
    "make_rate(10000,10,0.02,con)"
   ]
  },
  {
   "cell_type": "markdown",
   "id": "a2eda7f1",
   "metadata": {},
   "source": [
    "## LGB"
   ]
  },
  {
   "cell_type": "code",
   "execution_count": 77,
   "id": "3d5837f3",
   "metadata": {
    "ExecuteTime": {
     "end_time": "2023-06-22T16:59:33.407877Z",
     "start_time": "2023-06-22T16:59:33.317123Z"
    },
    "scrolled": true
   },
   "outputs": [
    {
     "name": "stdout",
     "output_type": "stream",
     "text": [
      "Accuracy :  0.738\n",
      "ROC :  0.7446\n"
     ]
    }
   ],
   "source": [
    "lgb = LGBMClassifier()\n",
    "lgb.fit(trainX, trainY)\n",
    "predY = lgb.predict_proba(valX) \n",
    "predY2 = lgb.predict(valX) \n",
    "\n",
    "print('Accuracy : ', round(accuracy_score(valY,predY2),4))\n",
    "print('ROC : ', round(roc_auc_score(valY,predY2),4))"
   ]
  },
  {
   "cell_type": "code",
   "execution_count": 79,
   "id": "99665e39",
   "metadata": {
    "ExecuteTime": {
     "end_time": "2023-06-22T16:59:47.748644Z",
     "start_time": "2023-06-22T16:59:47.732660Z"
    }
   },
   "outputs": [
    {
     "name": "stdout",
     "output_type": "stream",
     "text": [
      "58\n"
     ]
    }
   ],
   "source": [
    "SUM = 0 \n",
    "\n",
    "for y in predY:\n",
    "    if y[1] > 0.7:\n",
    "        SUM += 1\n",
    "print(SUM)\n"
   ]
  },
  {
   "cell_type": "code",
   "execution_count": 80,
   "id": "a3ac8108",
   "metadata": {
    "ExecuteTime": {
     "end_time": "2023-06-22T16:59:55.604984Z",
     "start_time": "2023-06-22T16:59:55.588000Z"
    },
    "scrolled": true
   },
   "outputs": [],
   "source": [
    "order_request(10000, 10,0.02,predY,val_code2date,'val')"
   ]
  },
  {
   "cell_type": "code",
   "execution_count": 81,
   "id": "3fd6af6a",
   "metadata": {
    "ExecuteTime": {
     "end_time": "2023-06-22T16:59:58.365364Z",
     "start_time": "2023-06-22T16:59:55.606977Z"
    }
   },
   "outputs": [
    {
     "name": "stderr",
     "output_type": "stream",
     "text": [
      "250it [00:02, 91.16it/s]"
     ]
    },
    {
     "name": "stdout",
     "output_type": "stream",
     "text": [
      "Final earning rate : -75.0336 %\n"
     ]
    },
    {
     "name": "stderr",
     "output_type": "stream",
     "text": [
      "\n"
     ]
    }
   ],
   "source": [
    "make_rate(10000,10,0.02,con)"
   ]
  },
  {
   "cell_type": "markdown",
   "id": "7ac3d0c5",
   "metadata": {},
   "source": [
    "## XGB"
   ]
  },
  {
   "cell_type": "code",
   "execution_count": 82,
   "id": "7afb5e8b",
   "metadata": {
    "ExecuteTime": {
     "end_time": "2023-06-22T17:00:03.617747Z",
     "start_time": "2023-06-22T17:00:03.430248Z"
    },
    "scrolled": true
   },
   "outputs": [
    {
     "name": "stdout",
     "output_type": "stream",
     "text": [
      "Accuracy :  0.754\n",
      "ROC :  0.7456\n"
     ]
    }
   ],
   "source": [
    "xgb = XGBClassifier()\n",
    "xgb.fit(trainX, trainY)\n",
    "predY = xgb.predict_proba(valX) \n",
    "predY2 = xgb.predict(valX) \n",
    "\n",
    "print('Accuracy : ', round(accuracy_score(valY,predY2),4))\n",
    "print('ROC : ', round(roc_auc_score(valY,predY2),4))\n"
   ]
  },
  {
   "cell_type": "code",
   "execution_count": 83,
   "id": "ee74f6cb",
   "metadata": {
    "ExecuteTime": {
     "end_time": "2023-06-22T17:00:08.413019Z",
     "start_time": "2023-06-22T17:00:08.397040Z"
    }
   },
   "outputs": [
    {
     "name": "stdout",
     "output_type": "stream",
     "text": [
      "55\n"
     ]
    }
   ],
   "source": [
    "SUM = 0 \n",
    "\n",
    "for y in predY:\n",
    "    if y[1] > 0.7:\n",
    "        SUM += 1\n",
    "print(SUM)"
   ]
  },
  {
   "cell_type": "code",
   "execution_count": 84,
   "id": "fa597983",
   "metadata": {
    "ExecuteTime": {
     "end_time": "2023-06-22T17:00:09.727808Z",
     "start_time": "2023-06-22T17:00:09.715840Z"
    },
    "scrolled": true
   },
   "outputs": [],
   "source": [
    "order_request(10000, 10,0.02,predY,val_code2date,'val')"
   ]
  },
  {
   "cell_type": "code",
   "execution_count": 85,
   "id": "72c64bea",
   "metadata": {
    "ExecuteTime": {
     "end_time": "2023-06-22T17:00:16.749971Z",
     "start_time": "2023-06-22T17:00:14.492932Z"
    }
   },
   "outputs": [
    {
     "name": "stderr",
     "output_type": "stream",
     "text": [
      "198it [00:02, 88.87it/s]"
     ]
    },
    {
     "name": "stdout",
     "output_type": "stream",
     "text": [
      "Final earning rate : -70.76289 %\n"
     ]
    },
    {
     "name": "stderr",
     "output_type": "stream",
     "text": [
      "\n"
     ]
    }
   ],
   "source": [
    "make_rate(10000,10,0.02,con)"
   ]
  },
  {
   "cell_type": "markdown",
   "id": "210319b4",
   "metadata": {
    "tags": []
   },
   "source": [
    "# 거래대금\n",
    "## 1조\n",
    "- 최종 모델 XGB"
   ]
  },
  {
   "cell_type": "markdown",
   "id": "e33c074c",
   "metadata": {},
   "source": [
    "XGB"
   ]
  },
  {
   "cell_type": "code",
   "execution_count": 76,
   "id": "def58285",
   "metadata": {
    "ExecuteTime": {
     "end_time": "2023-06-20T11:00:46.041592Z",
     "start_time": "2023-06-20T11:00:46.021638Z"
    }
   },
   "outputs": [],
   "source": [
    "order_request(10000, 10,0.02, predY,val_code2date,'val')"
   ]
  },
  {
   "cell_type": "code",
   "execution_count": 86,
   "id": "f071a0cc",
   "metadata": {
    "ExecuteTime": {
     "end_time": "2023-06-22T17:00:24.644618Z",
     "start_time": "2023-06-22T17:00:22.406037Z"
    },
    "scrolled": true
   },
   "outputs": [
    {
     "name": "stderr",
     "output_type": "stream",
     "text": [
      "198it [00:02, 89.25it/s]"
     ]
    },
    {
     "name": "stdout",
     "output_type": "stream",
     "text": [
      "Final earning rate : -70.76289 %\n"
     ]
    },
    {
     "name": "stderr",
     "output_type": "stream",
     "text": [
      "\n"
     ]
    }
   ],
   "source": [
    "make_rate(10000,10,0.02,con)"
   ]
  },
  {
   "cell_type": "markdown",
   "id": "ab87a498",
   "metadata": {},
   "source": [
    "## 1000억"
   ]
  },
  {
   "cell_type": "code",
   "execution_count": 88,
   "id": "391148ba",
   "metadata": {
    "ExecuteTime": {
     "end_time": "2023-06-22T17:00:39.883980Z",
     "start_time": "2023-06-22T17:00:39.804190Z"
    }
   },
   "outputs": [],
   "source": [
    "train = load_file('train',1000,10,0.02)\n",
    "val = load_file('val',1000,10,0.02)"
   ]
  },
  {
   "cell_type": "code",
   "execution_count": 89,
   "id": "a15f74c5",
   "metadata": {
    "ExecuteTime": {
     "end_time": "2023-06-22T17:00:40.173397Z",
     "start_time": "2023-06-22T17:00:39.886940Z"
    }
   },
   "outputs": [],
   "source": [
    "lst_code2date = []\n",
    "trainX = []\n",
    "trainY = []\n",
    "\n",
    "for line in train:\n",
    "    code, date, x, y = line\n",
    "    lst_code2date.append([code,date])\n",
    "    trainX.append(list(map(int, x.split(','))))\n",
    "    trainY.append(int(y))\n",
    "    \n",
    "trainX = np.array(trainX)\n",
    "trainY = np.array(trainY)"
   ]
  },
  {
   "cell_type": "code",
   "execution_count": 90,
   "id": "1a0ac1ca",
   "metadata": {
    "ExecuteTime": {
     "end_time": "2023-06-22T17:00:40.296028Z",
     "start_time": "2023-06-22T17:00:40.175350Z"
    }
   },
   "outputs": [],
   "source": [
    "val_code2date = []\n",
    "valX = []\n",
    "valY = []\n",
    "\n",
    "for line in val:\n",
    "    code, date, x, y = line\n",
    "    val_code2date.append([code,date])\n",
    "    valX.append(list(map(int, x.split(','))))\n",
    "    valY.append(int(y))\n",
    "valX = np.array(valX)\n",
    "valY = np.array(valY)"
   ]
  },
  {
   "cell_type": "code",
   "execution_count": 91,
   "id": "518c61a5",
   "metadata": {
    "ExecuteTime": {
     "end_time": "2023-06-22T17:00:44.416010Z",
     "start_time": "2023-06-22T17:00:40.300018Z"
    }
   },
   "outputs": [
    {
     "name": "stdout",
     "output_type": "stream",
     "text": [
      "Accuracy :  0.89\n",
      "ROC :  0.89\n"
     ]
    }
   ],
   "source": [
    "xgb = XGBClassifier(random_state = 42)\n",
    "xgb.fit(trainX, trainY)\n",
    "predY = xgb.predict_proba(valX) \n",
    "predY2 = xgb.predict(valX) \n",
    "\n",
    "print('Accuracy : ', round(accuracy_score(valY,predY2),2))\n",
    "print('ROC : ',  round(roc_auc_score(valY,predY2),2))\n"
   ]
  },
  {
   "cell_type": "code",
   "execution_count": 92,
   "id": "5469c4bd",
   "metadata": {
    "ExecuteTime": {
     "end_time": "2023-06-22T17:00:44.475849Z",
     "start_time": "2023-06-22T17:00:44.418005Z"
    },
    "scrolled": true
   },
   "outputs": [],
   "source": [
    "order_request(1000,10,0.02,predY,val_code2date, 'val')"
   ]
  },
  {
   "cell_type": "code",
   "execution_count": 96,
   "id": "fae33813",
   "metadata": {
    "ExecuteTime": {
     "end_time": "2023-06-22T17:02:08.811277Z",
     "start_time": "2023-06-22T17:01:11.129404Z"
    },
    "scrolled": true
   },
   "outputs": [
    {
     "name": "stderr",
     "output_type": "stream",
     "text": [
      "5180it [00:57, 89.82it/s]"
     ]
    },
    {
     "name": "stdout",
     "output_type": "stream",
     "text": [
      "Final earning rate : -36.29476 %\n"
     ]
    },
    {
     "name": "stderr",
     "output_type": "stream",
     "text": [
      "\n"
     ]
    }
   ],
   "source": [
    "make_rate(1000,10,0.02,con)"
   ]
  },
  {
   "cell_type": "markdown",
   "id": "ea8734ce",
   "metadata": {},
   "source": [
    "## 100억"
   ]
  },
  {
   "cell_type": "code",
   "execution_count": 97,
   "id": "58f519fe",
   "metadata": {
    "ExecuteTime": {
     "end_time": "2023-06-22T17:02:30.872307Z",
     "start_time": "2023-06-22T17:02:24.651666Z"
    }
   },
   "outputs": [],
   "source": [
    "train = load_file('train',100,10,0.02)\n",
    "val = load_file('val',100,10,0.02)"
   ]
  },
  {
   "cell_type": "code",
   "execution_count": 98,
   "id": "f7d302b4",
   "metadata": {
    "ExecuteTime": {
     "end_time": "2023-06-22T17:02:30.887272Z",
     "start_time": "2023-06-22T17:02:30.875304Z"
    }
   },
   "outputs": [
    {
     "data": {
      "text/plain": [
       "((133796, 4), (35297, 4), (82, 4))"
      ]
     },
     "execution_count": 98,
     "metadata": {},
     "output_type": "execute_result"
    }
   ],
   "source": [
    "train.shape,val.shape,test.shape"
   ]
  },
  {
   "cell_type": "code",
   "execution_count": 99,
   "id": "5dc1a7d2",
   "metadata": {
    "ExecuteTime": {
     "end_time": "2023-06-22T17:02:34.332388Z",
     "start_time": "2023-06-22T17:02:30.890264Z"
    }
   },
   "outputs": [],
   "source": [
    "lst_code2date = []\n",
    "trainX = []\n",
    "trainY = []\n",
    "\n",
    "for line in train:\n",
    "    code, date, x, y = line\n",
    "    lst_code2date.append([code,date])\n",
    "    trainX.append(list(map(int, x.split(','))))\n",
    "    trainY.append(int(y))\n",
    "    \n",
    "trainX = np.array(trainX)\n",
    "trainY = np.array(trainY)"
   ]
  },
  {
   "cell_type": "code",
   "execution_count": 100,
   "id": "d2c3cd6d",
   "metadata": {
    "ExecuteTime": {
     "end_time": "2023-06-22T17:02:34.379282Z",
     "start_time": "2023-06-22T17:02:34.336395Z"
    }
   },
   "outputs": [
    {
     "data": {
      "text/plain": [
       "0    87820\n",
       "1    45976\n",
       "dtype: int64"
      ]
     },
     "execution_count": 100,
     "metadata": {},
     "output_type": "execute_result"
    }
   ],
   "source": [
    "pd.Series(trainY).value_counts()"
   ]
  },
  {
   "cell_type": "code",
   "execution_count": 101,
   "id": "a9e02864",
   "metadata": {
    "ExecuteTime": {
     "end_time": "2023-06-22T17:02:35.129385Z",
     "start_time": "2023-06-22T17:02:34.382273Z"
    }
   },
   "outputs": [],
   "source": [
    "val_code2date = []\n",
    "valX = []\n",
    "valY = []\n",
    "\n",
    "for line in val:\n",
    "    code, date, x, y = line\n",
    "    val_code2date.append([code,date])\n",
    "    valX.append(list(map(int, x.split(','))))\n",
    "    valY.append(int(y))\n",
    "valX = np.array(valX)\n",
    "valY = np.array(valY)"
   ]
  },
  {
   "cell_type": "code",
   "execution_count": 102,
   "id": "ba68112b",
   "metadata": {
    "ExecuteTime": {
     "end_time": "2023-06-22T17:02:57.489596Z",
     "start_time": "2023-06-22T17:02:35.131405Z"
    }
   },
   "outputs": [
    {
     "name": "stdout",
     "output_type": "stream",
     "text": [
      "Accuracy :  0.931637249624614\n",
      "ROC :  0.9160808091362549\n"
     ]
    }
   ],
   "source": [
    "xgb = XGBClassifier()\n",
    "xgb.fit(trainX, trainY)\n",
    "predY = xgb.predict_proba(valX) \n",
    "predY2 = xgb.predict(valX) \n",
    "\n",
    "print('Accuracy : ', accuracy_score(valY,predY2))\n",
    "print('ROC : ', roc_auc_score(valY,predY2))\n"
   ]
  },
  {
   "cell_type": "code",
   "execution_count": 103,
   "id": "ad3086d4",
   "metadata": {
    "ExecuteTime": {
     "end_time": "2023-06-22T17:02:57.947699Z",
     "start_time": "2023-06-22T17:02:57.491590Z"
    },
    "scrolled": true
   },
   "outputs": [],
   "source": [
    "order_request(100,10,0.02,predY,val_code2date, 'val')"
   ]
  },
  {
   "cell_type": "code",
   "execution_count": 104,
   "id": "b031779a",
   "metadata": {
    "ExecuteTime": {
     "end_time": "2023-06-22T17:07:58.098042Z",
     "start_time": "2023-06-22T17:02:57.949692Z"
    },
    "scrolled": true
   },
   "outputs": [
    {
     "name": "stderr",
     "output_type": "stream",
     "text": [
      "27614it [05:00, 92.01it/s]"
     ]
    },
    {
     "name": "stdout",
     "output_type": "stream",
     "text": [
      "Final earning rate : 22.0062 %\n"
     ]
    },
    {
     "name": "stderr",
     "output_type": "stream",
     "text": [
      "\n"
     ]
    }
   ],
   "source": [
    "make_rate(100,10,0.02,con)"
   ]
  },
  {
   "cell_type": "markdown",
   "id": "c157b4ca",
   "metadata": {},
   "source": [
    "## 10억"
   ]
  },
  {
   "cell_type": "code",
   "execution_count": 105,
   "id": "4b83cf62",
   "metadata": {
    "ExecuteTime": {
     "end_time": "2023-06-22T17:11:15.684575Z",
     "start_time": "2023-06-22T17:10:44.660980Z"
    }
   },
   "outputs": [],
   "source": [
    "train = load_file('train',10,10,0.02)\n",
    "val = load_file('val',10,10,0.02)"
   ]
  },
  {
   "cell_type": "code",
   "execution_count": 106,
   "id": "20b58783",
   "metadata": {
    "ExecuteTime": {
     "end_time": "2023-06-22T17:11:29.122619Z",
     "start_time": "2023-06-22T17:11:15.686549Z"
    }
   },
   "outputs": [],
   "source": [
    "lst_code2date = []\n",
    "trainX = []\n",
    "trainY = []\n",
    "\n",
    "for line in train:\n",
    "    code, date, x, y = line\n",
    "    lst_code2date.append([code,date])\n",
    "    trainX.append(list(map(int, x.split(','))))\n",
    "    trainY.append(int(y))\n",
    "    \n",
    "trainX = np.array(trainX)\n",
    "trainY = np.array(trainY)"
   ]
  },
  {
   "cell_type": "code",
   "execution_count": 107,
   "id": "a33ac167",
   "metadata": {
    "ExecuteTime": {
     "end_time": "2023-06-22T17:11:29.291170Z",
     "start_time": "2023-06-22T17:11:29.177473Z"
    }
   },
   "outputs": [
    {
     "data": {
      "text/plain": [
       "0    384041\n",
       "1    129056\n",
       "dtype: int64"
      ]
     },
     "execution_count": 107,
     "metadata": {},
     "output_type": "execute_result"
    }
   ],
   "source": [
    "pd.Series(trainY).value_counts()"
   ]
  },
  {
   "cell_type": "code",
   "execution_count": 108,
   "id": "a7ed91bc",
   "metadata": {
    "ExecuteTime": {
     "end_time": "2023-06-22T17:11:34.636342Z",
     "start_time": "2023-06-22T17:11:29.296156Z"
    }
   },
   "outputs": [],
   "source": [
    "val_code2date = []\n",
    "valX = []\n",
    "valY = []\n",
    "\n",
    "for line in val:\n",
    "    code, date, x, y = line\n",
    "    val_code2date.append([code,date])\n",
    "    valX.append(list(map(int, x.split(','))))\n",
    "    valY.append(int(y))\n",
    "valX = np.array(valX)\n",
    "valY = np.array(valY)"
   ]
  },
  {
   "cell_type": "code",
   "execution_count": 109,
   "id": "5ddda5ee",
   "metadata": {
    "ExecuteTime": {
     "end_time": "2023-06-22T17:14:12.894419Z",
     "start_time": "2023-06-22T17:11:34.638311Z"
    },
    "scrolled": true
   },
   "outputs": [
    {
     "name": "stdout",
     "output_type": "stream",
     "text": [
      "Accuracy :  0.942790736282892\n",
      "ROC :  0.890920500639063\n"
     ]
    }
   ],
   "source": [
    "xgb = XGBClassifier(random_state = 42,eval_metric='mlogloss')\n",
    "xgb.fit(trainX, trainY)\n",
    "predY = xgb.predict_proba(valX) \n",
    "predY2 = xgb.predict(valX) \n",
    "\n",
    "print('Accuracy : ', accuracy_score(valY,predY2))\n",
    "print('ROC : ', roc_auc_score(valY,predY2))\n"
   ]
  },
  {
   "cell_type": "code",
   "execution_count": 110,
   "id": "d6858bae",
   "metadata": {
    "ExecuteTime": {
     "end_time": "2023-06-22T17:15:00.150368Z",
     "start_time": "2023-06-22T17:14:13.190021Z"
    },
    "scrolled": true
   },
   "outputs": [],
   "source": [
    "order_request(10,10,0.02,predY,val_code2date, 'val')"
   ]
  },
  {
   "cell_type": "code",
   "execution_count": 111,
   "id": "32be204a",
   "metadata": {
    "ExecuteTime": {
     "end_time": "2023-06-22T17:25:51.968055Z",
     "start_time": "2023-06-22T17:15:00.153378Z"
    }
   },
   "outputs": [
    {
     "name": "stderr",
     "output_type": "stream",
     "text": [
      "60048it [10:51, 92.17it/s] "
     ]
    },
    {
     "name": "stdout",
     "output_type": "stream",
     "text": [
      "Final earning rate : -18.536179999999998 %\n"
     ]
    },
    {
     "name": "stderr",
     "output_type": "stream",
     "text": [
      "\n"
     ]
    }
   ],
   "source": [
    "make_rate(10,10,0.02,con)"
   ]
  },
  {
   "cell_type": "markdown",
   "id": "e7322a09",
   "metadata": {
    "tags": []
   },
   "source": [
    "# 스케일링"
   ]
  },
  {
   "cell_type": "markdown",
   "id": "afce7bec",
   "metadata": {
    "tags": []
   },
   "source": [
    "## 예측 성능\n",
    "### 100억"
   ]
  },
  {
   "cell_type": "code",
   "execution_count": 112,
   "id": "438d65bf",
   "metadata": {
    "ExecuteTime": {
     "end_time": "2023-06-22T17:31:25.285005Z",
     "start_time": "2023-06-22T17:31:25.228157Z"
    }
   },
   "outputs": [],
   "source": [
    "def load_file(TYPE,trading, days,target):\n",
    "    with open('../data/{}_{}_{}_{}.pickle'.format(TYPE,trading, days,target), 'rb') as f:\n",
    "        data = pickle.load(f)\n",
    "    return data"
   ]
  },
  {
   "cell_type": "code",
   "execution_count": 113,
   "id": "f3148d3d",
   "metadata": {
    "ExecuteTime": {
     "end_time": "2023-06-22T17:31:49.246291Z",
     "start_time": "2023-06-22T17:31:31.843954Z"
    }
   },
   "outputs": [],
   "source": [
    "train = load_file('scaling_train',100,10,0.02)\n",
    "val = load_file('scaling_val',100,10,0.02)"
   ]
  },
  {
   "cell_type": "code",
   "execution_count": 114,
   "id": "031fc6af",
   "metadata": {
    "ExecuteTime": {
     "end_time": "2023-06-22T17:31:49.293088Z",
     "start_time": "2023-06-22T17:31:49.250175Z"
    }
   },
   "outputs": [
    {
     "data": {
      "text/plain": [
       "((133796, 4), (35297, 4))"
      ]
     },
     "execution_count": 114,
     "metadata": {},
     "output_type": "execute_result"
    }
   ],
   "source": [
    "train.shape,val.shape"
   ]
  },
  {
   "cell_type": "code",
   "execution_count": 115,
   "id": "275f4a6f",
   "metadata": {
    "ExecuteTime": {
     "end_time": "2023-06-22T17:31:55.951949Z",
     "start_time": "2023-06-22T17:31:49.315002Z"
    }
   },
   "outputs": [],
   "source": [
    "lst_code2date = []\n",
    "trainX = []\n",
    "trainY = []\n",
    "\n",
    "for line in train:\n",
    "    code, date, x, y = line\n",
    "    lst_code2date.append([code,date])\n",
    "    trainX.append(list(map(float, x.split(','))))\n",
    "    trainY.append(int(y))\n",
    "    \n",
    "trainX = np.array(trainX)\n",
    "trainY = np.array(trainY)"
   ]
  },
  {
   "cell_type": "code",
   "execution_count": 116,
   "id": "f1d122c3",
   "metadata": {
    "ExecuteTime": {
     "end_time": "2023-06-22T17:31:55.997826Z",
     "start_time": "2023-06-22T17:31:55.955938Z"
    }
   },
   "outputs": [
    {
     "data": {
      "text/plain": [
       "array([1, 0, 0, ..., 0, 1, 1])"
      ]
     },
     "execution_count": 116,
     "metadata": {},
     "output_type": "execute_result"
    }
   ],
   "source": [
    "trainY"
   ]
  },
  {
   "cell_type": "code",
   "execution_count": 117,
   "id": "ff388827",
   "metadata": {
    "ExecuteTime": {
     "end_time": "2023-06-22T17:31:56.058663Z",
     "start_time": "2023-06-22T17:31:56.000819Z"
    }
   },
   "outputs": [
    {
     "data": {
      "text/plain": [
       "0    87820\n",
       "1    45976\n",
       "dtype: int64"
      ]
     },
     "execution_count": 117,
     "metadata": {},
     "output_type": "execute_result"
    }
   ],
   "source": [
    "pd.Series(trainY).value_counts()"
   ]
  },
  {
   "cell_type": "code",
   "execution_count": 118,
   "id": "f0f398ae",
   "metadata": {
    "ExecuteTime": {
     "end_time": "2023-06-22T17:31:57.640563Z",
     "start_time": "2023-06-22T17:31:56.060659Z"
    }
   },
   "outputs": [],
   "source": [
    "val_code2date = []\n",
    "valX = []\n",
    "valY = []\n",
    "\n",
    "for line in val:\n",
    "    code, date, x, y = line\n",
    "    val_code2date.append([code,date])\n",
    "    valX.append(list(map(float, x.split(','))))\n",
    "    valY.append(int(y))\n",
    "valX = np.array(valX)\n",
    "valY = np.array(valY)"
   ]
  },
  {
   "cell_type": "code",
   "execution_count": 119,
   "id": "c802bcab",
   "metadata": {
    "ExecuteTime": {
     "end_time": "2023-06-22T17:31:57.655540Z",
     "start_time": "2023-06-22T17:31:57.642607Z"
    }
   },
   "outputs": [
    {
     "data": {
      "text/plain": [
       "0    23047\n",
       "1    12250\n",
       "dtype: int64"
      ]
     },
     "execution_count": 119,
     "metadata": {},
     "output_type": "execute_result"
    }
   ],
   "source": [
    "pd.Series(valY).value_counts()"
   ]
  },
  {
   "cell_type": "code",
   "execution_count": 120,
   "id": "632309e4",
   "metadata": {
    "ExecuteTime": {
     "end_time": "2023-06-22T17:32:42.966372Z",
     "start_time": "2023-06-22T17:31:57.658532Z"
    }
   },
   "outputs": [
    {
     "name": "stdout",
     "output_type": "stream",
     "text": [
      "Accuracy :  0.881916310168003\n",
      "ROC :  0.908945073200018\n"
     ]
    }
   ],
   "source": [
    "xgb = XGBClassifier(random_state = 42,eval_metric='mlogloss')\n",
    "xgb.fit(trainX, trainY)\n",
    "predY = xgb.predict_proba(valX) \n",
    "predY2 = xgb.predict(valX) \n",
    "\n",
    "print('Accuracy : ', accuracy_score(valY,predY2))\n",
    "print('ROC : ', roc_auc_score(valY,predY2))"
   ]
  },
  {
   "cell_type": "code",
   "execution_count": 121,
   "id": "9b6a600f",
   "metadata": {
    "ExecuteTime": {
     "end_time": "2023-06-22T17:32:43.231663Z",
     "start_time": "2023-06-22T17:32:42.968367Z"
    },
    "scrolled": true
   },
   "outputs": [],
   "source": [
    "order_request(100,10,0.02,predY, val_code2date, 'val')"
   ]
  },
  {
   "cell_type": "code",
   "execution_count": 122,
   "id": "fccb7844",
   "metadata": {
    "ExecuteTime": {
     "end_time": "2023-06-22T17:38:29.722753Z",
     "start_time": "2023-06-22T17:32:43.234655Z"
    },
    "scrolled": true
   },
   "outputs": [
    {
     "name": "stderr",
     "output_type": "stream",
     "text": [
      "33766it [05:46, 97.48it/s] "
     ]
    },
    {
     "name": "stdout",
     "output_type": "stream",
     "text": [
      "Final earning rate : 1.8519500000000002 %\n"
     ]
    },
    {
     "name": "stderr",
     "output_type": "stream",
     "text": [
      "\n"
     ]
    }
   ],
   "source": [
    "make_rate(100,10, 0.02,con)"
   ]
  },
  {
   "cell_type": "markdown",
   "id": "aa7ada05",
   "metadata": {
    "tags": []
   },
   "source": [
    "# 임계값 설정"
   ]
  },
  {
   "cell_type": "code",
   "execution_count": 13,
   "id": "4a2adee1",
   "metadata": {
    "ExecuteTime": {
     "end_time": "2023-06-23T13:02:13.720104Z",
     "start_time": "2023-06-23T13:01:55.903763Z"
    }
   },
   "outputs": [],
   "source": [
    "train = load_file('scaling_train',100,10,0.05)\n",
    "val = load_file('scaling_val',100,10,0.05)"
   ]
  },
  {
   "cell_type": "code",
   "execution_count": 14,
   "id": "d8911963",
   "metadata": {
    "ExecuteTime": {
     "end_time": "2023-06-23T13:02:18.895615Z",
     "start_time": "2023-06-23T13:02:13.723098Z"
    }
   },
   "outputs": [],
   "source": [
    "lst_code2date = []\n",
    "trainX = []\n",
    "trainY = []\n",
    "\n",
    "for line in train:\n",
    "    code, date, x, y = line\n",
    "    lst_code2date.append([code,date])\n",
    "    trainX.append(list(map(float, x.split(','))))\n",
    "    trainY.append(int(y))\n",
    "    \n",
    "trainX = np.array(trainX)\n",
    "trainY = np.array(trainY)"
   ]
  },
  {
   "cell_type": "code",
   "execution_count": 15,
   "id": "a95ab659",
   "metadata": {
    "ExecuteTime": {
     "end_time": "2023-06-23T13:02:18.986525Z",
     "start_time": "2023-06-23T13:02:18.898611Z"
    }
   },
   "outputs": [
    {
     "data": {
      "text/plain": [
       "0    110458\n",
       "1     23338\n",
       "dtype: int64"
      ]
     },
     "execution_count": 15,
     "metadata": {},
     "output_type": "execute_result"
    }
   ],
   "source": [
    "pd.Series(trainY).value_counts()"
   ]
  },
  {
   "cell_type": "code",
   "execution_count": 16,
   "id": "e5fff6fd",
   "metadata": {
    "ExecuteTime": {
     "end_time": "2023-06-23T13:02:20.420204Z",
     "start_time": "2023-06-23T13:02:18.989519Z"
    }
   },
   "outputs": [],
   "source": [
    "val_code2date = []\n",
    "valX = []\n",
    "valY = []\n",
    "\n",
    "for line in val:\n",
    "    code, date, x, y = line\n",
    "    val_code2date.append([code,date])\n",
    "    valX.append(list(map(float, x.split(','))))\n",
    "    valY.append(int(y))\n",
    "valX = np.array(valX)\n",
    "valY = np.array(valY)"
   ]
  },
  {
   "cell_type": "code",
   "execution_count": 17,
   "id": "d6ca738e",
   "metadata": {
    "ExecuteTime": {
     "end_time": "2023-06-23T13:02:55.759453Z",
     "start_time": "2023-06-23T13:02:20.422724Z"
    }
   },
   "outputs": [
    {
     "name": "stdout",
     "output_type": "stream",
     "text": [
      "Accuracy :  0.8361617134600674\n",
      "ROC :  0.8980534035362213\n"
     ]
    }
   ],
   "source": [
    "xgb = XGBClassifier(random_state = 42,eval_metric='mlogloss')\n",
    "xgb.fit(trainX, trainY)\n",
    "predY = xgb.predict_proba(valX) \n",
    "predY2 = xgb.predict(valX) \n",
    "\n",
    "print('Accuracy : ', accuracy_score(valY,predY2))\n",
    "print('ROC : ', roc_auc_score(valY,predY2))\n"
   ]
  },
  {
   "cell_type": "code",
   "execution_count": 144,
   "id": "12ac407e",
   "metadata": {
    "ExecuteTime": {
     "end_time": "2023-06-22T17:54:17.301790Z",
     "start_time": "2023-06-22T17:54:16.977081Z"
    },
    "scrolled": true
   },
   "outputs": [],
   "source": [
    "order_request(100,10,0.05,predY,val_code2date, 'val')"
   ]
  },
  {
   "cell_type": "code",
   "execution_count": 145,
   "id": "f7262505",
   "metadata": {
    "ExecuteTime": {
     "end_time": "2023-06-22T17:58:30.999690Z",
     "start_time": "2023-06-22T17:54:17.304783Z"
    }
   },
   "outputs": [
    {
     "name": "stderr",
     "output_type": "stream",
     "text": [
      "25198it [04:13, 99.35it/s] "
     ]
    },
    {
     "name": "stdout",
     "output_type": "stream",
     "text": [
      "Final earning rate : -13.65423 %\n"
     ]
    },
    {
     "name": "stderr",
     "output_type": "stream",
     "text": [
      "\n"
     ]
    }
   ],
   "source": [
    "make_rate(100,10,0.05,con)"
   ]
  },
  {
   "cell_type": "markdown",
   "id": "cffc3424",
   "metadata": {
    "tags": []
   },
   "source": [
    "# 거래일 설정\n",
    "## 5일\n",
    "여기부터"
   ]
  },
  {
   "cell_type": "code",
   "execution_count": 18,
   "id": "5de96417",
   "metadata": {
    "ExecuteTime": {
     "end_time": "2023-06-23T12:38:20.560125Z",
     "start_time": "2023-06-23T12:38:11.112628Z"
    }
   },
   "outputs": [],
   "source": [
    "train = load_file('scaling_train',100,5,0.02)\n",
    "val = load_file('scaling_val',100,5,0.02)"
   ]
  },
  {
   "cell_type": "code",
   "execution_count": 19,
   "id": "f775f037",
   "metadata": {
    "ExecuteTime": {
     "end_time": "2023-06-23T12:38:30.622316Z",
     "start_time": "2023-06-23T12:38:30.600348Z"
    },
    "scrolled": true
   },
   "outputs": [
    {
     "data": {
      "text/plain": [
       "((134795, 4), (37294, 4))"
      ]
     },
     "execution_count": 19,
     "metadata": {},
     "output_type": "execute_result"
    }
   ],
   "source": [
    "train.shape,val.shape"
   ]
  },
  {
   "cell_type": "code",
   "execution_count": 20,
   "id": "d5243551",
   "metadata": {
    "ExecuteTime": {
     "end_time": "2023-06-23T12:38:34.415713Z",
     "start_time": "2023-06-23T12:38:31.400736Z"
    }
   },
   "outputs": [],
   "source": [
    "lst_code2date = []\n",
    "trainX = []\n",
    "trainY = []\n",
    "\n",
    "for line in train:\n",
    "    code, date, x, y = line\n",
    "    lst_code2date.append([code,date])\n",
    "    trainX.append(list(map(float, x.split(','))))\n",
    "    trainY.append(int(y))\n",
    "    \n",
    "trainX = np.array(trainX)\n",
    "trainY = np.array(trainY)"
   ]
  },
  {
   "cell_type": "code",
   "execution_count": 21,
   "id": "652fbf89",
   "metadata": {
    "ExecuteTime": {
     "end_time": "2023-06-23T12:38:34.491504Z",
     "start_time": "2023-06-23T12:38:34.418667Z"
    }
   },
   "outputs": [
    {
     "data": {
      "text/plain": [
       "0    88474\n",
       "1    46321\n",
       "dtype: int64"
      ]
     },
     "execution_count": 21,
     "metadata": {},
     "output_type": "execute_result"
    }
   ],
   "source": [
    "pd.Series(trainY).value_counts()"
   ]
  },
  {
   "cell_type": "code",
   "execution_count": 22,
   "id": "ccc8a14a",
   "metadata": {
    "ExecuteTime": {
     "end_time": "2023-06-23T12:38:35.348413Z",
     "start_time": "2023-06-23T12:38:34.494470Z"
    }
   },
   "outputs": [],
   "source": [
    "val_code2date = []\n",
    "valX = []\n",
    "valY = []\n",
    "\n",
    "for line in val:\n",
    "    code, date, x, y = line\n",
    "    val_code2date.append([code,date])\n",
    "    valX.append(list(map(float, x.split(','))))\n",
    "    valY.append(int(y))\n",
    "valX = np.array(valX)\n",
    "valY = np.array(valY)"
   ]
  },
  {
   "cell_type": "code",
   "execution_count": 23,
   "id": "a7423726",
   "metadata": {
    "ExecuteTime": {
     "end_time": "2023-06-23T13:01:48.522895Z",
     "start_time": "2023-06-23T13:01:48.504913Z"
    }
   },
   "outputs": [
    {
     "name": "stdout",
     "output_type": "stream",
     "text": [
      "Accuracy :  0.8808119268515042\n",
      "ROC :  0.9078804684361732\n"
     ]
    }
   ],
   "source": [
    "xgb = XGBClassifier()\n",
    "xgb.fit(trainX, trainY)\n",
    "predY = xgb.predict_proba(valX) \n",
    "predY2 = xgb.predict(valX) \n",
    "\n",
    "print('Accuracy : ', accuracy_score(valY,predY2))\n",
    "print('ROC : ', roc_auc_score(valY,predY2))\n"
   ]
  },
  {
   "cell_type": "code",
   "execution_count": 24,
   "id": "acc32ebe",
   "metadata": {
    "ExecuteTime": {
     "end_time": "2023-06-20T12:23:57.546406Z",
     "start_time": "2023-06-20T12:23:56.961179Z"
    },
    "scrolled": true
   },
   "outputs": [],
   "source": [
    "order_request(100,5,0.02,predY,val_code2date, 'val')"
   ]
  },
  {
   "cell_type": "code",
   "execution_count": 133,
   "id": "10950dee",
   "metadata": {
    "ExecuteTime": {
     "end_time": "2023-06-22T17:50:32.900794Z",
     "start_time": "2023-06-22T17:44:27.283227Z"
    }
   },
   "outputs": [
    {
     "name": "stderr",
     "output_type": "stream",
     "text": [
      "35706it [06:05, 97.68it/s] "
     ]
    },
    {
     "name": "stdout",
     "output_type": "stream",
     "text": [
      "Final earning rate : 13.13434 %\n"
     ]
    },
    {
     "name": "stderr",
     "output_type": "stream",
     "text": [
      "\n"
     ]
    }
   ],
   "source": [
    "make_rate(100,5,0.02,con)"
   ]
  },
  {
   "cell_type": "markdown",
   "id": "03fb4d14",
   "metadata": {},
   "source": [
    "## 20일"
   ]
  },
  {
   "cell_type": "code",
   "execution_count": 25,
   "id": "cde560d2",
   "metadata": {
    "ExecuteTime": {
     "end_time": "2023-06-22T17:52:00.191334Z",
     "start_time": "2023-06-22T17:51:45.467594Z"
    }
   },
   "outputs": [],
   "source": [
    "train = load_file('train',100,20,0.02)\n",
    "val = load_file('val',100,20,0.02)"
   ]
  },
  {
   "cell_type": "code",
   "execution_count": 27,
   "id": "a8d36658",
   "metadata": {
    "ExecuteTime": {
     "end_time": "2023-06-23T12:38:23.628042Z",
     "start_time": "2023-06-23T12:38:23.608068Z"
    }
   },
   "outputs": [
    {
     "data": {
      "text/plain": [
       "((131660, 4), (31631, 4))"
      ]
     },
     "execution_count": 27,
     "metadata": {},
     "output_type": "execute_result"
    }
   ],
   "source": [
    "train.shape,val.shape"
   ]
  },
  {
   "cell_type": "code",
   "execution_count": 28,
   "id": "42d223d1",
   "metadata": {
    "ExecuteTime": {
     "end_time": "2023-06-20T12:37:16.698493Z",
     "start_time": "2023-06-20T12:37:00.575909Z"
    }
   },
   "outputs": [],
   "source": [
    "lst_code2date = []\n",
    "trainX = []\n",
    "trainY = []\n",
    "\n",
    "for line in train:\n",
    "    code, date, x, y = line\n",
    "    lst_code2date.append([code,date])\n",
    "    trainX.append(list(map(float, x.split(','))))\n",
    "    trainY.append(int(y))\n",
    "    \n",
    "trainX = np.array(trainX)\n",
    "trainY = np.array(trainY)"
   ]
  },
  {
   "cell_type": "code",
   "execution_count": 29,
   "id": "2e43a7f0",
   "metadata": {
    "ExecuteTime": {
     "end_time": "2023-06-20T12:37:16.760462Z",
     "start_time": "2023-06-20T12:37:16.700576Z"
    }
   },
   "outputs": [
    {
     "data": {
      "text/plain": [
       "0    86484\n",
       "1    45176\n",
       "dtype: int64"
      ]
     },
     "execution_count": 29,
     "metadata": {},
     "output_type": "execute_result"
    }
   ],
   "source": [
    "pd.Series(trainY).value_counts()"
   ]
  },
  {
   "cell_type": "code",
   "execution_count": 30,
   "id": "824925f4",
   "metadata": {
    "ExecuteTime": {
     "end_time": "2023-06-20T12:37:19.402390Z",
     "start_time": "2023-06-20T12:37:16.762546Z"
    }
   },
   "outputs": [],
   "source": [
    "val_code2date = []\n",
    "valX = []\n",
    "valY = []\n",
    "\n",
    "for line in val:\n",
    "    code, date, x, y = line\n",
    "    val_code2date.append([code,date])\n",
    "    valX.append(list(map(float, x.split(','))))\n",
    "    valY.append(int(y))\n",
    "valX = np.array(valX)\n",
    "valY = np.array(valY)"
   ]
  },
  {
   "cell_type": "code",
   "execution_count": 31,
   "id": "ba7b4989",
   "metadata": {
    "ExecuteTime": {
     "end_time": "2023-06-20T12:38:28.795021Z",
     "start_time": "2023-06-20T12:37:19.405018Z"
    }
   },
   "outputs": [
    {
     "name": "stdout",
     "output_type": "stream",
     "text": [
      "Accuracy :  0.9252948057285574\n",
      "ROC :  0.9085361221149861\n"
     ]
    }
   ],
   "source": [
    "xgb = XGBClassifier()\n",
    "xgb.fit(trainX, trainY)\n",
    "predY = xgb.predict_proba(valX) \n",
    "predY2 = xgb.predict(valX) \n",
    "\n",
    "print('Accuracy : ', accuracy_score(valY,predY2))\n",
    "print('ROC : ', roc_auc_score(valY,predY2))\n"
   ]
  },
  {
   "cell_type": "code",
   "execution_count": 174,
   "id": "82d51566",
   "metadata": {
    "ExecuteTime": {
     "end_time": "2023-06-20T12:38:29.340296Z",
     "start_time": "2023-06-20T12:38:28.799011Z"
    },
    "scrolled": true
   },
   "outputs": [],
   "source": [
    "order_request(100,20,0.02,predY,val_code2date, 'val')"
   ]
  },
  {
   "cell_type": "code",
   "execution_count": 175,
   "id": "4a4ae57c",
   "metadata": {
    "ExecuteTime": {
     "end_time": "2023-06-20T12:48:18.982096Z",
     "start_time": "2023-06-20T12:38:29.342443Z"
    }
   },
   "outputs": [
    {
     "name": "stderr",
     "output_type": "stream",
     "text": [
      "25076it [06:03, 69.00it/s]"
     ]
    },
    {
     "name": "stdout",
     "output_type": "stream",
     "text": [
      "Final earning rate : -5.54572 %\n"
     ]
    },
    {
     "name": "stderr",
     "output_type": "stream",
     "text": [
      "\n"
     ]
    }
   ],
   "source": [
    "make_rate(100,20,0.02,con)"
   ]
  },
  {
   "cell_type": "markdown",
   "id": "1252ee98",
   "metadata": {},
   "source": [
    "# 하이퍼 파라미터"
   ]
  },
  {
   "cell_type": "code",
   "execution_count": 12,
   "id": "d729582f",
   "metadata": {
    "ExecuteTime": {
     "end_time": "2023-06-23T16:29:35.494900Z",
     "start_time": "2023-06-23T16:29:34.898378Z"
    }
   },
   "outputs": [],
   "source": [
    "train = load_file('train',100,5,0.02)\n",
    "val = load_file('val',100,5,0.02)"
   ]
  },
  {
   "cell_type": "code",
   "execution_count": 13,
   "id": "66b4df1c",
   "metadata": {
    "ExecuteTime": {
     "end_time": "2023-06-23T16:29:38.630626Z",
     "start_time": "2023-06-23T16:29:35.497897Z"
    }
   },
   "outputs": [],
   "source": [
    "lst_code2date = []\n",
    "trainX = []\n",
    "trainY = []\n",
    "\n",
    "for line in train:\n",
    "    code, date, x, y = line\n",
    "    lst_code2date.append([code,date])\n",
    "    trainX.append(list(map(float, x.split(','))))\n",
    "    trainY.append(int(y))\n",
    "    \n",
    "trainX = np.array(trainX)\n",
    "trainY = np.array(trainY)"
   ]
  },
  {
   "cell_type": "code",
   "execution_count": 14,
   "id": "ef5fa73c",
   "metadata": {
    "ExecuteTime": {
     "end_time": "2023-06-23T16:29:39.644916Z",
     "start_time": "2023-06-23T16:29:38.633621Z"
    }
   },
   "outputs": [],
   "source": [
    "val_code2date = []\n",
    "valX = []\n",
    "valY = []\n",
    "\n",
    "for line in val:\n",
    "    code, date, x, y = line\n",
    "    val_code2date.append([code,date])\n",
    "    valX.append(list(map(float, x.split(','))))\n",
    "    valY.append(int(y))\n",
    "valX = np.array(valX)\n",
    "valY = np.array(valY)"
   ]
  },
  {
   "cell_type": "code",
   "execution_count": 15,
   "id": "bfd2ff7f",
   "metadata": {
    "ExecuteTime": {
     "end_time": "2023-06-23T16:29:39.675835Z",
     "start_time": "2023-06-23T16:29:39.647909Z"
    }
   },
   "outputs": [
    {
     "data": {
      "text/plain": [
       "((134795, 4), (37294, 4))"
      ]
     },
     "execution_count": 15,
     "metadata": {},
     "output_type": "execute_result"
    }
   ],
   "source": [
    "train.shape, val.shape"
   ]
  },
  {
   "cell_type": "code",
   "execution_count": 16,
   "id": "24f2fba3",
   "metadata": {
    "ExecuteTime": {
     "end_time": "2023-06-23T16:29:39.690792Z",
     "start_time": "2023-06-23T16:29:39.677828Z"
    },
    "scrolled": true
   },
   "outputs": [],
   "source": [
    "from sklearn.model_selection import GridSearchCV\n",
    "\n",
    "xgb = XGBClassifier(random_state = 42,eval_metric='mlogloss')\n",
    "\n",
    "params = {'max_depth' : [3,5], 'scale_pos_weight' : [1,3,5], 'learning_rate' : [0.01, 0.1],\n",
    "         'n_estimators' : [100,300,500]}"
   ]
  },
  {
   "cell_type": "code",
   "execution_count": 17,
   "id": "668cfa84",
   "metadata": {
    "ExecuteTime": {
     "end_time": "2023-06-23T16:29:39.705751Z",
     "start_time": "2023-06-23T16:29:39.692788Z"
    }
   },
   "outputs": [],
   "source": [
    "#grid_cv = GridSearchCV(xgb, param_grid = params,  cv = 5,scoring =\"roc_auc\", refit=True)\n",
    "#grid_cv.fit(trainX, trainY)"
   ]
  },
  {
   "cell_type": "code",
   "execution_count": 18,
   "id": "4aca0f0d",
   "metadata": {
    "ExecuteTime": {
     "end_time": "2023-06-23T16:29:39.721710Z",
     "start_time": "2023-06-23T16:29:39.709743Z"
    }
   },
   "outputs": [],
   "source": [
    "#print(grid_cv.best_params_)"
   ]
  },
  {
   "cell_type": "code",
   "execution_count": 28,
   "id": "d195646a",
   "metadata": {
    "ExecuteTime": {
     "end_time": "2023-06-23T16:47:08.315087Z",
     "start_time": "2023-06-23T16:46:40.689006Z"
    }
   },
   "outputs": [
    {
     "name": "stdout",
     "output_type": "stream",
     "text": [
      "Accuracy :  0.8946479326433207\n",
      "ROC :  0.916764204436671\n"
     ]
    }
   ],
   "source": [
    "xgb_model = XGBClassifier(learning_rate = 0.1 ,max_depth = 3 , n_estimators = 300, scale_pos_weight = 1 )\n",
    "xgb_model.fit(trainX,trainY)\n",
    "predY = xgb_model.predict_proba(valX) \n",
    "predY2 = xgb_model.predict(valX) \n",
    "\n",
    "print('Accuracy : ', accuracy_score(valY,predY2))\n",
    "print('ROC : ', roc_auc_score(valY,predY2))\n"
   ]
  },
  {
   "cell_type": "code",
   "execution_count": 20,
   "id": "1a563d8e",
   "metadata": {
    "ExecuteTime": {
     "end_time": "2023-06-23T16:30:27.799338Z",
     "start_time": "2023-06-23T16:30:27.401136Z"
    },
    "scrolled": true
   },
   "outputs": [],
   "source": [
    "order_request(100,5,0.02,predY,val_code2date, 'val')"
   ]
  },
  {
   "cell_type": "code",
   "execution_count": 14,
   "id": "5b7f589f",
   "metadata": {
    "scrolled": true
   },
   "outputs": [
    {
     "name": "stderr",
     "output_type": "stream",
     "text": [
      "33602it [14:00, 39.96it/s]"
     ]
    },
    {
     "name": "stdout",
     "output_type": "stream",
     "text": [
      "Final earning rate : 5.11447 %\n"
     ]
    },
    {
     "name": "stderr",
     "output_type": "stream",
     "text": [
      "\n"
     ]
    }
   ],
   "source": [
    "make_rate(100,5,0.02,con)"
   ]
  },
  {
   "cell_type": "markdown",
   "id": "ac926982",
   "metadata": {},
   "source": [
    "# 최종 수익률"
   ]
  },
  {
   "cell_type": "code",
   "execution_count": 29,
   "id": "b7d0c11b",
   "metadata": {
    "ExecuteTime": {
     "end_time": "2023-06-23T16:47:22.438513Z",
     "start_time": "2023-06-23T16:47:20.791896Z"
    },
    "tags": []
   },
   "outputs": [],
   "source": [
    "test = load_file('test',100,5,0.02)"
   ]
  },
  {
   "cell_type": "code",
   "execution_count": 30,
   "id": "a372d53a",
   "metadata": {
    "ExecuteTime": {
     "end_time": "2023-06-23T16:47:22.453821Z",
     "start_time": "2023-06-23T16:47:22.440828Z"
    }
   },
   "outputs": [
    {
     "data": {
      "text/plain": [
       "((37294, 4), (30492, 4))"
      ]
     },
     "execution_count": 30,
     "metadata": {},
     "output_type": "execute_result"
    }
   ],
   "source": [
    "val.shape, test.shape"
   ]
  },
  {
   "cell_type": "code",
   "execution_count": 31,
   "id": "941994b1",
   "metadata": {
    "ExecuteTime": {
     "end_time": "2023-06-23T16:47:23.576446Z",
     "start_time": "2023-06-23T16:47:22.848115Z"
    }
   },
   "outputs": [],
   "source": [
    "test_code2date = []\n",
    "testX = []\n",
    "testY = []\n",
    "\n",
    "for line in test:\n",
    "    code, date, x, y = line\n",
    "    test_code2date.append([code,date])\n",
    "    testX.append(list(map(float, x.split(','))))\n",
    "    testY.append(int(y))\n",
    "testX = np.array(testX)\n",
    "testY = np.array(testY)"
   ]
  },
  {
   "cell_type": "code",
   "execution_count": 32,
   "id": "e768cf33",
   "metadata": {
    "ExecuteTime": {
     "end_time": "2023-06-23T16:48:09.963443Z",
     "start_time": "2023-06-23T16:47:40.513272Z"
    },
    "scrolled": true
   },
   "outputs": [
    {
     "name": "stdout",
     "output_type": "stream",
     "text": [
      "Accuracy :  0.8922012331103241\n",
      "ROC :  0.9180778341623876\n"
     ]
    }
   ],
   "source": [
    "xgb_model = XGBClassifier(learning_rate = 0.1 ,max_depth = 3 , n_estimators = 300, scale_pos_weight = 1 )\n",
    "xgb_model.fit(trainX,trainY)\n",
    "predY = xgb_model.predict_proba(testX) \n",
    "predY2 = xgb_model.predict(testX) \n",
    "\n",
    "print('Accuracy : ', accuracy_score(testY,predY2))\n",
    "print('ROC : ', roc_auc_score(testY,predY2))"
   ]
  },
  {
   "cell_type": "code",
   "execution_count": 33,
   "id": "864f80d7",
   "metadata": {
    "ExecuteTime": {
     "end_time": "2023-06-23T16:48:10.193827Z",
     "start_time": "2023-06-23T16:48:09.965438Z"
    }
   },
   "outputs": [],
   "source": [
    "order_request(100,20,0.02,predY,test_code2date, 'test')"
   ]
  },
  {
   "cell_type": "code",
   "execution_count": 56,
   "id": "0b6d7f84",
   "metadata": {
    "ExecuteTime": {
     "end_time": "2023-06-23T17:03:29.222823Z",
     "start_time": "2023-06-23T17:03:29.212822Z"
    }
   },
   "outputs": [
    {
     "name": "stdout",
     "output_type": "stream",
     "text": [
      "Final earning rate : 3.25245 %\n"
     ]
    }
   ],
   "source": [
    "make_rate_test(100,5,0.02,con)"
   ]
  }
 ],
 "metadata": {
  "kernelspec": {
   "display_name": "Python 3 (ipykernel)",
   "language": "python",
   "name": "python3"
  },
  "language_info": {
   "codemirror_mode": {
    "name": "ipython",
    "version": 3
   },
   "file_extension": ".py",
   "mimetype": "text/x-python",
   "name": "python",
   "nbconvert_exporter": "python",
   "pygments_lexer": "ipython3",
   "version": "3.9.13"
  },
  "toc": {
   "base_numbering": 1,
   "nav_menu": {},
   "number_sections": true,
   "sideBar": true,
   "skip_h1_title": false,
   "title_cell": "Table of Contents",
   "title_sidebar": "Contents",
   "toc_cell": false,
   "toc_position": {
    "height": "648.444px",
    "left": "36px",
    "top": "110.805px",
    "width": "321.733px"
   },
   "toc_section_display": true,
   "toc_window_display": true
  }
 },
 "nbformat": 4,
 "nbformat_minor": 5
}
