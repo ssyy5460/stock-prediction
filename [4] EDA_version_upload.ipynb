{
 "cells": [
  {
   "cell_type": "markdown",
   "id": "9c8b4416",
   "metadata": {},
   "source": [
    "<strong>train data에 대한 EDA 수행 <br></strong>\n",
    "기간 : 2018년 1월 1일 ~ 2020년 12월 31일 <br>\n",
    "데이터셋 생성조건 : (거래대금 1조,1000억, 100억, 10억,1억), 거래일 10일, next_change 0.02"
   ]
  },
  {
   "cell_type": "code",
   "execution_count": 1,
   "id": "fb18a706",
   "metadata": {
    "ExecuteTime": {
     "end_time": "2022-12-07T13:23:21.768477Z",
     "start_time": "2022-12-07T13:23:21.749530Z"
    }
   },
   "outputs": [
    {
     "data": {
      "text/html": [
       "        <script type=\"text/javascript\">\n",
       "        window.PlotlyConfig = {MathJaxConfig: 'local'};\n",
       "        if (window.MathJax) {MathJax.Hub.Config({SVG: {font: \"STIX-Web\"}});}\n",
       "        if (typeof require !== 'undefined') {\n",
       "        require.undef(\"plotly\");\n",
       "        requirejs.config({\n",
       "            paths: {\n",
       "                'plotly': ['https://cdn.plot.ly/plotly-2.11.1.min']\n",
       "            }\n",
       "        });\n",
       "        require(['plotly'], function(Plotly) {\n",
       "            window._Plotly = Plotly;\n",
       "        });\n",
       "        }\n",
       "        </script>\n",
       "        "
      ]
     },
     "metadata": {},
     "output_type": "display_data"
    }
   ],
   "source": [
    "import numpy as np\n",
    "import pandas as pd\n",
    "from tqdm import tqdm\n",
    "import datetime\n",
    "import pymysql\n",
    "import warnings\n",
    "warnings.filterwarnings(action='ignore')\n",
    "\n",
    "# 시각화 라이브러리\n",
    "import ipywidgets as widgets\n",
    "from ipywidgets import interact, interact_manual\n",
    "import cufflinks as cf\n",
    "cf.go_offline(connected = True)\n",
    "import matplotlib.pyplot as plt\n",
    "import seaborn as sns\n",
    "\n",
    "# 시각화 세부 옵션\n",
    "pd.set_option('display.max_columns', 600)\n",
    "plt.rcParams['font.family'] = 'Malgun Gothic'\n",
    "plt.rcParams['font.size'] = 16\n",
    "plt.rcParams['figure.figsize'] = 20, 10\n",
    "plt.rcParams['axes.unicode_minus'] = False"
   ]
  },
  {
   "cell_type": "markdown",
   "id": "9988bdc8",
   "metadata": {},
   "source": [
    "\n",
    "# 데이터셋 생성\n",
    "## 함수 불러오기"
   ]
  },
  {
   "cell_type": "code",
   "execution_count": 1,
   "id": "1b89afe8",
   "metadata": {
    "ExecuteTime": {
     "end_time": "2023-06-22T17:07:53.012572Z",
     "start_time": "2023-06-22T17:07:52.996594Z"
    }
   },
   "outputs": [],
   "source": [
    "def make_data(trading, days, target): \n",
    "    # 코드 리스트 \n",
    "   \n",
    "    IF=open(\"../../data/code_list.txt\", 'r')\n",
    "    lst_code = IF.readlines()\n",
    "    \n",
    "\n",
    "    lst_dataX = []\n",
    "    lst_dataY = []\n",
    "    lst_data = []\n",
    "    lst_target = []\n",
    "    \n",
    "    # database\n",
    "\n",
    "\n",
    "    con = pymysql.connect(\n",
    "\n",
    "    )\n",
    "    cursor = con.cursor()\n",
    " \n",
    "    for line in tqdm(lst_code): \n",
    "        code = line.strip()\n",
    "        sql_query = '''\n",
    "                    SELECT *\n",
    "                    FROM stock_{}\n",
    "                    WHERE Date\n",
    "                    BETWEEN '2018-01-01' AND '2020-12-31'\n",
    "                    '''.format(code)\n",
    "        stock = pd.read_sql(sql = sql_query, con = con)\n",
    "        lst_stock = stock.values.tolist()  \n",
    "\n",
    "\n",
    "        for i, row in enumerate(lst_stock): \n",
    "            date, close, volume = row[0].strftime('%Y%m%d'), row[4], row[5]\n",
    "            # 거래대금, 이동평균선 범위 조건\n",
    "            if (close * volume >= trading*100000000) :\n",
    "                if i < (days-1):   # 예외 처리 \n",
    "                    continue                               \n",
    "\n",
    "                lst_result = []\n",
    "                \n",
    "                Ddays_date = lst_stock[i-(days-1):i+1]\n",
    "                                           \n",
    "                for row2 in Ddays_date:\n",
    "                    Open,High,Low,Close,Volume = row2[1:6]\n",
    "                    Trading = Close * Volume\n",
    "                    lst_result += [Open,High,Low,Close,Trading]\n",
    "\n",
    "                rate = float(row[6])\n",
    "                y = int(row[6] >= target)\n",
    "                data = ','.join(map(str,lst_result))\n",
    "                \n",
    "                lst_dataX.append(data)\n",
    "                lst_dataY.append(y)\n",
    "                lst_data.append([code,date,data,y])\n",
    "                lst_target.append(rate)\n",
    "    return np.array(lst_dataX), np.array(lst_dataY),pd.DataFrame(lst_data),np.array(lst_target)"
   ]
  },
  {
   "cell_type": "markdown",
   "id": "a9271d44",
   "metadata": {
    "tags": []
   },
   "source": []
  },
  {
   "cell_type": "code",
   "execution_count": 7,
   "id": "9be1952e",
   "metadata": {
    "ExecuteTime": {
     "end_time": "2022-12-07T12:51:15.760233Z",
     "start_time": "2022-12-07T12:49:31.459626Z"
    },
    "scrolled": true
   },
   "outputs": [
    {
     "name": "stderr",
     "output_type": "stream",
     "text": [
      "100%|██████████████████████████████████████████████████████████████████████████████| 1561/1561 [03:52<00:00,  6.70it/s]\n"
     ]
    }
   ],
   "source": [
    "dataX, dataY, data , target = make_data(1,10,0.02)"
   ]
  },
  {
   "cell_type": "code",
   "execution_count": 8,
   "id": "535eb2cc",
   "metadata": {
    "ExecuteTime": {
     "end_time": "2022-12-07T12:52:08.287886Z",
     "start_time": "2022-12-07T12:52:08.277912Z"
    },
    "scrolled": true
   },
   "outputs": [],
   "source": [
    "data.columns = ['code','date','trading','label']"
   ]
  },
  {
   "cell_type": "code",
   "execution_count": 9,
   "id": "c5095711",
   "metadata": {
    "ExecuteTime": {
     "end_time": "2022-12-07T12:52:09.037162Z",
     "start_time": "2022-12-07T12:52:09.002212Z"
    }
   },
   "outputs": [],
   "source": [
    "code2date = data[['code','date']]"
   ]
  },
  {
   "cell_type": "code",
   "execution_count": 10,
   "id": "29995cd8",
   "metadata": {
    "ExecuteTime": {
     "end_time": "2022-12-07T12:52:21.632487Z",
     "start_time": "2022-12-07T12:52:10.540098Z"
    }
   },
   "outputs": [],
   "source": [
    "lst = []\n",
    "for line in data['trading']:\n",
    "    lst.append(list(map(int, str(line).split(','))))"
   ]
  },
  {
   "cell_type": "code",
   "execution_count": 11,
   "id": "6b31655b",
   "metadata": {
    "ExecuteTime": {
     "end_time": "2022-12-07T12:52:21.648403Z",
     "start_time": "2022-12-07T12:52:21.635436Z"
    }
   },
   "outputs": [],
   "source": [
    "lst_columns = []\n",
    "for i in range(9,-1,-1):\n",
    "    for val in ['Open','High','Low','Close','trading_val']:\n",
    "        lst_columns.append(f'{val}_D-{i}')"
   ]
  },
  {
   "cell_type": "code",
   "execution_count": 12,
   "id": "7f2c6315",
   "metadata": {
    "ExecuteTime": {
     "end_time": "2022-12-07T12:52:39.538571Z",
     "start_time": "2022-12-07T12:52:22.419341Z"
    }
   },
   "outputs": [
    {
     "data": {
      "text/html": [
       "<div>\n",
       "<style scoped>\n",
       "    .dataframe tbody tr th:only-of-type {\n",
       "        vertical-align: middle;\n",
       "    }\n",
       "\n",
       "    .dataframe tbody tr th {\n",
       "        vertical-align: top;\n",
       "    }\n",
       "\n",
       "    .dataframe thead th {\n",
       "        text-align: right;\n",
       "    }\n",
       "</style>\n",
       "<table border=\"1\" class=\"dataframe\">\n",
       "  <thead>\n",
       "    <tr style=\"text-align: right;\">\n",
       "      <th></th>\n",
       "      <th>Open_D-9</th>\n",
       "      <th>High_D-9</th>\n",
       "      <th>Low_D-9</th>\n",
       "      <th>Close_D-9</th>\n",
       "      <th>trading_val_D-9</th>\n",
       "      <th>Open_D-8</th>\n",
       "      <th>High_D-8</th>\n",
       "      <th>Low_D-8</th>\n",
       "      <th>Close_D-8</th>\n",
       "      <th>trading_val_D-8</th>\n",
       "      <th>Open_D-7</th>\n",
       "      <th>High_D-7</th>\n",
       "      <th>Low_D-7</th>\n",
       "      <th>Close_D-7</th>\n",
       "      <th>trading_val_D-7</th>\n",
       "      <th>Open_D-6</th>\n",
       "      <th>High_D-6</th>\n",
       "      <th>Low_D-6</th>\n",
       "      <th>Close_D-6</th>\n",
       "      <th>trading_val_D-6</th>\n",
       "      <th>Open_D-5</th>\n",
       "      <th>High_D-5</th>\n",
       "      <th>Low_D-5</th>\n",
       "      <th>Close_D-5</th>\n",
       "      <th>trading_val_D-5</th>\n",
       "      <th>Open_D-4</th>\n",
       "      <th>High_D-4</th>\n",
       "      <th>Low_D-4</th>\n",
       "      <th>Close_D-4</th>\n",
       "      <th>trading_val_D-4</th>\n",
       "      <th>Open_D-3</th>\n",
       "      <th>High_D-3</th>\n",
       "      <th>Low_D-3</th>\n",
       "      <th>Close_D-3</th>\n",
       "      <th>trading_val_D-3</th>\n",
       "      <th>Open_D-2</th>\n",
       "      <th>High_D-2</th>\n",
       "      <th>Low_D-2</th>\n",
       "      <th>Close_D-2</th>\n",
       "      <th>trading_val_D-2</th>\n",
       "      <th>Open_D-1</th>\n",
       "      <th>High_D-1</th>\n",
       "      <th>Low_D-1</th>\n",
       "      <th>Close_D-1</th>\n",
       "      <th>trading_val_D-1</th>\n",
       "      <th>Open_D-0</th>\n",
       "      <th>High_D-0</th>\n",
       "      <th>Low_D-0</th>\n",
       "      <th>Close_D-0</th>\n",
       "      <th>trading_val_D-0</th>\n",
       "    </tr>\n",
       "  </thead>\n",
       "  <tbody>\n",
       "    <tr>\n",
       "      <th>0</th>\n",
       "      <td>10250</td>\n",
       "      <td>12050</td>\n",
       "      <td>10150</td>\n",
       "      <td>11800</td>\n",
       "      <td>307823874200</td>\n",
       "      <td>11950</td>\n",
       "      <td>12450</td>\n",
       "      <td>10900</td>\n",
       "      <td>11750</td>\n",
       "      <td>240410569500</td>\n",
       "      <td>11850</td>\n",
       "      <td>14150</td>\n",
       "      <td>11600</td>\n",
       "      <td>12600</td>\n",
       "      <td>764364560400</td>\n",
       "      <td>12800</td>\n",
       "      <td>13200</td>\n",
       "      <td>12000</td>\n",
       "      <td>12200</td>\n",
       "      <td>170010147600</td>\n",
       "      <td>12450</td>\n",
       "      <td>13400</td>\n",
       "      <td>12350</td>\n",
       "      <td>12850</td>\n",
       "      <td>211661434950</td>\n",
       "      <td>12800</td>\n",
       "      <td>12950</td>\n",
       "      <td>11300</td>\n",
       "      <td>11700</td>\n",
       "      <td>91801277100</td>\n",
       "      <td>11650</td>\n",
       "      <td>15200</td>\n",
       "      <td>11500</td>\n",
       "      <td>15200</td>\n",
       "      <td>602627879200</td>\n",
       "      <td>13900</td>\n",
       "      <td>18950</td>\n",
       "      <td>11650</td>\n",
       "      <td>12950</td>\n",
       "      <td>1439759321700</td>\n",
       "      <td>15300</td>\n",
       "      <td>15400</td>\n",
       "      <td>12650</td>\n",
       "      <td>13700</td>\n",
       "      <td>789063638200</td>\n",
       "      <td>13700</td>\n",
       "      <td>16100</td>\n",
       "      <td>13400</td>\n",
       "      <td>15400</td>\n",
       "      <td>897154258000</td>\n",
       "    </tr>\n",
       "    <tr>\n",
       "      <th>1</th>\n",
       "      <td>11950</td>\n",
       "      <td>12450</td>\n",
       "      <td>10900</td>\n",
       "      <td>11750</td>\n",
       "      <td>240410569500</td>\n",
       "      <td>11850</td>\n",
       "      <td>14150</td>\n",
       "      <td>11600</td>\n",
       "      <td>12600</td>\n",
       "      <td>764364560400</td>\n",
       "      <td>12800</td>\n",
       "      <td>13200</td>\n",
       "      <td>12000</td>\n",
       "      <td>12200</td>\n",
       "      <td>170010147600</td>\n",
       "      <td>12450</td>\n",
       "      <td>13400</td>\n",
       "      <td>12350</td>\n",
       "      <td>12850</td>\n",
       "      <td>211661434950</td>\n",
       "      <td>12800</td>\n",
       "      <td>12950</td>\n",
       "      <td>11300</td>\n",
       "      <td>11700</td>\n",
       "      <td>91801277100</td>\n",
       "      <td>11650</td>\n",
       "      <td>15200</td>\n",
       "      <td>11500</td>\n",
       "      <td>15200</td>\n",
       "      <td>602627879200</td>\n",
       "      <td>13900</td>\n",
       "      <td>18950</td>\n",
       "      <td>11650</td>\n",
       "      <td>12950</td>\n",
       "      <td>1439759321700</td>\n",
       "      <td>15300</td>\n",
       "      <td>15400</td>\n",
       "      <td>12650</td>\n",
       "      <td>13700</td>\n",
       "      <td>789063638200</td>\n",
       "      <td>13700</td>\n",
       "      <td>16100</td>\n",
       "      <td>13400</td>\n",
       "      <td>15400</td>\n",
       "      <td>897154258000</td>\n",
       "      <td>14700</td>\n",
       "      <td>15500</td>\n",
       "      <td>14000</td>\n",
       "      <td>14350</td>\n",
       "      <td>277027065700</td>\n",
       "    </tr>\n",
       "    <tr>\n",
       "      <th>2</th>\n",
       "      <td>11850</td>\n",
       "      <td>14150</td>\n",
       "      <td>11600</td>\n",
       "      <td>12600</td>\n",
       "      <td>764364560400</td>\n",
       "      <td>12800</td>\n",
       "      <td>13200</td>\n",
       "      <td>12000</td>\n",
       "      <td>12200</td>\n",
       "      <td>170010147600</td>\n",
       "      <td>12450</td>\n",
       "      <td>13400</td>\n",
       "      <td>12350</td>\n",
       "      <td>12850</td>\n",
       "      <td>211661434950</td>\n",
       "      <td>12800</td>\n",
       "      <td>12950</td>\n",
       "      <td>11300</td>\n",
       "      <td>11700</td>\n",
       "      <td>91801277100</td>\n",
       "      <td>11650</td>\n",
       "      <td>15200</td>\n",
       "      <td>11500</td>\n",
       "      <td>15200</td>\n",
       "      <td>602627879200</td>\n",
       "      <td>13900</td>\n",
       "      <td>18950</td>\n",
       "      <td>11650</td>\n",
       "      <td>12950</td>\n",
       "      <td>1439759321700</td>\n",
       "      <td>15300</td>\n",
       "      <td>15400</td>\n",
       "      <td>12650</td>\n",
       "      <td>13700</td>\n",
       "      <td>789063638200</td>\n",
       "      <td>13700</td>\n",
       "      <td>16100</td>\n",
       "      <td>13400</td>\n",
       "      <td>15400</td>\n",
       "      <td>897154258000</td>\n",
       "      <td>14700</td>\n",
       "      <td>15500</td>\n",
       "      <td>14000</td>\n",
       "      <td>14350</td>\n",
       "      <td>277027065700</td>\n",
       "      <td>13050</td>\n",
       "      <td>13300</td>\n",
       "      <td>11650</td>\n",
       "      <td>11650</td>\n",
       "      <td>231873876050</td>\n",
       "    </tr>\n",
       "    <tr>\n",
       "      <th>3</th>\n",
       "      <td>12800</td>\n",
       "      <td>13200</td>\n",
       "      <td>12000</td>\n",
       "      <td>12200</td>\n",
       "      <td>170010147600</td>\n",
       "      <td>12450</td>\n",
       "      <td>13400</td>\n",
       "      <td>12350</td>\n",
       "      <td>12850</td>\n",
       "      <td>211661434950</td>\n",
       "      <td>12800</td>\n",
       "      <td>12950</td>\n",
       "      <td>11300</td>\n",
       "      <td>11700</td>\n",
       "      <td>91801277100</td>\n",
       "      <td>11650</td>\n",
       "      <td>15200</td>\n",
       "      <td>11500</td>\n",
       "      <td>15200</td>\n",
       "      <td>602627879200</td>\n",
       "      <td>13900</td>\n",
       "      <td>18950</td>\n",
       "      <td>11650</td>\n",
       "      <td>12950</td>\n",
       "      <td>1439759321700</td>\n",
       "      <td>15300</td>\n",
       "      <td>15400</td>\n",
       "      <td>12650</td>\n",
       "      <td>13700</td>\n",
       "      <td>789063638200</td>\n",
       "      <td>13700</td>\n",
       "      <td>16100</td>\n",
       "      <td>13400</td>\n",
       "      <td>15400</td>\n",
       "      <td>897154258000</td>\n",
       "      <td>14700</td>\n",
       "      <td>15500</td>\n",
       "      <td>14000</td>\n",
       "      <td>14350</td>\n",
       "      <td>277027065700</td>\n",
       "      <td>13050</td>\n",
       "      <td>13300</td>\n",
       "      <td>11650</td>\n",
       "      <td>11650</td>\n",
       "      <td>231873876050</td>\n",
       "      <td>12200</td>\n",
       "      <td>13150</td>\n",
       "      <td>11600</td>\n",
       "      <td>12200</td>\n",
       "      <td>222393934200</td>\n",
       "    </tr>\n",
       "    <tr>\n",
       "      <th>4</th>\n",
       "      <td>12450</td>\n",
       "      <td>13400</td>\n",
       "      <td>12350</td>\n",
       "      <td>12850</td>\n",
       "      <td>211661434950</td>\n",
       "      <td>12800</td>\n",
       "      <td>12950</td>\n",
       "      <td>11300</td>\n",
       "      <td>11700</td>\n",
       "      <td>91801277100</td>\n",
       "      <td>11650</td>\n",
       "      <td>15200</td>\n",
       "      <td>11500</td>\n",
       "      <td>15200</td>\n",
       "      <td>602627879200</td>\n",
       "      <td>13900</td>\n",
       "      <td>18950</td>\n",
       "      <td>11650</td>\n",
       "      <td>12950</td>\n",
       "      <td>1439759321700</td>\n",
       "      <td>15300</td>\n",
       "      <td>15400</td>\n",
       "      <td>12650</td>\n",
       "      <td>13700</td>\n",
       "      <td>789063638200</td>\n",
       "      <td>13700</td>\n",
       "      <td>16100</td>\n",
       "      <td>13400</td>\n",
       "      <td>15400</td>\n",
       "      <td>897154258000</td>\n",
       "      <td>14700</td>\n",
       "      <td>15500</td>\n",
       "      <td>14000</td>\n",
       "      <td>14350</td>\n",
       "      <td>277027065700</td>\n",
       "      <td>13050</td>\n",
       "      <td>13300</td>\n",
       "      <td>11650</td>\n",
       "      <td>11650</td>\n",
       "      <td>231873876050</td>\n",
       "      <td>12200</td>\n",
       "      <td>13150</td>\n",
       "      <td>11600</td>\n",
       "      <td>12200</td>\n",
       "      <td>222393934200</td>\n",
       "      <td>12200</td>\n",
       "      <td>13750</td>\n",
       "      <td>12100</td>\n",
       "      <td>12350</td>\n",
       "      <td>256196958550</td>\n",
       "    </tr>\n",
       "  </tbody>\n",
       "</table>\n",
       "</div>"
      ],
      "text/plain": [
       "   Open_D-9  High_D-9  Low_D-9  Close_D-9  trading_val_D-9  Open_D-8  \\\n",
       "0     10250     12050    10150      11800     307823874200     11950   \n",
       "1     11950     12450    10900      11750     240410569500     11850   \n",
       "2     11850     14150    11600      12600     764364560400     12800   \n",
       "3     12800     13200    12000      12200     170010147600     12450   \n",
       "4     12450     13400    12350      12850     211661434950     12800   \n",
       "\n",
       "   High_D-8  Low_D-8  Close_D-8  trading_val_D-8  Open_D-7  High_D-7  Low_D-7  \\\n",
       "0     12450    10900      11750     240410569500     11850     14150    11600   \n",
       "1     14150    11600      12600     764364560400     12800     13200    12000   \n",
       "2     13200    12000      12200     170010147600     12450     13400    12350   \n",
       "3     13400    12350      12850     211661434950     12800     12950    11300   \n",
       "4     12950    11300      11700      91801277100     11650     15200    11500   \n",
       "\n",
       "   Close_D-7  trading_val_D-7  Open_D-6  High_D-6  Low_D-6  Close_D-6  \\\n",
       "0      12600     764364560400     12800     13200    12000      12200   \n",
       "1      12200     170010147600     12450     13400    12350      12850   \n",
       "2      12850     211661434950     12800     12950    11300      11700   \n",
       "3      11700      91801277100     11650     15200    11500      15200   \n",
       "4      15200     602627879200     13900     18950    11650      12950   \n",
       "\n",
       "   trading_val_D-6  Open_D-5  High_D-5  Low_D-5  Close_D-5  trading_val_D-5  \\\n",
       "0     170010147600     12450     13400    12350      12850     211661434950   \n",
       "1     211661434950     12800     12950    11300      11700      91801277100   \n",
       "2      91801277100     11650     15200    11500      15200     602627879200   \n",
       "3     602627879200     13900     18950    11650      12950    1439759321700   \n",
       "4    1439759321700     15300     15400    12650      13700     789063638200   \n",
       "\n",
       "   Open_D-4  High_D-4  Low_D-4  Close_D-4  trading_val_D-4  Open_D-3  \\\n",
       "0     12800     12950    11300      11700      91801277100     11650   \n",
       "1     11650     15200    11500      15200     602627879200     13900   \n",
       "2     13900     18950    11650      12950    1439759321700     15300   \n",
       "3     15300     15400    12650      13700     789063638200     13700   \n",
       "4     13700     16100    13400      15400     897154258000     14700   \n",
       "\n",
       "   High_D-3  Low_D-3  Close_D-3  trading_val_D-3  Open_D-2  High_D-2  Low_D-2  \\\n",
       "0     15200    11500      15200     602627879200     13900     18950    11650   \n",
       "1     18950    11650      12950    1439759321700     15300     15400    12650   \n",
       "2     15400    12650      13700     789063638200     13700     16100    13400   \n",
       "3     16100    13400      15400     897154258000     14700     15500    14000   \n",
       "4     15500    14000      14350     277027065700     13050     13300    11650   \n",
       "\n",
       "   Close_D-2  trading_val_D-2  Open_D-1  High_D-1  Low_D-1  Close_D-1  \\\n",
       "0      12950    1439759321700     15300     15400    12650      13700   \n",
       "1      13700     789063638200     13700     16100    13400      15400   \n",
       "2      15400     897154258000     14700     15500    14000      14350   \n",
       "3      14350     277027065700     13050     13300    11650      11650   \n",
       "4      11650     231873876050     12200     13150    11600      12200   \n",
       "\n",
       "   trading_val_D-1  Open_D-0  High_D-0  Low_D-0  Close_D-0  trading_val_D-0  \n",
       "0     789063638200     13700     16100    13400      15400     897154258000  \n",
       "1     897154258000     14700     15500    14000      14350     277027065700  \n",
       "2     277027065700     13050     13300    11650      11650     231873876050  \n",
       "3     231873876050     12200     13150    11600      12200     222393934200  \n",
       "4     222393934200     12200     13750    12100      12350     256196958550  "
      ]
     },
     "execution_count": 12,
     "metadata": {},
     "output_type": "execute_result"
    }
   ],
   "source": [
    "df2 = pd.DataFrame(lst, columns = lst_columns)\n",
    "df2.head()"
   ]
  },
  {
   "cell_type": "code",
   "execution_count": 13,
   "id": "c5a2dc30",
   "metadata": {
    "ExecuteTime": {
     "end_time": "2022-12-07T12:52:39.568491Z",
     "start_time": "2022-12-07T12:52:39.543558Z"
    }
   },
   "outputs": [],
   "source": [
    "df_Y = pd.DataFrame(dataY, columns = ['Y'])\n",
    "df_target = pd.DataFrame(target, columns = ['target'])"
   ]
  },
  {
   "cell_type": "code",
   "execution_count": 14,
   "id": "1fb0560b",
   "metadata": {
    "ExecuteTime": {
     "end_time": "2022-12-07T13:32:38.616893Z",
     "start_time": "2022-12-07T13:32:38.355591Z"
    }
   },
   "outputs": [
    {
     "data": {
      "text/html": [
       "<div>\n",
       "<style scoped>\n",
       "    .dataframe tbody tr th:only-of-type {\n",
       "        vertical-align: middle;\n",
       "    }\n",
       "\n",
       "    .dataframe tbody tr th {\n",
       "        vertical-align: top;\n",
       "    }\n",
       "\n",
       "    .dataframe thead th {\n",
       "        text-align: right;\n",
       "    }\n",
       "</style>\n",
       "<table border=\"1\" class=\"dataframe\">\n",
       "  <thead>\n",
       "    <tr style=\"text-align: right;\">\n",
       "      <th></th>\n",
       "      <th>code</th>\n",
       "      <th>date</th>\n",
       "      <th>Open_D-9</th>\n",
       "      <th>High_D-9</th>\n",
       "      <th>Low_D-9</th>\n",
       "      <th>Close_D-9</th>\n",
       "      <th>trading_val_D-9</th>\n",
       "      <th>Open_D-8</th>\n",
       "      <th>High_D-8</th>\n",
       "      <th>Low_D-8</th>\n",
       "      <th>Close_D-8</th>\n",
       "      <th>trading_val_D-8</th>\n",
       "      <th>Open_D-7</th>\n",
       "      <th>High_D-7</th>\n",
       "      <th>Low_D-7</th>\n",
       "      <th>Close_D-7</th>\n",
       "      <th>trading_val_D-7</th>\n",
       "      <th>Open_D-6</th>\n",
       "      <th>High_D-6</th>\n",
       "      <th>Low_D-6</th>\n",
       "      <th>Close_D-6</th>\n",
       "      <th>trading_val_D-6</th>\n",
       "      <th>Open_D-5</th>\n",
       "      <th>High_D-5</th>\n",
       "      <th>Low_D-5</th>\n",
       "      <th>Close_D-5</th>\n",
       "      <th>trading_val_D-5</th>\n",
       "      <th>Open_D-4</th>\n",
       "      <th>High_D-4</th>\n",
       "      <th>Low_D-4</th>\n",
       "      <th>Close_D-4</th>\n",
       "      <th>trading_val_D-4</th>\n",
       "      <th>Open_D-3</th>\n",
       "      <th>High_D-3</th>\n",
       "      <th>Low_D-3</th>\n",
       "      <th>Close_D-3</th>\n",
       "      <th>trading_val_D-3</th>\n",
       "      <th>Open_D-2</th>\n",
       "      <th>High_D-2</th>\n",
       "      <th>Low_D-2</th>\n",
       "      <th>Close_D-2</th>\n",
       "      <th>trading_val_D-2</th>\n",
       "      <th>Open_D-1</th>\n",
       "      <th>High_D-1</th>\n",
       "      <th>Low_D-1</th>\n",
       "      <th>Close_D-1</th>\n",
       "      <th>trading_val_D-1</th>\n",
       "      <th>Open_D-0</th>\n",
       "      <th>High_D-0</th>\n",
       "      <th>Low_D-0</th>\n",
       "      <th>Close_D-0</th>\n",
       "      <th>trading_val_D-0</th>\n",
       "      <th>target</th>\n",
       "      <th>Y</th>\n",
       "    </tr>\n",
       "  </thead>\n",
       "  <tbody>\n",
       "    <tr>\n",
       "      <th>0</th>\n",
       "      <td>050120</td>\n",
       "      <td>20180115</td>\n",
       "      <td>10250</td>\n",
       "      <td>12050</td>\n",
       "      <td>10150</td>\n",
       "      <td>11800</td>\n",
       "      <td>307823874200</td>\n",
       "      <td>11950</td>\n",
       "      <td>12450</td>\n",
       "      <td>10900</td>\n",
       "      <td>11750</td>\n",
       "      <td>240410569500</td>\n",
       "      <td>11850</td>\n",
       "      <td>14150</td>\n",
       "      <td>11600</td>\n",
       "      <td>12600</td>\n",
       "      <td>764364560400</td>\n",
       "      <td>12800</td>\n",
       "      <td>13200</td>\n",
       "      <td>12000</td>\n",
       "      <td>12200</td>\n",
       "      <td>170010147600</td>\n",
       "      <td>12450</td>\n",
       "      <td>13400</td>\n",
       "      <td>12350</td>\n",
       "      <td>12850</td>\n",
       "      <td>211661434950</td>\n",
       "      <td>12800</td>\n",
       "      <td>12950</td>\n",
       "      <td>11300</td>\n",
       "      <td>11700</td>\n",
       "      <td>91801277100</td>\n",
       "      <td>11650</td>\n",
       "      <td>15200</td>\n",
       "      <td>11500</td>\n",
       "      <td>15200</td>\n",
       "      <td>602627879200</td>\n",
       "      <td>13900</td>\n",
       "      <td>18950</td>\n",
       "      <td>11650</td>\n",
       "      <td>12950</td>\n",
       "      <td>1439759321700</td>\n",
       "      <td>15300</td>\n",
       "      <td>15400</td>\n",
       "      <td>12650</td>\n",
       "      <td>13700</td>\n",
       "      <td>789063638200</td>\n",
       "      <td>13700</td>\n",
       "      <td>16100</td>\n",
       "      <td>13400</td>\n",
       "      <td>15400</td>\n",
       "      <td>897154258000</td>\n",
       "      <td>0.124088</td>\n",
       "      <td>1</td>\n",
       "    </tr>\n",
       "    <tr>\n",
       "      <th>1</th>\n",
       "      <td>050120</td>\n",
       "      <td>20180116</td>\n",
       "      <td>11950</td>\n",
       "      <td>12450</td>\n",
       "      <td>10900</td>\n",
       "      <td>11750</td>\n",
       "      <td>240410569500</td>\n",
       "      <td>11850</td>\n",
       "      <td>14150</td>\n",
       "      <td>11600</td>\n",
       "      <td>12600</td>\n",
       "      <td>764364560400</td>\n",
       "      <td>12800</td>\n",
       "      <td>13200</td>\n",
       "      <td>12000</td>\n",
       "      <td>12200</td>\n",
       "      <td>170010147600</td>\n",
       "      <td>12450</td>\n",
       "      <td>13400</td>\n",
       "      <td>12350</td>\n",
       "      <td>12850</td>\n",
       "      <td>211661434950</td>\n",
       "      <td>12800</td>\n",
       "      <td>12950</td>\n",
       "      <td>11300</td>\n",
       "      <td>11700</td>\n",
       "      <td>91801277100</td>\n",
       "      <td>11650</td>\n",
       "      <td>15200</td>\n",
       "      <td>11500</td>\n",
       "      <td>15200</td>\n",
       "      <td>602627879200</td>\n",
       "      <td>13900</td>\n",
       "      <td>18950</td>\n",
       "      <td>11650</td>\n",
       "      <td>12950</td>\n",
       "      <td>1439759321700</td>\n",
       "      <td>15300</td>\n",
       "      <td>15400</td>\n",
       "      <td>12650</td>\n",
       "      <td>13700</td>\n",
       "      <td>789063638200</td>\n",
       "      <td>13700</td>\n",
       "      <td>16100</td>\n",
       "      <td>13400</td>\n",
       "      <td>15400</td>\n",
       "      <td>897154258000</td>\n",
       "      <td>14700</td>\n",
       "      <td>15500</td>\n",
       "      <td>14000</td>\n",
       "      <td>14350</td>\n",
       "      <td>277027065700</td>\n",
       "      <td>-0.068182</td>\n",
       "      <td>0</td>\n",
       "    </tr>\n",
       "    <tr>\n",
       "      <th>2</th>\n",
       "      <td>050120</td>\n",
       "      <td>20180117</td>\n",
       "      <td>11850</td>\n",
       "      <td>14150</td>\n",
       "      <td>11600</td>\n",
       "      <td>12600</td>\n",
       "      <td>764364560400</td>\n",
       "      <td>12800</td>\n",
       "      <td>13200</td>\n",
       "      <td>12000</td>\n",
       "      <td>12200</td>\n",
       "      <td>170010147600</td>\n",
       "      <td>12450</td>\n",
       "      <td>13400</td>\n",
       "      <td>12350</td>\n",
       "      <td>12850</td>\n",
       "      <td>211661434950</td>\n",
       "      <td>12800</td>\n",
       "      <td>12950</td>\n",
       "      <td>11300</td>\n",
       "      <td>11700</td>\n",
       "      <td>91801277100</td>\n",
       "      <td>11650</td>\n",
       "      <td>15200</td>\n",
       "      <td>11500</td>\n",
       "      <td>15200</td>\n",
       "      <td>602627879200</td>\n",
       "      <td>13900</td>\n",
       "      <td>18950</td>\n",
       "      <td>11650</td>\n",
       "      <td>12950</td>\n",
       "      <td>1439759321700</td>\n",
       "      <td>15300</td>\n",
       "      <td>15400</td>\n",
       "      <td>12650</td>\n",
       "      <td>13700</td>\n",
       "      <td>789063638200</td>\n",
       "      <td>13700</td>\n",
       "      <td>16100</td>\n",
       "      <td>13400</td>\n",
       "      <td>15400</td>\n",
       "      <td>897154258000</td>\n",
       "      <td>14700</td>\n",
       "      <td>15500</td>\n",
       "      <td>14000</td>\n",
       "      <td>14350</td>\n",
       "      <td>277027065700</td>\n",
       "      <td>13050</td>\n",
       "      <td>13300</td>\n",
       "      <td>11650</td>\n",
       "      <td>11650</td>\n",
       "      <td>231873876050</td>\n",
       "      <td>-0.188153</td>\n",
       "      <td>0</td>\n",
       "    </tr>\n",
       "    <tr>\n",
       "      <th>3</th>\n",
       "      <td>050120</td>\n",
       "      <td>20180118</td>\n",
       "      <td>12800</td>\n",
       "      <td>13200</td>\n",
       "      <td>12000</td>\n",
       "      <td>12200</td>\n",
       "      <td>170010147600</td>\n",
       "      <td>12450</td>\n",
       "      <td>13400</td>\n",
       "      <td>12350</td>\n",
       "      <td>12850</td>\n",
       "      <td>211661434950</td>\n",
       "      <td>12800</td>\n",
       "      <td>12950</td>\n",
       "      <td>11300</td>\n",
       "      <td>11700</td>\n",
       "      <td>91801277100</td>\n",
       "      <td>11650</td>\n",
       "      <td>15200</td>\n",
       "      <td>11500</td>\n",
       "      <td>15200</td>\n",
       "      <td>602627879200</td>\n",
       "      <td>13900</td>\n",
       "      <td>18950</td>\n",
       "      <td>11650</td>\n",
       "      <td>12950</td>\n",
       "      <td>1439759321700</td>\n",
       "      <td>15300</td>\n",
       "      <td>15400</td>\n",
       "      <td>12650</td>\n",
       "      <td>13700</td>\n",
       "      <td>789063638200</td>\n",
       "      <td>13700</td>\n",
       "      <td>16100</td>\n",
       "      <td>13400</td>\n",
       "      <td>15400</td>\n",
       "      <td>897154258000</td>\n",
       "      <td>14700</td>\n",
       "      <td>15500</td>\n",
       "      <td>14000</td>\n",
       "      <td>14350</td>\n",
       "      <td>277027065700</td>\n",
       "      <td>13050</td>\n",
       "      <td>13300</td>\n",
       "      <td>11650</td>\n",
       "      <td>11650</td>\n",
       "      <td>231873876050</td>\n",
       "      <td>12200</td>\n",
       "      <td>13150</td>\n",
       "      <td>11600</td>\n",
       "      <td>12200</td>\n",
       "      <td>222393934200</td>\n",
       "      <td>0.047210</td>\n",
       "      <td>1</td>\n",
       "    </tr>\n",
       "    <tr>\n",
       "      <th>4</th>\n",
       "      <td>050120</td>\n",
       "      <td>20180119</td>\n",
       "      <td>12450</td>\n",
       "      <td>13400</td>\n",
       "      <td>12350</td>\n",
       "      <td>12850</td>\n",
       "      <td>211661434950</td>\n",
       "      <td>12800</td>\n",
       "      <td>12950</td>\n",
       "      <td>11300</td>\n",
       "      <td>11700</td>\n",
       "      <td>91801277100</td>\n",
       "      <td>11650</td>\n",
       "      <td>15200</td>\n",
       "      <td>11500</td>\n",
       "      <td>15200</td>\n",
       "      <td>602627879200</td>\n",
       "      <td>13900</td>\n",
       "      <td>18950</td>\n",
       "      <td>11650</td>\n",
       "      <td>12950</td>\n",
       "      <td>1439759321700</td>\n",
       "      <td>15300</td>\n",
       "      <td>15400</td>\n",
       "      <td>12650</td>\n",
       "      <td>13700</td>\n",
       "      <td>789063638200</td>\n",
       "      <td>13700</td>\n",
       "      <td>16100</td>\n",
       "      <td>13400</td>\n",
       "      <td>15400</td>\n",
       "      <td>897154258000</td>\n",
       "      <td>14700</td>\n",
       "      <td>15500</td>\n",
       "      <td>14000</td>\n",
       "      <td>14350</td>\n",
       "      <td>277027065700</td>\n",
       "      <td>13050</td>\n",
       "      <td>13300</td>\n",
       "      <td>11650</td>\n",
       "      <td>11650</td>\n",
       "      <td>231873876050</td>\n",
       "      <td>12200</td>\n",
       "      <td>13150</td>\n",
       "      <td>11600</td>\n",
       "      <td>12200</td>\n",
       "      <td>222393934200</td>\n",
       "      <td>12200</td>\n",
       "      <td>13750</td>\n",
       "      <td>12100</td>\n",
       "      <td>12350</td>\n",
       "      <td>256196958550</td>\n",
       "      <td>0.012295</td>\n",
       "      <td>0</td>\n",
       "    </tr>\n",
       "  </tbody>\n",
       "</table>\n",
       "</div>"
      ],
      "text/plain": [
       "     code      date  Open_D-9  High_D-9  Low_D-9  Close_D-9  trading_val_D-9  \\\n",
       "0  050120  20180115     10250     12050    10150      11800     307823874200   \n",
       "1  050120  20180116     11950     12450    10900      11750     240410569500   \n",
       "2  050120  20180117     11850     14150    11600      12600     764364560400   \n",
       "3  050120  20180118     12800     13200    12000      12200     170010147600   \n",
       "4  050120  20180119     12450     13400    12350      12850     211661434950   \n",
       "\n",
       "   Open_D-8  High_D-8  Low_D-8  Close_D-8  trading_val_D-8  Open_D-7  \\\n",
       "0     11950     12450    10900      11750     240410569500     11850   \n",
       "1     11850     14150    11600      12600     764364560400     12800   \n",
       "2     12800     13200    12000      12200     170010147600     12450   \n",
       "3     12450     13400    12350      12850     211661434950     12800   \n",
       "4     12800     12950    11300      11700      91801277100     11650   \n",
       "\n",
       "   High_D-7  Low_D-7  Close_D-7  trading_val_D-7  Open_D-6  High_D-6  Low_D-6  \\\n",
       "0     14150    11600      12600     764364560400     12800     13200    12000   \n",
       "1     13200    12000      12200     170010147600     12450     13400    12350   \n",
       "2     13400    12350      12850     211661434950     12800     12950    11300   \n",
       "3     12950    11300      11700      91801277100     11650     15200    11500   \n",
       "4     15200    11500      15200     602627879200     13900     18950    11650   \n",
       "\n",
       "   Close_D-6  trading_val_D-6  Open_D-5  High_D-5  Low_D-5  Close_D-5  \\\n",
       "0      12200     170010147600     12450     13400    12350      12850   \n",
       "1      12850     211661434950     12800     12950    11300      11700   \n",
       "2      11700      91801277100     11650     15200    11500      15200   \n",
       "3      15200     602627879200     13900     18950    11650      12950   \n",
       "4      12950    1439759321700     15300     15400    12650      13700   \n",
       "\n",
       "   trading_val_D-5  Open_D-4  High_D-4  Low_D-4  Close_D-4  trading_val_D-4  \\\n",
       "0     211661434950     12800     12950    11300      11700      91801277100   \n",
       "1      91801277100     11650     15200    11500      15200     602627879200   \n",
       "2     602627879200     13900     18950    11650      12950    1439759321700   \n",
       "3    1439759321700     15300     15400    12650      13700     789063638200   \n",
       "4     789063638200     13700     16100    13400      15400     897154258000   \n",
       "\n",
       "   Open_D-3  High_D-3  Low_D-3  Close_D-3  trading_val_D-3  Open_D-2  \\\n",
       "0     11650     15200    11500      15200     602627879200     13900   \n",
       "1     13900     18950    11650      12950    1439759321700     15300   \n",
       "2     15300     15400    12650      13700     789063638200     13700   \n",
       "3     13700     16100    13400      15400     897154258000     14700   \n",
       "4     14700     15500    14000      14350     277027065700     13050   \n",
       "\n",
       "   High_D-2  Low_D-2  Close_D-2  trading_val_D-2  Open_D-1  High_D-1  Low_D-1  \\\n",
       "0     18950    11650      12950    1439759321700     15300     15400    12650   \n",
       "1     15400    12650      13700     789063638200     13700     16100    13400   \n",
       "2     16100    13400      15400     897154258000     14700     15500    14000   \n",
       "3     15500    14000      14350     277027065700     13050     13300    11650   \n",
       "4     13300    11650      11650     231873876050     12200     13150    11600   \n",
       "\n",
       "   Close_D-1  trading_val_D-1  Open_D-0  High_D-0  Low_D-0  Close_D-0  \\\n",
       "0      13700     789063638200     13700     16100    13400      15400   \n",
       "1      15400     897154258000     14700     15500    14000      14350   \n",
       "2      14350     277027065700     13050     13300    11650      11650   \n",
       "3      11650     231873876050     12200     13150    11600      12200   \n",
       "4      12200     222393934200     12200     13750    12100      12350   \n",
       "\n",
       "   trading_val_D-0    target  Y  \n",
       "0     897154258000  0.124088  1  \n",
       "1     277027065700 -0.068182  0  \n",
       "2     231873876050 -0.188153  0  \n",
       "3     222393934200  0.047210  1  \n",
       "4     256196958550  0.012295  0  "
      ]
     },
     "execution_count": 14,
     "metadata": {},
     "output_type": "execute_result"
    }
   ],
   "source": [
    "df = pd.concat([code2date, df2,df_target,df_Y], axis = 1)\n",
    "df.head()"
   ]
  },
  {
   "cell_type": "markdown",
   "id": "b03fdcab-4fe0-4275-b962-b74679f05d8e",
   "metadata": {
    "tags": []
   },
   "source": [
    " ## 거래대금별 데이터 개수 알아보기\n",
    " - ipywidgets을 사용하여 거래대금을 조정하고 데이터 개수를 알아본다."
   ]
  },
  {
   "cell_type": "code",
   "execution_count": 21,
   "id": "745c47c8",
   "metadata": {
    "ExecuteTime": {
     "end_time": "2022-12-07T12:53:40.106666Z",
     "start_time": "2022-12-07T12:53:39.738649Z"
    },
    "tags": []
   },
   "outputs": [
    {
     "data": {
      "application/vnd.jupyter.widget-view+json": {
       "model_id": "2c43293bd4774244ad45aab13da43f2c",
       "version_major": 2,
       "version_minor": 0
      },
      "text/plain": [
       "interactive(children=(Dropdown(description='data', options=('code', 'date', 'Open_D-9', 'High_D-9', 'Low_D-9',…"
      ]
     },
     "metadata": {},
     "output_type": "display_data"
    }
   ],
   "source": [
    "@interact\n",
    "def show_data_more_than(data = df, column=['trading_val_D-0'], \n",
    "                        x=[10,100,1000,10000]):\n",
    "    print(df.loc[df['trading_val_D-0']>= (x*100000000)].shape)\n",
    "    return  df.loc[df['trading_val_D-0']>= (x*100000000)]"
   ]
  },
  {
   "cell_type": "markdown",
   "id": "6fa61cb3",
   "metadata": {},
   "source": [
    "# EDA"
   ]
  },
  {
   "cell_type": "markdown",
   "id": "8aeaccca",
   "metadata": {},
   "source": [
    "## 거래대금별 Next Change 값 분포"
   ]
  },
  {
   "cell_type": "markdown",
   "id": "8bcc6a49",
   "metadata": {},
   "source": [
    "\n",
    "- 거래대금이 낮아질 수록 뾰족한 라플라스 분포의 형태에 가까워진다.\n",
    "- 1000억 ~ 1조 구간의 특징 : 전체 종목 대비 급상승한 종목이 많다. ( 0.3 근방 구간 막대 참고)\n",
    "\n",
    "→ 특성이 다르게 나타나므로 거래대금별로 학습을 진행한다.\n",
    "\n",
    "- 모든 구간에서 히스토그램 막대가 급격하게 떨어지는 지점이 존재한다. (0.01~ 0.02 구간)\n",
    "\n",
    "→ 해당 구간을 기점으로 상승 여부를 이진화하여 데이터셋을 구축한다."
   ]
  },
  {
   "cell_type": "code",
   "execution_count": 42,
   "id": "248d69ea",
   "metadata": {
    "ExecuteTime": {
     "end_time": "2022-12-07T13:31:12.581206Z",
     "start_time": "2022-12-07T13:31:12.328881Z"
    }
   },
   "outputs": [
    {
     "data": {
      "application/vnd.jupyter.widget-view+json": {
       "model_id": "621fff96b68b419bb395783975d94c4e",
       "version_major": 2,
       "version_minor": 0
      },
      "text/plain": [
       "interactive(children=(Dropdown(description='c', options=(10000, 1000, 100, 10), value=10000), Output()), _dom_…"
      ]
     },
     "metadata": {},
     "output_type": "display_data"
    }
   ],
   "source": [
    "@interact\n",
    "def visualize_next_change(c= [10000,1000,100,10]):\n",
    "    df_stock = df.loc[df['trading_val_D-0'] > c *100000000]\n",
    "    \n",
    "    df_stock['target'].iplot(kind=\"histogram\", bins=100, theme=\"white\", yTitle='Count')"
   ]
  },
  {
   "cell_type": "markdown",
   "id": "2d39d70d-e40b-43ef-bb04-c1ec0150338f",
   "metadata": {
    "tags": []
   },
   "source": [
    "## 거래대금별 label 값 분포"
   ]
  },
  {
   "cell_type": "markdown",
   "id": "4709e910-5e78-4040-a7f9-ac1d59a044c1",
   "metadata": {},
   "source": [
    "- label 0 : 다음날 종가 상승률 2% 미만 \n",
    "- label 1 : 다음날 종가 상승률 2% 이상\n",
    "- 거래대금 1조~1천억에서 라벨의 분포가 비슷하게 나타난다.<br>\n",
    "- 거래대금이 낮아질수록 라벨의 분포가 차이나지만 불균형을 걱정할 정도는 아니다.\n",
    "- ipywidgets을 사용하여 거래대금을 조정하고 라벨값의 분포를 알아본다."
   ]
  },
  {
   "cell_type": "code",
   "execution_count": 40,
   "id": "f560d4a2",
   "metadata": {
    "ExecuteTime": {
     "end_time": "2022-12-07T13:33:12.829397Z",
     "start_time": "2022-12-07T13:33:12.526207Z"
    }
   },
   "outputs": [
    {
     "data": {
      "application/vnd.jupyter.widget-view+json": {
       "model_id": "",
       "version_major": 2,
       "version_minor": 0
      },
      "text/plain": [
       "interactive(children=(Dropdown(description='c', options=(10000, 1000, 100, 10), value=10000), Output()), _dom_…"
      ]
     },
     "metadata": {},
     "output_type": "display_data"
    }
   ],
   "source": [
    "@interact\n",
    "def visualize_label(c= [10000,1000,100,10]):\n",
    "    df_stock = df.loc[df['trading_val_D-0'] > c * 100000000]\n",
    "    \n",
    "    ax = sns.countplot(data = df_stock, x = 'Y')\n",
    "    \n",
    "    for p in ax.patches:\n",
    "        height = p.get_height()\n",
    "        ax.text(p.get_x() + p.get_width() / 2., height + 3, height, ha = 'center', size = 20)\n",
    "    plt.show()"
   ]
  },
  {
   "cell_type": "code",
   "execution_count": 23,
   "id": "fdbf2d4c",
   "metadata": {
    "ExecuteTime": {
     "end_time": "2022-12-07T12:23:45.493307Z",
     "start_time": "2022-12-07T12:23:45.239017Z"
    }
   },
   "outputs": [
    {
     "data": {
      "image/png": "[encoded data removed]",
      "text/plain": [
       "<Figure size 1440x720 with 1 Axes>"
      ]
     },
     "metadata": {
      "needs_background": "light"
     },
     "output_type": "display_data"
    }
   ],
   "source": [
    "ax = sns.countplot(data = df_Y, x = 'Y')\n",
    "\n",
    "for p in ax.patches:\n",
    "    height = p.get_height()\n",
    "    ax.text(p.get_x() + p.get_width() / 2., height + 3, height, ha = 'center', size = 20)\n",
    "plt.show()"
   ]
  },
  {
   "cell_type": "markdown",
   "id": "6f6a1fb7",
   "metadata": {},
   "source": [
    "## 거래대금별 이상치 탐색"
   ]
  },
  {
   "cell_type": "markdown",
   "id": "427b45a6",
   "metadata": {},
   "source": [
    "<strong>min값을 살펴보면 10일간의 거래일동안 주가와 거래대금에 0 값이 존재함을 알 수 있음.<br></strong>"
   ]
  },
  {
   "cell_type": "code",
   "execution_count": 36,
   "id": "c5aad3f0",
   "metadata": {
    "ExecuteTime": {
     "end_time": "2022-12-07T12:51:15.821073Z",
     "start_time": "2022-12-07T12:51:15.763225Z"
    }
   },
   "outputs": [
    {
     "data": {
      "text/html": [
       "<div>\n",
       "<style scoped>\n",
       "    .dataframe tbody tr th:only-of-type {\n",
       "        vertical-align: middle;\n",
       "    }\n",
       "\n",
       "    .dataframe tbody tr th {\n",
       "        vertical-align: top;\n",
       "    }\n",
       "\n",
       "    .dataframe thead th {\n",
       "        text-align: right;\n",
       "    }\n",
       "</style>\n",
       "<table border=\"1\" class=\"dataframe\">\n",
       "  <thead>\n",
       "    <tr style=\"text-align: right;\">\n",
       "      <th></th>\n",
       "      <th>Open_D-9</th>\n",
       "      <th>High_D-9</th>\n",
       "      <th>Low_D-9</th>\n",
       "      <th>Close_D-9</th>\n",
       "      <th>trading_val_D-9</th>\n",
       "      <th>Open_D-8</th>\n",
       "      <th>High_D-8</th>\n",
       "      <th>Low_D-8</th>\n",
       "      <th>Close_D-8</th>\n",
       "      <th>trading_val_D-8</th>\n",
       "      <th>Open_D-7</th>\n",
       "      <th>High_D-7</th>\n",
       "      <th>Low_D-7</th>\n",
       "      <th>Close_D-7</th>\n",
       "      <th>trading_val_D-7</th>\n",
       "      <th>Open_D-6</th>\n",
       "      <th>High_D-6</th>\n",
       "      <th>Low_D-6</th>\n",
       "      <th>Close_D-6</th>\n",
       "      <th>trading_val_D-6</th>\n",
       "      <th>Open_D-5</th>\n",
       "      <th>High_D-5</th>\n",
       "      <th>Low_D-5</th>\n",
       "      <th>Close_D-5</th>\n",
       "      <th>trading_val_D-5</th>\n",
       "      <th>Open_D-4</th>\n",
       "      <th>High_D-4</th>\n",
       "      <th>Low_D-4</th>\n",
       "      <th>Close_D-4</th>\n",
       "      <th>trading_val_D-4</th>\n",
       "      <th>Open_D-3</th>\n",
       "      <th>High_D-3</th>\n",
       "      <th>Low_D-3</th>\n",
       "      <th>Close_D-3</th>\n",
       "      <th>trading_val_D-3</th>\n",
       "      <th>Open_D-2</th>\n",
       "      <th>High_D-2</th>\n",
       "      <th>Low_D-2</th>\n",
       "      <th>Close_D-2</th>\n",
       "      <th>trading_val_D-2</th>\n",
       "      <th>Open_D-1</th>\n",
       "      <th>High_D-1</th>\n",
       "      <th>Low_D-1</th>\n",
       "      <th>Close_D-1</th>\n",
       "      <th>trading_val_D-1</th>\n",
       "      <th>Open_D-0</th>\n",
       "      <th>High_D-0</th>\n",
       "      <th>Low_D-0</th>\n",
       "      <th>Close_D-0</th>\n",
       "      <th>trading_val_D-0</th>\n",
       "      <th>target</th>\n",
       "      <th>Y</th>\n",
       "    </tr>\n",
       "  </thead>\n",
       "  <tbody>\n",
       "    <tr>\n",
       "      <th>count</th>\n",
       "      <td>9.724220e+05</td>\n",
       "      <td>9.724220e+05</td>\n",
       "      <td>9.724220e+05</td>\n",
       "      <td>9.724220e+05</td>\n",
       "      <td>9.724220e+05</td>\n",
       "      <td>9.724220e+05</td>\n",
       "      <td>9.724220e+05</td>\n",
       "      <td>9.724220e+05</td>\n",
       "      <td>9.724220e+05</td>\n",
       "      <td>9.724220e+05</td>\n",
       "      <td>9.724220e+05</td>\n",
       "      <td>9.724220e+05</td>\n",
       "      <td>9.724220e+05</td>\n",
       "      <td>9.724220e+05</td>\n",
       "      <td>9.724220e+05</td>\n",
       "      <td>9.724220e+05</td>\n",
       "      <td>9.724220e+05</td>\n",
       "      <td>9.724220e+05</td>\n",
       "      <td>9.724220e+05</td>\n",
       "      <td>9.724220e+05</td>\n",
       "      <td>9.724220e+05</td>\n",
       "      <td>9.724220e+05</td>\n",
       "      <td>9.724220e+05</td>\n",
       "      <td>9.724220e+05</td>\n",
       "      <td>9.724220e+05</td>\n",
       "      <td>9.724220e+05</td>\n",
       "      <td>9.724220e+05</td>\n",
       "      <td>9.724220e+05</td>\n",
       "      <td>9.724220e+05</td>\n",
       "      <td>9.724220e+05</td>\n",
       "      <td>9.724220e+05</td>\n",
       "      <td>9.724220e+05</td>\n",
       "      <td>9.724220e+05</td>\n",
       "      <td>9.724220e+05</td>\n",
       "      <td>9.724220e+05</td>\n",
       "      <td>9.724220e+05</td>\n",
       "      <td>9.724220e+05</td>\n",
       "      <td>9.724220e+05</td>\n",
       "      <td>9.724220e+05</td>\n",
       "      <td>9.724220e+05</td>\n",
       "      <td>9.724220e+05</td>\n",
       "      <td>9.724220e+05</td>\n",
       "      <td>9.724220e+05</td>\n",
       "      <td>9.724220e+05</td>\n",
       "      <td>9.724220e+05</td>\n",
       "      <td>9.724220e+05</td>\n",
       "      <td>9.724220e+05</td>\n",
       "      <td>9.724220e+05</td>\n",
       "      <td>9.724220e+05</td>\n",
       "      <td>9.724220e+05</td>\n",
       "      <td>972422.000000</td>\n",
       "      <td>972422.000000</td>\n",
       "    </tr>\n",
       "    <tr>\n",
       "      <th>mean</th>\n",
       "      <td>2.390520e+04</td>\n",
       "      <td>2.434499e+04</td>\n",
       "      <td>2.347437e+04</td>\n",
       "      <td>2.390356e+04</td>\n",
       "      <td>8.377226e+09</td>\n",
       "      <td>2.390667e+04</td>\n",
       "      <td>2.434640e+04</td>\n",
       "      <td>2.347558e+04</td>\n",
       "      <td>2.390381e+04</td>\n",
       "      <td>8.394424e+09</td>\n",
       "      <td>2.390801e+04</td>\n",
       "      <td>2.434807e+04</td>\n",
       "      <td>2.347688e+04</td>\n",
       "      <td>2.390470e+04</td>\n",
       "      <td>8.408686e+09</td>\n",
       "      <td>2.390955e+04</td>\n",
       "      <td>2.434982e+04</td>\n",
       "      <td>2.347862e+04</td>\n",
       "      <td>2.390612e+04</td>\n",
       "      <td>8.427091e+09</td>\n",
       "      <td>2.391170e+04</td>\n",
       "      <td>2.435216e+04</td>\n",
       "      <td>2.348005e+04</td>\n",
       "      <td>2.390665e+04</td>\n",
       "      <td>8.444804e+09</td>\n",
       "      <td>2.391276e+04</td>\n",
       "      <td>2.435379e+04</td>\n",
       "      <td>2.348078e+04</td>\n",
       "      <td>2.390682e+04</td>\n",
       "      <td>8.463506e+09</td>\n",
       "      <td>2.391375e+04</td>\n",
       "      <td>2.435531e+04</td>\n",
       "      <td>2.348165e+04</td>\n",
       "      <td>2.390716e+04</td>\n",
       "      <td>8.480891e+09</td>\n",
       "      <td>2.391575e+04</td>\n",
       "      <td>2.435740e+04</td>\n",
       "      <td>2.348311e+04</td>\n",
       "      <td>2.390697e+04</td>\n",
       "      <td>8.495732e+09</td>\n",
       "      <td>2.391664e+04</td>\n",
       "      <td>2.435932e+04</td>\n",
       "      <td>2.348363e+04</td>\n",
       "      <td>2.390670e+04</td>\n",
       "      <td>8.507001e+09</td>\n",
       "      <td>2.391976e+04</td>\n",
       "      <td>2.436492e+04</td>\n",
       "      <td>2.348463e+04</td>\n",
       "      <td>2.390661e+04</td>\n",
       "      <td>8.535300e+09</td>\n",
       "      <td>0.000808</td>\n",
       "      <td>0.192506</td>\n",
       "    </tr>\n",
       "    <tr>\n",
       "      <th>std</th>\n",
       "      <td>7.367134e+04</td>\n",
       "      <td>7.475606e+04</td>\n",
       "      <td>7.261039e+04</td>\n",
       "      <td>7.366178e+04</td>\n",
       "      <td>6.174353e+10</td>\n",
       "      <td>7.366421e+04</td>\n",
       "      <td>7.474724e+04</td>\n",
       "      <td>7.260231e+04</td>\n",
       "      <td>7.365223e+04</td>\n",
       "      <td>6.180414e+10</td>\n",
       "      <td>7.365663e+04</td>\n",
       "      <td>7.473902e+04</td>\n",
       "      <td>7.259409e+04</td>\n",
       "      <td>7.364396e+04</td>\n",
       "      <td>6.184688e+10</td>\n",
       "      <td>7.364824e+04</td>\n",
       "      <td>7.473119e+04</td>\n",
       "      <td>7.258843e+04</td>\n",
       "      <td>7.363939e+04</td>\n",
       "      <td>6.192510e+10</td>\n",
       "      <td>7.364284e+04</td>\n",
       "      <td>7.472640e+04</td>\n",
       "      <td>7.258283e+04</td>\n",
       "      <td>7.363326e+04</td>\n",
       "      <td>6.199434e+10</td>\n",
       "      <td>7.363631e+04</td>\n",
       "      <td>7.472001e+04</td>\n",
       "      <td>7.257593e+04</td>\n",
       "      <td>7.362608e+04</td>\n",
       "      <td>6.207540e+10</td>\n",
       "      <td>7.362959e+04</td>\n",
       "      <td>7.471278e+04</td>\n",
       "      <td>7.256950e+04</td>\n",
       "      <td>7.361911e+04</td>\n",
       "      <td>6.218048e+10</td>\n",
       "      <td>7.362307e+04</td>\n",
       "      <td>7.470419e+04</td>\n",
       "      <td>7.256258e+04</td>\n",
       "      <td>7.361040e+04</td>\n",
       "      <td>6.233673e+10</td>\n",
       "      <td>7.361332e+04</td>\n",
       "      <td>7.469565e+04</td>\n",
       "      <td>7.255378e+04</td>\n",
       "      <td>7.360150e+04</td>\n",
       "      <td>6.237236e+10</td>\n",
       "      <td>7.360619e+04</td>\n",
       "      <td>7.468847e+04</td>\n",
       "      <td>7.254551e+04</td>\n",
       "      <td>7.359389e+04</td>\n",
       "      <td>6.246083e+10</td>\n",
       "      <td>0.037095</td>\n",
       "      <td>0.394268</td>\n",
       "    </tr>\n",
       "    <tr>\n",
       "      <th>min</th>\n",
       "      <td>0.000000e+00</td>\n",
       "      <td>0.000000e+00</td>\n",
       "      <td>0.000000e+00</td>\n",
       "      <td>1.070000e+02</td>\n",
       "      <td>0.000000e+00</td>\n",
       "      <td>0.000000e+00</td>\n",
       "      <td>0.000000e+00</td>\n",
       "      <td>0.000000e+00</td>\n",
       "      <td>1.070000e+02</td>\n",
       "      <td>0.000000e+00</td>\n",
       "      <td>0.000000e+00</td>\n",
       "      <td>0.000000e+00</td>\n",
       "      <td>0.000000e+00</td>\n",
       "      <td>1.070000e+02</td>\n",
       "      <td>0.000000e+00</td>\n",
       "      <td>0.000000e+00</td>\n",
       "      <td>0.000000e+00</td>\n",
       "      <td>0.000000e+00</td>\n",
       "      <td>1.070000e+02</td>\n",
       "      <td>0.000000e+00</td>\n",
       "      <td>0.000000e+00</td>\n",
       "      <td>0.000000e+00</td>\n",
       "      <td>0.000000e+00</td>\n",
       "      <td>1.070000e+02</td>\n",
       "      <td>0.000000e+00</td>\n",
       "      <td>0.000000e+00</td>\n",
       "      <td>0.000000e+00</td>\n",
       "      <td>0.000000e+00</td>\n",
       "      <td>1.070000e+02</td>\n",
       "      <td>0.000000e+00</td>\n",
       "      <td>0.000000e+00</td>\n",
       "      <td>0.000000e+00</td>\n",
       "      <td>0.000000e+00</td>\n",
       "      <td>1.070000e+02</td>\n",
       "      <td>0.000000e+00</td>\n",
       "      <td>0.000000e+00</td>\n",
       "      <td>0.000000e+00</td>\n",
       "      <td>0.000000e+00</td>\n",
       "      <td>1.070000e+02</td>\n",
       "      <td>0.000000e+00</td>\n",
       "      <td>0.000000e+00</td>\n",
       "      <td>0.000000e+00</td>\n",
       "      <td>0.000000e+00</td>\n",
       "      <td>1.070000e+02</td>\n",
       "      <td>0.000000e+00</td>\n",
       "      <td>1.090000e+02</td>\n",
       "      <td>1.150000e+02</td>\n",
       "      <td>1.030000e+02</td>\n",
       "      <td>1.070000e+02</td>\n",
       "      <td>1.000008e+08</td>\n",
       "      <td>-0.300135</td>\n",
       "      <td>0.000000</td>\n",
       "    </tr>\n",
       "    <tr>\n",
       "      <th>25%</th>\n",
       "      <td>3.030000e+03</td>\n",
       "      <td>3.110000e+03</td>\n",
       "      <td>2.963000e+03</td>\n",
       "      <td>3.035000e+03</td>\n",
       "      <td>3.549776e+08</td>\n",
       "      <td>3.030000e+03</td>\n",
       "      <td>3.110000e+03</td>\n",
       "      <td>2.965000e+03</td>\n",
       "      <td>3.035000e+03</td>\n",
       "      <td>3.563069e+08</td>\n",
       "      <td>3.035000e+03</td>\n",
       "      <td>3.115000e+03</td>\n",
       "      <td>2.965000e+03</td>\n",
       "      <td>3.035000e+03</td>\n",
       "      <td>3.577201e+08</td>\n",
       "      <td>3.035000e+03</td>\n",
       "      <td>3.115000e+03</td>\n",
       "      <td>2.970000e+03</td>\n",
       "      <td>3.040000e+03</td>\n",
       "      <td>3.591739e+08</td>\n",
       "      <td>3.040000e+03</td>\n",
       "      <td>3.120000e+03</td>\n",
       "      <td>2.970000e+03</td>\n",
       "      <td>3.040000e+03</td>\n",
       "      <td>3.607528e+08</td>\n",
       "      <td>3.040000e+03</td>\n",
       "      <td>3.120000e+03</td>\n",
       "      <td>2.970000e+03</td>\n",
       "      <td>3.040000e+03</td>\n",
       "      <td>3.626775e+08</td>\n",
       "      <td>3.040000e+03</td>\n",
       "      <td>3.120000e+03</td>\n",
       "      <td>2.970000e+03</td>\n",
       "      <td>3.040000e+03</td>\n",
       "      <td>3.646135e+08</td>\n",
       "      <td>3.040000e+03</td>\n",
       "      <td>3.121000e+03</td>\n",
       "      <td>2.972000e+03</td>\n",
       "      <td>3.040000e+03</td>\n",
       "      <td>3.672026e+08</td>\n",
       "      <td>3.045000e+03</td>\n",
       "      <td>3.125000e+03</td>\n",
       "      <td>2.975000e+03</td>\n",
       "      <td>3.040000e+03</td>\n",
       "      <td>3.703860e+08</td>\n",
       "      <td>3.045000e+03</td>\n",
       "      <td>3.130000e+03</td>\n",
       "      <td>2.975000e+03</td>\n",
       "      <td>3.041000e+03</td>\n",
       "      <td>3.739353e+08</td>\n",
       "      <td>-0.015748</td>\n",
       "      <td>0.000000</td>\n",
       "    </tr>\n",
       "    <tr>\n",
       "      <th>50%</th>\n",
       "      <td>6.600000e+03</td>\n",
       "      <td>6.760000e+03</td>\n",
       "      <td>6.440000e+03</td>\n",
       "      <td>6.600000e+03</td>\n",
       "      <td>1.111256e+09</td>\n",
       "      <td>6.600000e+03</td>\n",
       "      <td>6.760000e+03</td>\n",
       "      <td>6.450000e+03</td>\n",
       "      <td>6.600000e+03</td>\n",
       "      <td>1.113655e+09</td>\n",
       "      <td>6.600000e+03</td>\n",
       "      <td>6.763000e+03</td>\n",
       "      <td>6.450000e+03</td>\n",
       "      <td>6.600000e+03</td>\n",
       "      <td>1.116226e+09</td>\n",
       "      <td>6.600000e+03</td>\n",
       "      <td>6.770000e+03</td>\n",
       "      <td>6.450000e+03</td>\n",
       "      <td>6.600000e+03</td>\n",
       "      <td>1.118746e+09</td>\n",
       "      <td>6.610000e+03</td>\n",
       "      <td>6.770000e+03</td>\n",
       "      <td>6.452000e+03</td>\n",
       "      <td>6.602000e+03</td>\n",
       "      <td>1.121905e+09</td>\n",
       "      <td>6.610000e+03</td>\n",
       "      <td>6.780000e+03</td>\n",
       "      <td>6.460000e+03</td>\n",
       "      <td>6.610000e+03</td>\n",
       "      <td>1.124375e+09</td>\n",
       "      <td>6.610000e+03</td>\n",
       "      <td>6.780000e+03</td>\n",
       "      <td>6.460000e+03</td>\n",
       "      <td>6.610000e+03</td>\n",
       "      <td>1.126827e+09</td>\n",
       "      <td>6.620000e+03</td>\n",
       "      <td>6.780000e+03</td>\n",
       "      <td>6.460000e+03</td>\n",
       "      <td>6.610000e+03</td>\n",
       "      <td>1.129841e+09</td>\n",
       "      <td>6.620000e+03</td>\n",
       "      <td>6.790000e+03</td>\n",
       "      <td>6.468000e+03</td>\n",
       "      <td>6.616000e+03</td>\n",
       "      <td>1.132196e+09</td>\n",
       "      <td>6.622000e+03</td>\n",
       "      <td>6.790000e+03</td>\n",
       "      <td>6.470000e+03</td>\n",
       "      <td>6.620000e+03</td>\n",
       "      <td>1.134794e+09</td>\n",
       "      <td>0.000000</td>\n",
       "      <td>0.000000</td>\n",
       "    </tr>\n",
       "    <tr>\n",
       "      <th>75%</th>\n",
       "      <td>1.681600e+04</td>\n",
       "      <td>1.720000e+04</td>\n",
       "      <td>1.645000e+04</td>\n",
       "      <td>1.680000e+04</td>\n",
       "      <td>4.246288e+09</td>\n",
       "      <td>1.684800e+04</td>\n",
       "      <td>1.720000e+04</td>\n",
       "      <td>1.645000e+04</td>\n",
       "      <td>1.682800e+04</td>\n",
       "      <td>4.255964e+09</td>\n",
       "      <td>1.685000e+04</td>\n",
       "      <td>1.720000e+04</td>\n",
       "      <td>1.645000e+04</td>\n",
       "      <td>1.685000e+04</td>\n",
       "      <td>4.263817e+09</td>\n",
       "      <td>1.685000e+04</td>\n",
       "      <td>1.720000e+04</td>\n",
       "      <td>1.645000e+04</td>\n",
       "      <td>1.685000e+04</td>\n",
       "      <td>4.270666e+09</td>\n",
       "      <td>1.685000e+04</td>\n",
       "      <td>1.723500e+04</td>\n",
       "      <td>1.645000e+04</td>\n",
       "      <td>1.685000e+04</td>\n",
       "      <td>4.279309e+09</td>\n",
       "      <td>1.685000e+04</td>\n",
       "      <td>1.725000e+04</td>\n",
       "      <td>1.645000e+04</td>\n",
       "      <td>1.685000e+04</td>\n",
       "      <td>4.286492e+09</td>\n",
       "      <td>1.685000e+04</td>\n",
       "      <td>1.725000e+04</td>\n",
       "      <td>1.645650e+04</td>\n",
       "      <td>1.685000e+04</td>\n",
       "      <td>4.293266e+09</td>\n",
       "      <td>1.685000e+04</td>\n",
       "      <td>1.725000e+04</td>\n",
       "      <td>1.648475e+04</td>\n",
       "      <td>1.685000e+04</td>\n",
       "      <td>4.300855e+09</td>\n",
       "      <td>1.685000e+04</td>\n",
       "      <td>1.725000e+04</td>\n",
       "      <td>1.650000e+04</td>\n",
       "      <td>1.685000e+04</td>\n",
       "      <td>4.306064e+09</td>\n",
       "      <td>1.687100e+04</td>\n",
       "      <td>1.725000e+04</td>\n",
       "      <td>1.650000e+04</td>\n",
       "      <td>1.685000e+04</td>\n",
       "      <td>4.313491e+09</td>\n",
       "      <td>0.014260</td>\n",
       "      <td>0.000000</td>\n",
       "    </tr>\n",
       "    <tr>\n",
       "      <th>max</th>\n",
       "      <td>1.749000e+06</td>\n",
       "      <td>1.749000e+06</td>\n",
       "      <td>1.692000e+06</td>\n",
       "      <td>1.749000e+06</td>\n",
       "      <td>2.271382e+13</td>\n",
       "      <td>1.749000e+06</td>\n",
       "      <td>1.749000e+06</td>\n",
       "      <td>1.692000e+06</td>\n",
       "      <td>1.749000e+06</td>\n",
       "      <td>2.271382e+13</td>\n",
       "      <td>1.749000e+06</td>\n",
       "      <td>1.749000e+06</td>\n",
       "      <td>1.692000e+06</td>\n",
       "      <td>1.749000e+06</td>\n",
       "      <td>2.271382e+13</td>\n",
       "      <td>1.749000e+06</td>\n",
       "      <td>1.749000e+06</td>\n",
       "      <td>1.692000e+06</td>\n",
       "      <td>1.749000e+06</td>\n",
       "      <td>2.271382e+13</td>\n",
       "      <td>1.749000e+06</td>\n",
       "      <td>1.749000e+06</td>\n",
       "      <td>1.692000e+06</td>\n",
       "      <td>1.749000e+06</td>\n",
       "      <td>2.271382e+13</td>\n",
       "      <td>1.749000e+06</td>\n",
       "      <td>1.749000e+06</td>\n",
       "      <td>1.692000e+06</td>\n",
       "      <td>1.749000e+06</td>\n",
       "      <td>2.271382e+13</td>\n",
       "      <td>1.749000e+06</td>\n",
       "      <td>1.749000e+06</td>\n",
       "      <td>1.692000e+06</td>\n",
       "      <td>1.749000e+06</td>\n",
       "      <td>2.271382e+13</td>\n",
       "      <td>1.749000e+06</td>\n",
       "      <td>1.749000e+06</td>\n",
       "      <td>1.692000e+06</td>\n",
       "      <td>1.749000e+06</td>\n",
       "      <td>2.271382e+13</td>\n",
       "      <td>1.749000e+06</td>\n",
       "      <td>1.749000e+06</td>\n",
       "      <td>1.692000e+06</td>\n",
       "      <td>1.749000e+06</td>\n",
       "      <td>2.271382e+13</td>\n",
       "      <td>1.749000e+06</td>\n",
       "      <td>1.749000e+06</td>\n",
       "      <td>1.692000e+06</td>\n",
       "      <td>1.749000e+06</td>\n",
       "      <td>2.271382e+13</td>\n",
       "      <td>0.304948</td>\n",
       "      <td>1.000000</td>\n",
       "    </tr>\n",
       "  </tbody>\n",
       "</table>\n",
       "</div>"
      ],
      "text/plain": [
       "           Open_D-9      High_D-9       Low_D-9     Close_D-9  \\\n",
       "count  9.724220e+05  9.724220e+05  9.724220e+05  9.724220e+05   \n",
       "mean   2.390520e+04  2.434499e+04  2.347437e+04  2.390356e+04   \n",
       "std    7.367134e+04  7.475606e+04  7.261039e+04  7.366178e+04   \n",
       "min    0.000000e+00  0.000000e+00  0.000000e+00  1.070000e+02   \n",
       "25%    3.030000e+03  3.110000e+03  2.963000e+03  3.035000e+03   \n",
       "50%    6.600000e+03  6.760000e+03  6.440000e+03  6.600000e+03   \n",
       "75%    1.681600e+04  1.720000e+04  1.645000e+04  1.680000e+04   \n",
       "max    1.749000e+06  1.749000e+06  1.692000e+06  1.749000e+06   \n",
       "\n",
       "       trading_val_D-9      Open_D-8      High_D-8       Low_D-8  \\\n",
       "count     9.724220e+05  9.724220e+05  9.724220e+05  9.724220e+05   \n",
       "mean      8.377226e+09  2.390667e+04  2.434640e+04  2.347558e+04   \n",
       "std       6.174353e+10  7.366421e+04  7.474724e+04  7.260231e+04   \n",
       "min       0.000000e+00  0.000000e+00  0.000000e+00  0.000000e+00   \n",
       "25%       3.549776e+08  3.030000e+03  3.110000e+03  2.965000e+03   \n",
       "50%       1.111256e+09  6.600000e+03  6.760000e+03  6.450000e+03   \n",
       "75%       4.246288e+09  1.684800e+04  1.720000e+04  1.645000e+04   \n",
       "max       2.271382e+13  1.749000e+06  1.749000e+06  1.692000e+06   \n",
       "\n",
       "          Close_D-8  trading_val_D-8      Open_D-7      High_D-7  \\\n",
       "count  9.724220e+05     9.724220e+05  9.724220e+05  9.724220e+05   \n",
       "mean   2.390381e+04     8.394424e+09  2.390801e+04  2.434807e+04   \n",
       "std    7.365223e+04     6.180414e+10  7.365663e+04  7.473902e+04   \n",
       "min    1.070000e+02     0.000000e+00  0.000000e+00  0.000000e+00   \n",
       "25%    3.035000e+03     3.563069e+08  3.035000e+03  3.115000e+03   \n",
       "50%    6.600000e+03     1.113655e+09  6.600000e+03  6.763000e+03   \n",
       "75%    1.682800e+04     4.255964e+09  1.685000e+04  1.720000e+04   \n",
       "max    1.749000e+06     2.271382e+13  1.749000e+06  1.749000e+06   \n",
       "\n",
       "            Low_D-7     Close_D-7  trading_val_D-7      Open_D-6  \\\n",
       "count  9.724220e+05  9.724220e+05     9.724220e+05  9.724220e+05   \n",
       "mean   2.347688e+04  2.390470e+04     8.408686e+09  2.390955e+04   \n",
       "std    7.259409e+04  7.364396e+04     6.184688e+10  7.364824e+04   \n",
       "min    0.000000e+00  1.070000e+02     0.000000e+00  0.000000e+00   \n",
       "25%    2.965000e+03  3.035000e+03     3.577201e+08  3.035000e+03   \n",
       "50%    6.450000e+03  6.600000e+03     1.116226e+09  6.600000e+03   \n",
       "75%    1.645000e+04  1.685000e+04     4.263817e+09  1.685000e+04   \n",
       "max    1.692000e+06  1.749000e+06     2.271382e+13  1.749000e+06   \n",
       "\n",
       "           High_D-6       Low_D-6     Close_D-6  trading_val_D-6  \\\n",
       "count  9.724220e+05  9.724220e+05  9.724220e+05     9.724220e+05   \n",
       "mean   2.434982e+04  2.347862e+04  2.390612e+04     8.427091e+09   \n",
       "std    7.473119e+04  7.258843e+04  7.363939e+04     6.192510e+10   \n",
       "min    0.000000e+00  0.000000e+00  1.070000e+02     0.000000e+00   \n",
       "25%    3.115000e+03  2.970000e+03  3.040000e+03     3.591739e+08   \n",
       "50%    6.770000e+03  6.450000e+03  6.600000e+03     1.118746e+09   \n",
       "75%    1.720000e+04  1.645000e+04  1.685000e+04     4.270666e+09   \n",
       "max    1.749000e+06  1.692000e+06  1.749000e+06     2.271382e+13   \n",
       "\n",
       "           Open_D-5      High_D-5       Low_D-5     Close_D-5  \\\n",
       "count  9.724220e+05  9.724220e+05  9.724220e+05  9.724220e+05   \n",
       "mean   2.391170e+04  2.435216e+04  2.348005e+04  2.390665e+04   \n",
       "std    7.364284e+04  7.472640e+04  7.258283e+04  7.363326e+04   \n",
       "min    0.000000e+00  0.000000e+00  0.000000e+00  1.070000e+02   \n",
       "25%    3.040000e+03  3.120000e+03  2.970000e+03  3.040000e+03   \n",
       "50%    6.610000e+03  6.770000e+03  6.452000e+03  6.602000e+03   \n",
       "75%    1.685000e+04  1.723500e+04  1.645000e+04  1.685000e+04   \n",
       "max    1.749000e+06  1.749000e+06  1.692000e+06  1.749000e+06   \n",
       "\n",
       "       trading_val_D-5      Open_D-4      High_D-4       Low_D-4  \\\n",
       "count     9.724220e+05  9.724220e+05  9.724220e+05  9.724220e+05   \n",
       "mean      8.444804e+09  2.391276e+04  2.435379e+04  2.348078e+04   \n",
       "std       6.199434e+10  7.363631e+04  7.472001e+04  7.257593e+04   \n",
       "min       0.000000e+00  0.000000e+00  0.000000e+00  0.000000e+00   \n",
       "25%       3.607528e+08  3.040000e+03  3.120000e+03  2.970000e+03   \n",
       "50%       1.121905e+09  6.610000e+03  6.780000e+03  6.460000e+03   \n",
       "75%       4.279309e+09  1.685000e+04  1.725000e+04  1.645000e+04   \n",
       "max       2.271382e+13  1.749000e+06  1.749000e+06  1.692000e+06   \n",
       "\n",
       "          Close_D-4  trading_val_D-4      Open_D-3      High_D-3  \\\n",
       "count  9.724220e+05     9.724220e+05  9.724220e+05  9.724220e+05   \n",
       "mean   2.390682e+04     8.463506e+09  2.391375e+04  2.435531e+04   \n",
       "std    7.362608e+04     6.207540e+10  7.362959e+04  7.471278e+04   \n",
       "min    1.070000e+02     0.000000e+00  0.000000e+00  0.000000e+00   \n",
       "25%    3.040000e+03     3.626775e+08  3.040000e+03  3.120000e+03   \n",
       "50%    6.610000e+03     1.124375e+09  6.610000e+03  6.780000e+03   \n",
       "75%    1.685000e+04     4.286492e+09  1.685000e+04  1.725000e+04   \n",
       "max    1.749000e+06     2.271382e+13  1.749000e+06  1.749000e+06   \n",
       "\n",
       "            Low_D-3     Close_D-3  trading_val_D-3      Open_D-2  \\\n",
       "count  9.724220e+05  9.724220e+05     9.724220e+05  9.724220e+05   \n",
       "mean   2.348165e+04  2.390716e+04     8.480891e+09  2.391575e+04   \n",
       "std    7.256950e+04  7.361911e+04     6.218048e+10  7.362307e+04   \n",
       "min    0.000000e+00  1.070000e+02     0.000000e+00  0.000000e+00   \n",
       "25%    2.970000e+03  3.040000e+03     3.646135e+08  3.040000e+03   \n",
       "50%    6.460000e+03  6.610000e+03     1.126827e+09  6.620000e+03   \n",
       "75%    1.645650e+04  1.685000e+04     4.293266e+09  1.685000e+04   \n",
       "max    1.692000e+06  1.749000e+06     2.271382e+13  1.749000e+06   \n",
       "\n",
       "           High_D-2       Low_D-2     Close_D-2  trading_val_D-2  \\\n",
       "count  9.724220e+05  9.724220e+05  9.724220e+05     9.724220e+05   \n",
       "mean   2.435740e+04  2.348311e+04  2.390697e+04     8.495732e+09   \n",
       "std    7.470419e+04  7.256258e+04  7.361040e+04     6.233673e+10   \n",
       "min    0.000000e+00  0.000000e+00  1.070000e+02     0.000000e+00   \n",
       "25%    3.121000e+03  2.972000e+03  3.040000e+03     3.672026e+08   \n",
       "50%    6.780000e+03  6.460000e+03  6.610000e+03     1.129841e+09   \n",
       "75%    1.725000e+04  1.648475e+04  1.685000e+04     4.300855e+09   \n",
       "max    1.749000e+06  1.692000e+06  1.749000e+06     2.271382e+13   \n",
       "\n",
       "           Open_D-1      High_D-1       Low_D-1     Close_D-1  \\\n",
       "count  9.724220e+05  9.724220e+05  9.724220e+05  9.724220e+05   \n",
       "mean   2.391664e+04  2.435932e+04  2.348363e+04  2.390670e+04   \n",
       "std    7.361332e+04  7.469565e+04  7.255378e+04  7.360150e+04   \n",
       "min    0.000000e+00  0.000000e+00  0.000000e+00  1.070000e+02   \n",
       "25%    3.045000e+03  3.125000e+03  2.975000e+03  3.040000e+03   \n",
       "50%    6.620000e+03  6.790000e+03  6.468000e+03  6.616000e+03   \n",
       "75%    1.685000e+04  1.725000e+04  1.650000e+04  1.685000e+04   \n",
       "max    1.749000e+06  1.749000e+06  1.692000e+06  1.749000e+06   \n",
       "\n",
       "       trading_val_D-1      Open_D-0      High_D-0       Low_D-0  \\\n",
       "count     9.724220e+05  9.724220e+05  9.724220e+05  9.724220e+05   \n",
       "mean      8.507001e+09  2.391976e+04  2.436492e+04  2.348463e+04   \n",
       "std       6.237236e+10  7.360619e+04  7.468847e+04  7.254551e+04   \n",
       "min       0.000000e+00  1.090000e+02  1.150000e+02  1.030000e+02   \n",
       "25%       3.703860e+08  3.045000e+03  3.130000e+03  2.975000e+03   \n",
       "50%       1.132196e+09  6.622000e+03  6.790000e+03  6.470000e+03   \n",
       "75%       4.306064e+09  1.687100e+04  1.725000e+04  1.650000e+04   \n",
       "max       2.271382e+13  1.749000e+06  1.749000e+06  1.692000e+06   \n",
       "\n",
       "          Close_D-0  trading_val_D-0         target              Y  \n",
       "count  9.724220e+05     9.724220e+05  972422.000000  972422.000000  \n",
       "mean   2.390661e+04     8.535300e+09       0.000808       0.192506  \n",
       "std    7.359389e+04     6.246083e+10       0.037095       0.394268  \n",
       "min    1.070000e+02     1.000008e+08      -0.300135       0.000000  \n",
       "25%    3.041000e+03     3.739353e+08      -0.015748       0.000000  \n",
       "50%    6.620000e+03     1.134794e+09       0.000000       0.000000  \n",
       "75%    1.685000e+04     4.313491e+09       0.014260       0.000000  \n",
       "max    1.749000e+06     2.271382e+13       0.304948       1.000000  "
      ]
     },
     "execution_count": 36,
     "metadata": {},
     "output_type": "execute_result"
    }
   ],
   "source": [
    "# 기술통계값\n",
    "df.describe()"
   ]
  },
  {
   "cell_type": "code",
   "execution_count": 37,
   "id": "273a7995",
   "metadata": {},
   "outputs": [
    {
     "data": {
      "text/plain": [
       "0"
      ]
     },
     "execution_count": 37,
     "metadata": {},
     "output_type": "execute_result"
    }
   ],
   "source": [
    "min(df['trading_val_D-1'])"
   ]
  },
  {
   "cell_type": "code",
   "execution_count": 38,
   "id": "154fc944",
   "metadata": {},
   "outputs": [],
   "source": [
    "pd.set_option('display.max_columns', 5000)\n",
    "pd.set_option('display.max_rows', 5000)"
   ]
  },
  {
   "cell_type": "markdown",
   "id": "5f9257fe",
   "metadata": {},
   "source": [
    "<strong>다음날 종가변화율이 -30%,30%를 넘어가는 값이 있는지 찾아보기.</strong><br>\n",
    "나타나지 않음"
   ]
  },
  {
   "cell_type": "code",
   "execution_count": 39,
   "id": "a4e1f15b",
   "metadata": {
    "ExecuteTime": {
     "end_time": "2022-12-07T13:28:32.111558Z",
     "start_time": "2022-12-07T13:28:31.939019Z"
    },
    "scrolled": true
   },
   "outputs": [
    {
     "data": {
      "application/vnd.jupyter.widget-view+json": {
       "model_id": "5ca1fab5c1314c23abe032a88e7365fb",
       "version_major": 2,
       "version_minor": 0
      },
      "text/plain": [
       "interactive(children=(Dropdown(description='col1', options=('target',), value='target'), Dropdown(description=…"
      ]
     },
     "metadata": {},
     "output_type": "display_data"
    }
   ],
   "source": [
    "@interact\n",
    "def next_change_outlier(col1 = ['target'], col2 = ['trading_val_D-0'],trading_val = [10000,1000,100,10],\n",
    "                        lower = (-0.3, 0.31,0.05), upper = (-0.3, 0.31,0.05)):\n",
    "    return df.loc[((df[col1] < lower) | (df[col1] > upper) ) & (df[col2] > trading_val * 100000000)]"
   ]
  },
  {
   "cell_type": "markdown",
   "id": "d9ce6abd",
   "metadata": {
    "tags": []
   },
   "source": [
    "# 주식 종목 시각화 해보기\n",
    "- <strong> 10일간의 거래일동안 주가와 거래대금이 0인 종목 시각화 해보기</strong>"
   ]
  },
  {
   "cell_type": "markdown",
   "id": "81287211-754d-4b57-a813-0f939639b8c9",
   "metadata": {},
   "source": [
    "###  함수 이용 & DatePicker 사용"
   ]
  },
  {
   "cell_type": "code",
   "execution_count": 24,
   "id": "193f0b9c",
   "metadata": {
    "ExecuteTime": {
     "end_time": "2022-12-07T13:13:08.865383Z",
     "start_time": "2022-12-07T13:13:08.846407Z"
    }
   },
   "outputs": [],
   "source": [
    "import FinanceDataReader as fdr\n",
    "\n",
    "def load_stock(code, start_date, end_date):\n",
    "    stock = fdr.DataReader(code, start_date, end_date)\n",
    "    \n",
    "    stock\n",
    "    \n",
    "    print('')\n",
    "    stock[stock.columns[:4]].iplot(kind = 'line')\n",
    "    # volume\n",
    "    stock[stock.columns[4]].iplot(kind = 'line')    \n",
    "    print((end_date-start_date))\n",
    "    "
   ]
  },
  {
   "cell_type": "code",
   "execution_count": 26,
   "id": "fb2f461a",
   "metadata": {
    "ExecuteTime": {
     "end_time": "2022-12-07T13:13:10.293538Z",
     "start_time": "2022-12-07T13:13:09.895603Z"
    }
   },
   "outputs": [
    {
     "data": {
      "application/vnd.jupyter.widget-view+json": {
       "model_id": "a158cda21f5b413b9c7f7fd2581dd072",
       "version_major": 2,
       "version_minor": 0
      },
      "text/plain": [
       "interactive(children=(Text(value='005930', description='code'), DatePicker(value=datetime.date(2018, 1, 1), de…"
      ]
     },
     "metadata": {},
     "output_type": "display_data"
    }
   ],
   "source": [
    "interact(load_stock, code = '005930' ,\n",
    "\n",
    "            start_date=widgets.DatePicker(value=datetime.date(2018,1,1)),\n",
    "            end_date=widgets.DatePicker(value=datetime.date(2019,1,1)));"
   ]
  },
  {
   "cell_type": "code",
   "execution_count": 25,
   "id": "ceeb8e72",
   "metadata": {
    "ExecuteTime": {
     "end_time": "2022-12-07T12:28:43.161098Z",
     "start_time": "2022-12-07T12:28:42.812002Z"
    }
   },
   "outputs": [
    {
     "data": {
      "text/html": [
       "<div>\n",
       "<style scoped>\n",
       "    .dataframe tbody tr th:only-of-type {\n",
       "        vertical-align: middle;\n",
       "    }\n",
       "\n",
       "    .dataframe tbody tr th {\n",
       "        vertical-align: top;\n",
       "    }\n",
       "\n",
       "    .dataframe thead th {\n",
       "        text-align: right;\n",
       "    }\n",
       "</style>\n",
       "<table border=\"1\" class=\"dataframe\">\n",
       "  <thead>\n",
       "    <tr style=\"text-align: right;\">\n",
       "      <th></th>\n",
       "      <th>Open</th>\n",
       "      <th>High</th>\n",
       "      <th>Low</th>\n",
       "      <th>Close</th>\n",
       "      <th>Volume</th>\n",
       "      <th>Change</th>\n",
       "    </tr>\n",
       "    <tr>\n",
       "      <th>Date</th>\n",
       "      <th></th>\n",
       "      <th></th>\n",
       "      <th></th>\n",
       "      <th></th>\n",
       "      <th></th>\n",
       "      <th></th>\n",
       "    </tr>\n",
       "  </thead>\n",
       "  <tbody>\n",
       "    <tr>\n",
       "      <th>2018-02-01</th>\n",
       "      <td>50620</td>\n",
       "      <td>50960</td>\n",
       "      <td>49720</td>\n",
       "      <td>49820</td>\n",
       "      <td>552189</td>\n",
       "      <td>-0.001603</td>\n",
       "    </tr>\n",
       "    <tr>\n",
       "      <th>2018-02-02</th>\n",
       "      <td>49380</td>\n",
       "      <td>49400</td>\n",
       "      <td>47700</td>\n",
       "      <td>47700</td>\n",
       "      <td>585207</td>\n",
       "      <td>-0.042553</td>\n",
       "    </tr>\n",
       "    <tr>\n",
       "      <th>2018-02-05</th>\n",
       "      <td>46500</td>\n",
       "      <td>48320</td>\n",
       "      <td>46000</td>\n",
       "      <td>47920</td>\n",
       "      <td>567158</td>\n",
       "      <td>0.004612</td>\n",
       "    </tr>\n",
       "    <tr>\n",
       "      <th>2018-02-06</th>\n",
       "      <td>46600</td>\n",
       "      <td>47920</td>\n",
       "      <td>46580</td>\n",
       "      <td>47420</td>\n",
       "      <td>388129</td>\n",
       "      <td>-0.010434</td>\n",
       "    </tr>\n",
       "    <tr>\n",
       "      <th>2018-02-07</th>\n",
       "      <td>48240</td>\n",
       "      <td>48260</td>\n",
       "      <td>45800</td>\n",
       "      <td>45800</td>\n",
       "      <td>468961</td>\n",
       "      <td>-0.034163</td>\n",
       "    </tr>\n",
       "    <tr>\n",
       "      <th>2018-02-08</th>\n",
       "      <td>46120</td>\n",
       "      <td>46620</td>\n",
       "      <td>45980</td>\n",
       "      <td>46000</td>\n",
       "      <td>465021</td>\n",
       "      <td>0.004367</td>\n",
       "    </tr>\n",
       "    <tr>\n",
       "      <th>2018-02-09</th>\n",
       "      <td>44440</td>\n",
       "      <td>45180</td>\n",
       "      <td>44420</td>\n",
       "      <td>44700</td>\n",
       "      <td>349300</td>\n",
       "      <td>-0.028261</td>\n",
       "    </tr>\n",
       "    <tr>\n",
       "      <th>2018-02-12</th>\n",
       "      <td>45100</td>\n",
       "      <td>46320</td>\n",
       "      <td>45040</td>\n",
       "      <td>45720</td>\n",
       "      <td>315099</td>\n",
       "      <td>0.022819</td>\n",
       "    </tr>\n",
       "    <tr>\n",
       "      <th>2018-02-13</th>\n",
       "      <td>46200</td>\n",
       "      <td>48060</td>\n",
       "      <td>46200</td>\n",
       "      <td>47540</td>\n",
       "      <td>378465</td>\n",
       "      <td>0.039808</td>\n",
       "    </tr>\n",
       "    <tr>\n",
       "      <th>2018-02-14</th>\n",
       "      <td>48080</td>\n",
       "      <td>49100</td>\n",
       "      <td>47940</td>\n",
       "      <td>49000</td>\n",
       "      <td>378118</td>\n",
       "      <td>0.030711</td>\n",
       "    </tr>\n",
       "  </tbody>\n",
       "</table>\n",
       "</div>"
      ],
      "text/plain": [
       "             Open   High    Low  Close  Volume    Change\n",
       "Date                                                    \n",
       "2018-02-01  50620  50960  49720  49820  552189 -0.001603\n",
       "2018-02-02  49380  49400  47700  47700  585207 -0.042553\n",
       "2018-02-05  46500  48320  46000  47920  567158  0.004612\n",
       "2018-02-06  46600  47920  46580  47420  388129 -0.010434\n",
       "2018-02-07  48240  48260  45800  45800  468961 -0.034163\n",
       "2018-02-08  46120  46620  45980  46000  465021  0.004367\n",
       "2018-02-09  44440  45180  44420  44700  349300 -0.028261\n",
       "2018-02-12  45100  46320  45040  45720  315099  0.022819\n",
       "2018-02-13  46200  48060  46200  47540  378465  0.039808\n",
       "2018-02-14  48080  49100  47940  49000  378118  0.030711"
      ]
     },
     "execution_count": 25,
     "metadata": {},
     "output_type": "execute_result"
    }
   ],
   "source": [
    "import FinanceDataReader as fdr\n",
    "\n",
    "# 삼성전자\n",
    "df_samsung = fdr.DataReader('005930', start = '2018-02-01', end = '2018-06-30')\n",
    "df_samsung.head(10)"
   ]
  },
  {
   "cell_type": "markdown",
   "id": "a9fbbdbf",
   "metadata": {},
   "source": [
    "## 삼성전자 주가 시각화\n",
    "- 2018년 2월 1일 ~ 2018년 6월 30일까지 시각화\n",
    "- 종가를 제외한 주가에서 모두 O으로 나타남\n",
    "- iplot 활용"
   ]
  },
  {
   "cell_type": "code",
   "execution_count": 27,
   "id": "d50e9569",
   "metadata": {},
   "outputs": [
    {
     "data": {
      "text/plain": [
       "0"
      ]
     },
     "execution_count": 27,
     "metadata": {},
     "output_type": "execute_result"
    }
   ],
   "source": [
    "min(df_samsung['Volume'])"
   ]
  },
  {
   "cell_type": "code",
   "execution_count": 34,
   "id": "933b9a61",
   "metadata": {
    "ExecuteTime": {
     "end_time": "2022-12-07T12:38:52.789320Z",
     "start_time": "2022-12-07T12:38:52.671632Z"
    },
    "scrolled": true
   },
   "outputs": [
    {
     "data": {
      "application/vnd.plotly.v1+json": {
       "config": {
        "linkText": "Export to plot.ly",
        "plotlyServerURL": "https://plot.ly",
        "showLink": true
       },
       "data": [
        {
         "line": {
          "color": "rgba(255, 153, 51, 1.0)",
          "dash": "solid",
          "shape": "linear",
          "width": 1.3
         },
         "mode": "lines",
         "name": "Open",
         "text": "",
         "type": "scatter",
         "x": [
          "2018-02-01",
          "2018-02-02",
          "2018-02-05",
          "2018-02-06",
          "2018-02-07",
          "2018-02-08",
          "2018-02-09",
          "2018-02-12",
          "2018-02-13",
          "2018-02-14",
          "2018-02-19",
          "2018-02-20",
          "2018-02-21",
          "2018-02-22",
          "2018-02-23",
          "2018-02-26",
          "2018-02-27",
          "2018-02-28",
          "2018-03-02",
          "2018-03-05",
          "2018-03-06",
          "2018-03-07",
          "2018-03-08",
          "2018-03-09",
          "2018-03-12",
          "2018-03-13",
          "2018-03-14",
          "2018-03-15",
          "2018-03-16",
          "2018-03-19",
          "2018-03-20",
          "2018-03-21",
          "2018-03-22",
          "2018-03-23",
          "2018-03-26",
          "2018-03-27",
          "2018-03-28",
          "2018-03-29",
          "2018-03-30",
          "2018-04-02",
          "2018-04-03",
          "2018-04-04",
          "2018-04-05",
          "2018-04-06",
          "2018-04-09",
          "2018-04-10",
          "2018-04-11",
          "2018-04-12",
          "2018-04-13",
          "2018-04-16",
          "2018-04-17",
          "2018-04-18",
          "2018-04-19",
          "2018-04-20",
          "2018-04-23",
          "2018-04-24",
          "2018-04-25",
          "2018-04-26",
          "2018-04-27",
          "2018-04-30",
          "2018-05-02",
          "2018-05-03",
          "2018-05-04",
          "2018-05-08",
          "2018-05-09",
          "2018-05-10",
          "2018-05-11",
          "2018-05-14",
          "2018-05-15",
          "2018-05-16",
          "2018-05-17",
          "2018-05-18",
          "2018-05-21",
          "2018-05-23",
          "2018-05-24",
          "2018-05-25",
          "2018-05-28",
          "2018-05-29",
          "2018-05-30",
          "2018-05-31",
          "2018-06-01",
          "2018-06-04",
          "2018-06-05",
          "2018-06-07",
          "2018-06-08",
          "2018-06-11",
          "2018-06-12",
          "2018-06-14",
          "2018-06-15",
          "2018-06-18",
          "2018-06-19",
          "2018-06-20",
          "2018-06-21",
          "2018-06-22",
          "2018-06-25",
          "2018-06-26",
          "2018-06-27",
          "2018-06-28",
          "2018-06-29"
         ],
         "y": [
          50620,
          49380,
          46500,
          46600,
          48240,
          46120,
          44440,
          45100,
          46200,
          48080,
          49800,
          48040,
          47280,
          47260,
          46760,
          47280,
          48360,
          47380,
          46580,
          45820,
          45920,
          48200,
          49200,
          49440,
          50560,
          50760,
          51020,
          52000,
          51220,
          50620,
          50700,
          51780,
          51060,
          50340,
          49420,
          50320,
          49100,
          48700,
          49080,
          49000,
          47880,
          48160,
          47400,
          48000,
          48260,
          48540,
          49900,
          49440,
          49600,
          50320,
          50240,
          51000,
          52000,
          51800,
          51000,
          51840,
          49220,
          50420,
          53380,
          0,
          0,
          0,
          53000,
          52600,
          52600,
          51700,
          52000,
          51000,
          50200,
          49200,
          50300,
          49900,
          49650,
          50600,
          52000,
          51000,
          52500,
          52200,
          51300,
          50400,
          50500,
          50800,
          51100,
          51800,
          50200,
          49750,
          49700,
          49000,
          48500,
          47600,
          47200,
          47450,
          47900,
          47000,
          47050,
          45900,
          47450,
          46850,
          46250
         ]
        },
        {
         "line": {
          "color": "rgba(55, 128, 191, 1.0)",
          "dash": "solid",
          "shape": "linear",
          "width": 1.3
         },
         "mode": "lines",
         "name": "High",
         "text": "",
         "type": "scatter",
         "x": [
          "2018-02-01",
          "2018-02-02",
          "2018-02-05",
          "2018-02-06",
          "2018-02-07",
          "2018-02-08",
          "2018-02-09",
          "2018-02-12",
          "2018-02-13",
          "2018-02-14",
          "2018-02-19",
          "2018-02-20",
          "2018-02-21",
          "2018-02-22",
          "2018-02-23",
          "2018-02-26",
          "2018-02-27",
          "2018-02-28",
          "2018-03-02",
          "2018-03-05",
          "2018-03-06",
          "2018-03-07",
          "2018-03-08",
          "2018-03-09",
          "2018-03-12",
          "2018-03-13",
          "2018-03-14",
          "2018-03-15",
          "2018-03-16",
          "2018-03-19",
          "2018-03-20",
          "2018-03-21",
          "2018-03-22",
          "2018-03-23",
          "2018-03-26",
          "2018-03-27",
          "2018-03-28",
          "2018-03-29",
          "2018-03-30",
          "2018-04-02",
          "2018-04-03",
          "2018-04-04",
          "2018-04-05",
          "2018-04-06",
          "2018-04-09",
          "2018-04-10",
          "2018-04-11",
          "2018-04-12",
          "2018-04-13",
          "2018-04-16",
          "2018-04-17",
          "2018-04-18",
          "2018-04-19",
          "2018-04-20",
          "2018-04-23",
          "2018-04-24",
          "2018-04-25",
          "2018-04-26",
          "2018-04-27",
          "2018-04-30",
          "2018-05-02",
          "2018-05-03",
          "2018-05-04",
          "2018-05-08",
          "2018-05-09",
          "2018-05-10",
          "2018-05-11",
          "2018-05-14",
          "2018-05-15",
          "2018-05-16",
          "2018-05-17",
          "2018-05-18",
          "2018-05-21",
          "2018-05-23",
          "2018-05-24",
          "2018-05-25",
          "2018-05-28",
          "2018-05-29",
          "2018-05-30",
          "2018-05-31",
          "2018-06-01",
          "2018-06-04",
          "2018-06-05",
          "2018-06-07",
          "2018-06-08",
          "2018-06-11",
          "2018-06-12",
          "2018-06-14",
          "2018-06-15",
          "2018-06-18",
          "2018-06-19",
          "2018-06-20",
          "2018-06-21",
          "2018-06-22",
          "2018-06-25",
          "2018-06-26",
          "2018-06-27",
          "2018-06-28",
          "2018-06-29"
         ],
         "y": [
          50960,
          49400,
          48320,
          47920,
          48260,
          46620,
          45180,
          46320,
          48060,
          49100,
          49800,
          48160,
          47580,
          47260,
          47800,
          47560,
          48380,
          48100,
          46800,
          46160,
          47100,
          48900,
          49480,
          50540,
          50780,
          51660,
          52000,
          52020,
          51420,
          51340,
          51200,
          51780,
          51780,
          50720,
          50280,
          50460,
          49100,
          49560,
          49900,
          49220,
          48140,
          48260,
          49380,
          48580,
          49440,
          49220,
          49900,
          49440,
          50180,
          50600,
          50540,
          51360,
          52980,
          52260,
          52080,
          51860,
          50500,
          52160,
          53639,
          0,
          0,
          0,
          53900,
          53200,
          52800,
          51700,
          52200,
          51100,
          50400,
          50200,
          50500,
          49900,
          50200,
          52000,
          52000,
          52800,
          53000,
          52500,
          51500,
          50800,
          51700,
          51200,
          51400,
          51800,
          50400,
          50300,
          49800,
          49000,
          48700,
          47650,
          47350,
          47600,
          47900,
          47250,
          47050,
          47300,
          48500,
          47150,
          47150
         ]
        },
        {
         "line": {
          "color": "rgba(50, 171, 96, 1.0)",
          "dash": "solid",
          "shape": "linear",
          "width": 1.3
         },
         "mode": "lines",
         "name": "Low",
         "text": "",
         "type": "scatter",
         "x": [
          "2018-02-01",
          "2018-02-02",
          "2018-02-05",
          "2018-02-06",
          "2018-02-07",
          "2018-02-08",
          "2018-02-09",
          "2018-02-12",
          "2018-02-13",
          "2018-02-14",
          "2018-02-19",
          "2018-02-20",
          "2018-02-21",
          "2018-02-22",
          "2018-02-23",
          "2018-02-26",
          "2018-02-27",
          "2018-02-28",
          "2018-03-02",
          "2018-03-05",
          "2018-03-06",
          "2018-03-07",
          "2018-03-08",
          "2018-03-09",
          "2018-03-12",
          "2018-03-13",
          "2018-03-14",
          "2018-03-15",
          "2018-03-16",
          "2018-03-19",
          "2018-03-20",
          "2018-03-21",
          "2018-03-22",
          "2018-03-23",
          "2018-03-26",
          "2018-03-27",
          "2018-03-28",
          "2018-03-29",
          "2018-03-30",
          "2018-04-02",
          "2018-04-03",
          "2018-04-04",
          "2018-04-05",
          "2018-04-06",
          "2018-04-09",
          "2018-04-10",
          "2018-04-11",
          "2018-04-12",
          "2018-04-13",
          "2018-04-16",
          "2018-04-17",
          "2018-04-18",
          "2018-04-19",
          "2018-04-20",
          "2018-04-23",
          "2018-04-24",
          "2018-04-25",
          "2018-04-26",
          "2018-04-27",
          "2018-04-30",
          "2018-05-02",
          "2018-05-03",
          "2018-05-04",
          "2018-05-08",
          "2018-05-09",
          "2018-05-10",
          "2018-05-11",
          "2018-05-14",
          "2018-05-15",
          "2018-05-16",
          "2018-05-17",
          "2018-05-18",
          "2018-05-21",
          "2018-05-23",
          "2018-05-24",
          "2018-05-25",
          "2018-05-28",
          "2018-05-29",
          "2018-05-30",
          "2018-05-31",
          "2018-06-01",
          "2018-06-04",
          "2018-06-05",
          "2018-06-07",
          "2018-06-08",
          "2018-06-11",
          "2018-06-12",
          "2018-06-14",
          "2018-06-15",
          "2018-06-18",
          "2018-06-19",
          "2018-06-20",
          "2018-06-21",
          "2018-06-22",
          "2018-06-25",
          "2018-06-26",
          "2018-06-27",
          "2018-06-28",
          "2018-06-29"
         ],
         "y": [
          49720,
          47700,
          46000,
          46580,
          45800,
          45980,
          44420,
          45040,
          46200,
          47940,
          47860,
          47220,
          46840,
          46760,
          46760,
          47080,
          47380,
          47000,
          46000,
          45080,
          45820,
          47220,
          48080,
          49240,
          49580,
          50360,
          51000,
          51020,
          50240,
          50440,
          50100,
          51060,
          51040,
          49600,
          49040,
          49080,
          48340,
          48320,
          49080,
          48500,
          47280,
          46920,
          47340,
          47400,
          48200,
          48040,
          48600,
          48880,
          49400,
          49860,
          49820,
          50580,
          51540,
          51420,
          51000,
          50080,
          49220,
          50400,
          52440,
          0,
          0,
          0,
          51800,
          51900,
          50900,
          50600,
          51200,
          49900,
          49100,
          49150,
          49400,
          49350,
          49100,
          50400,
          51100,
          50800,
          52000,
          51300,
          49100,
          49850,
          49950,
          50700,
          50400,
          50500,
          49600,
          49350,
          49250,
          48200,
          47650,
          46200,
          46500,
          46850,
          47050,
          46200,
          46150,
          45900,
          47000,
          46600,
          46200
         ]
        },
        {
         "line": {
          "color": "rgba(128, 0, 128, 1.0)",
          "dash": "solid",
          "shape": "linear",
          "width": 1.3
         },
         "mode": "lines",
         "name": "Close",
         "text": "",
         "type": "scatter",
         "x": [
          "2018-02-01",
          "2018-02-02",
          "2018-02-05",
          "2018-02-06",
          "2018-02-07",
          "2018-02-08",
          "2018-02-09",
          "2018-02-12",
          "2018-02-13",
          "2018-02-14",
          "2018-02-19",
          "2018-02-20",
          "2018-02-21",
          "2018-02-22",
          "2018-02-23",
          "2018-02-26",
          "2018-02-27",
          "2018-02-28",
          "2018-03-02",
          "2018-03-05",
          "2018-03-06",
          "2018-03-07",
          "2018-03-08",
          "2018-03-09",
          "2018-03-12",
          "2018-03-13",
          "2018-03-14",
          "2018-03-15",
          "2018-03-16",
          "2018-03-19",
          "2018-03-20",
          "2018-03-21",
          "2018-03-22",
          "2018-03-23",
          "2018-03-26",
          "2018-03-27",
          "2018-03-28",
          "2018-03-29",
          "2018-03-30",
          "2018-04-02",
          "2018-04-03",
          "2018-04-04",
          "2018-04-05",
          "2018-04-06",
          "2018-04-09",
          "2018-04-10",
          "2018-04-11",
          "2018-04-12",
          "2018-04-13",
          "2018-04-16",
          "2018-04-17",
          "2018-04-18",
          "2018-04-19",
          "2018-04-20",
          "2018-04-23",
          "2018-04-24",
          "2018-04-25",
          "2018-04-26",
          "2018-04-27",
          "2018-04-30",
          "2018-05-02",
          "2018-05-03",
          "2018-05-04",
          "2018-05-08",
          "2018-05-09",
          "2018-05-10",
          "2018-05-11",
          "2018-05-14",
          "2018-05-15",
          "2018-05-16",
          "2018-05-17",
          "2018-05-18",
          "2018-05-21",
          "2018-05-23",
          "2018-05-24",
          "2018-05-25",
          "2018-05-28",
          "2018-05-29",
          "2018-05-30",
          "2018-05-31",
          "2018-06-01",
          "2018-06-04",
          "2018-06-05",
          "2018-06-07",
          "2018-06-08",
          "2018-06-11",
          "2018-06-12",
          "2018-06-14",
          "2018-06-15",
          "2018-06-18",
          "2018-06-19",
          "2018-06-20",
          "2018-06-21",
          "2018-06-22",
          "2018-06-25",
          "2018-06-26",
          "2018-06-27",
          "2018-06-28",
          "2018-06-29"
         ],
         "y": [
          49820,
          47700,
          47920,
          47420,
          45800,
          46000,
          44700,
          45720,
          47540,
          49000,
          48380,
          47400,
          47280,
          46760,
          47220,
          47380,
          47380,
          47060,
          46020,
          45200,
          47020,
          48620,
          49200,
          49740,
          49740,
          51660,
          51760,
          51540,
          51140,
          50740,
          51200,
          51060,
          51780,
          49720,
          50280,
          49980,
          48700,
          49040,
          49220,
          48540,
          48120,
          46920,
          48740,
          48400,
          49200,
          48880,
          48860,
          49000,
          49800,
          50340,
          49980,
          51360,
          52780,
          51620,
          51900,
          50460,
          50400,
          52140,
          53000,
          53000,
          53000,
          53000,
          51900,
          52600,
          50900,
          51600,
          51300,
          50100,
          49200,
          49850,
          49400,
          49500,
          50000,
          51800,
          51400,
          52700,
          52300,
          51300,
          49500,
          50700,
          51300,
          51100,
          51300,
          50600,
          49650,
          49900,
          49400,
          48200,
          47650,
          46600,
          47000,
          47000,
          47050,
          47250,
          46650,
          47000,
          47950,
          46800,
          46650
         ]
        }
       ],
       "layout": {
        "autosize": true,
        "legend": {
         "bgcolor": "#F5F6F9",
         "font": {
          "color": "#4D5663"
         }
        },
        "paper_bgcolor": "#F5F6F9",
        "plot_bgcolor": "#F5F6F9",
        "template": {
         "data": {
          "bar": [
           {
            "error_x": {
             "color": "#2a3f5f"
            },
            "error_y": {
             "color": "#2a3f5f"
            },
            "marker": {
             "line": {
              "color": "#E5ECF6",
              "width": 0.5
             },
             "pattern": {
              "fillmode": "overlay",
              "size": 10,
              "solidity": 0.2
             }
            },
            "type": "bar"
           }
          ],
          "barpolar": [
           {
            "marker": {
             "line": {
              "color": "#E5ECF6",
              "width": 0.5
             },
             "pattern": {
              "fillmode": "overlay",
              "size": 10,
              "solidity": 0.2
             }
            },
            "type": "barpolar"
           }
          ],
          "carpet": [
           {
            "aaxis": {
             "endlinecolor": "#2a3f5f",
             "gridcolor": "white",
             "linecolor": "white",
             "minorgridcolor": "white",
             "startlinecolor": "#2a3f5f"
            },
            "baxis": {
             "endlinecolor": "#2a3f5f",
             "gridcolor": "white",
             "linecolor": "white",
             "minorgridcolor": "white",
             "startlinecolor": "#2a3f5f"
            },
            "type": "carpet"
           }
          ],
          "choropleth": [
           {
            "colorbar": {
             "outlinewidth": 0,
             "ticks": ""
            },
            "type": "choropleth"
           }
          ],
          "contour": [
           {
            "colorbar": {
             "outlinewidth": 0,
             "ticks": ""
            },
            "colorscale": [
             [
              0,
              "#0d0887"
             ],
             [
              0.1111111111111111,
              "#46039f"
             ],
             [
              0.2222222222222222,
              "#7201a8"
             ],
             [
              0.3333333333333333,
              "#9c179e"
             ],
             [
              0.4444444444444444,
              "#bd3786"
             ],
             [
              0.5555555555555556,
              "#d8576b"
             ],
             [
              0.6666666666666666,
              "#ed7953"
             ],
             [
              0.7777777777777778,
              "#fb9f3a"
             ],
             [
              0.8888888888888888,
              "#fdca26"
             ],
             [
              1,
              "#f0f921"
             ]
            ],
            "type": "contour"
           }
          ],
          "contourcarpet": [
           {
            "colorbar": {
             "outlinewidth": 0,
             "ticks": ""
            },
            "type": "contourcarpet"
           }
          ],
          "heatmap": [
           {
            "colorbar": {
             "outlinewidth": 0,
             "ticks": ""
            },
            "colorscale": [
             [
              0,
              "#0d0887"
             ],
             [
              0.1111111111111111,
              "#46039f"
             ],
             [
              0.2222222222222222,
              "#7201a8"
             ],
             [
              0.3333333333333333,
              "#9c179e"
             ],
             [
              0.4444444444444444,
              "#bd3786"
             ],
             [
              0.5555555555555556,
              "#d8576b"
             ],
             [
              0.6666666666666666,
              "#ed7953"
             ],
             [
              0.7777777777777778,
              "#fb9f3a"
             ],
             [
              0.8888888888888888,
              "#fdca26"
             ],
             [
              1,
              "#f0f921"
             ]
            ],
            "type": "heatmap"
           }
          ],
          "heatmapgl": [
           {
            "colorbar": {
             "outlinewidth": 0,
             "ticks": ""
            },
            "colorscale": [
             [
              0,
              "#0d0887"
             ],
             [
              0.1111111111111111,
              "#46039f"
             ],
             [
              0.2222222222222222,
              "#7201a8"
             ],
             [
              0.3333333333333333,
              "#9c179e"
             ],
             [
              0.4444444444444444,
              "#bd3786"
             ],
             [
              0.5555555555555556,
              "#d8576b"
             ],
             [
              0.6666666666666666,
              "#ed7953"
             ],
             [
              0.7777777777777778,
              "#fb9f3a"
             ],
             [
              0.8888888888888888,
              "#fdca26"
             ],
             [
              1,
              "#f0f921"
             ]
            ],
            "type": "heatmapgl"
           }
          ],
          "histogram": [
           {
            "marker": {
             "pattern": {
              "fillmode": "overlay",
              "size": 10,
              "solidity": 0.2
             }
            },
            "type": "histogram"
           }
          ],
          "histogram2d": [
           {
            "colorbar": {
             "outlinewidth": 0,
             "ticks": ""
            },
            "colorscale": [
             [
              0,
              "#0d0887"
             ],
             [
              0.1111111111111111,
              "#46039f"
             ],
             [
              0.2222222222222222,
              "#7201a8"
             ],
             [
              0.3333333333333333,
              "#9c179e"
             ],
             [
              0.4444444444444444,
              "#bd3786"
             ],
             [
              0.5555555555555556,
              "#d8576b"
             ],
             [
              0.6666666666666666,
              "#ed7953"
             ],
             [
              0.7777777777777778,
              "#fb9f3a"
             ],
             [
              0.8888888888888888,
              "#fdca26"
             ],
             [
              1,
              "#f0f921"
             ]
            ],
            "type": "histogram2d"
           }
          ],
          "histogram2dcontour": [
           {
            "colorbar": {
             "outlinewidth": 0,
             "ticks": ""
            },
            "colorscale": [
             [
              0,
              "#0d0887"
             ],
             [
              0.1111111111111111,
              "#46039f"
             ],
             [
              0.2222222222222222,
              "#7201a8"
             ],
             [
              0.3333333333333333,
              "#9c179e"
             ],
             [
              0.4444444444444444,
              "#bd3786"
             ],
             [
              0.5555555555555556,
              "#d8576b"
             ],
             [
              0.6666666666666666,
              "#ed7953"
             ],
             [
              0.7777777777777778,
              "#fb9f3a"
             ],
             [
              0.8888888888888888,
              "#fdca26"
             ],
             [
              1,
              "#f0f921"
             ]
            ],
            "type": "histogram2dcontour"
           }
          ],
          "mesh3d": [
           {
            "colorbar": {
             "outlinewidth": 0,
             "ticks": ""
            },
            "type": "mesh3d"
           }
          ],
          "parcoords": [
           {
            "line": {
             "colorbar": {
              "outlinewidth": 0,
              "ticks": ""
             }
            },
            "type": "parcoords"
           }
          ],
          "pie": [
           {
            "automargin": true,
            "type": "pie"
           }
          ],
          "scatter": [
           {
            "fillpattern": {
             "fillmode": "overlay",
             "size": 10,
             "solidity": 0.2
            },
            "type": "scatter"
           }
          ],
          "scatter3d": [
           {
            "line": {
             "colorbar": {
              "outlinewidth": 0,
              "ticks": ""
             }
            },
            "marker": {
             "colorbar": {
              "outlinewidth": 0,
              "ticks": ""
             }
            },
            "type": "scatter3d"
           }
          ],
          "scattercarpet": [
           {
            "marker": {
             "colorbar": {
              "outlinewidth": 0,
              "ticks": ""
             }
            },
            "type": "scattercarpet"
           }
          ],
          "scattergeo": [
           {
            "marker": {
             "colorbar": {
              "outlinewidth": 0,
              "ticks": ""
             }
            },
            "type": "scattergeo"
           }
          ],
          "scattergl": [
           {
            "marker": {
             "colorbar": {
              "outlinewidth": 0,
              "ticks": ""
             }
            },
            "type": "scattergl"
           }
          ],
          "scattermapbox": [
           {
            "marker": {
             "colorbar": {
              "outlinewidth": 0,
              "ticks": ""
             }
            },
            "type": "scattermapbox"
           }
          ],
          "scatterpolar": [
           {
            "marker": {
             "colorbar": {
              "outlinewidth": 0,
              "ticks": ""
             }
            },
            "type": "scatterpolar"
           }
          ],
          "scatterpolargl": [
           {
            "marker": {
             "colorbar": {
              "outlinewidth": 0,
              "ticks": ""
             }
            },
            "type": "scatterpolargl"
           }
          ],
          "scatterternary": [
           {
            "marker": {
             "colorbar": {
              "outlinewidth": 0,
              "ticks": ""
             }
            },
            "type": "scatterternary"
           }
          ],
          "surface": [
           {
            "colorbar": {
             "outlinewidth": 0,
             "ticks": ""
            },
            "colorscale": [
             [
              0,
              "#0d0887"
             ],
             [
              0.1111111111111111,
              "#46039f"
             ],
             [
              0.2222222222222222,
              "#7201a8"
             ],
             [
              0.3333333333333333,
              "#9c179e"
             ],
             [
              0.4444444444444444,
              "#bd3786"
             ],
             [
              0.5555555555555556,
              "#d8576b"
             ],
             [
              0.6666666666666666,
              "#ed7953"
             ],
             [
              0.7777777777777778,
              "#fb9f3a"
             ],
             [
              0.8888888888888888,
              "#fdca26"
             ],
             [
              1,
              "#f0f921"
             ]
            ],
            "type": "surface"
           }
          ],
          "table": [
           {
            "cells": {
             "fill": {
              "color": "#EBF0F8"
             },
             "line": {
              "color": "white"
             }
            },
            "header": {
             "fill": {
              "color": "#C8D4E3"
             },
             "line": {
              "color": "white"
             }
            },
            "type": "table"
           }
          ]
         },
         "layout": {
          "annotationdefaults": {
           "arrowcolor": "#2a3f5f",
           "arrowhead": 0,
           "arrowwidth": 1
          },
          "autotypenumbers": "strict",
          "coloraxis": {
           "colorbar": {
            "outlinewidth": 0,
            "ticks": ""
           }
          },
          "colorscale": {
           "diverging": [
            [
             0,
             "#8e0152"
            ],
            [
             0.1,
             "#c51b7d"
            ],
            [
             0.2,
             "#de77ae"
            ],
            [
             0.3,
             "#f1b6da"
            ],
            [
             0.4,
             "#fde0ef"
            ],
            [
             0.5,
             "#f7f7f7"
            ],
            [
             0.6,
             "#e6f5d0"
            ],
            [
             0.7,
             "#b8e186"
            ],
            [
             0.8,
             "#7fbc41"
            ],
            [
             0.9,
             "#4d9221"
            ],
            [
             1,
             "#276419"
            ]
           ],
           "sequential": [
            [
             0,
             "#0d0887"
            ],
            [
             0.1111111111111111,
             "#46039f"
            ],
            [
             0.2222222222222222,
             "#7201a8"
            ],
            [
             0.3333333333333333,
             "#9c179e"
            ],
            [
             0.4444444444444444,
             "#bd3786"
            ],
            [
             0.5555555555555556,
             "#d8576b"
            ],
            [
             0.6666666666666666,
             "#ed7953"
            ],
            [
             0.7777777777777778,
             "#fb9f3a"
            ],
            [
             0.8888888888888888,
             "#fdca26"
            ],
            [
             1,
             "#f0f921"
            ]
           ],
           "sequentialminus": [
            [
             0,
             "#0d0887"
            ],
            [
             0.1111111111111111,
             "#46039f"
            ],
            [
             0.2222222222222222,
             "#7201a8"
            ],
            [
             0.3333333333333333,
             "#9c179e"
            ],
            [
             0.4444444444444444,
             "#bd3786"
            ],
            [
             0.5555555555555556,
             "#d8576b"
            ],
            [
             0.6666666666666666,
             "#ed7953"
            ],
            [
             0.7777777777777778,
             "#fb9f3a"
            ],
            [
             0.8888888888888888,
             "#fdca26"
            ],
            [
             1,
             "#f0f921"
            ]
           ]
          },
          "colorway": [
           "#636efa",
           "#EF553B",
           "#00cc96",
           "#ab63fa",
           "#FFA15A",
           "#19d3f3",
           "#FF6692",
           "#B6E880",
           "#FF97FF",
           "#FECB52"
          ],
          "font": {
           "color": "#2a3f5f"
          },
          "geo": {
           "bgcolor": "white",
           "lakecolor": "white",
           "landcolor": "#E5ECF6",
           "showlakes": true,
           "showland": true,
           "subunitcolor": "white"
          },
          "hoverlabel": {
           "align": "left"
          },
          "hovermode": "closest",
          "mapbox": {
           "style": "light"
          },
          "paper_bgcolor": "white",
          "plot_bgcolor": "#E5ECF6",
          "polar": {
           "angularaxis": {
            "gridcolor": "white",
            "linecolor": "white",
            "ticks": ""
           },
           "bgcolor": "#E5ECF6",
           "radialaxis": {
            "gridcolor": "white",
            "linecolor": "white",
            "ticks": ""
           }
          },
          "scene": {
           "xaxis": {
            "backgroundcolor": "#E5ECF6",
            "gridcolor": "white",
            "gridwidth": 2,
            "linecolor": "white",
            "showbackground": true,
            "ticks": "",
            "zerolinecolor": "white"
           },
           "yaxis": {
            "backgroundcolor": "#E5ECF6",
            "gridcolor": "white",
            "gridwidth": 2,
            "linecolor": "white",
            "showbackground": true,
            "ticks": "",
            "zerolinecolor": "white"
           },
           "zaxis": {
            "backgroundcolor": "#E5ECF6",
            "gridcolor": "white",
            "gridwidth": 2,
            "linecolor": "white",
            "showbackground": true,
            "ticks": "",
            "zerolinecolor": "white"
           }
          },
          "shapedefaults": {
           "line": {
            "color": "#2a3f5f"
           }
          },
          "ternary": {
           "aaxis": {
            "gridcolor": "white",
            "linecolor": "white",
            "ticks": ""
           },
           "baxis": {
            "gridcolor": "white",
            "linecolor": "white",
            "ticks": ""
           },
           "bgcolor": "#E5ECF6",
           "caxis": {
            "gridcolor": "white",
            "linecolor": "white",
            "ticks": ""
           }
          },
          "title": {
           "x": 0.05
          },
          "xaxis": {
           "automargin": true,
           "gridcolor": "white",
           "linecolor": "white",
           "ticks": "",
           "title": {
            "standoff": 15
           },
           "zerolinecolor": "white",
           "zerolinewidth": 2
          },
          "yaxis": {
           "automargin": true,
           "gridcolor": "white",
           "linecolor": "white",
           "ticks": "",
           "title": {
            "standoff": 15
           },
           "zerolinecolor": "white",
           "zerolinewidth": 2
          }
         }
        },
        "title": {
         "font": {
          "color": "#4D5663"
         }
        },
        "xaxis": {
         "autorange": true,
         "gridcolor": "#E1E5ED",
         "range": [
          "2018-02-01",
          "2018-06-29"
         ],
         "showgrid": true,
         "tickfont": {
          "color": "#4D5663"
         },
         "title": {
          "font": {
           "color": "#4D5663"
          },
          "text": ""
         },
         "type": "date",
         "zerolinecolor": "#E1E5ED"
        },
        "yaxis": {
         "autorange": true,
         "gridcolor": "#E1E5ED",
         "range": [
          -2994.4444444444443,
          56894.444444444445
         ],
         "showgrid": true,
         "tickfont": {
          "color": "#4D5663"
         },
         "title": {
          "font": {
           "color": "#4D5663"
          },
          "text": ""
         },
         "type": "linear",
         "zerolinecolor": "#E1E5ED"
        }
       }
      },
      "image/png": "[encoded data removed]",
      "text/html": [
       "<div>                            <div id=\"e2b0be5f-5f5f-459d-9515-aefb9c86f920\" class=\"plotly-graph-div\" style=\"height:525px; width:100%;\"></div>            <script type=\"text/javascript\">                require([\"plotly\"], function(Plotly) {                    window.PLOTLYENV=window.PLOTLYENV || {};\n",
       "                    window.PLOTLYENV.BASE_URL='https://plot.ly';                                    if (document.getElementById(\"e2b0be5f-5f5f-459d-9515-aefb9c86f920\")) {                    Plotly.newPlot(                        \"e2b0be5f-5f5f-459d-9515-aefb9c86f920\",                        [{\"line\":{\"color\":\"rgba(255, 153, 51, 1.0)\",\"dash\":\"solid\",\"shape\":\"linear\",\"width\":1.3},\"mode\":\"lines\",\"name\":\"Open\",\"text\":\"\",\"x\":[\"2018-02-01\",\"2018-02-02\",\"2018-02-05\",\"2018-02-06\",\"2018-02-07\",\"2018-02-08\",\"2018-02-09\",\"2018-02-12\",\"2018-02-13\",\"2018-02-14\",\"2018-02-19\",\"2018-02-20\",\"2018-02-21\",\"2018-02-22\",\"2018-02-23\",\"2018-02-26\",\"2018-02-27\",\"2018-02-28\",\"2018-03-02\",\"2018-03-05\",\"2018-03-06\",\"2018-03-07\",\"2018-03-08\",\"2018-03-09\",\"2018-03-12\",\"2018-03-13\",\"2018-03-14\",\"2018-03-15\",\"2018-03-16\",\"2018-03-19\",\"2018-03-20\",\"2018-03-21\",\"2018-03-22\",\"2018-03-23\",\"2018-03-26\",\"2018-03-27\",\"2018-03-28\",\"2018-03-29\",\"2018-03-30\",\"2018-04-02\",\"2018-04-03\",\"2018-04-04\",\"2018-04-05\",\"2018-04-06\",\"2018-04-09\",\"2018-04-10\",\"2018-04-11\",\"2018-04-12\",\"2018-04-13\",\"2018-04-16\",\"2018-04-17\",\"2018-04-18\",\"2018-04-19\",\"2018-04-20\",\"2018-04-23\",\"2018-04-24\",\"2018-04-25\",\"2018-04-26\",\"2018-04-27\",\"2018-04-30\",\"2018-05-02\",\"2018-05-03\",\"2018-05-04\",\"2018-05-08\",\"2018-05-09\",\"2018-05-10\",\"2018-05-11\",\"2018-05-14\",\"2018-05-15\",\"2018-05-16\",\"2018-05-17\",\"2018-05-18\",\"2018-05-21\",\"2018-05-23\",\"2018-05-24\",\"2018-05-25\",\"2018-05-28\",\"2018-05-29\",\"2018-05-30\",\"2018-05-31\",\"2018-06-01\",\"2018-06-04\",\"2018-06-05\",\"2018-06-07\",\"2018-06-08\",\"2018-06-11\",\"2018-06-12\",\"2018-06-14\",\"2018-06-15\",\"2018-06-18\",\"2018-06-19\",\"2018-06-20\",\"2018-06-21\",\"2018-06-22\",\"2018-06-25\",\"2018-06-26\",\"2018-06-27\",\"2018-06-28\",\"2018-06-29\"],\"y\":[50620,49380,46500,46600,48240,46120,44440,45100,46200,48080,49800,48040,47280,47260,46760,47280,48360,47380,46580,45820,45920,48200,49200,49440,50560,50760,51020,52000,51220,50620,50700,51780,51060,50340,49420,50320,49100,48700,49080,49000,47880,48160,47400,48000,48260,48540,49900,49440,49600,50320,50240,51000,52000,51800,51000,51840,49220,50420,53380,0,0,0,53000,52600,52600,51700,52000,51000,50200,49200,50300,49900,49650,50600,52000,51000,52500,52200,51300,50400,50500,50800,51100,51800,50200,49750,49700,49000,48500,47600,47200,47450,47900,47000,47050,45900,47450,46850,46250],\"type\":\"scatter\"},{\"line\":{\"color\":\"rgba(55, 128, 191, 1.0)\",\"dash\":\"solid\",\"shape\":\"linear\",\"width\":1.3},\"mode\":\"lines\",\"name\":\"High\",\"text\":\"\",\"x\":[\"2018-02-01\",\"2018-02-02\",\"2018-02-05\",\"2018-02-06\",\"2018-02-07\",\"2018-02-08\",\"2018-02-09\",\"2018-02-12\",\"2018-02-13\",\"2018-02-14\",\"2018-02-19\",\"2018-02-20\",\"2018-02-21\",\"2018-02-22\",\"2018-02-23\",\"2018-02-26\",\"2018-02-27\",\"2018-02-28\",\"2018-03-02\",\"2018-03-05\",\"2018-03-06\",\"2018-03-07\",\"2018-03-08\",\"2018-03-09\",\"2018-03-12\",\"2018-03-13\",\"2018-03-14\",\"2018-03-15\",\"2018-03-16\",\"2018-03-19\",\"2018-03-20\",\"2018-03-21\",\"2018-03-22\",\"2018-03-23\",\"2018-03-26\",\"2018-03-27\",\"2018-03-28\",\"2018-03-29\",\"2018-03-30\",\"2018-04-02\",\"2018-04-03\",\"2018-04-04\",\"2018-04-05\",\"2018-04-06\",\"2018-04-09\",\"2018-04-10\",\"2018-04-11\",\"2018-04-12\",\"2018-04-13\",\"2018-04-16\",\"2018-04-17\",\"2018-04-18\",\"2018-04-19\",\"2018-04-20\",\"2018-04-23\",\"2018-04-24\",\"2018-04-25\",\"2018-04-26\",\"2018-04-27\",\"2018-04-30\",\"2018-05-02\",\"2018-05-03\",\"2018-05-04\",\"2018-05-08\",\"2018-05-09\",\"2018-05-10\",\"2018-05-11\",\"2018-05-14\",\"2018-05-15\",\"2018-05-16\",\"2018-05-17\",\"2018-05-18\",\"2018-05-21\",\"2018-05-23\",\"2018-05-24\",\"2018-05-25\",\"2018-05-28\",\"2018-05-29\",\"2018-05-30\",\"2018-05-31\",\"2018-06-01\",\"2018-06-04\",\"2018-06-05\",\"2018-06-07\",\"2018-06-08\",\"2018-06-11\",\"2018-06-12\",\"2018-06-14\",\"2018-06-15\",\"2018-06-18\",\"2018-06-19\",\"2018-06-20\",\"2018-06-21\",\"2018-06-22\",\"2018-06-25\",\"2018-06-26\",\"2018-06-27\",\"2018-06-28\",\"2018-06-29\"],\"y\":[50960,49400,48320,47920,48260,46620,45180,46320,48060,49100,49800,48160,47580,47260,47800,47560,48380,48100,46800,46160,47100,48900,49480,50540,50780,51660,52000,52020,51420,51340,51200,51780,51780,50720,50280,50460,49100,49560,49900,49220,48140,48260,49380,48580,49440,49220,49900,49440,50180,50600,50540,51360,52980,52260,52080,51860,50500,52160,53639,0,0,0,53900,53200,52800,51700,52200,51100,50400,50200,50500,49900,50200,52000,52000,52800,53000,52500,51500,50800,51700,51200,51400,51800,50400,50300,49800,49000,48700,47650,47350,47600,47900,47250,47050,47300,48500,47150,47150],\"type\":\"scatter\"},{\"line\":{\"color\":\"rgba(50, 171, 96, 1.0)\",\"dash\":\"solid\",\"shape\":\"linear\",\"width\":1.3},\"mode\":\"lines\",\"name\":\"Low\",\"text\":\"\",\"x\":[\"2018-02-01\",\"2018-02-02\",\"2018-02-05\",\"2018-02-06\",\"2018-02-07\",\"2018-02-08\",\"2018-02-09\",\"2018-02-12\",\"2018-02-13\",\"2018-02-14\",\"2018-02-19\",\"2018-02-20\",\"2018-02-21\",\"2018-02-22\",\"2018-02-23\",\"2018-02-26\",\"2018-02-27\",\"2018-02-28\",\"2018-03-02\",\"2018-03-05\",\"2018-03-06\",\"2018-03-07\",\"2018-03-08\",\"2018-03-09\",\"2018-03-12\",\"2018-03-13\",\"2018-03-14\",\"2018-03-15\",\"2018-03-16\",\"2018-03-19\",\"2018-03-20\",\"2018-03-21\",\"2018-03-22\",\"2018-03-23\",\"2018-03-26\",\"2018-03-27\",\"2018-03-28\",\"2018-03-29\",\"2018-03-30\",\"2018-04-02\",\"2018-04-03\",\"2018-04-04\",\"2018-04-05\",\"2018-04-06\",\"2018-04-09\",\"2018-04-10\",\"2018-04-11\",\"2018-04-12\",\"2018-04-13\",\"2018-04-16\",\"2018-04-17\",\"2018-04-18\",\"2018-04-19\",\"2018-04-20\",\"2018-04-23\",\"2018-04-24\",\"2018-04-25\",\"2018-04-26\",\"2018-04-27\",\"2018-04-30\",\"2018-05-02\",\"2018-05-03\",\"2018-05-04\",\"2018-05-08\",\"2018-05-09\",\"2018-05-10\",\"2018-05-11\",\"2018-05-14\",\"2018-05-15\",\"2018-05-16\",\"2018-05-17\",\"2018-05-18\",\"2018-05-21\",\"2018-05-23\",\"2018-05-24\",\"2018-05-25\",\"2018-05-28\",\"2018-05-29\",\"2018-05-30\",\"2018-05-31\",\"2018-06-01\",\"2018-06-04\",\"2018-06-05\",\"2018-06-07\",\"2018-06-08\",\"2018-06-11\",\"2018-06-12\",\"2018-06-14\",\"2018-06-15\",\"2018-06-18\",\"2018-06-19\",\"2018-06-20\",\"2018-06-21\",\"2018-06-22\",\"2018-06-25\",\"2018-06-26\",\"2018-06-27\",\"2018-06-28\",\"2018-06-29\"],\"y\":[49720,47700,46000,46580,45800,45980,44420,45040,46200,47940,47860,47220,46840,46760,46760,47080,47380,47000,46000,45080,45820,47220,48080,49240,49580,50360,51000,51020,50240,50440,50100,51060,51040,49600,49040,49080,48340,48320,49080,48500,47280,46920,47340,47400,48200,48040,48600,48880,49400,49860,49820,50580,51540,51420,51000,50080,49220,50400,52440,0,0,0,51800,51900,50900,50600,51200,49900,49100,49150,49400,49350,49100,50400,51100,50800,52000,51300,49100,49850,49950,50700,50400,50500,49600,49350,49250,48200,47650,46200,46500,46850,47050,46200,46150,45900,47000,46600,46200],\"type\":\"scatter\"},{\"line\":{\"color\":\"rgba(128, 0, 128, 1.0)\",\"dash\":\"solid\",\"shape\":\"linear\",\"width\":1.3},\"mode\":\"lines\",\"name\":\"Close\",\"text\":\"\",\"x\":[\"2018-02-01\",\"2018-02-02\",\"2018-02-05\",\"2018-02-06\",\"2018-02-07\",\"2018-02-08\",\"2018-02-09\",\"2018-02-12\",\"2018-02-13\",\"2018-02-14\",\"2018-02-19\",\"2018-02-20\",\"2018-02-21\",\"2018-02-22\",\"2018-02-23\",\"2018-02-26\",\"2018-02-27\",\"2018-02-28\",\"2018-03-02\",\"2018-03-05\",\"2018-03-06\",\"2018-03-07\",\"2018-03-08\",\"2018-03-09\",\"2018-03-12\",\"2018-03-13\",\"2018-03-14\",\"2018-03-15\",\"2018-03-16\",\"2018-03-19\",\"2018-03-20\",\"2018-03-21\",\"2018-03-22\",\"2018-03-23\",\"2018-03-26\",\"2018-03-27\",\"2018-03-28\",\"2018-03-29\",\"2018-03-30\",\"2018-04-02\",\"2018-04-03\",\"2018-04-04\",\"2018-04-05\",\"2018-04-06\",\"2018-04-09\",\"2018-04-10\",\"2018-04-11\",\"2018-04-12\",\"2018-04-13\",\"2018-04-16\",\"2018-04-17\",\"2018-04-18\",\"2018-04-19\",\"2018-04-20\",\"2018-04-23\",\"2018-04-24\",\"2018-04-25\",\"2018-04-26\",\"2018-04-27\",\"2018-04-30\",\"2018-05-02\",\"2018-05-03\",\"2018-05-04\",\"2018-05-08\",\"2018-05-09\",\"2018-05-10\",\"2018-05-11\",\"2018-05-14\",\"2018-05-15\",\"2018-05-16\",\"2018-05-17\",\"2018-05-18\",\"2018-05-21\",\"2018-05-23\",\"2018-05-24\",\"2018-05-25\",\"2018-05-28\",\"2018-05-29\",\"2018-05-30\",\"2018-05-31\",\"2018-06-01\",\"2018-06-04\",\"2018-06-05\",\"2018-06-07\",\"2018-06-08\",\"2018-06-11\",\"2018-06-12\",\"2018-06-14\",\"2018-06-15\",\"2018-06-18\",\"2018-06-19\",\"2018-06-20\",\"2018-06-21\",\"2018-06-22\",\"2018-06-25\",\"2018-06-26\",\"2018-06-27\",\"2018-06-28\",\"2018-06-29\"],\"y\":[49820,47700,47920,47420,45800,46000,44700,45720,47540,49000,48380,47400,47280,46760,47220,47380,47380,47060,46020,45200,47020,48620,49200,49740,49740,51660,51760,51540,51140,50740,51200,51060,51780,49720,50280,49980,48700,49040,49220,48540,48120,46920,48740,48400,49200,48880,48860,49000,49800,50340,49980,51360,52780,51620,51900,50460,50400,52140,53000,53000,53000,53000,51900,52600,50900,51600,51300,50100,49200,49850,49400,49500,50000,51800,51400,52700,52300,51300,49500,50700,51300,51100,51300,50600,49650,49900,49400,48200,47650,46600,47000,47000,47050,47250,46650,47000,47950,46800,46650],\"type\":\"scatter\"}],                        {\"legend\":{\"bgcolor\":\"#F5F6F9\",\"font\":{\"color\":\"#4D5663\"}},\"paper_bgcolor\":\"#F5F6F9\",\"plot_bgcolor\":\"#F5F6F9\",\"template\":{\"data\":{\"barpolar\":[{\"marker\":{\"line\":{\"color\":\"#E5ECF6\",\"width\":0.5},\"pattern\":{\"fillmode\":\"overlay\",\"size\":10,\"solidity\":0.2}},\"type\":\"barpolar\"}],\"bar\":[{\"error_x\":{\"color\":\"#2a3f5f\"},\"error_y\":{\"color\":\"#2a3f5f\"},\"marker\":{\"line\":{\"color\":\"#E5ECF6\",\"width\":0.5},\"pattern\":{\"fillmode\":\"overlay\",\"size\":10,\"solidity\":0.2}},\"type\":\"bar\"}],\"carpet\":[{\"aaxis\":{\"endlinecolor\":\"#2a3f5f\",\"gridcolor\":\"white\",\"linecolor\":\"white\",\"minorgridcolor\":\"white\",\"startlinecolor\":\"#2a3f5f\"},\"baxis\":{\"endlinecolor\":\"#2a3f5f\",\"gridcolor\":\"white\",\"linecolor\":\"white\",\"minorgridcolor\":\"white\",\"startlinecolor\":\"#2a3f5f\"},\"type\":\"carpet\"}],\"choropleth\":[{\"colorbar\":{\"outlinewidth\":0,\"ticks\":\"\"},\"type\":\"choropleth\"}],\"contourcarpet\":[{\"colorbar\":{\"outlinewidth\":0,\"ticks\":\"\"},\"type\":\"contourcarpet\"}],\"contour\":[{\"colorbar\":{\"outlinewidth\":0,\"ticks\":\"\"},\"colorscale\":[[0.0,\"#0d0887\"],[0.1111111111111111,\"#46039f\"],[0.2222222222222222,\"#7201a8\"],[0.3333333333333333,\"#9c179e\"],[0.4444444444444444,\"#bd3786\"],[0.5555555555555556,\"#d8576b\"],[0.6666666666666666,\"#ed7953\"],[0.7777777777777778,\"#fb9f3a\"],[0.8888888888888888,\"#fdca26\"],[1.0,\"#f0f921\"]],\"type\":\"contour\"}],\"heatmapgl\":[{\"colorbar\":{\"outlinewidth\":0,\"ticks\":\"\"},\"colorscale\":[[0.0,\"#0d0887\"],[0.1111111111111111,\"#46039f\"],[0.2222222222222222,\"#7201a8\"],[0.3333333333333333,\"#9c179e\"],[0.4444444444444444,\"#bd3786\"],[0.5555555555555556,\"#d8576b\"],[0.6666666666666666,\"#ed7953\"],[0.7777777777777778,\"#fb9f3a\"],[0.8888888888888888,\"#fdca26\"],[1.0,\"#f0f921\"]],\"type\":\"heatmapgl\"}],\"heatmap\":[{\"colorbar\":{\"outlinewidth\":0,\"ticks\":\"\"},\"colorscale\":[[0.0,\"#0d0887\"],[0.1111111111111111,\"#46039f\"],[0.2222222222222222,\"#7201a8\"],[0.3333333333333333,\"#9c179e\"],[0.4444444444444444,\"#bd3786\"],[0.5555555555555556,\"#d8576b\"],[0.6666666666666666,\"#ed7953\"],[0.7777777777777778,\"#fb9f3a\"],[0.8888888888888888,\"#fdca26\"],[1.0,\"#f0f921\"]],\"type\":\"heatmap\"}],\"histogram2dcontour\":[{\"colorbar\":{\"outlinewidth\":0,\"ticks\":\"\"},\"colorscale\":[[0.0,\"#0d0887\"],[0.1111111111111111,\"#46039f\"],[0.2222222222222222,\"#7201a8\"],[0.3333333333333333,\"#9c179e\"],[0.4444444444444444,\"#bd3786\"],[0.5555555555555556,\"#d8576b\"],[0.6666666666666666,\"#ed7953\"],[0.7777777777777778,\"#fb9f3a\"],[0.8888888888888888,\"#fdca26\"],[1.0,\"#f0f921\"]],\"type\":\"histogram2dcontour\"}],\"histogram2d\":[{\"colorbar\":{\"outlinewidth\":0,\"ticks\":\"\"},\"colorscale\":[[0.0,\"#0d0887\"],[0.1111111111111111,\"#46039f\"],[0.2222222222222222,\"#7201a8\"],[0.3333333333333333,\"#9c179e\"],[0.4444444444444444,\"#bd3786\"],[0.5555555555555556,\"#d8576b\"],[0.6666666666666666,\"#ed7953\"],[0.7777777777777778,\"#fb9f3a\"],[0.8888888888888888,\"#fdca26\"],[1.0,\"#f0f921\"]],\"type\":\"histogram2d\"}],\"histogram\":[{\"marker\":{\"pattern\":{\"fillmode\":\"overlay\",\"size\":10,\"solidity\":0.2}},\"type\":\"histogram\"}],\"mesh3d\":[{\"colorbar\":{\"outlinewidth\":0,\"ticks\":\"\"},\"type\":\"mesh3d\"}],\"parcoords\":[{\"line\":{\"colorbar\":{\"outlinewidth\":0,\"ticks\":\"\"}},\"type\":\"parcoords\"}],\"pie\":[{\"automargin\":true,\"type\":\"pie\"}],\"scatter3d\":[{\"line\":{\"colorbar\":{\"outlinewidth\":0,\"ticks\":\"\"}},\"marker\":{\"colorbar\":{\"outlinewidth\":0,\"ticks\":\"\"}},\"type\":\"scatter3d\"}],\"scattercarpet\":[{\"marker\":{\"colorbar\":{\"outlinewidth\":0,\"ticks\":\"\"}},\"type\":\"scattercarpet\"}],\"scattergeo\":[{\"marker\":{\"colorbar\":{\"outlinewidth\":0,\"ticks\":\"\"}},\"type\":\"scattergeo\"}],\"scattergl\":[{\"marker\":{\"colorbar\":{\"outlinewidth\":0,\"ticks\":\"\"}},\"type\":\"scattergl\"}],\"scattermapbox\":[{\"marker\":{\"colorbar\":{\"outlinewidth\":0,\"ticks\":\"\"}},\"type\":\"scattermapbox\"}],\"scatterpolargl\":[{\"marker\":{\"colorbar\":{\"outlinewidth\":0,\"ticks\":\"\"}},\"type\":\"scatterpolargl\"}],\"scatterpolar\":[{\"marker\":{\"colorbar\":{\"outlinewidth\":0,\"ticks\":\"\"}},\"type\":\"scatterpolar\"}],\"scatter\":[{\"fillpattern\":{\"fillmode\":\"overlay\",\"size\":10,\"solidity\":0.2},\"type\":\"scatter\"}],\"scatterternary\":[{\"marker\":{\"colorbar\":{\"outlinewidth\":0,\"ticks\":\"\"}},\"type\":\"scatterternary\"}],\"surface\":[{\"colorbar\":{\"outlinewidth\":0,\"ticks\":\"\"},\"colorscale\":[[0.0,\"#0d0887\"],[0.1111111111111111,\"#46039f\"],[0.2222222222222222,\"#7201a8\"],[0.3333333333333333,\"#9c179e\"],[0.4444444444444444,\"#bd3786\"],[0.5555555555555556,\"#d8576b\"],[0.6666666666666666,\"#ed7953\"],[0.7777777777777778,\"#fb9f3a\"],[0.8888888888888888,\"#fdca26\"],[1.0,\"#f0f921\"]],\"type\":\"surface\"}],\"table\":[{\"cells\":{\"fill\":{\"color\":\"#EBF0F8\"},\"line\":{\"color\":\"white\"}},\"header\":{\"fill\":{\"color\":\"#C8D4E3\"},\"line\":{\"color\":\"white\"}},\"type\":\"table\"}]},\"layout\":{\"annotationdefaults\":{\"arrowcolor\":\"#2a3f5f\",\"arrowhead\":0,\"arrowwidth\":1},\"autotypenumbers\":\"strict\",\"coloraxis\":{\"colorbar\":{\"outlinewidth\":0,\"ticks\":\"\"}},\"colorscale\":{\"diverging\":[[0,\"#8e0152\"],[0.1,\"#c51b7d\"],[0.2,\"#de77ae\"],[0.3,\"#f1b6da\"],[0.4,\"#fde0ef\"],[0.5,\"#f7f7f7\"],[0.6,\"#e6f5d0\"],[0.7,\"#b8e186\"],[0.8,\"#7fbc41\"],[0.9,\"#4d9221\"],[1,\"#276419\"]],\"sequential\":[[0.0,\"#0d0887\"],[0.1111111111111111,\"#46039f\"],[0.2222222222222222,\"#7201a8\"],[0.3333333333333333,\"#9c179e\"],[0.4444444444444444,\"#bd3786\"],[0.5555555555555556,\"#d8576b\"],[0.6666666666666666,\"#ed7953\"],[0.7777777777777778,\"#fb9f3a\"],[0.8888888888888888,\"#fdca26\"],[1.0,\"#f0f921\"]],\"sequentialminus\":[[0.0,\"#0d0887\"],[0.1111111111111111,\"#46039f\"],[0.2222222222222222,\"#7201a8\"],[0.3333333333333333,\"#9c179e\"],[0.4444444444444444,\"#bd3786\"],[0.5555555555555556,\"#d8576b\"],[0.6666666666666666,\"#ed7953\"],[0.7777777777777778,\"#fb9f3a\"],[0.8888888888888888,\"#fdca26\"],[1.0,\"#f0f921\"]]},\"colorway\":[\"#636efa\",\"#EF553B\",\"#00cc96\",\"#ab63fa\",\"#FFA15A\",\"#19d3f3\",\"#FF6692\",\"#B6E880\",\"#FF97FF\",\"#FECB52\"],\"font\":{\"color\":\"#2a3f5f\"},\"geo\":{\"bgcolor\":\"white\",\"lakecolor\":\"white\",\"landcolor\":\"#E5ECF6\",\"showlakes\":true,\"showland\":true,\"subunitcolor\":\"white\"},\"hoverlabel\":{\"align\":\"left\"},\"hovermode\":\"closest\",\"mapbox\":{\"style\":\"light\"},\"paper_bgcolor\":\"white\",\"plot_bgcolor\":\"#E5ECF6\",\"polar\":{\"angularaxis\":{\"gridcolor\":\"white\",\"linecolor\":\"white\",\"ticks\":\"\"},\"bgcolor\":\"#E5ECF6\",\"radialaxis\":{\"gridcolor\":\"white\",\"linecolor\":\"white\",\"ticks\":\"\"}},\"scene\":{\"xaxis\":{\"backgroundcolor\":\"#E5ECF6\",\"gridcolor\":\"white\",\"gridwidth\":2,\"linecolor\":\"white\",\"showbackground\":true,\"ticks\":\"\",\"zerolinecolor\":\"white\"},\"yaxis\":{\"backgroundcolor\":\"#E5ECF6\",\"gridcolor\":\"white\",\"gridwidth\":2,\"linecolor\":\"white\",\"showbackground\":true,\"ticks\":\"\",\"zerolinecolor\":\"white\"},\"zaxis\":{\"backgroundcolor\":\"#E5ECF6\",\"gridcolor\":\"white\",\"gridwidth\":2,\"linecolor\":\"white\",\"showbackground\":true,\"ticks\":\"\",\"zerolinecolor\":\"white\"}},\"shapedefaults\":{\"line\":{\"color\":\"#2a3f5f\"}},\"ternary\":{\"aaxis\":{\"gridcolor\":\"white\",\"linecolor\":\"white\",\"ticks\":\"\"},\"baxis\":{\"gridcolor\":\"white\",\"linecolor\":\"white\",\"ticks\":\"\"},\"bgcolor\":\"#E5ECF6\",\"caxis\":{\"gridcolor\":\"white\",\"linecolor\":\"white\",\"ticks\":\"\"}},\"title\":{\"x\":0.05},\"xaxis\":{\"automargin\":true,\"gridcolor\":\"white\",\"linecolor\":\"white\",\"ticks\":\"\",\"title\":{\"standoff\":15},\"zerolinecolor\":\"white\",\"zerolinewidth\":2},\"yaxis\":{\"automargin\":true,\"gridcolor\":\"white\",\"linecolor\":\"white\",\"ticks\":\"\",\"title\":{\"standoff\":15},\"zerolinecolor\":\"white\",\"zerolinewidth\":2}}},\"title\":{\"font\":{\"color\":\"#4D5663\"}},\"xaxis\":{\"gridcolor\":\"#E1E5ED\",\"showgrid\":true,\"tickfont\":{\"color\":\"#4D5663\"},\"title\":{\"font\":{\"color\":\"#4D5663\"},\"text\":\"\"},\"zerolinecolor\":\"#E1E5ED\"},\"yaxis\":{\"gridcolor\":\"#E1E5ED\",\"showgrid\":true,\"tickfont\":{\"color\":\"#4D5663\"},\"title\":{\"font\":{\"color\":\"#4D5663\"},\"text\":\"\"},\"zerolinecolor\":\"#E1E5ED\"}},                        {\"showLink\": true, \"linkText\": \"Export to plot.ly\", \"plotlyServerURL\": \"https://plot.ly\", \"responsive\": true}                    ).then(function(){\n",
       "                            \n",
       "var gd = document.getElementById('e2b0be5f-5f5f-459d-9515-aefb9c86f920');\n",
       "var x = new MutationObserver(function (mutations, observer) {{\n",
       "        var display = window.getComputedStyle(gd).display;\n",
       "        if (!display || display === 'none') {{\n",
       "            console.log([gd, 'removed!']);\n",
       "            Plotly.purge(gd);\n",
       "            observer.disconnect();\n",
       "        }}\n",
       "}});\n",
       "\n",
       "// Listen for the removal of the full notebook cells\n",
       "var notebookContainer = gd.closest('#notebook-container');\n",
       "if (notebookContainer) {{\n",
       "    x.observe(notebookContainer, {childList: true});\n",
       "}}\n",
       "\n",
       "// Listen for the clearing of the current output cell\n",
       "var outputEl = gd.closest('.output');\n",
       "if (outputEl) {{\n",
       "    x.observe(outputEl, {childList: true});\n",
       "}}\n",
       "\n",
       "                        })                };                });            </script>        </div>"
      ]
     },
     "metadata": {},
     "output_type": "display_data"
    }
   ],
   "source": [
    "# 거래대금 제외 데이터 \n",
    "df_samsung[df_samsung.columns[:4]].iplot(kind = 'line')"
   ]
  },
  {
   "cell_type": "code",
   "execution_count": 29,
   "id": "11dc7432",
   "metadata": {
    "ExecuteTime": {
     "end_time": "2022-12-07T12:39:23.028672Z",
     "start_time": "2022-12-07T12:39:22.923956Z"
    },
    "collapsed": true,
    "jupyter": {
     "outputs_hidden": true
    },
    "scrolled": true,
    "tags": []
   },
   "outputs": [
    {
     "data": {
      "application/vnd.plotly.v1+json": {
       "config": {
        "linkText": "Export to plot.ly",
        "plotlyServerURL": "https://plot.ly",
        "showLink": true
       },
       "data": [
        {
         "line": {
          "color": "rgba(255, 153, 51, 1.0)",
          "dash": "solid",
          "shape": "linear",
          "width": 1.3
         },
         "mode": "lines",
         "name": "Volume",
         "text": "",
         "type": "scatter",
         "x": [
          "2018-02-01",
          "2018-02-02",
          "2018-02-05",
          "2018-02-06",
          "2018-02-07",
          "2018-02-08",
          "2018-02-09",
          "2018-02-12",
          "2018-02-13",
          "2018-02-14",
          "2018-02-19",
          "2018-02-20",
          "2018-02-21",
          "2018-02-22",
          "2018-02-23",
          "2018-02-26",
          "2018-02-27",
          "2018-02-28",
          "2018-03-02",
          "2018-03-05",
          "2018-03-06",
          "2018-03-07",
          "2018-03-08",
          "2018-03-09",
          "2018-03-12",
          "2018-03-13",
          "2018-03-14",
          "2018-03-15",
          "2018-03-16",
          "2018-03-19",
          "2018-03-20",
          "2018-03-21",
          "2018-03-22",
          "2018-03-23",
          "2018-03-26",
          "2018-03-27",
          "2018-03-28",
          "2018-03-29",
          "2018-03-30",
          "2018-04-02",
          "2018-04-03",
          "2018-04-04",
          "2018-04-05",
          "2018-04-06",
          "2018-04-09",
          "2018-04-10",
          "2018-04-11",
          "2018-04-12",
          "2018-04-13",
          "2018-04-16",
          "2018-04-17",
          "2018-04-18",
          "2018-04-19",
          "2018-04-20",
          "2018-04-23",
          "2018-04-24",
          "2018-04-25",
          "2018-04-26",
          "2018-04-27",
          "2018-04-30",
          "2018-05-02",
          "2018-05-03",
          "2018-05-04",
          "2018-05-08",
          "2018-05-09",
          "2018-05-10",
          "2018-05-11",
          "2018-05-14",
          "2018-05-15",
          "2018-05-16",
          "2018-05-17",
          "2018-05-18",
          "2018-05-21",
          "2018-05-23",
          "2018-05-24",
          "2018-05-25",
          "2018-05-28",
          "2018-05-29",
          "2018-05-30",
          "2018-05-31",
          "2018-06-01",
          "2018-06-04",
          "2018-06-05",
          "2018-06-07",
          "2018-06-08",
          "2018-06-11",
          "2018-06-12",
          "2018-06-14",
          "2018-06-15",
          "2018-06-18",
          "2018-06-19",
          "2018-06-20",
          "2018-06-21",
          "2018-06-22",
          "2018-06-25",
          "2018-06-26",
          "2018-06-27",
          "2018-06-28",
          "2018-06-29"
         ],
         "y": [
          552189,
          585207,
          567158,
          388129,
          468961,
          465021,
          349300,
          315099,
          378465,
          378118,
          307069,
          202452,
          257604,
          177399,
          248466,
          191213,
          196611,
          303247,
          265310,
          282019,
          308467,
          428541,
          389273,
          286088,
          173779,
          401974,
          254265,
          177649,
          243698,
          164377,
          163865,
          178104,
          169082,
          297099,
          201155,
          237480,
          303189,
          201340,
          155542,
          142313,
          255365,
          247684,
          264912,
          250654,
          199008,
          219687,
          201022,
          249325,
          205566,
          157549,
          155440,
          269252,
          343811,
          235220,
          232380,
          315406,
          332292,
          360931,
          606216,
          0,
          0,
          0,
          39565391,
          23104720,
          16128305,
          13905263,
          10314997,
          14909272,
          18709146,
          15918683,
          10365440,
          6706570,
          9020998,
          17095490,
          8289275,
          15207266,
          9787820,
          8480437,
          20498098,
          63491109,
          13038499,
          9767171,
          9144100,
          13590016,
          16951706,
          10571312,
          12110569,
          20971729,
          17080892,
          16661870,
          15217971,
          12959316,
          10015541,
          10298006,
          10587711,
          11223166,
          15274752,
          12784800,
          14099635
         ]
        }
       ],
       "layout": {
        "autosize": true,
        "dragmode": "zoom",
        "legend": {
         "bgcolor": "#F5F6F9",
         "font": {
          "color": "#4D5663"
         }
        },
        "paper_bgcolor": "#F5F6F9",
        "plot_bgcolor": "#F5F6F9",
        "template": {
         "data": {
          "bar": [
           {
            "error_x": {
             "color": "#2a3f5f"
            },
            "error_y": {
             "color": "#2a3f5f"
            },
            "marker": {
             "line": {
              "color": "#E5ECF6",
              "width": 0.5
             },
             "pattern": {
              "fillmode": "overlay",
              "size": 10,
              "solidity": 0.2
             }
            },
            "type": "bar"
           }
          ],
          "barpolar": [
           {
            "marker": {
             "line": {
              "color": "#E5ECF6",
              "width": 0.5
             },
             "pattern": {
              "fillmode": "overlay",
              "size": 10,
              "solidity": 0.2
             }
            },
            "type": "barpolar"
           }
          ],
          "carpet": [
           {
            "aaxis": {
             "endlinecolor": "#2a3f5f",
             "gridcolor": "white",
             "linecolor": "white",
             "minorgridcolor": "white",
             "startlinecolor": "#2a3f5f"
            },
            "baxis": {
             "endlinecolor": "#2a3f5f",
             "gridcolor": "white",
             "linecolor": "white",
             "minorgridcolor": "white",
             "startlinecolor": "#2a3f5f"
            },
            "type": "carpet"
           }
          ],
          "choropleth": [
           {
            "colorbar": {
             "outlinewidth": 0,
             "ticks": ""
            },
            "type": "choropleth"
           }
          ],
          "contour": [
           {
            "colorbar": {
             "outlinewidth": 0,
             "ticks": ""
            },
            "colorscale": [
             [
              0,
              "#0d0887"
             ],
             [
              0.1111111111111111,
              "#46039f"
             ],
             [
              0.2222222222222222,
              "#7201a8"
             ],
             [
              0.3333333333333333,
              "#9c179e"
             ],
             [
              0.4444444444444444,
              "#bd3786"
             ],
             [
              0.5555555555555556,
              "#d8576b"
             ],
             [
              0.6666666666666666,
              "#ed7953"
             ],
             [
              0.7777777777777778,
              "#fb9f3a"
             ],
             [
              0.8888888888888888,
              "#fdca26"
             ],
             [
              1,
              "#f0f921"
             ]
            ],
            "type": "contour"
           }
          ],
          "contourcarpet": [
           {
            "colorbar": {
             "outlinewidth": 0,
             "ticks": ""
            },
            "type": "contourcarpet"
           }
          ],
          "heatmap": [
           {
            "colorbar": {
             "outlinewidth": 0,
             "ticks": ""
            },
            "colorscale": [
             [
              0,
              "#0d0887"
             ],
             [
              0.1111111111111111,
              "#46039f"
             ],
             [
              0.2222222222222222,
              "#7201a8"
             ],
             [
              0.3333333333333333,
              "#9c179e"
             ],
             [
              0.4444444444444444,
              "#bd3786"
             ],
             [
              0.5555555555555556,
              "#d8576b"
             ],
             [
              0.6666666666666666,
              "#ed7953"
             ],
             [
              0.7777777777777778,
              "#fb9f3a"
             ],
             [
              0.8888888888888888,
              "#fdca26"
             ],
             [
              1,
              "#f0f921"
             ]
            ],
            "type": "heatmap"
           }
          ],
          "heatmapgl": [
           {
            "colorbar": {
             "outlinewidth": 0,
             "ticks": ""
            },
            "colorscale": [
             [
              0,
              "#0d0887"
             ],
             [
              0.1111111111111111,
              "#46039f"
             ],
             [
              0.2222222222222222,
              "#7201a8"
             ],
             [
              0.3333333333333333,
              "#9c179e"
             ],
             [
              0.4444444444444444,
              "#bd3786"
             ],
             [
              0.5555555555555556,
              "#d8576b"
             ],
             [
              0.6666666666666666,
              "#ed7953"
             ],
             [
              0.7777777777777778,
              "#fb9f3a"
             ],
             [
              0.8888888888888888,
              "#fdca26"
             ],
             [
              1,
              "#f0f921"
             ]
            ],
            "type": "heatmapgl"
           }
          ],
          "histogram": [
           {
            "marker": {
             "pattern": {
              "fillmode": "overlay",
              "size": 10,
              "solidity": 0.2
             }
            },
            "type": "histogram"
           }
          ],
          "histogram2d": [
           {
            "colorbar": {
             "outlinewidth": 0,
             "ticks": ""
            },
            "colorscale": [
             [
              0,
              "#0d0887"
             ],
             [
              0.1111111111111111,
              "#46039f"
             ],
             [
              0.2222222222222222,
              "#7201a8"
             ],
             [
              0.3333333333333333,
              "#9c179e"
             ],
             [
              0.4444444444444444,
              "#bd3786"
             ],
             [
              0.5555555555555556,
              "#d8576b"
             ],
             [
              0.6666666666666666,
              "#ed7953"
             ],
             [
              0.7777777777777778,
              "#fb9f3a"
             ],
             [
              0.8888888888888888,
              "#fdca26"
             ],
             [
              1,
              "#f0f921"
             ]
            ],
            "type": "histogram2d"
           }
          ],
          "histogram2dcontour": [
           {
            "colorbar": {
             "outlinewidth": 0,
             "ticks": ""
            },
            "colorscale": [
             [
              0,
              "#0d0887"
             ],
             [
              0.1111111111111111,
              "#46039f"
             ],
             [
              0.2222222222222222,
              "#7201a8"
             ],
             [
              0.3333333333333333,
              "#9c179e"
             ],
             [
              0.4444444444444444,
              "#bd3786"
             ],
             [
              0.5555555555555556,
              "#d8576b"
             ],
             [
              0.6666666666666666,
              "#ed7953"
             ],
             [
              0.7777777777777778,
              "#fb9f3a"
             ],
             [
              0.8888888888888888,
              "#fdca26"
             ],
             [
              1,
              "#f0f921"
             ]
            ],
            "type": "histogram2dcontour"
           }
          ],
          "mesh3d": [
           {
            "colorbar": {
             "outlinewidth": 0,
             "ticks": ""
            },
            "type": "mesh3d"
           }
          ],
          "parcoords": [
           {
            "line": {
             "colorbar": {
              "outlinewidth": 0,
              "ticks": ""
             }
            },
            "type": "parcoords"
           }
          ],
          "pie": [
           {
            "automargin": true,
            "type": "pie"
           }
          ],
          "scatter": [
           {
            "fillpattern": {
             "fillmode": "overlay",
             "size": 10,
             "solidity": 0.2
            },
            "type": "scatter"
           }
          ],
          "scatter3d": [
           {
            "line": {
             "colorbar": {
              "outlinewidth": 0,
              "ticks": ""
             }
            },
            "marker": {
             "colorbar": {
              "outlinewidth": 0,
              "ticks": ""
             }
            },
            "type": "scatter3d"
           }
          ],
          "scattercarpet": [
           {
            "marker": {
             "colorbar": {
              "outlinewidth": 0,
              "ticks": ""
             }
            },
            "type": "scattercarpet"
           }
          ],
          "scattergeo": [
           {
            "marker": {
             "colorbar": {
              "outlinewidth": 0,
              "ticks": ""
             }
            },
            "type": "scattergeo"
           }
          ],
          "scattergl": [
           {
            "marker": {
             "colorbar": {
              "outlinewidth": 0,
              "ticks": ""
             }
            },
            "type": "scattergl"
           }
          ],
          "scattermapbox": [
           {
            "marker": {
             "colorbar": {
              "outlinewidth": 0,
              "ticks": ""
             }
            },
            "type": "scattermapbox"
           }
          ],
          "scatterpolar": [
           {
            "marker": {
             "colorbar": {
              "outlinewidth": 0,
              "ticks": ""
             }
            },
            "type": "scatterpolar"
           }
          ],
          "scatterpolargl": [
           {
            "marker": {
             "colorbar": {
              "outlinewidth": 0,
              "ticks": ""
             }
            },
            "type": "scatterpolargl"
           }
          ],
          "scatterternary": [
           {
            "marker": {
             "colorbar": {
              "outlinewidth": 0,
              "ticks": ""
             }
            },
            "type": "scatterternary"
           }
          ],
          "surface": [
           {
            "colorbar": {
             "outlinewidth": 0,
             "ticks": ""
            },
            "colorscale": [
             [
              0,
              "#0d0887"
             ],
             [
              0.1111111111111111,
              "#46039f"
             ],
             [
              0.2222222222222222,
              "#7201a8"
             ],
             [
              0.3333333333333333,
              "#9c179e"
             ],
             [
              0.4444444444444444,
              "#bd3786"
             ],
             [
              0.5555555555555556,
              "#d8576b"
             ],
             [
              0.6666666666666666,
              "#ed7953"
             ],
             [
              0.7777777777777778,
              "#fb9f3a"
             ],
             [
              0.8888888888888888,
              "#fdca26"
             ],
             [
              1,
              "#f0f921"
             ]
            ],
            "type": "surface"
           }
          ],
          "table": [
           {
            "cells": {
             "fill": {
              "color": "#EBF0F8"
             },
             "line": {
              "color": "white"
             }
            },
            "header": {
             "fill": {
              "color": "#C8D4E3"
             },
             "line": {
              "color": "white"
             }
            },
            "type": "table"
           }
          ]
         },
         "layout": {
          "annotationdefaults": {
           "arrowcolor": "#2a3f5f",
           "arrowhead": 0,
           "arrowwidth": 1
          },
          "autotypenumbers": "strict",
          "coloraxis": {
           "colorbar": {
            "outlinewidth": 0,
            "ticks": ""
           }
          },
          "colorscale": {
           "diverging": [
            [
             0,
             "#8e0152"
            ],
            [
             0.1,
             "#c51b7d"
            ],
            [
             0.2,
             "#de77ae"
            ],
            [
             0.3,
             "#f1b6da"
            ],
            [
             0.4,
             "#fde0ef"
            ],
            [
             0.5,
             "#f7f7f7"
            ],
            [
             0.6,
             "#e6f5d0"
            ],
            [
             0.7,
             "#b8e186"
            ],
            [
             0.8,
             "#7fbc41"
            ],
            [
             0.9,
             "#4d9221"
            ],
            [
             1,
             "#276419"
            ]
           ],
           "sequential": [
            [
             0,
             "#0d0887"
            ],
            [
             0.1111111111111111,
             "#46039f"
            ],
            [
             0.2222222222222222,
             "#7201a8"
            ],
            [
             0.3333333333333333,
             "#9c179e"
            ],
            [
             0.4444444444444444,
             "#bd3786"
            ],
            [
             0.5555555555555556,
             "#d8576b"
            ],
            [
             0.6666666666666666,
             "#ed7953"
            ],
            [
             0.7777777777777778,
             "#fb9f3a"
            ],
            [
             0.8888888888888888,
             "#fdca26"
            ],
            [
             1,
             "#f0f921"
            ]
           ],
           "sequentialminus": [
            [
             0,
             "#0d0887"
            ],
            [
             0.1111111111111111,
             "#46039f"
            ],
            [
             0.2222222222222222,
             "#7201a8"
            ],
            [
             0.3333333333333333,
             "#9c179e"
            ],
            [
             0.4444444444444444,
             "#bd3786"
            ],
            [
             0.5555555555555556,
             "#d8576b"
            ],
            [
             0.6666666666666666,
             "#ed7953"
            ],
            [
             0.7777777777777778,
             "#fb9f3a"
            ],
            [
             0.8888888888888888,
             "#fdca26"
            ],
            [
             1,
             "#f0f921"
            ]
           ]
          },
          "colorway": [
           "#636efa",
           "#EF553B",
           "#00cc96",
           "#ab63fa",
           "#FFA15A",
           "#19d3f3",
           "#FF6692",
           "#B6E880",
           "#FF97FF",
           "#FECB52"
          ],
          "font": {
           "color": "#2a3f5f"
          },
          "geo": {
           "bgcolor": "white",
           "lakecolor": "white",
           "landcolor": "#E5ECF6",
           "showlakes": true,
           "showland": true,
           "subunitcolor": "white"
          },
          "hoverlabel": {
           "align": "left"
          },
          "hovermode": "closest",
          "mapbox": {
           "style": "light"
          },
          "paper_bgcolor": "white",
          "plot_bgcolor": "#E5ECF6",
          "polar": {
           "angularaxis": {
            "gridcolor": "white",
            "linecolor": "white",
            "ticks": ""
           },
           "bgcolor": "#E5ECF6",
           "radialaxis": {
            "gridcolor": "white",
            "linecolor": "white",
            "ticks": ""
           }
          },
          "scene": {
           "xaxis": {
            "backgroundcolor": "#E5ECF6",
            "gridcolor": "white",
            "gridwidth": 2,
            "linecolor": "white",
            "showbackground": true,
            "ticks": "",
            "zerolinecolor": "white"
           },
           "yaxis": {
            "backgroundcolor": "#E5ECF6",
            "gridcolor": "white",
            "gridwidth": 2,
            "linecolor": "white",
            "showbackground": true,
            "ticks": "",
            "zerolinecolor": "white"
           },
           "zaxis": {
            "backgroundcolor": "#E5ECF6",
            "gridcolor": "white",
            "gridwidth": 2,
            "linecolor": "white",
            "showbackground": true,
            "ticks": "",
            "zerolinecolor": "white"
           }
          },
          "shapedefaults": {
           "line": {
            "color": "#2a3f5f"
           }
          },
          "ternary": {
           "aaxis": {
            "gridcolor": "white",
            "linecolor": "white",
            "ticks": ""
           },
           "baxis": {
            "gridcolor": "white",
            "linecolor": "white",
            "ticks": ""
           },
           "bgcolor": "#E5ECF6",
           "caxis": {
            "gridcolor": "white",
            "linecolor": "white",
            "ticks": ""
           }
          },
          "title": {
           "x": 0.05
          },
          "xaxis": {
           "automargin": true,
           "gridcolor": "white",
           "linecolor": "white",
           "ticks": "",
           "title": {
            "standoff": 15
           },
           "zerolinecolor": "white",
           "zerolinewidth": 2
          },
          "yaxis": {
           "automargin": true,
           "gridcolor": "white",
           "linecolor": "white",
           "ticks": "",
           "title": {
            "standoff": 15
           },
           "zerolinecolor": "white",
           "zerolinewidth": 2
          }
         }
        },
        "title": {
         "font": {
          "color": "#4D5663"
         }
        },
        "xaxis": {
         "autorange": false,
         "gridcolor": "#E1E5ED",
         "range": [
          "2018-04-26 00:38:54.2649",
          "2018-05-12 13:31:11.6953"
         ],
         "showgrid": true,
         "tickfont": {
          "color": "#4D5663"
         },
         "title": {
          "font": {
           "color": "#4D5663"
          },
          "text": ""
         },
         "type": "date",
         "zerolinecolor": "#E1E5ED"
        },
        "yaxis": {
         "autorange": false,
         "gridcolor": "#E1E5ED",
         "range": [
          -109345798.83333334,
          172836907.83333334
         ],
         "showgrid": true,
         "tickfont": {
          "color": "#4D5663"
         },
         "title": {
          "font": {
           "color": "#4D5663"
          },
          "text": ""
         },
         "type": "linear",
         "zerolinecolor": "#E1E5ED"
        }
       }
      },
      "image/png": "[encoded data removed]",
      "text/html": [
       "<div>                            <div id=\"bb6108de-4e1b-4a99-855b-b63915383a3c\" class=\"plotly-graph-div\" style=\"height:525px; width:100%;\"></div>            <script type=\"text/javascript\">                require([\"plotly\"], function(Plotly) {                    window.PLOTLYENV=window.PLOTLYENV || {};\n",
       "                    window.PLOTLYENV.BASE_URL='https://plot.ly';                                    if (document.getElementById(\"bb6108de-4e1b-4a99-855b-b63915383a3c\")) {                    Plotly.newPlot(                        \"bb6108de-4e1b-4a99-855b-b63915383a3c\",                        [{\"line\":{\"color\":\"rgba(255, 153, 51, 1.0)\",\"dash\":\"solid\",\"shape\":\"linear\",\"width\":1.3},\"mode\":\"lines\",\"name\":\"Volume\",\"text\":\"\",\"x\":[\"2018-02-01\",\"2018-02-02\",\"2018-02-05\",\"2018-02-06\",\"2018-02-07\",\"2018-02-08\",\"2018-02-09\",\"2018-02-12\",\"2018-02-13\",\"2018-02-14\",\"2018-02-19\",\"2018-02-20\",\"2018-02-21\",\"2018-02-22\",\"2018-02-23\",\"2018-02-26\",\"2018-02-27\",\"2018-02-28\",\"2018-03-02\",\"2018-03-05\",\"2018-03-06\",\"2018-03-07\",\"2018-03-08\",\"2018-03-09\",\"2018-03-12\",\"2018-03-13\",\"2018-03-14\",\"2018-03-15\",\"2018-03-16\",\"2018-03-19\",\"2018-03-20\",\"2018-03-21\",\"2018-03-22\",\"2018-03-23\",\"2018-03-26\",\"2018-03-27\",\"2018-03-28\",\"2018-03-29\",\"2018-03-30\",\"2018-04-02\",\"2018-04-03\",\"2018-04-04\",\"2018-04-05\",\"2018-04-06\",\"2018-04-09\",\"2018-04-10\",\"2018-04-11\",\"2018-04-12\",\"2018-04-13\",\"2018-04-16\",\"2018-04-17\",\"2018-04-18\",\"2018-04-19\",\"2018-04-20\",\"2018-04-23\",\"2018-04-24\",\"2018-04-25\",\"2018-04-26\",\"2018-04-27\",\"2018-04-30\",\"2018-05-02\",\"2018-05-03\",\"2018-05-04\",\"2018-05-08\",\"2018-05-09\",\"2018-05-10\",\"2018-05-11\",\"2018-05-14\",\"2018-05-15\",\"2018-05-16\",\"2018-05-17\",\"2018-05-18\",\"2018-05-21\",\"2018-05-23\",\"2018-05-24\",\"2018-05-25\",\"2018-05-28\",\"2018-05-29\",\"2018-05-30\",\"2018-05-31\",\"2018-06-01\",\"2018-06-04\",\"2018-06-05\",\"2018-06-07\",\"2018-06-08\",\"2018-06-11\",\"2018-06-12\",\"2018-06-14\",\"2018-06-15\",\"2018-06-18\",\"2018-06-19\",\"2018-06-20\",\"2018-06-21\",\"2018-06-22\",\"2018-06-25\",\"2018-06-26\",\"2018-06-27\",\"2018-06-28\",\"2018-06-29\"],\"y\":[552189,585207,567158,388129,468961,465021,349300,315099,378465,378118,307069,202452,257604,177399,248466,191213,196611,303247,265310,282019,308467,428541,389273,286088,173779,401974,254265,177649,243698,164377,163865,178104,169082,297099,201155,237480,303189,201340,155542,142313,255365,247684,264912,250654,199008,219687,201022,249325,205566,157549,155440,269252,343811,235220,232380,315406,332292,360931,606216,0,0,0,39565391,23104720,16128305,13905263,10314997,14909272,18709146,15918683,10365440,6706570,9020998,17095490,8289275,15207266,9787820,8480437,20498098,63491109,13038499,9767171,9144100,13590016,16951706,10571312,12110569,20971729,17080892,16661870,15217971,12959316,10015541,10298006,10587711,11223166,15274752,12784800,14099635],\"type\":\"scatter\"}],                        {\"legend\":{\"bgcolor\":\"#F5F6F9\",\"font\":{\"color\":\"#4D5663\"}},\"paper_bgcolor\":\"#F5F6F9\",\"plot_bgcolor\":\"#F5F6F9\",\"template\":{\"data\":{\"barpolar\":[{\"marker\":{\"line\":{\"color\":\"#E5ECF6\",\"width\":0.5},\"pattern\":{\"fillmode\":\"overlay\",\"size\":10,\"solidity\":0.2}},\"type\":\"barpolar\"}],\"bar\":[{\"error_x\":{\"color\":\"#2a3f5f\"},\"error_y\":{\"color\":\"#2a3f5f\"},\"marker\":{\"line\":{\"color\":\"#E5ECF6\",\"width\":0.5},\"pattern\":{\"fillmode\":\"overlay\",\"size\":10,\"solidity\":0.2}},\"type\":\"bar\"}],\"carpet\":[{\"aaxis\":{\"endlinecolor\":\"#2a3f5f\",\"gridcolor\":\"white\",\"linecolor\":\"white\",\"minorgridcolor\":\"white\",\"startlinecolor\":\"#2a3f5f\"},\"baxis\":{\"endlinecolor\":\"#2a3f5f\",\"gridcolor\":\"white\",\"linecolor\":\"white\",\"minorgridcolor\":\"white\",\"startlinecolor\":\"#2a3f5f\"},\"type\":\"carpet\"}],\"choropleth\":[{\"colorbar\":{\"outlinewidth\":0,\"ticks\":\"\"},\"type\":\"choropleth\"}],\"contourcarpet\":[{\"colorbar\":{\"outlinewidth\":0,\"ticks\":\"\"},\"type\":\"contourcarpet\"}],\"contour\":[{\"colorbar\":{\"outlinewidth\":0,\"ticks\":\"\"},\"colorscale\":[[0.0,\"#0d0887\"],[0.1111111111111111,\"#46039f\"],[0.2222222222222222,\"#7201a8\"],[0.3333333333333333,\"#9c179e\"],[0.4444444444444444,\"#bd3786\"],[0.5555555555555556,\"#d8576b\"],[0.6666666666666666,\"#ed7953\"],[0.7777777777777778,\"#fb9f3a\"],[0.8888888888888888,\"#fdca26\"],[1.0,\"#f0f921\"]],\"type\":\"contour\"}],\"heatmapgl\":[{\"colorbar\":{\"outlinewidth\":0,\"ticks\":\"\"},\"colorscale\":[[0.0,\"#0d0887\"],[0.1111111111111111,\"#46039f\"],[0.2222222222222222,\"#7201a8\"],[0.3333333333333333,\"#9c179e\"],[0.4444444444444444,\"#bd3786\"],[0.5555555555555556,\"#d8576b\"],[0.6666666666666666,\"#ed7953\"],[0.7777777777777778,\"#fb9f3a\"],[0.8888888888888888,\"#fdca26\"],[1.0,\"#f0f921\"]],\"type\":\"heatmapgl\"}],\"heatmap\":[{\"colorbar\":{\"outlinewidth\":0,\"ticks\":\"\"},\"colorscale\":[[0.0,\"#0d0887\"],[0.1111111111111111,\"#46039f\"],[0.2222222222222222,\"#7201a8\"],[0.3333333333333333,\"#9c179e\"],[0.4444444444444444,\"#bd3786\"],[0.5555555555555556,\"#d8576b\"],[0.6666666666666666,\"#ed7953\"],[0.7777777777777778,\"#fb9f3a\"],[0.8888888888888888,\"#fdca26\"],[1.0,\"#f0f921\"]],\"type\":\"heatmap\"}],\"histogram2dcontour\":[{\"colorbar\":{\"outlinewidth\":0,\"ticks\":\"\"},\"colorscale\":[[0.0,\"#0d0887\"],[0.1111111111111111,\"#46039f\"],[0.2222222222222222,\"#7201a8\"],[0.3333333333333333,\"#9c179e\"],[0.4444444444444444,\"#bd3786\"],[0.5555555555555556,\"#d8576b\"],[0.6666666666666666,\"#ed7953\"],[0.7777777777777778,\"#fb9f3a\"],[0.8888888888888888,\"#fdca26\"],[1.0,\"#f0f921\"]],\"type\":\"histogram2dcontour\"}],\"histogram2d\":[{\"colorbar\":{\"outlinewidth\":0,\"ticks\":\"\"},\"colorscale\":[[0.0,\"#0d0887\"],[0.1111111111111111,\"#46039f\"],[0.2222222222222222,\"#7201a8\"],[0.3333333333333333,\"#9c179e\"],[0.4444444444444444,\"#bd3786\"],[0.5555555555555556,\"#d8576b\"],[0.6666666666666666,\"#ed7953\"],[0.7777777777777778,\"#fb9f3a\"],[0.8888888888888888,\"#fdca26\"],[1.0,\"#f0f921\"]],\"type\":\"histogram2d\"}],\"histogram\":[{\"marker\":{\"pattern\":{\"fillmode\":\"overlay\",\"size\":10,\"solidity\":0.2}},\"type\":\"histogram\"}],\"mesh3d\":[{\"colorbar\":{\"outlinewidth\":0,\"ticks\":\"\"},\"type\":\"mesh3d\"}],\"parcoords\":[{\"line\":{\"colorbar\":{\"outlinewidth\":0,\"ticks\":\"\"}},\"type\":\"parcoords\"}],\"pie\":[{\"automargin\":true,\"type\":\"pie\"}],\"scatter3d\":[{\"line\":{\"colorbar\":{\"outlinewidth\":0,\"ticks\":\"\"}},\"marker\":{\"colorbar\":{\"outlinewidth\":0,\"ticks\":\"\"}},\"type\":\"scatter3d\"}],\"scattercarpet\":[{\"marker\":{\"colorbar\":{\"outlinewidth\":0,\"ticks\":\"\"}},\"type\":\"scattercarpet\"}],\"scattergeo\":[{\"marker\":{\"colorbar\":{\"outlinewidth\":0,\"ticks\":\"\"}},\"type\":\"scattergeo\"}],\"scattergl\":[{\"marker\":{\"colorbar\":{\"outlinewidth\":0,\"ticks\":\"\"}},\"type\":\"scattergl\"}],\"scattermapbox\":[{\"marker\":{\"colorbar\":{\"outlinewidth\":0,\"ticks\":\"\"}},\"type\":\"scattermapbox\"}],\"scatterpolargl\":[{\"marker\":{\"colorbar\":{\"outlinewidth\":0,\"ticks\":\"\"}},\"type\":\"scatterpolargl\"}],\"scatterpolar\":[{\"marker\":{\"colorbar\":{\"outlinewidth\":0,\"ticks\":\"\"}},\"type\":\"scatterpolar\"}],\"scatter\":[{\"fillpattern\":{\"fillmode\":\"overlay\",\"size\":10,\"solidity\":0.2},\"type\":\"scatter\"}],\"scatterternary\":[{\"marker\":{\"colorbar\":{\"outlinewidth\":0,\"ticks\":\"\"}},\"type\":\"scatterternary\"}],\"surface\":[{\"colorbar\":{\"outlinewidth\":0,\"ticks\":\"\"},\"colorscale\":[[0.0,\"#0d0887\"],[0.1111111111111111,\"#46039f\"],[0.2222222222222222,\"#7201a8\"],[0.3333333333333333,\"#9c179e\"],[0.4444444444444444,\"#bd3786\"],[0.5555555555555556,\"#d8576b\"],[0.6666666666666666,\"#ed7953\"],[0.7777777777777778,\"#fb9f3a\"],[0.8888888888888888,\"#fdca26\"],[1.0,\"#f0f921\"]],\"type\":\"surface\"}],\"table\":[{\"cells\":{\"fill\":{\"color\":\"#EBF0F8\"},\"line\":{\"color\":\"white\"}},\"header\":{\"fill\":{\"color\":\"#C8D4E3\"},\"line\":{\"color\":\"white\"}},\"type\":\"table\"}]},\"layout\":{\"annotationdefaults\":{\"arrowcolor\":\"#2a3f5f\",\"arrowhead\":0,\"arrowwidth\":1},\"autotypenumbers\":\"strict\",\"coloraxis\":{\"colorbar\":{\"outlinewidth\":0,\"ticks\":\"\"}},\"colorscale\":{\"diverging\":[[0,\"#8e0152\"],[0.1,\"#c51b7d\"],[0.2,\"#de77ae\"],[0.3,\"#f1b6da\"],[0.4,\"#fde0ef\"],[0.5,\"#f7f7f7\"],[0.6,\"#e6f5d0\"],[0.7,\"#b8e186\"],[0.8,\"#7fbc41\"],[0.9,\"#4d9221\"],[1,\"#276419\"]],\"sequential\":[[0.0,\"#0d0887\"],[0.1111111111111111,\"#46039f\"],[0.2222222222222222,\"#7201a8\"],[0.3333333333333333,\"#9c179e\"],[0.4444444444444444,\"#bd3786\"],[0.5555555555555556,\"#d8576b\"],[0.6666666666666666,\"#ed7953\"],[0.7777777777777778,\"#fb9f3a\"],[0.8888888888888888,\"#fdca26\"],[1.0,\"#f0f921\"]],\"sequentialminus\":[[0.0,\"#0d0887\"],[0.1111111111111111,\"#46039f\"],[0.2222222222222222,\"#7201a8\"],[0.3333333333333333,\"#9c179e\"],[0.4444444444444444,\"#bd3786\"],[0.5555555555555556,\"#d8576b\"],[0.6666666666666666,\"#ed7953\"],[0.7777777777777778,\"#fb9f3a\"],[0.8888888888888888,\"#fdca26\"],[1.0,\"#f0f921\"]]},\"colorway\":[\"#636efa\",\"#EF553B\",\"#00cc96\",\"#ab63fa\",\"#FFA15A\",\"#19d3f3\",\"#FF6692\",\"#B6E880\",\"#FF97FF\",\"#FECB52\"],\"font\":{\"color\":\"#2a3f5f\"},\"geo\":{\"bgcolor\":\"white\",\"lakecolor\":\"white\",\"landcolor\":\"#E5ECF6\",\"showlakes\":true,\"showland\":true,\"subunitcolor\":\"white\"},\"hoverlabel\":{\"align\":\"left\"},\"hovermode\":\"closest\",\"mapbox\":{\"style\":\"light\"},\"paper_bgcolor\":\"white\",\"plot_bgcolor\":\"#E5ECF6\",\"polar\":{\"angularaxis\":{\"gridcolor\":\"white\",\"linecolor\":\"white\",\"ticks\":\"\"},\"bgcolor\":\"#E5ECF6\",\"radialaxis\":{\"gridcolor\":\"white\",\"linecolor\":\"white\",\"ticks\":\"\"}},\"scene\":{\"xaxis\":{\"backgroundcolor\":\"#E5ECF6\",\"gridcolor\":\"white\",\"gridwidth\":2,\"linecolor\":\"white\",\"showbackground\":true,\"ticks\":\"\",\"zerolinecolor\":\"white\"},\"yaxis\":{\"backgroundcolor\":\"#E5ECF6\",\"gridcolor\":\"white\",\"gridwidth\":2,\"linecolor\":\"white\",\"showbackground\":true,\"ticks\":\"\",\"zerolinecolor\":\"white\"},\"zaxis\":{\"backgroundcolor\":\"#E5ECF6\",\"gridcolor\":\"white\",\"gridwidth\":2,\"linecolor\":\"white\",\"showbackground\":true,\"ticks\":\"\",\"zerolinecolor\":\"white\"}},\"shapedefaults\":{\"line\":{\"color\":\"#2a3f5f\"}},\"ternary\":{\"aaxis\":{\"gridcolor\":\"white\",\"linecolor\":\"white\",\"ticks\":\"\"},\"baxis\":{\"gridcolor\":\"white\",\"linecolor\":\"white\",\"ticks\":\"\"},\"bgcolor\":\"#E5ECF6\",\"caxis\":{\"gridcolor\":\"white\",\"linecolor\":\"white\",\"ticks\":\"\"}},\"title\":{\"x\":0.05},\"xaxis\":{\"automargin\":true,\"gridcolor\":\"white\",\"linecolor\":\"white\",\"ticks\":\"\",\"title\":{\"standoff\":15},\"zerolinecolor\":\"white\",\"zerolinewidth\":2},\"yaxis\":{\"automargin\":true,\"gridcolor\":\"white\",\"linecolor\":\"white\",\"ticks\":\"\",\"title\":{\"standoff\":15},\"zerolinecolor\":\"white\",\"zerolinewidth\":2}}},\"title\":{\"font\":{\"color\":\"#4D5663\"}},\"xaxis\":{\"gridcolor\":\"#E1E5ED\",\"showgrid\":true,\"tickfont\":{\"color\":\"#4D5663\"},\"title\":{\"font\":{\"color\":\"#4D5663\"},\"text\":\"\"},\"zerolinecolor\":\"#E1E5ED\"},\"yaxis\":{\"gridcolor\":\"#E1E5ED\",\"showgrid\":true,\"tickfont\":{\"color\":\"#4D5663\"},\"title\":{\"font\":{\"color\":\"#4D5663\"},\"text\":\"\"},\"zerolinecolor\":\"#E1E5ED\"}},                        {\"showLink\": true, \"linkText\": \"Export to plot.ly\", \"plotlyServerURL\": \"https://plot.ly\", \"responsive\": true}                    ).then(function(){\n",
       "                            \n",
       "var gd = document.getElementById('bb6108de-4e1b-4a99-855b-b63915383a3c');\n",
       "var x = new MutationObserver(function (mutations, observer) {{\n",
       "        var display = window.getComputedStyle(gd).display;\n",
       "        if (!display || display === 'none') {{\n",
       "            console.log([gd, 'removed!']);\n",
       "            Plotly.purge(gd);\n",
       "            observer.disconnect();\n",
       "        }}\n",
       "}});\n",
       "\n",
       "// Listen for the removal of the full notebook cells\n",
       "var notebookContainer = gd.closest('#notebook-container');\n",
       "if (notebookContainer) {{\n",
       "    x.observe(notebookContainer, {childList: true});\n",
       "}}\n",
       "\n",
       "// Listen for the clearing of the current output cell\n",
       "var outputEl = gd.closest('.output');\n",
       "if (outputEl) {{\n",
       "    x.observe(outputEl, {childList: true});\n",
       "}}\n",
       "\n",
       "                        })                };                });            </script>        </div>"
      ]
     },
     "metadata": {},
     "output_type": "display_data"
    }
   ],
   "source": [
    "df_samsung['Volume'].iplot(kind = 'line')"
   ]
  },
  {
   "cell_type": "markdown",
   "id": "1424f321",
   "metadata": {},
   "source": [
    "삼성전자는 기존의 1주를 50주로 쪼개는 액면분할을 실시하여 4.30 ~ 5.2일까지 거래정지기간으로 나타났다.<br>"
   ]
  },
  {
   "cell_type": "markdown",
   "id": "25c04ceb",
   "metadata": {},
   "source": [
    "## 신풍제약 주가 시각화\n",
    "- 2020년 7월 1일 ~ 2020년 11월 30일까지 시각화\n",
    "- 종가를 제외한 주가에서 모두 O으로 나타남\n",
    "- iplot 활용"
   ]
  },
  {
   "cell_type": "code",
   "execution_count": 30,
   "id": "a3967651",
   "metadata": {
    "ExecuteTime": {
     "end_time": "2022-12-07T12:39:50.632554Z",
     "start_time": "2022-12-07T12:39:50.434087Z"
    }
   },
   "outputs": [
    {
     "data": {
      "text/html": [
       "<div>\n",
       "<style scoped>\n",
       "    .dataframe tbody tr th:only-of-type {\n",
       "        vertical-align: middle;\n",
       "    }\n",
       "\n",
       "    .dataframe tbody tr th {\n",
       "        vertical-align: top;\n",
       "    }\n",
       "\n",
       "    .dataframe thead th {\n",
       "        text-align: right;\n",
       "    }\n",
       "</style>\n",
       "<table border=\"1\" class=\"dataframe\">\n",
       "  <thead>\n",
       "    <tr style=\"text-align: right;\">\n",
       "      <th></th>\n",
       "      <th>Open</th>\n",
       "      <th>High</th>\n",
       "      <th>Low</th>\n",
       "      <th>Close</th>\n",
       "      <th>Volume</th>\n",
       "      <th>Change</th>\n",
       "    </tr>\n",
       "    <tr>\n",
       "      <th>Date</th>\n",
       "      <th></th>\n",
       "      <th></th>\n",
       "      <th></th>\n",
       "      <th></th>\n",
       "      <th></th>\n",
       "      <th></th>\n",
       "    </tr>\n",
       "  </thead>\n",
       "  <tbody>\n",
       "    <tr>\n",
       "      <th>2020-07-01</th>\n",
       "      <td>30400</td>\n",
       "      <td>31150</td>\n",
       "      <td>29150</td>\n",
       "      <td>29250</td>\n",
       "      <td>2957350</td>\n",
       "      <td>-0.031457</td>\n",
       "    </tr>\n",
       "    <tr>\n",
       "      <th>2020-07-02</th>\n",
       "      <td>29300</td>\n",
       "      <td>29850</td>\n",
       "      <td>28900</td>\n",
       "      <td>29300</td>\n",
       "      <td>1429912</td>\n",
       "      <td>0.001709</td>\n",
       "    </tr>\n",
       "    <tr>\n",
       "      <th>2020-07-03</th>\n",
       "      <td>29300</td>\n",
       "      <td>31300</td>\n",
       "      <td>28900</td>\n",
       "      <td>29550</td>\n",
       "      <td>3505959</td>\n",
       "      <td>0.008532</td>\n",
       "    </tr>\n",
       "    <tr>\n",
       "      <th>2020-07-06</th>\n",
       "      <td>30100</td>\n",
       "      <td>32000</td>\n",
       "      <td>29750</td>\n",
       "      <td>31050</td>\n",
       "      <td>5148966</td>\n",
       "      <td>0.050761</td>\n",
       "    </tr>\n",
       "    <tr>\n",
       "      <th>2020-07-07</th>\n",
       "      <td>31400</td>\n",
       "      <td>39700</td>\n",
       "      <td>31050</td>\n",
       "      <td>37950</td>\n",
       "      <td>28716072</td>\n",
       "      <td>0.222222</td>\n",
       "    </tr>\n",
       "    <tr>\n",
       "      <th>2020-07-08</th>\n",
       "      <td>39000</td>\n",
       "      <td>44600</td>\n",
       "      <td>38500</td>\n",
       "      <td>39400</td>\n",
       "      <td>15686852</td>\n",
       "      <td>0.038208</td>\n",
       "    </tr>\n",
       "    <tr>\n",
       "      <th>2020-07-09</th>\n",
       "      <td>40250</td>\n",
       "      <td>42850</td>\n",
       "      <td>39500</td>\n",
       "      <td>41150</td>\n",
       "      <td>8047240</td>\n",
       "      <td>0.044416</td>\n",
       "    </tr>\n",
       "    <tr>\n",
       "      <th>2020-07-10</th>\n",
       "      <td>42100</td>\n",
       "      <td>52900</td>\n",
       "      <td>40800</td>\n",
       "      <td>48650</td>\n",
       "      <td>21832615</td>\n",
       "      <td>0.182260</td>\n",
       "    </tr>\n",
       "    <tr>\n",
       "      <th>2020-07-13</th>\n",
       "      <td>51300</td>\n",
       "      <td>60600</td>\n",
       "      <td>50100</td>\n",
       "      <td>60300</td>\n",
       "      <td>13164176</td>\n",
       "      <td>0.239466</td>\n",
       "    </tr>\n",
       "    <tr>\n",
       "      <th>2020-07-14</th>\n",
       "      <td>58200</td>\n",
       "      <td>72400</td>\n",
       "      <td>55400</td>\n",
       "      <td>62500</td>\n",
       "      <td>10573019</td>\n",
       "      <td>0.036484</td>\n",
       "    </tr>\n",
       "  </tbody>\n",
       "</table>\n",
       "</div>"
      ],
      "text/plain": [
       "             Open   High    Low  Close    Volume    Change\n",
       "Date                                                      \n",
       "2020-07-01  30400  31150  29150  29250   2957350 -0.031457\n",
       "2020-07-02  29300  29850  28900  29300   1429912  0.001709\n",
       "2020-07-03  29300  31300  28900  29550   3505959  0.008532\n",
       "2020-07-06  30100  32000  29750  31050   5148966  0.050761\n",
       "2020-07-07  31400  39700  31050  37950  28716072  0.222222\n",
       "2020-07-08  39000  44600  38500  39400  15686852  0.038208\n",
       "2020-07-09  40250  42850  39500  41150   8047240  0.044416\n",
       "2020-07-10  42100  52900  40800  48650  21832615  0.182260\n",
       "2020-07-13  51300  60600  50100  60300  13164176  0.239466\n",
       "2020-07-14  58200  72400  55400  62500  10573019  0.036484"
      ]
     },
     "execution_count": 30,
     "metadata": {},
     "output_type": "execute_result"
    }
   ],
   "source": [
    "import FinanceDataReader as fdr\n",
    "\n",
    "# 신풍제약\n",
    "df_sinpung = fdr.DataReader('019170', start = '2020-07-01', end = '2020-11-30')\n",
    "df_sinpung.head(10)"
   ]
  },
  {
   "cell_type": "code",
   "execution_count": 31,
   "id": "586d0a0c",
   "metadata": {},
   "outputs": [
    {
     "data": {
      "text/plain": [
       "0"
      ]
     },
     "execution_count": 31,
     "metadata": {},
     "output_type": "execute_result"
    }
   ],
   "source": [
    "min(df_sinpung['Volume'])"
   ]
  },
  {
   "cell_type": "code",
   "execution_count": 32,
   "id": "711bad15",
   "metadata": {
    "ExecuteTime": {
     "end_time": "2022-12-07T12:40:18.597092Z",
     "start_time": "2022-12-07T12:40:18.489380Z"
    }
   },
   "outputs": [
    {
     "data": {
      "application/vnd.plotly.v1+json": {
       "config": {
        "linkText": "Export to plot.ly",
        "plotlyServerURL": "https://plot.ly",
        "showLink": true
       },
       "data": [
        {
         "line": {
          "color": "rgba(255, 153, 51, 1.0)",
          "dash": "solid",
          "shape": "linear",
          "width": 1.3
         },
         "mode": "lines",
         "name": "Open",
         "text": "",
         "type": "scatter",
         "x": [
          "2020-07-01",
          "2020-07-02",
          "2020-07-03",
          "2020-07-06",
          "2020-07-07",
          "2020-07-08",
          "2020-07-09",
          "2020-07-10",
          "2020-07-13",
          "2020-07-14",
          "2020-07-15",
          "2020-07-16",
          "2020-07-17",
          "2020-07-20",
          "2020-07-21",
          "2020-07-22",
          "2020-07-23",
          "2020-07-24",
          "2020-07-27",
          "2020-07-28",
          "2020-07-29",
          "2020-07-30",
          "2020-07-31",
          "2020-08-03",
          "2020-08-04",
          "2020-08-05",
          "2020-08-06",
          "2020-08-07",
          "2020-08-10",
          "2020-08-11",
          "2020-08-12",
          "2020-08-13",
          "2020-08-14",
          "2020-08-18",
          "2020-08-19",
          "2020-08-20",
          "2020-08-21",
          "2020-08-24",
          "2020-08-25",
          "2020-08-26",
          "2020-08-27",
          "2020-08-28",
          "2020-08-31",
          "2020-09-01",
          "2020-09-02",
          "2020-09-03",
          "2020-09-04",
          "2020-09-07",
          "2020-09-08",
          "2020-09-09",
          "2020-09-10",
          "2020-09-11",
          "2020-09-14",
          "2020-09-15",
          "2020-09-16",
          "2020-09-17",
          "2020-09-18",
          "2020-09-21",
          "2020-09-22",
          "2020-09-23",
          "2020-09-24",
          "2020-09-25",
          "2020-09-28",
          "2020-09-29",
          "2020-10-05",
          "2020-10-06",
          "2020-10-07",
          "2020-10-08",
          "2020-10-12",
          "2020-10-13",
          "2020-10-14",
          "2020-10-15",
          "2020-10-16",
          "2020-10-19",
          "2020-10-20",
          "2020-10-21",
          "2020-10-22",
          "2020-10-23",
          "2020-10-26",
          "2020-10-27",
          "2020-10-28",
          "2020-10-29",
          "2020-10-30",
          "2020-11-02",
          "2020-11-03",
          "2020-11-04",
          "2020-11-05",
          "2020-11-06",
          "2020-11-09",
          "2020-11-10",
          "2020-11-11",
          "2020-11-12",
          "2020-11-13",
          "2020-11-16",
          "2020-11-17",
          "2020-11-18",
          "2020-11-19",
          "2020-11-20",
          "2020-11-23",
          "2020-11-24",
          "2020-11-25",
          "2020-11-26",
          "2020-11-27",
          "2020-11-30"
         ],
         "y": [
          30400,
          29300,
          29300,
          30100,
          31400,
          39000,
          40250,
          42100,
          51300,
          58200,
          67300,
          61100,
          65100,
          80700,
          0,
          111500,
          0,
          139000,
          100000,
          76500,
          72400,
          80300,
          87400,
          69900,
          77000,
          75900,
          78800,
          77000,
          76200,
          77000,
          75900,
          75300,
          75000,
          78500,
          85300,
          84000,
          91400,
          94400,
          101000,
          118000,
          117500,
          109500,
          113000,
          143000,
          152000,
          153500,
          150500,
          149500,
          148500,
          135000,
          143500,
          143000,
          155500,
          149000,
          147500,
          156500,
          153000,
          209000,
          167000,
          168500,
          158500,
          155000,
          140000,
          137000,
          130500,
          127500,
          134000,
          138000,
          140500,
          133500,
          122500,
          127000,
          123500,
          121500,
          127000,
          127500,
          135000,
          141000,
          142500,
          137500,
          127500,
          128000,
          129500,
          127000,
          127500,
          138000,
          135500,
          135500,
          134500,
          132500,
          129500,
          122500,
          103000,
          125000,
          123500,
          128000,
          118000,
          124500,
          123000,
          119500,
          121000,
          122500,
          129500,
          129500
         ]
        },
        {
         "line": {
          "color": "rgba(55, 128, 191, 1.0)",
          "dash": "solid",
          "shape": "linear",
          "width": 1.3
         },
         "mode": "lines",
         "name": "High",
         "text": "",
         "type": "scatter",
         "x": [
          "2020-07-01",
          "2020-07-02",
          "2020-07-03",
          "2020-07-06",
          "2020-07-07",
          "2020-07-08",
          "2020-07-09",
          "2020-07-10",
          "2020-07-13",
          "2020-07-14",
          "2020-07-15",
          "2020-07-16",
          "2020-07-17",
          "2020-07-20",
          "2020-07-21",
          "2020-07-22",
          "2020-07-23",
          "2020-07-24",
          "2020-07-27",
          "2020-07-28",
          "2020-07-29",
          "2020-07-30",
          "2020-07-31",
          "2020-08-03",
          "2020-08-04",
          "2020-08-05",
          "2020-08-06",
          "2020-08-07",
          "2020-08-10",
          "2020-08-11",
          "2020-08-12",
          "2020-08-13",
          "2020-08-14",
          "2020-08-18",
          "2020-08-19",
          "2020-08-20",
          "2020-08-21",
          "2020-08-24",
          "2020-08-25",
          "2020-08-26",
          "2020-08-27",
          "2020-08-28",
          "2020-08-31",
          "2020-09-01",
          "2020-09-02",
          "2020-09-03",
          "2020-09-04",
          "2020-09-07",
          "2020-09-08",
          "2020-09-09",
          "2020-09-10",
          "2020-09-11",
          "2020-09-14",
          "2020-09-15",
          "2020-09-16",
          "2020-09-17",
          "2020-09-18",
          "2020-09-21",
          "2020-09-22",
          "2020-09-23",
          "2020-09-24",
          "2020-09-25",
          "2020-09-28",
          "2020-09-29",
          "2020-10-05",
          "2020-10-06",
          "2020-10-07",
          "2020-10-08",
          "2020-10-12",
          "2020-10-13",
          "2020-10-14",
          "2020-10-15",
          "2020-10-16",
          "2020-10-19",
          "2020-10-20",
          "2020-10-21",
          "2020-10-22",
          "2020-10-23",
          "2020-10-26",
          "2020-10-27",
          "2020-10-28",
          "2020-10-29",
          "2020-10-30",
          "2020-11-02",
          "2020-11-03",
          "2020-11-04",
          "2020-11-05",
          "2020-11-06",
          "2020-11-09",
          "2020-11-10",
          "2020-11-11",
          "2020-11-12",
          "2020-11-13",
          "2020-11-16",
          "2020-11-17",
          "2020-11-18",
          "2020-11-19",
          "2020-11-20",
          "2020-11-23",
          "2020-11-24",
          "2020-11-25",
          "2020-11-26",
          "2020-11-27",
          "2020-11-30"
         ],
         "y": [
          31150,
          29850,
          31300,
          32000,
          39700,
          44600,
          42850,
          52900,
          60600,
          72400,
          70800,
          65200,
          75900,
          94900,
          0,
          123000,
          0,
          159500,
          103000,
          78900,
          79000,
          89300,
          93800,
          74500,
          77600,
          82000,
          81200,
          77000,
          78000,
          77600,
          76200,
          80100,
          78400,
          89100,
          86200,
          96900,
          92800,
          102000,
          122000,
          127000,
          119000,
          115000,
          136500,
          154500,
          163000,
          162000,
          156000,
          155500,
          148500,
          148000,
          147500,
          158000,
          155500,
          150500,
          155500,
          160000,
          198000,
          214000,
          191000,
          182000,
          169500,
          159000,
          151000,
          138000,
          134500,
          137000,
          144000,
          140500,
          140500,
          133500,
          131500,
          128000,
          127500,
          135500,
          130500,
          138500,
          140000,
          145000,
          143500,
          142000,
          131500,
          133000,
          131000,
          128500,
          138500,
          138500,
          137000,
          136500,
          138000,
          133000,
          130500,
          123000,
          135000,
          141500,
          133000,
          129000,
          131000,
          128000,
          123500,
          123500,
          124000,
          134500,
          130000,
          132500
         ]
        },
        {
         "line": {
          "color": "rgba(50, 171, 96, 1.0)",
          "dash": "solid",
          "shape": "linear",
          "width": 1.3
         },
         "mode": "lines",
         "name": "Low",
         "text": "",
         "type": "scatter",
         "x": [
          "2020-07-01",
          "2020-07-02",
          "2020-07-03",
          "2020-07-06",
          "2020-07-07",
          "2020-07-08",
          "2020-07-09",
          "2020-07-10",
          "2020-07-13",
          "2020-07-14",
          "2020-07-15",
          "2020-07-16",
          "2020-07-17",
          "2020-07-20",
          "2020-07-21",
          "2020-07-22",
          "2020-07-23",
          "2020-07-24",
          "2020-07-27",
          "2020-07-28",
          "2020-07-29",
          "2020-07-30",
          "2020-07-31",
          "2020-08-03",
          "2020-08-04",
          "2020-08-05",
          "2020-08-06",
          "2020-08-07",
          "2020-08-10",
          "2020-08-11",
          "2020-08-12",
          "2020-08-13",
          "2020-08-14",
          "2020-08-18",
          "2020-08-19",
          "2020-08-20",
          "2020-08-21",
          "2020-08-24",
          "2020-08-25",
          "2020-08-26",
          "2020-08-27",
          "2020-08-28",
          "2020-08-31",
          "2020-09-01",
          "2020-09-02",
          "2020-09-03",
          "2020-09-04",
          "2020-09-07",
          "2020-09-08",
          "2020-09-09",
          "2020-09-10",
          "2020-09-11",
          "2020-09-14",
          "2020-09-15",
          "2020-09-16",
          "2020-09-17",
          "2020-09-18",
          "2020-09-21",
          "2020-09-22",
          "2020-09-23",
          "2020-09-24",
          "2020-09-25",
          "2020-09-28",
          "2020-09-29",
          "2020-10-05",
          "2020-10-06",
          "2020-10-07",
          "2020-10-08",
          "2020-10-12",
          "2020-10-13",
          "2020-10-14",
          "2020-10-15",
          "2020-10-16",
          "2020-10-19",
          "2020-10-20",
          "2020-10-21",
          "2020-10-22",
          "2020-10-23",
          "2020-10-26",
          "2020-10-27",
          "2020-10-28",
          "2020-10-29",
          "2020-10-30",
          "2020-11-02",
          "2020-11-03",
          "2020-11-04",
          "2020-11-05",
          "2020-11-06",
          "2020-11-09",
          "2020-11-10",
          "2020-11-11",
          "2020-11-12",
          "2020-11-13",
          "2020-11-16",
          "2020-11-17",
          "2020-11-18",
          "2020-11-19",
          "2020-11-20",
          "2020-11-23",
          "2020-11-24",
          "2020-11-25",
          "2020-11-26",
          "2020-11-27",
          "2020-11-30"
         ],
         "y": [
          29150,
          28900,
          28900,
          29750,
          31050,
          38500,
          39500,
          40800,
          50100,
          55400,
          56000,
          59300,
          63600,
          78000,
          0,
          95200,
          0,
          105000,
          73500,
          55000,
          68700,
          76500,
          69000,
          68900,
          68500,
          73000,
          71000,
          73300,
          74100,
          75300,
          68400,
          73800,
          70700,
          76200,
          81700,
          82500,
          86000,
          91900,
          99000,
          106500,
          109000,
          105500,
          112000,
          137500,
          149000,
          151000,
          140500,
          144000,
          138000,
          130000,
          139500,
          142500,
          145500,
          146000,
          147000,
          150000,
          152000,
          181000,
          136000,
          161500,
          150000,
          131000,
          117000,
          123500,
          122500,
          125000,
          132500,
          135500,
          132000,
          122500,
          122500,
          116500,
          119000,
          119000,
          122000,
          126000,
          133000,
          138000,
          136000,
          124000,
          125000,
          127000,
          125500,
          123000,
          127000,
          128000,
          133500,
          132000,
          132500,
          127000,
          121000,
          102000,
          96200,
          122000,
          121500,
          120500,
          117000,
          122500,
          119000,
          113000,
          118500,
          122000,
          126500,
          127000
         ]
        },
        {
         "line": {
          "color": "rgba(128, 0, 128, 1.0)",
          "dash": "solid",
          "shape": "linear",
          "width": 1.3
         },
         "mode": "lines",
         "name": "Close",
         "text": "",
         "type": "scatter",
         "x": [
          "2020-07-01",
          "2020-07-02",
          "2020-07-03",
          "2020-07-06",
          "2020-07-07",
          "2020-07-08",
          "2020-07-09",
          "2020-07-10",
          "2020-07-13",
          "2020-07-14",
          "2020-07-15",
          "2020-07-16",
          "2020-07-17",
          "2020-07-20",
          "2020-07-21",
          "2020-07-22",
          "2020-07-23",
          "2020-07-24",
          "2020-07-27",
          "2020-07-28",
          "2020-07-29",
          "2020-07-30",
          "2020-07-31",
          "2020-08-03",
          "2020-08-04",
          "2020-08-05",
          "2020-08-06",
          "2020-08-07",
          "2020-08-10",
          "2020-08-11",
          "2020-08-12",
          "2020-08-13",
          "2020-08-14",
          "2020-08-18",
          "2020-08-19",
          "2020-08-20",
          "2020-08-21",
          "2020-08-24",
          "2020-08-25",
          "2020-08-26",
          "2020-08-27",
          "2020-08-28",
          "2020-08-31",
          "2020-09-01",
          "2020-09-02",
          "2020-09-03",
          "2020-09-04",
          "2020-09-07",
          "2020-09-08",
          "2020-09-09",
          "2020-09-10",
          "2020-09-11",
          "2020-09-14",
          "2020-09-15",
          "2020-09-16",
          "2020-09-17",
          "2020-09-18",
          "2020-09-21",
          "2020-09-22",
          "2020-09-23",
          "2020-09-24",
          "2020-09-25",
          "2020-09-28",
          "2020-09-29",
          "2020-10-05",
          "2020-10-06",
          "2020-10-07",
          "2020-10-08",
          "2020-10-12",
          "2020-10-13",
          "2020-10-14",
          "2020-10-15",
          "2020-10-16",
          "2020-10-19",
          "2020-10-20",
          "2020-10-21",
          "2020-10-22",
          "2020-10-23",
          "2020-10-26",
          "2020-10-27",
          "2020-10-28",
          "2020-10-29",
          "2020-10-30",
          "2020-11-02",
          "2020-11-03",
          "2020-11-04",
          "2020-11-05",
          "2020-11-06",
          "2020-11-09",
          "2020-11-10",
          "2020-11-11",
          "2020-11-12",
          "2020-11-13",
          "2020-11-16",
          "2020-11-17",
          "2020-11-18",
          "2020-11-19",
          "2020-11-20",
          "2020-11-23",
          "2020-11-24",
          "2020-11-25",
          "2020-11-26",
          "2020-11-27",
          "2020-11-30"
         ],
         "y": [
          29250,
          29300,
          29550,
          31050,
          37950,
          39400,
          41150,
          48650,
          60300,
          62500,
          62600,
          63100,
          73000,
          94900,
          94900,
          123000,
          123000,
          105000,
          73500,
          71600,
          75000,
          86000,
          69000,
          73500,
          75000,
          78700,
          77400,
          76100,
          75600,
          76900,
          71800,
          75100,
          75100,
          83500,
          83500,
          93200,
          91000,
          100500,
          114000,
          113000,
          111500,
          111000,
          136500,
          147000,
          158000,
          156500,
          146000,
          148500,
          140000,
          139500,
          141000,
          153500,
          146500,
          146500,
          154000,
          152500,
          198000,
          193500,
          166000,
          165000,
          150000,
          136000,
          133500,
          126500,
          127000,
          134000,
          135500,
          140000,
          133500,
          122500,
          126000,
          125000,
          119000,
          128500,
          125500,
          135500,
          136500,
          139000,
          136500,
          127000,
          131000,
          130000,
          125500,
          126000,
          134500,
          134500,
          135000,
          133000,
          134000,
          128500,
          123500,
          105000,
          126000,
          130500,
          126000,
          120500,
          123000,
          123000,
          119500,
          120500,
          119000,
          128500,
          128500,
          132000
         ]
        }
       ],
       "layout": {
        "autosize": true,
        "dragmode": "zoom",
        "legend": {
         "bgcolor": "#F5F6F9",
         "font": {
          "color": "#4D5663"
         }
        },
        "paper_bgcolor": "#F5F6F9",
        "plot_bgcolor": "#F5F6F9",
        "template": {
         "data": {
          "bar": [
           {
            "error_x": {
             "color": "#2a3f5f"
            },
            "error_y": {
             "color": "#2a3f5f"
            },
            "marker": {
             "line": {
              "color": "#E5ECF6",
              "width": 0.5
             },
             "pattern": {
              "fillmode": "overlay",
              "size": 10,
              "solidity": 0.2
             }
            },
            "type": "bar"
           }
          ],
          "barpolar": [
           {
            "marker": {
             "line": {
              "color": "#E5ECF6",
              "width": 0.5
             },
             "pattern": {
              "fillmode": "overlay",
              "size": 10,
              "solidity": 0.2
             }
            },
            "type": "barpolar"
           }
          ],
          "carpet": [
           {
            "aaxis": {
             "endlinecolor": "#2a3f5f",
             "gridcolor": "white",
             "linecolor": "white",
             "minorgridcolor": "white",
             "startlinecolor": "#2a3f5f"
            },
            "baxis": {
             "endlinecolor": "#2a3f5f",
             "gridcolor": "white",
             "linecolor": "white",
             "minorgridcolor": "white",
             "startlinecolor": "#2a3f5f"
            },
            "type": "carpet"
           }
          ],
          "choropleth": [
           {
            "colorbar": {
             "outlinewidth": 0,
             "ticks": ""
            },
            "type": "choropleth"
           }
          ],
          "contour": [
           {
            "colorbar": {
             "outlinewidth": 0,
             "ticks": ""
            },
            "colorscale": [
             [
              0,
              "#0d0887"
             ],
             [
              0.1111111111111111,
              "#46039f"
             ],
             [
              0.2222222222222222,
              "#7201a8"
             ],
             [
              0.3333333333333333,
              "#9c179e"
             ],
             [
              0.4444444444444444,
              "#bd3786"
             ],
             [
              0.5555555555555556,
              "#d8576b"
             ],
             [
              0.6666666666666666,
              "#ed7953"
             ],
             [
              0.7777777777777778,
              "#fb9f3a"
             ],
             [
              0.8888888888888888,
              "#fdca26"
             ],
             [
              1,
              "#f0f921"
             ]
            ],
            "type": "contour"
           }
          ],
          "contourcarpet": [
           {
            "colorbar": {
             "outlinewidth": 0,
             "ticks": ""
            },
            "type": "contourcarpet"
           }
          ],
          "heatmap": [
           {
            "colorbar": {
             "outlinewidth": 0,
             "ticks": ""
            },
            "colorscale": [
             [
              0,
              "#0d0887"
             ],
             [
              0.1111111111111111,
              "#46039f"
             ],
             [
              0.2222222222222222,
              "#7201a8"
             ],
             [
              0.3333333333333333,
              "#9c179e"
             ],
             [
              0.4444444444444444,
              "#bd3786"
             ],
             [
              0.5555555555555556,
              "#d8576b"
             ],
             [
              0.6666666666666666,
              "#ed7953"
             ],
             [
              0.7777777777777778,
              "#fb9f3a"
             ],
             [
              0.8888888888888888,
              "#fdca26"
             ],
             [
              1,
              "#f0f921"
             ]
            ],
            "type": "heatmap"
           }
          ],
          "heatmapgl": [
           {
            "colorbar": {
             "outlinewidth": 0,
             "ticks": ""
            },
            "colorscale": [
             [
              0,
              "#0d0887"
             ],
             [
              0.1111111111111111,
              "#46039f"
             ],
             [
              0.2222222222222222,
              "#7201a8"
             ],
             [
              0.3333333333333333,
              "#9c179e"
             ],
             [
              0.4444444444444444,
              "#bd3786"
             ],
             [
              0.5555555555555556,
              "#d8576b"
             ],
             [
              0.6666666666666666,
              "#ed7953"
             ],
             [
              0.7777777777777778,
              "#fb9f3a"
             ],
             [
              0.8888888888888888,
              "#fdca26"
             ],
             [
              1,
              "#f0f921"
             ]
            ],
            "type": "heatmapgl"
           }
          ],
          "histogram": [
           {
            "marker": {
             "pattern": {
              "fillmode": "overlay",
              "size": 10,
              "solidity": 0.2
             }
            },
            "type": "histogram"
           }
          ],
          "histogram2d": [
           {
            "colorbar": {
             "outlinewidth": 0,
             "ticks": ""
            },
            "colorscale": [
             [
              0,
              "#0d0887"
             ],
             [
              0.1111111111111111,
              "#46039f"
             ],
             [
              0.2222222222222222,
              "#7201a8"
             ],
             [
              0.3333333333333333,
              "#9c179e"
             ],
             [
              0.4444444444444444,
              "#bd3786"
             ],
             [
              0.5555555555555556,
              "#d8576b"
             ],
             [
              0.6666666666666666,
              "#ed7953"
             ],
             [
              0.7777777777777778,
              "#fb9f3a"
             ],
             [
              0.8888888888888888,
              "#fdca26"
             ],
             [
              1,
              "#f0f921"
             ]
            ],
            "type": "histogram2d"
           }
          ],
          "histogram2dcontour": [
           {
            "colorbar": {
             "outlinewidth": 0,
             "ticks": ""
            },
            "colorscale": [
             [
              0,
              "#0d0887"
             ],
             [
              0.1111111111111111,
              "#46039f"
             ],
             [
              0.2222222222222222,
              "#7201a8"
             ],
             [
              0.3333333333333333,
              "#9c179e"
             ],
             [
              0.4444444444444444,
              "#bd3786"
             ],
             [
              0.5555555555555556,
              "#d8576b"
             ],
             [
              0.6666666666666666,
              "#ed7953"
             ],
             [
              0.7777777777777778,
              "#fb9f3a"
             ],
             [
              0.8888888888888888,
              "#fdca26"
             ],
             [
              1,
              "#f0f921"
             ]
            ],
            "type": "histogram2dcontour"
           }
          ],
          "mesh3d": [
           {
            "colorbar": {
             "outlinewidth": 0,
             "ticks": ""
            },
            "type": "mesh3d"
           }
          ],
          "parcoords": [
           {
            "line": {
             "colorbar": {
              "outlinewidth": 0,
              "ticks": ""
             }
            },
            "type": "parcoords"
           }
          ],
          "pie": [
           {
            "automargin": true,
            "type": "pie"
           }
          ],
          "scatter": [
           {
            "fillpattern": {
             "fillmode": "overlay",
             "size": 10,
             "solidity": 0.2
            },
            "type": "scatter"
           }
          ],
          "scatter3d": [
           {
            "line": {
             "colorbar": {
              "outlinewidth": 0,
              "ticks": ""
             }
            },
            "marker": {
             "colorbar": {
              "outlinewidth": 0,
              "ticks": ""
             }
            },
            "type": "scatter3d"
           }
          ],
          "scattercarpet": [
           {
            "marker": {
             "colorbar": {
              "outlinewidth": 0,
              "ticks": ""
             }
            },
            "type": "scattercarpet"
           }
          ],
          "scattergeo": [
           {
            "marker": {
             "colorbar": {
              "outlinewidth": 0,
              "ticks": ""
             }
            },
            "type": "scattergeo"
           }
          ],
          "scattergl": [
           {
            "marker": {
             "colorbar": {
              "outlinewidth": 0,
              "ticks": ""
             }
            },
            "type": "scattergl"
           }
          ],
          "scattermapbox": [
           {
            "marker": {
             "colorbar": {
              "outlinewidth": 0,
              "ticks": ""
             }
            },
            "type": "scattermapbox"
           }
          ],
          "scatterpolar": [
           {
            "marker": {
             "colorbar": {
              "outlinewidth": 0,
              "ticks": ""
             }
            },
            "type": "scatterpolar"
           }
          ],
          "scatterpolargl": [
           {
            "marker": {
             "colorbar": {
              "outlinewidth": 0,
              "ticks": ""
             }
            },
            "type": "scatterpolargl"
           }
          ],
          "scatterternary": [
           {
            "marker": {
             "colorbar": {
              "outlinewidth": 0,
              "ticks": ""
             }
            },
            "type": "scatterternary"
           }
          ],
          "surface": [
           {
            "colorbar": {
             "outlinewidth": 0,
             "ticks": ""
            },
            "colorscale": [
             [
              0,
              "#0d0887"
             ],
             [
              0.1111111111111111,
              "#46039f"
             ],
             [
              0.2222222222222222,
              "#7201a8"
             ],
             [
              0.3333333333333333,
              "#9c179e"
             ],
             [
              0.4444444444444444,
              "#bd3786"
             ],
             [
              0.5555555555555556,
              "#d8576b"
             ],
             [
              0.6666666666666666,
              "#ed7953"
             ],
             [
              0.7777777777777778,
              "#fb9f3a"
             ],
             [
              0.8888888888888888,
              "#fdca26"
             ],
             [
              1,
              "#f0f921"
             ]
            ],
            "type": "surface"
           }
          ],
          "table": [
           {
            "cells": {
             "fill": {
              "color": "#EBF0F8"
             },
             "line": {
              "color": "white"
             }
            },
            "header": {
             "fill": {
              "color": "#C8D4E3"
             },
             "line": {
              "color": "white"
             }
            },
            "type": "table"
           }
          ]
         },
         "layout": {
          "annotationdefaults": {
           "arrowcolor": "#2a3f5f",
           "arrowhead": 0,
           "arrowwidth": 1
          },
          "autotypenumbers": "strict",
          "coloraxis": {
           "colorbar": {
            "outlinewidth": 0,
            "ticks": ""
           }
          },
          "colorscale": {
           "diverging": [
            [
             0,
             "#8e0152"
            ],
            [
             0.1,
             "#c51b7d"
            ],
            [
             0.2,
             "#de77ae"
            ],
            [
             0.3,
             "#f1b6da"
            ],
            [
             0.4,
             "#fde0ef"
            ],
            [
             0.5,
             "#f7f7f7"
            ],
            [
             0.6,
             "#e6f5d0"
            ],
            [
             0.7,
             "#b8e186"
            ],
            [
             0.8,
             "#7fbc41"
            ],
            [
             0.9,
             "#4d9221"
            ],
            [
             1,
             "#276419"
            ]
           ],
           "sequential": [
            [
             0,
             "#0d0887"
            ],
            [
             0.1111111111111111,
             "#46039f"
            ],
            [
             0.2222222222222222,
             "#7201a8"
            ],
            [
             0.3333333333333333,
             "#9c179e"
            ],
            [
             0.4444444444444444,
             "#bd3786"
            ],
            [
             0.5555555555555556,
             "#d8576b"
            ],
            [
             0.6666666666666666,
             "#ed7953"
            ],
            [
             0.7777777777777778,
             "#fb9f3a"
            ],
            [
             0.8888888888888888,
             "#fdca26"
            ],
            [
             1,
             "#f0f921"
            ]
           ],
           "sequentialminus": [
            [
             0,
             "#0d0887"
            ],
            [
             0.1111111111111111,
             "#46039f"
            ],
            [
             0.2222222222222222,
             "#7201a8"
            ],
            [
             0.3333333333333333,
             "#9c179e"
            ],
            [
             0.4444444444444444,
             "#bd3786"
            ],
            [
             0.5555555555555556,
             "#d8576b"
            ],
            [
             0.6666666666666666,
             "#ed7953"
            ],
            [
             0.7777777777777778,
             "#fb9f3a"
            ],
            [
             0.8888888888888888,
             "#fdca26"
            ],
            [
             1,
             "#f0f921"
            ]
           ]
          },
          "colorway": [
           "#636efa",
           "#EF553B",
           "#00cc96",
           "#ab63fa",
           "#FFA15A",
           "#19d3f3",
           "#FF6692",
           "#B6E880",
           "#FF97FF",
           "#FECB52"
          ],
          "font": {
           "color": "#2a3f5f"
          },
          "geo": {
           "bgcolor": "white",
           "lakecolor": "white",
           "landcolor": "#E5ECF6",
           "showlakes": true,
           "showland": true,
           "subunitcolor": "white"
          },
          "hoverlabel": {
           "align": "left"
          },
          "hovermode": "closest",
          "mapbox": {
           "style": "light"
          },
          "paper_bgcolor": "white",
          "plot_bgcolor": "#E5ECF6",
          "polar": {
           "angularaxis": {
            "gridcolor": "white",
            "linecolor": "white",
            "ticks": ""
           },
           "bgcolor": "#E5ECF6",
           "radialaxis": {
            "gridcolor": "white",
            "linecolor": "white",
            "ticks": ""
           }
          },
          "scene": {
           "xaxis": {
            "backgroundcolor": "#E5ECF6",
            "gridcolor": "white",
            "gridwidth": 2,
            "linecolor": "white",
            "showbackground": true,
            "ticks": "",
            "zerolinecolor": "white"
           },
           "yaxis": {
            "backgroundcolor": "#E5ECF6",
            "gridcolor": "white",
            "gridwidth": 2,
            "linecolor": "white",
            "showbackground": true,
            "ticks": "",
            "zerolinecolor": "white"
           },
           "zaxis": {
            "backgroundcolor": "#E5ECF6",
            "gridcolor": "white",
            "gridwidth": 2,
            "linecolor": "white",
            "showbackground": true,
            "ticks": "",
            "zerolinecolor": "white"
           }
          },
          "shapedefaults": {
           "line": {
            "color": "#2a3f5f"
           }
          },
          "ternary": {
           "aaxis": {
            "gridcolor": "white",
            "linecolor": "white",
            "ticks": ""
           },
           "baxis": {
            "gridcolor": "white",
            "linecolor": "white",
            "ticks": ""
           },
           "bgcolor": "#E5ECF6",
           "caxis": {
            "gridcolor": "white",
            "linecolor": "white",
            "ticks": ""
           }
          },
          "title": {
           "x": 0.05
          },
          "xaxis": {
           "automargin": true,
           "gridcolor": "white",
           "linecolor": "white",
           "ticks": "",
           "title": {
            "standoff": 15
           },
           "zerolinecolor": "white",
           "zerolinewidth": 2
          },
          "yaxis": {
           "automargin": true,
           "gridcolor": "white",
           "linecolor": "white",
           "ticks": "",
           "title": {
            "standoff": 15
           },
           "zerolinecolor": "white",
           "zerolinewidth": 2
          }
         }
        },
        "title": {
         "font": {
          "color": "#4D5663"
         }
        },
        "xaxis": {
         "autorange": false,
         "gridcolor": "#E1E5ED",
         "range": [
          "2020-07-07 07:17:51.9515",
          "2020-08-07 08:25:16.2069"
         ],
         "showgrid": true,
         "tickfont": {
          "color": "#4D5663"
         },
         "title": {
          "font": {
           "color": "#4D5663"
          },
          "text": ""
         },
         "type": "date",
         "zerolinecolor": "#E1E5ED"
        },
        "yaxis": {
         "autorange": false,
         "gridcolor": "#E1E5ED",
         "range": [
          -117472.94315291039,
          304863.27390317555
         ],
         "showgrid": true,
         "tickfont": {
          "color": "#4D5663"
         },
         "title": {
          "font": {
           "color": "#4D5663"
          },
          "text": ""
         },
         "type": "linear",
         "zerolinecolor": "#E1E5ED"
        }
       }
      },
      "image/png": "[encoded data removed]",
      "text/html": [
       "<div>                            <div id=\"78a092e6-afdc-4ae6-a04e-25fc47028976\" class=\"plotly-graph-div\" style=\"height:525px; width:100%;\"></div>            <script type=\"text/javascript\">                require([\"plotly\"], function(Plotly) {                    window.PLOTLYENV=window.PLOTLYENV || {};\n",
       "                    window.PLOTLYENV.BASE_URL='https://plot.ly';                                    if (document.getElementById(\"78a092e6-afdc-4ae6-a04e-25fc47028976\")) {                    Plotly.newPlot(                        \"78a092e6-afdc-4ae6-a04e-25fc47028976\",                        [{\"line\":{\"color\":\"rgba(255, 153, 51, 1.0)\",\"dash\":\"solid\",\"shape\":\"linear\",\"width\":1.3},\"mode\":\"lines\",\"name\":\"Open\",\"text\":\"\",\"x\":[\"2020-07-01\",\"2020-07-02\",\"2020-07-03\",\"2020-07-06\",\"2020-07-07\",\"2020-07-08\",\"2020-07-09\",\"2020-07-10\",\"2020-07-13\",\"2020-07-14\",\"2020-07-15\",\"2020-07-16\",\"2020-07-17\",\"2020-07-20\",\"2020-07-21\",\"2020-07-22\",\"2020-07-23\",\"2020-07-24\",\"2020-07-27\",\"2020-07-28\",\"2020-07-29\",\"2020-07-30\",\"2020-07-31\",\"2020-08-03\",\"2020-08-04\",\"2020-08-05\",\"2020-08-06\",\"2020-08-07\",\"2020-08-10\",\"2020-08-11\",\"2020-08-12\",\"2020-08-13\",\"2020-08-14\",\"2020-08-18\",\"2020-08-19\",\"2020-08-20\",\"2020-08-21\",\"2020-08-24\",\"2020-08-25\",\"2020-08-26\",\"2020-08-27\",\"2020-08-28\",\"2020-08-31\",\"2020-09-01\",\"2020-09-02\",\"2020-09-03\",\"2020-09-04\",\"2020-09-07\",\"2020-09-08\",\"2020-09-09\",\"2020-09-10\",\"2020-09-11\",\"2020-09-14\",\"2020-09-15\",\"2020-09-16\",\"2020-09-17\",\"2020-09-18\",\"2020-09-21\",\"2020-09-22\",\"2020-09-23\",\"2020-09-24\",\"2020-09-25\",\"2020-09-28\",\"2020-09-29\",\"2020-10-05\",\"2020-10-06\",\"2020-10-07\",\"2020-10-08\",\"2020-10-12\",\"2020-10-13\",\"2020-10-14\",\"2020-10-15\",\"2020-10-16\",\"2020-10-19\",\"2020-10-20\",\"2020-10-21\",\"2020-10-22\",\"2020-10-23\",\"2020-10-26\",\"2020-10-27\",\"2020-10-28\",\"2020-10-29\",\"2020-10-30\",\"2020-11-02\",\"2020-11-03\",\"2020-11-04\",\"2020-11-05\",\"2020-11-06\",\"2020-11-09\",\"2020-11-10\",\"2020-11-11\",\"2020-11-12\",\"2020-11-13\",\"2020-11-16\",\"2020-11-17\",\"2020-11-18\",\"2020-11-19\",\"2020-11-20\",\"2020-11-23\",\"2020-11-24\",\"2020-11-25\",\"2020-11-26\",\"2020-11-27\",\"2020-11-30\"],\"y\":[30400,29300,29300,30100,31400,39000,40250,42100,51300,58200,67300,61100,65100,80700,0,111500,0,139000,100000,76500,72400,80300,87400,69900,77000,75900,78800,77000,76200,77000,75900,75300,75000,78500,85300,84000,91400,94400,101000,118000,117500,109500,113000,143000,152000,153500,150500,149500,148500,135000,143500,143000,155500,149000,147500,156500,153000,209000,167000,168500,158500,155000,140000,137000,130500,127500,134000,138000,140500,133500,122500,127000,123500,121500,127000,127500,135000,141000,142500,137500,127500,128000,129500,127000,127500,138000,135500,135500,134500,132500,129500,122500,103000,125000,123500,128000,118000,124500,123000,119500,121000,122500,129500,129500],\"type\":\"scatter\"},{\"line\":{\"color\":\"rgba(55, 128, 191, 1.0)\",\"dash\":\"solid\",\"shape\":\"linear\",\"width\":1.3},\"mode\":\"lines\",\"name\":\"High\",\"text\":\"\",\"x\":[\"2020-07-01\",\"2020-07-02\",\"2020-07-03\",\"2020-07-06\",\"2020-07-07\",\"2020-07-08\",\"2020-07-09\",\"2020-07-10\",\"2020-07-13\",\"2020-07-14\",\"2020-07-15\",\"2020-07-16\",\"2020-07-17\",\"2020-07-20\",\"2020-07-21\",\"2020-07-22\",\"2020-07-23\",\"2020-07-24\",\"2020-07-27\",\"2020-07-28\",\"2020-07-29\",\"2020-07-30\",\"2020-07-31\",\"2020-08-03\",\"2020-08-04\",\"2020-08-05\",\"2020-08-06\",\"2020-08-07\",\"2020-08-10\",\"2020-08-11\",\"2020-08-12\",\"2020-08-13\",\"2020-08-14\",\"2020-08-18\",\"2020-08-19\",\"2020-08-20\",\"2020-08-21\",\"2020-08-24\",\"2020-08-25\",\"2020-08-26\",\"2020-08-27\",\"2020-08-28\",\"2020-08-31\",\"2020-09-01\",\"2020-09-02\",\"2020-09-03\",\"2020-09-04\",\"2020-09-07\",\"2020-09-08\",\"2020-09-09\",\"2020-09-10\",\"2020-09-11\",\"2020-09-14\",\"2020-09-15\",\"2020-09-16\",\"2020-09-17\",\"2020-09-18\",\"2020-09-21\",\"2020-09-22\",\"2020-09-23\",\"2020-09-24\",\"2020-09-25\",\"2020-09-28\",\"2020-09-29\",\"2020-10-05\",\"2020-10-06\",\"2020-10-07\",\"2020-10-08\",\"2020-10-12\",\"2020-10-13\",\"2020-10-14\",\"2020-10-15\",\"2020-10-16\",\"2020-10-19\",\"2020-10-20\",\"2020-10-21\",\"2020-10-22\",\"2020-10-23\",\"2020-10-26\",\"2020-10-27\",\"2020-10-28\",\"2020-10-29\",\"2020-10-30\",\"2020-11-02\",\"2020-11-03\",\"2020-11-04\",\"2020-11-05\",\"2020-11-06\",\"2020-11-09\",\"2020-11-10\",\"2020-11-11\",\"2020-11-12\",\"2020-11-13\",\"2020-11-16\",\"2020-11-17\",\"2020-11-18\",\"2020-11-19\",\"2020-11-20\",\"2020-11-23\",\"2020-11-24\",\"2020-11-25\",\"2020-11-26\",\"2020-11-27\",\"2020-11-30\"],\"y\":[31150,29850,31300,32000,39700,44600,42850,52900,60600,72400,70800,65200,75900,94900,0,123000,0,159500,103000,78900,79000,89300,93800,74500,77600,82000,81200,77000,78000,77600,76200,80100,78400,89100,86200,96900,92800,102000,122000,127000,119000,115000,136500,154500,163000,162000,156000,155500,148500,148000,147500,158000,155500,150500,155500,160000,198000,214000,191000,182000,169500,159000,151000,138000,134500,137000,144000,140500,140500,133500,131500,128000,127500,135500,130500,138500,140000,145000,143500,142000,131500,133000,131000,128500,138500,138500,137000,136500,138000,133000,130500,123000,135000,141500,133000,129000,131000,128000,123500,123500,124000,134500,130000,132500],\"type\":\"scatter\"},{\"line\":{\"color\":\"rgba(50, 171, 96, 1.0)\",\"dash\":\"solid\",\"shape\":\"linear\",\"width\":1.3},\"mode\":\"lines\",\"name\":\"Low\",\"text\":\"\",\"x\":[\"2020-07-01\",\"2020-07-02\",\"2020-07-03\",\"2020-07-06\",\"2020-07-07\",\"2020-07-08\",\"2020-07-09\",\"2020-07-10\",\"2020-07-13\",\"2020-07-14\",\"2020-07-15\",\"2020-07-16\",\"2020-07-17\",\"2020-07-20\",\"2020-07-21\",\"2020-07-22\",\"2020-07-23\",\"2020-07-24\",\"2020-07-27\",\"2020-07-28\",\"2020-07-29\",\"2020-07-30\",\"2020-07-31\",\"2020-08-03\",\"2020-08-04\",\"2020-08-05\",\"2020-08-06\",\"2020-08-07\",\"2020-08-10\",\"2020-08-11\",\"2020-08-12\",\"2020-08-13\",\"2020-08-14\",\"2020-08-18\",\"2020-08-19\",\"2020-08-20\",\"2020-08-21\",\"2020-08-24\",\"2020-08-25\",\"2020-08-26\",\"2020-08-27\",\"2020-08-28\",\"2020-08-31\",\"2020-09-01\",\"2020-09-02\",\"2020-09-03\",\"2020-09-04\",\"2020-09-07\",\"2020-09-08\",\"2020-09-09\",\"2020-09-10\",\"2020-09-11\",\"2020-09-14\",\"2020-09-15\",\"2020-09-16\",\"2020-09-17\",\"2020-09-18\",\"2020-09-21\",\"2020-09-22\",\"2020-09-23\",\"2020-09-24\",\"2020-09-25\",\"2020-09-28\",\"2020-09-29\",\"2020-10-05\",\"2020-10-06\",\"2020-10-07\",\"2020-10-08\",\"2020-10-12\",\"2020-10-13\",\"2020-10-14\",\"2020-10-15\",\"2020-10-16\",\"2020-10-19\",\"2020-10-20\",\"2020-10-21\",\"2020-10-22\",\"2020-10-23\",\"2020-10-26\",\"2020-10-27\",\"2020-10-28\",\"2020-10-29\",\"2020-10-30\",\"2020-11-02\",\"2020-11-03\",\"2020-11-04\",\"2020-11-05\",\"2020-11-06\",\"2020-11-09\",\"2020-11-10\",\"2020-11-11\",\"2020-11-12\",\"2020-11-13\",\"2020-11-16\",\"2020-11-17\",\"2020-11-18\",\"2020-11-19\",\"2020-11-20\",\"2020-11-23\",\"2020-11-24\",\"2020-11-25\",\"2020-11-26\",\"2020-11-27\",\"2020-11-30\"],\"y\":[29150,28900,28900,29750,31050,38500,39500,40800,50100,55400,56000,59300,63600,78000,0,95200,0,105000,73500,55000,68700,76500,69000,68900,68500,73000,71000,73300,74100,75300,68400,73800,70700,76200,81700,82500,86000,91900,99000,106500,109000,105500,112000,137500,149000,151000,140500,144000,138000,130000,139500,142500,145500,146000,147000,150000,152000,181000,136000,161500,150000,131000,117000,123500,122500,125000,132500,135500,132000,122500,122500,116500,119000,119000,122000,126000,133000,138000,136000,124000,125000,127000,125500,123000,127000,128000,133500,132000,132500,127000,121000,102000,96200,122000,121500,120500,117000,122500,119000,113000,118500,122000,126500,127000],\"type\":\"scatter\"},{\"line\":{\"color\":\"rgba(128, 0, 128, 1.0)\",\"dash\":\"solid\",\"shape\":\"linear\",\"width\":1.3},\"mode\":\"lines\",\"name\":\"Close\",\"text\":\"\",\"x\":[\"2020-07-01\",\"2020-07-02\",\"2020-07-03\",\"2020-07-06\",\"2020-07-07\",\"2020-07-08\",\"2020-07-09\",\"2020-07-10\",\"2020-07-13\",\"2020-07-14\",\"2020-07-15\",\"2020-07-16\",\"2020-07-17\",\"2020-07-20\",\"2020-07-21\",\"2020-07-22\",\"2020-07-23\",\"2020-07-24\",\"2020-07-27\",\"2020-07-28\",\"2020-07-29\",\"2020-07-30\",\"2020-07-31\",\"2020-08-03\",\"2020-08-04\",\"2020-08-05\",\"2020-08-06\",\"2020-08-07\",\"2020-08-10\",\"2020-08-11\",\"2020-08-12\",\"2020-08-13\",\"2020-08-14\",\"2020-08-18\",\"2020-08-19\",\"2020-08-20\",\"2020-08-21\",\"2020-08-24\",\"2020-08-25\",\"2020-08-26\",\"2020-08-27\",\"2020-08-28\",\"2020-08-31\",\"2020-09-01\",\"2020-09-02\",\"2020-09-03\",\"2020-09-04\",\"2020-09-07\",\"2020-09-08\",\"2020-09-09\",\"2020-09-10\",\"2020-09-11\",\"2020-09-14\",\"2020-09-15\",\"2020-09-16\",\"2020-09-17\",\"2020-09-18\",\"2020-09-21\",\"2020-09-22\",\"2020-09-23\",\"2020-09-24\",\"2020-09-25\",\"2020-09-28\",\"2020-09-29\",\"2020-10-05\",\"2020-10-06\",\"2020-10-07\",\"2020-10-08\",\"2020-10-12\",\"2020-10-13\",\"2020-10-14\",\"2020-10-15\",\"2020-10-16\",\"2020-10-19\",\"2020-10-20\",\"2020-10-21\",\"2020-10-22\",\"2020-10-23\",\"2020-10-26\",\"2020-10-27\",\"2020-10-28\",\"2020-10-29\",\"2020-10-30\",\"2020-11-02\",\"2020-11-03\",\"2020-11-04\",\"2020-11-05\",\"2020-11-06\",\"2020-11-09\",\"2020-11-10\",\"2020-11-11\",\"2020-11-12\",\"2020-11-13\",\"2020-11-16\",\"2020-11-17\",\"2020-11-18\",\"2020-11-19\",\"2020-11-20\",\"2020-11-23\",\"2020-11-24\",\"2020-11-25\",\"2020-11-26\",\"2020-11-27\",\"2020-11-30\"],\"y\":[29250,29300,29550,31050,37950,39400,41150,48650,60300,62500,62600,63100,73000,94900,94900,123000,123000,105000,73500,71600,75000,86000,69000,73500,75000,78700,77400,76100,75600,76900,71800,75100,75100,83500,83500,93200,91000,100500,114000,113000,111500,111000,136500,147000,158000,156500,146000,148500,140000,139500,141000,153500,146500,146500,154000,152500,198000,193500,166000,165000,150000,136000,133500,126500,127000,134000,135500,140000,133500,122500,126000,125000,119000,128500,125500,135500,136500,139000,136500,127000,131000,130000,125500,126000,134500,134500,135000,133000,134000,128500,123500,105000,126000,130500,126000,120500,123000,123000,119500,120500,119000,128500,128500,132000],\"type\":\"scatter\"}],                        {\"legend\":{\"bgcolor\":\"#F5F6F9\",\"font\":{\"color\":\"#4D5663\"}},\"paper_bgcolor\":\"#F5F6F9\",\"plot_bgcolor\":\"#F5F6F9\",\"template\":{\"data\":{\"barpolar\":[{\"marker\":{\"line\":{\"color\":\"#E5ECF6\",\"width\":0.5},\"pattern\":{\"fillmode\":\"overlay\",\"size\":10,\"solidity\":0.2}},\"type\":\"barpolar\"}],\"bar\":[{\"error_x\":{\"color\":\"#2a3f5f\"},\"error_y\":{\"color\":\"#2a3f5f\"},\"marker\":{\"line\":{\"color\":\"#E5ECF6\",\"width\":0.5},\"pattern\":{\"fillmode\":\"overlay\",\"size\":10,\"solidity\":0.2}},\"type\":\"bar\"}],\"carpet\":[{\"aaxis\":{\"endlinecolor\":\"#2a3f5f\",\"gridcolor\":\"white\",\"linecolor\":\"white\",\"minorgridcolor\":\"white\",\"startlinecolor\":\"#2a3f5f\"},\"baxis\":{\"endlinecolor\":\"#2a3f5f\",\"gridcolor\":\"white\",\"linecolor\":\"white\",\"minorgridcolor\":\"white\",\"startlinecolor\":\"#2a3f5f\"},\"type\":\"carpet\"}],\"choropleth\":[{\"colorbar\":{\"outlinewidth\":0,\"ticks\":\"\"},\"type\":\"choropleth\"}],\"contourcarpet\":[{\"colorbar\":{\"outlinewidth\":0,\"ticks\":\"\"},\"type\":\"contourcarpet\"}],\"contour\":[{\"colorbar\":{\"outlinewidth\":0,\"ticks\":\"\"},\"colorscale\":[[0.0,\"#0d0887\"],[0.1111111111111111,\"#46039f\"],[0.2222222222222222,\"#7201a8\"],[0.3333333333333333,\"#9c179e\"],[0.4444444444444444,\"#bd3786\"],[0.5555555555555556,\"#d8576b\"],[0.6666666666666666,\"#ed7953\"],[0.7777777777777778,\"#fb9f3a\"],[0.8888888888888888,\"#fdca26\"],[1.0,\"#f0f921\"]],\"type\":\"contour\"}],\"heatmapgl\":[{\"colorbar\":{\"outlinewidth\":0,\"ticks\":\"\"},\"colorscale\":[[0.0,\"#0d0887\"],[0.1111111111111111,\"#46039f\"],[0.2222222222222222,\"#7201a8\"],[0.3333333333333333,\"#9c179e\"],[0.4444444444444444,\"#bd3786\"],[0.5555555555555556,\"#d8576b\"],[0.6666666666666666,\"#ed7953\"],[0.7777777777777778,\"#fb9f3a\"],[0.8888888888888888,\"#fdca26\"],[1.0,\"#f0f921\"]],\"type\":\"heatmapgl\"}],\"heatmap\":[{\"colorbar\":{\"outlinewidth\":0,\"ticks\":\"\"},\"colorscale\":[[0.0,\"#0d0887\"],[0.1111111111111111,\"#46039f\"],[0.2222222222222222,\"#7201a8\"],[0.3333333333333333,\"#9c179e\"],[0.4444444444444444,\"#bd3786\"],[0.5555555555555556,\"#d8576b\"],[0.6666666666666666,\"#ed7953\"],[0.7777777777777778,\"#fb9f3a\"],[0.8888888888888888,\"#fdca26\"],[1.0,\"#f0f921\"]],\"type\":\"heatmap\"}],\"histogram2dcontour\":[{\"colorbar\":{\"outlinewidth\":0,\"ticks\":\"\"},\"colorscale\":[[0.0,\"#0d0887\"],[0.1111111111111111,\"#46039f\"],[0.2222222222222222,\"#7201a8\"],[0.3333333333333333,\"#9c179e\"],[0.4444444444444444,\"#bd3786\"],[0.5555555555555556,\"#d8576b\"],[0.6666666666666666,\"#ed7953\"],[0.7777777777777778,\"#fb9f3a\"],[0.8888888888888888,\"#fdca26\"],[1.0,\"#f0f921\"]],\"type\":\"histogram2dcontour\"}],\"histogram2d\":[{\"colorbar\":{\"outlinewidth\":0,\"ticks\":\"\"},\"colorscale\":[[0.0,\"#0d0887\"],[0.1111111111111111,\"#46039f\"],[0.2222222222222222,\"#7201a8\"],[0.3333333333333333,\"#9c179e\"],[0.4444444444444444,\"#bd3786\"],[0.5555555555555556,\"#d8576b\"],[0.6666666666666666,\"#ed7953\"],[0.7777777777777778,\"#fb9f3a\"],[0.8888888888888888,\"#fdca26\"],[1.0,\"#f0f921\"]],\"type\":\"histogram2d\"}],\"histogram\":[{\"marker\":{\"pattern\":{\"fillmode\":\"overlay\",\"size\":10,\"solidity\":0.2}},\"type\":\"histogram\"}],\"mesh3d\":[{\"colorbar\":{\"outlinewidth\":0,\"ticks\":\"\"},\"type\":\"mesh3d\"}],\"parcoords\":[{\"line\":{\"colorbar\":{\"outlinewidth\":0,\"ticks\":\"\"}},\"type\":\"parcoords\"}],\"pie\":[{\"automargin\":true,\"type\":\"pie\"}],\"scatter3d\":[{\"line\":{\"colorbar\":{\"outlinewidth\":0,\"ticks\":\"\"}},\"marker\":{\"colorbar\":{\"outlinewidth\":0,\"ticks\":\"\"}},\"type\":\"scatter3d\"}],\"scattercarpet\":[{\"marker\":{\"colorbar\":{\"outlinewidth\":0,\"ticks\":\"\"}},\"type\":\"scattercarpet\"}],\"scattergeo\":[{\"marker\":{\"colorbar\":{\"outlinewidth\":0,\"ticks\":\"\"}},\"type\":\"scattergeo\"}],\"scattergl\":[{\"marker\":{\"colorbar\":{\"outlinewidth\":0,\"ticks\":\"\"}},\"type\":\"scattergl\"}],\"scattermapbox\":[{\"marker\":{\"colorbar\":{\"outlinewidth\":0,\"ticks\":\"\"}},\"type\":\"scattermapbox\"}],\"scatterpolargl\":[{\"marker\":{\"colorbar\":{\"outlinewidth\":0,\"ticks\":\"\"}},\"type\":\"scatterpolargl\"}],\"scatterpolar\":[{\"marker\":{\"colorbar\":{\"outlinewidth\":0,\"ticks\":\"\"}},\"type\":\"scatterpolar\"}],\"scatter\":[{\"fillpattern\":{\"fillmode\":\"overlay\",\"size\":10,\"solidity\":0.2},\"type\":\"scatter\"}],\"scatterternary\":[{\"marker\":{\"colorbar\":{\"outlinewidth\":0,\"ticks\":\"\"}},\"type\":\"scatterternary\"}],\"surface\":[{\"colorbar\":{\"outlinewidth\":0,\"ticks\":\"\"},\"colorscale\":[[0.0,\"#0d0887\"],[0.1111111111111111,\"#46039f\"],[0.2222222222222222,\"#7201a8\"],[0.3333333333333333,\"#9c179e\"],[0.4444444444444444,\"#bd3786\"],[0.5555555555555556,\"#d8576b\"],[0.6666666666666666,\"#ed7953\"],[0.7777777777777778,\"#fb9f3a\"],[0.8888888888888888,\"#fdca26\"],[1.0,\"#f0f921\"]],\"type\":\"surface\"}],\"table\":[{\"cells\":{\"fill\":{\"color\":\"#EBF0F8\"},\"line\":{\"color\":\"white\"}},\"header\":{\"fill\":{\"color\":\"#C8D4E3\"},\"line\":{\"color\":\"white\"}},\"type\":\"table\"}]},\"layout\":{\"annotationdefaults\":{\"arrowcolor\":\"#2a3f5f\",\"arrowhead\":0,\"arrowwidth\":1},\"autotypenumbers\":\"strict\",\"coloraxis\":{\"colorbar\":{\"outlinewidth\":0,\"ticks\":\"\"}},\"colorscale\":{\"diverging\":[[0,\"#8e0152\"],[0.1,\"#c51b7d\"],[0.2,\"#de77ae\"],[0.3,\"#f1b6da\"],[0.4,\"#fde0ef\"],[0.5,\"#f7f7f7\"],[0.6,\"#e6f5d0\"],[0.7,\"#b8e186\"],[0.8,\"#7fbc41\"],[0.9,\"#4d9221\"],[1,\"#276419\"]],\"sequential\":[[0.0,\"#0d0887\"],[0.1111111111111111,\"#46039f\"],[0.2222222222222222,\"#7201a8\"],[0.3333333333333333,\"#9c179e\"],[0.4444444444444444,\"#bd3786\"],[0.5555555555555556,\"#d8576b\"],[0.6666666666666666,\"#ed7953\"],[0.7777777777777778,\"#fb9f3a\"],[0.8888888888888888,\"#fdca26\"],[1.0,\"#f0f921\"]],\"sequentialminus\":[[0.0,\"#0d0887\"],[0.1111111111111111,\"#46039f\"],[0.2222222222222222,\"#7201a8\"],[0.3333333333333333,\"#9c179e\"],[0.4444444444444444,\"#bd3786\"],[0.5555555555555556,\"#d8576b\"],[0.6666666666666666,\"#ed7953\"],[0.7777777777777778,\"#fb9f3a\"],[0.8888888888888888,\"#fdca26\"],[1.0,\"#f0f921\"]]},\"colorway\":[\"#636efa\",\"#EF553B\",\"#00cc96\",\"#ab63fa\",\"#FFA15A\",\"#19d3f3\",\"#FF6692\",\"#B6E880\",\"#FF97FF\",\"#FECB52\"],\"font\":{\"color\":\"#2a3f5f\"},\"geo\":{\"bgcolor\":\"white\",\"lakecolor\":\"white\",\"landcolor\":\"#E5ECF6\",\"showlakes\":true,\"showland\":true,\"subunitcolor\":\"white\"},\"hoverlabel\":{\"align\":\"left\"},\"hovermode\":\"closest\",\"mapbox\":{\"style\":\"light\"},\"paper_bgcolor\":\"white\",\"plot_bgcolor\":\"#E5ECF6\",\"polar\":{\"angularaxis\":{\"gridcolor\":\"white\",\"linecolor\":\"white\",\"ticks\":\"\"},\"bgcolor\":\"#E5ECF6\",\"radialaxis\":{\"gridcolor\":\"white\",\"linecolor\":\"white\",\"ticks\":\"\"}},\"scene\":{\"xaxis\":{\"backgroundcolor\":\"#E5ECF6\",\"gridcolor\":\"white\",\"gridwidth\":2,\"linecolor\":\"white\",\"showbackground\":true,\"ticks\":\"\",\"zerolinecolor\":\"white\"},\"yaxis\":{\"backgroundcolor\":\"#E5ECF6\",\"gridcolor\":\"white\",\"gridwidth\":2,\"linecolor\":\"white\",\"showbackground\":true,\"ticks\":\"\",\"zerolinecolor\":\"white\"},\"zaxis\":{\"backgroundcolor\":\"#E5ECF6\",\"gridcolor\":\"white\",\"gridwidth\":2,\"linecolor\":\"white\",\"showbackground\":true,\"ticks\":\"\",\"zerolinecolor\":\"white\"}},\"shapedefaults\":{\"line\":{\"color\":\"#2a3f5f\"}},\"ternary\":{\"aaxis\":{\"gridcolor\":\"white\",\"linecolor\":\"white\",\"ticks\":\"\"},\"baxis\":{\"gridcolor\":\"white\",\"linecolor\":\"white\",\"ticks\":\"\"},\"bgcolor\":\"#E5ECF6\",\"caxis\":{\"gridcolor\":\"white\",\"linecolor\":\"white\",\"ticks\":\"\"}},\"title\":{\"x\":0.05},\"xaxis\":{\"automargin\":true,\"gridcolor\":\"white\",\"linecolor\":\"white\",\"ticks\":\"\",\"title\":{\"standoff\":15},\"zerolinecolor\":\"white\",\"zerolinewidth\":2},\"yaxis\":{\"automargin\":true,\"gridcolor\":\"white\",\"linecolor\":\"white\",\"ticks\":\"\",\"title\":{\"standoff\":15},\"zerolinecolor\":\"white\",\"zerolinewidth\":2}}},\"title\":{\"font\":{\"color\":\"#4D5663\"}},\"xaxis\":{\"gridcolor\":\"#E1E5ED\",\"showgrid\":true,\"tickfont\":{\"color\":\"#4D5663\"},\"title\":{\"font\":{\"color\":\"#4D5663\"},\"text\":\"\"},\"zerolinecolor\":\"#E1E5ED\"},\"yaxis\":{\"gridcolor\":\"#E1E5ED\",\"showgrid\":true,\"tickfont\":{\"color\":\"#4D5663\"},\"title\":{\"font\":{\"color\":\"#4D5663\"},\"text\":\"\"},\"zerolinecolor\":\"#E1E5ED\"}},                        {\"showLink\": true, \"linkText\": \"Export to plot.ly\", \"plotlyServerURL\": \"https://plot.ly\", \"responsive\": true}                    ).then(function(){\n",
       "                            \n",
       "var gd = document.getElementById('78a092e6-afdc-4ae6-a04e-25fc47028976');\n",
       "var x = new MutationObserver(function (mutations, observer) {{\n",
       "        var display = window.getComputedStyle(gd).display;\n",
       "        if (!display || display === 'none') {{\n",
       "            console.log([gd, 'removed!']);\n",
       "            Plotly.purge(gd);\n",
       "            observer.disconnect();\n",
       "        }}\n",
       "}});\n",
       "\n",
       "// Listen for the removal of the full notebook cells\n",
       "var notebookContainer = gd.closest('#notebook-container');\n",
       "if (notebookContainer) {{\n",
       "    x.observe(notebookContainer, {childList: true});\n",
       "}}\n",
       "\n",
       "// Listen for the clearing of the current output cell\n",
       "var outputEl = gd.closest('.output');\n",
       "if (outputEl) {{\n",
       "    x.observe(outputEl, {childList: true});\n",
       "}}\n",
       "\n",
       "                        })                };                });            </script>        </div>"
      ]
     },
     "metadata": {},
     "output_type": "display_data"
    }
   ],
   "source": [
    "df_sinpung[df_sinpung.columns[:4]].iplot(kind = 'line')"
   ]
  },
  {
   "cell_type": "code",
   "execution_count": 33,
   "id": "238c77c6",
   "metadata": {
    "ExecuteTime": {
     "end_time": "2022-12-07T12:40:21.549335Z",
     "start_time": "2022-12-07T12:40:21.448606Z"
    }
   },
   "outputs": [
    {
     "data": {
      "application/vnd.plotly.v1+json": {
       "config": {
        "linkText": "Export to plot.ly",
        "plotlyServerURL": "https://plot.ly",
        "showLink": true
       },
       "data": [
        {
         "line": {
          "color": "rgba(255, 153, 51, 1.0)",
          "dash": "solid",
          "shape": "linear",
          "width": 1.3
         },
         "mode": "lines",
         "name": "Volume",
         "text": "",
         "type": "scatter",
         "x": [
          "2020-07-01",
          "2020-07-02",
          "2020-07-03",
          "2020-07-06",
          "2020-07-07",
          "2020-07-08",
          "2020-07-09",
          "2020-07-10",
          "2020-07-13",
          "2020-07-14",
          "2020-07-15",
          "2020-07-16",
          "2020-07-17",
          "2020-07-20",
          "2020-07-21",
          "2020-07-22",
          "2020-07-23",
          "2020-07-24",
          "2020-07-27",
          "2020-07-28",
          "2020-07-29",
          "2020-07-30",
          "2020-07-31",
          "2020-08-03",
          "2020-08-04",
          "2020-08-05",
          "2020-08-06",
          "2020-08-07",
          "2020-08-10",
          "2020-08-11",
          "2020-08-12",
          "2020-08-13",
          "2020-08-14",
          "2020-08-18",
          "2020-08-19",
          "2020-08-20",
          "2020-08-21",
          "2020-08-24",
          "2020-08-25",
          "2020-08-26",
          "2020-08-27",
          "2020-08-28",
          "2020-08-31",
          "2020-09-01",
          "2020-09-02",
          "2020-09-03",
          "2020-09-04",
          "2020-09-07",
          "2020-09-08",
          "2020-09-09",
          "2020-09-10",
          "2020-09-11",
          "2020-09-14",
          "2020-09-15",
          "2020-09-16",
          "2020-09-17",
          "2020-09-18",
          "2020-09-21",
          "2020-09-22",
          "2020-09-23",
          "2020-09-24",
          "2020-09-25",
          "2020-09-28",
          "2020-09-29",
          "2020-10-05",
          "2020-10-06",
          "2020-10-07",
          "2020-10-08",
          "2020-10-12",
          "2020-10-13",
          "2020-10-14",
          "2020-10-15",
          "2020-10-16",
          "2020-10-19",
          "2020-10-20",
          "2020-10-21",
          "2020-10-22",
          "2020-10-23",
          "2020-10-26",
          "2020-10-27",
          "2020-10-28",
          "2020-10-29",
          "2020-10-30",
          "2020-11-02",
          "2020-11-03",
          "2020-11-04",
          "2020-11-05",
          "2020-11-06",
          "2020-11-09",
          "2020-11-10",
          "2020-11-11",
          "2020-11-12",
          "2020-11-13",
          "2020-11-16",
          "2020-11-17",
          "2020-11-18",
          "2020-11-19",
          "2020-11-20",
          "2020-11-23",
          "2020-11-24",
          "2020-11-25",
          "2020-11-26",
          "2020-11-27",
          "2020-11-30"
         ],
         "y": [
          2957350,
          1429912,
          3505959,
          5148966,
          28716072,
          15686852,
          8047240,
          21832615,
          13164176,
          10573019,
          8046389,
          4585122,
          10346334,
          8684128,
          0,
          8513185,
          0,
          7202366,
          17014592,
          36371681,
          13369199,
          16135343,
          9550127,
          5853424,
          4529032,
          4779936,
          3403245,
          2582484,
          1869408,
          1760964,
          2147793,
          2849271,
          2635995,
          8167164,
          2279796,
          7406541,
          2826108,
          6447748,
          8298145,
          6839845,
          2753712,
          1932901,
          8923037,
          8457244,
          5227173,
          3060054,
          3207785,
          1990166,
          1896434,
          1971294,
          1168991,
          4196887,
          1454336,
          797504,
          1613973,
          1274638,
          11151883,
          5504786,
          13709460,
          5349571,
          3130738,
          3873628,
          8123549,
          3151057,
          3157659,
          2832451,
          3006442,
          1333877,
          1235415,
          2159439,
          1857945,
          1648363,
          1106753,
          3029185,
          1100126,
          3452509,
          1226408,
          1847507,
          840553,
          2104948,
          1019478,
          880817,
          663468,
          532258,
          1452688,
          1204282,
          577934,
          549155,
          589650,
          979177,
          1306219,
          3541236,
          10987113,
          4448368,
          2178006,
          1246035,
          2598945,
          786924,
          863132,
          1597675,
          1040250,
          3357638,
          798815,
          1409700
         ]
        }
       ],
       "layout": {
        "autosize": true,
        "legend": {
         "bgcolor": "#F5F6F9",
         "font": {
          "color": "#4D5663"
         }
        },
        "paper_bgcolor": "#F5F6F9",
        "plot_bgcolor": "#F5F6F9",
        "template": {
         "data": {
          "bar": [
           {
            "error_x": {
             "color": "#2a3f5f"
            },
            "error_y": {
             "color": "#2a3f5f"
            },
            "marker": {
             "line": {
              "color": "#E5ECF6",
              "width": 0.5
             },
             "pattern": {
              "fillmode": "overlay",
              "size": 10,
              "solidity": 0.2
             }
            },
            "type": "bar"
           }
          ],
          "barpolar": [
           {
            "marker": {
             "line": {
              "color": "#E5ECF6",
              "width": 0.5
             },
             "pattern": {
              "fillmode": "overlay",
              "size": 10,
              "solidity": 0.2
             }
            },
            "type": "barpolar"
           }
          ],
          "carpet": [
           {
            "aaxis": {
             "endlinecolor": "#2a3f5f",
             "gridcolor": "white",
             "linecolor": "white",
             "minorgridcolor": "white",
             "startlinecolor": "#2a3f5f"
            },
            "baxis": {
             "endlinecolor": "#2a3f5f",
             "gridcolor": "white",
             "linecolor": "white",
             "minorgridcolor": "white",
             "startlinecolor": "#2a3f5f"
            },
            "type": "carpet"
           }
          ],
          "choropleth": [
           {
            "colorbar": {
             "outlinewidth": 0,
             "ticks": ""
            },
            "type": "choropleth"
           }
          ],
          "contour": [
           {
            "colorbar": {
             "outlinewidth": 0,
             "ticks": ""
            },
            "colorscale": [
             [
              0,
              "#0d0887"
             ],
             [
              0.1111111111111111,
              "#46039f"
             ],
             [
              0.2222222222222222,
              "#7201a8"
             ],
             [
              0.3333333333333333,
              "#9c179e"
             ],
             [
              0.4444444444444444,
              "#bd3786"
             ],
             [
              0.5555555555555556,
              "#d8576b"
             ],
             [
              0.6666666666666666,
              "#ed7953"
             ],
             [
              0.7777777777777778,
              "#fb9f3a"
             ],
             [
              0.8888888888888888,
              "#fdca26"
             ],
             [
              1,
              "#f0f921"
             ]
            ],
            "type": "contour"
           }
          ],
          "contourcarpet": [
           {
            "colorbar": {
             "outlinewidth": 0,
             "ticks": ""
            },
            "type": "contourcarpet"
           }
          ],
          "heatmap": [
           {
            "colorbar": {
             "outlinewidth": 0,
             "ticks": ""
            },
            "colorscale": [
             [
              0,
              "#0d0887"
             ],
             [
              0.1111111111111111,
              "#46039f"
             ],
             [
              0.2222222222222222,
              "#7201a8"
             ],
             [
              0.3333333333333333,
              "#9c179e"
             ],
             [
              0.4444444444444444,
              "#bd3786"
             ],
             [
              0.5555555555555556,
              "#d8576b"
             ],
             [
              0.6666666666666666,
              "#ed7953"
             ],
             [
              0.7777777777777778,
              "#fb9f3a"
             ],
             [
              0.8888888888888888,
              "#fdca26"
             ],
             [
              1,
              "#f0f921"
             ]
            ],
            "type": "heatmap"
           }
          ],
          "heatmapgl": [
           {
            "colorbar": {
             "outlinewidth": 0,
             "ticks": ""
            },
            "colorscale": [
             [
              0,
              "#0d0887"
             ],
             [
              0.1111111111111111,
              "#46039f"
             ],
             [
              0.2222222222222222,
              "#7201a8"
             ],
             [
              0.3333333333333333,
              "#9c179e"
             ],
             [
              0.4444444444444444,
              "#bd3786"
             ],
             [
              0.5555555555555556,
              "#d8576b"
             ],
             [
              0.6666666666666666,
              "#ed7953"
             ],
             [
              0.7777777777777778,
              "#fb9f3a"
             ],
             [
              0.8888888888888888,
              "#fdca26"
             ],
             [
              1,
              "#f0f921"
             ]
            ],
            "type": "heatmapgl"
           }
          ],
          "histogram": [
           {
            "marker": {
             "pattern": {
              "fillmode": "overlay",
              "size": 10,
              "solidity": 0.2
             }
            },
            "type": "histogram"
           }
          ],
          "histogram2d": [
           {
            "colorbar": {
             "outlinewidth": 0,
             "ticks": ""
            },
            "colorscale": [
             [
              0,
              "#0d0887"
             ],
             [
              0.1111111111111111,
              "#46039f"
             ],
             [
              0.2222222222222222,
              "#7201a8"
             ],
             [
              0.3333333333333333,
              "#9c179e"
             ],
             [
              0.4444444444444444,
              "#bd3786"
             ],
             [
              0.5555555555555556,
              "#d8576b"
             ],
             [
              0.6666666666666666,
              "#ed7953"
             ],
             [
              0.7777777777777778,
              "#fb9f3a"
             ],
             [
              0.8888888888888888,
              "#fdca26"
             ],
             [
              1,
              "#f0f921"
             ]
            ],
            "type": "histogram2d"
           }
          ],
          "histogram2dcontour": [
           {
            "colorbar": {
             "outlinewidth": 0,
             "ticks": ""
            },
            "colorscale": [
             [
              0,
              "#0d0887"
             ],
             [
              0.1111111111111111,
              "#46039f"
             ],
             [
              0.2222222222222222,
              "#7201a8"
             ],
             [
              0.3333333333333333,
              "#9c179e"
             ],
             [
              0.4444444444444444,
              "#bd3786"
             ],
             [
              0.5555555555555556,
              "#d8576b"
             ],
             [
              0.6666666666666666,
              "#ed7953"
             ],
             [
              0.7777777777777778,
              "#fb9f3a"
             ],
             [
              0.8888888888888888,
              "#fdca26"
             ],
             [
              1,
              "#f0f921"
             ]
            ],
            "type": "histogram2dcontour"
           }
          ],
          "mesh3d": [
           {
            "colorbar": {
             "outlinewidth": 0,
             "ticks": ""
            },
            "type": "mesh3d"
           }
          ],
          "parcoords": [
           {
            "line": {
             "colorbar": {
              "outlinewidth": 0,
              "ticks": ""
             }
            },
            "type": "parcoords"
           }
          ],
          "pie": [
           {
            "automargin": true,
            "type": "pie"
           }
          ],
          "scatter": [
           {
            "fillpattern": {
             "fillmode": "overlay",
             "size": 10,
             "solidity": 0.2
            },
            "type": "scatter"
           }
          ],
          "scatter3d": [
           {
            "line": {
             "colorbar": {
              "outlinewidth": 0,
              "ticks": ""
             }
            },
            "marker": {
             "colorbar": {
              "outlinewidth": 0,
              "ticks": ""
             }
            },
            "type": "scatter3d"
           }
          ],
          "scattercarpet": [
           {
            "marker": {
             "colorbar": {
              "outlinewidth": 0,
              "ticks": ""
             }
            },
            "type": "scattercarpet"
           }
          ],
          "scattergeo": [
           {
            "marker": {
             "colorbar": {
              "outlinewidth": 0,
              "ticks": ""
             }
            },
            "type": "scattergeo"
           }
          ],
          "scattergl": [
           {
            "marker": {
             "colorbar": {
              "outlinewidth": 0,
              "ticks": ""
             }
            },
            "type": "scattergl"
           }
          ],
          "scattermapbox": [
           {
            "marker": {
             "colorbar": {
              "outlinewidth": 0,
              "ticks": ""
             }
            },
            "type": "scattermapbox"
           }
          ],
          "scatterpolar": [
           {
            "marker": {
             "colorbar": {
              "outlinewidth": 0,
              "ticks": ""
             }
            },
            "type": "scatterpolar"
           }
          ],
          "scatterpolargl": [
           {
            "marker": {
             "colorbar": {
              "outlinewidth": 0,
              "ticks": ""
             }
            },
            "type": "scatterpolargl"
           }
          ],
          "scatterternary": [
           {
            "marker": {
             "colorbar": {
              "outlinewidth": 0,
              "ticks": ""
             }
            },
            "type": "scatterternary"
           }
          ],
          "surface": [
           {
            "colorbar": {
             "outlinewidth": 0,
             "ticks": ""
            },
            "colorscale": [
             [
              0,
              "#0d0887"
             ],
             [
              0.1111111111111111,
              "#46039f"
             ],
             [
              0.2222222222222222,
              "#7201a8"
             ],
             [
              0.3333333333333333,
              "#9c179e"
             ],
             [
              0.4444444444444444,
              "#bd3786"
             ],
             [
              0.5555555555555556,
              "#d8576b"
             ],
             [
              0.6666666666666666,
              "#ed7953"
             ],
             [
              0.7777777777777778,
              "#fb9f3a"
             ],
             [
              0.8888888888888888,
              "#fdca26"
             ],
             [
              1,
              "#f0f921"
             ]
            ],
            "type": "surface"
           }
          ],
          "table": [
           {
            "cells": {
             "fill": {
              "color": "#EBF0F8"
             },
             "line": {
              "color": "white"
             }
            },
            "header": {
             "fill": {
              "color": "#C8D4E3"
             },
             "line": {
              "color": "white"
             }
            },
            "type": "table"
           }
          ]
         },
         "layout": {
          "annotationdefaults": {
           "arrowcolor": "#2a3f5f",
           "arrowhead": 0,
           "arrowwidth": 1
          },
          "autotypenumbers": "strict",
          "coloraxis": {
           "colorbar": {
            "outlinewidth": 0,
            "ticks": ""
           }
          },
          "colorscale": {
           "diverging": [
            [
             0,
             "#8e0152"
            ],
            [
             0.1,
             "#c51b7d"
            ],
            [
             0.2,
             "#de77ae"
            ],
            [
             0.3,
             "#f1b6da"
            ],
            [
             0.4,
             "#fde0ef"
            ],
            [
             0.5,
             "#f7f7f7"
            ],
            [
             0.6,
             "#e6f5d0"
            ],
            [
             0.7,
             "#b8e186"
            ],
            [
             0.8,
             "#7fbc41"
            ],
            [
             0.9,
             "#4d9221"
            ],
            [
             1,
             "#276419"
            ]
           ],
           "sequential": [
            [
             0,
             "#0d0887"
            ],
            [
             0.1111111111111111,
             "#46039f"
            ],
            [
             0.2222222222222222,
             "#7201a8"
            ],
            [
             0.3333333333333333,
             "#9c179e"
            ],
            [
             0.4444444444444444,
             "#bd3786"
            ],
            [
             0.5555555555555556,
             "#d8576b"
            ],
            [
             0.6666666666666666,
             "#ed7953"
            ],
            [
             0.7777777777777778,
             "#fb9f3a"
            ],
            [
             0.8888888888888888,
             "#fdca26"
            ],
            [
             1,
             "#f0f921"
            ]
           ],
           "sequentialminus": [
            [
             0,
             "#0d0887"
            ],
            [
             0.1111111111111111,
             "#46039f"
            ],
            [
             0.2222222222222222,
             "#7201a8"
            ],
            [
             0.3333333333333333,
             "#9c179e"
            ],
            [
             0.4444444444444444,
             "#bd3786"
            ],
            [
             0.5555555555555556,
             "#d8576b"
            ],
            [
             0.6666666666666666,
             "#ed7953"
            ],
            [
             0.7777777777777778,
             "#fb9f3a"
            ],
            [
             0.8888888888888888,
             "#fdca26"
            ],
            [
             1,
             "#f0f921"
            ]
           ]
          },
          "colorway": [
           "#636efa",
           "#EF553B",
           "#00cc96",
           "#ab63fa",
           "#FFA15A",
           "#19d3f3",
           "#FF6692",
           "#B6E880",
           "#FF97FF",
           "#FECB52"
          ],
          "font": {
           "color": "#2a3f5f"
          },
          "geo": {
           "bgcolor": "white",
           "lakecolor": "white",
           "landcolor": "#E5ECF6",
           "showlakes": true,
           "showland": true,
           "subunitcolor": "white"
          },
          "hoverlabel": {
           "align": "left"
          },
          "hovermode": "closest",
          "mapbox": {
           "style": "light"
          },
          "paper_bgcolor": "white",
          "plot_bgcolor": "#E5ECF6",
          "polar": {
           "angularaxis": {
            "gridcolor": "white",
            "linecolor": "white",
            "ticks": ""
           },
           "bgcolor": "#E5ECF6",
           "radialaxis": {
            "gridcolor": "white",
            "linecolor": "white",
            "ticks": ""
           }
          },
          "scene": {
           "xaxis": {
            "backgroundcolor": "#E5ECF6",
            "gridcolor": "white",
            "gridwidth": 2,
            "linecolor": "white",
            "showbackground": true,
            "ticks": "",
            "zerolinecolor": "white"
           },
           "yaxis": {
            "backgroundcolor": "#E5ECF6",
            "gridcolor": "white",
            "gridwidth": 2,
            "linecolor": "white",
            "showbackground": true,
            "ticks": "",
            "zerolinecolor": "white"
           },
           "zaxis": {
            "backgroundcolor": "#E5ECF6",
            "gridcolor": "white",
            "gridwidth": 2,
            "linecolor": "white",
            "showbackground": true,
            "ticks": "",
            "zerolinecolor": "white"
           }
          },
          "shapedefaults": {
           "line": {
            "color": "#2a3f5f"
           }
          },
          "ternary": {
           "aaxis": {
            "gridcolor": "white",
            "linecolor": "white",
            "ticks": ""
           },
           "baxis": {
            "gridcolor": "white",
            "linecolor": "white",
            "ticks": ""
           },
           "bgcolor": "#E5ECF6",
           "caxis": {
            "gridcolor": "white",
            "linecolor": "white",
            "ticks": ""
           }
          },
          "title": {
           "x": 0.05
          },
          "xaxis": {
           "automargin": true,
           "gridcolor": "white",
           "linecolor": "white",
           "ticks": "",
           "title": {
            "standoff": 15
           },
           "zerolinecolor": "white",
           "zerolinewidth": 2
          },
          "yaxis": {
           "automargin": true,
           "gridcolor": "white",
           "linecolor": "white",
           "ticks": "",
           "title": {
            "standoff": 15
           },
           "zerolinecolor": "white",
           "zerolinewidth": 2
          }
         }
        },
        "title": {
         "font": {
          "color": "#4D5663"
         }
        },
        "xaxis": {
         "autorange": false,
         "gridcolor": "#E1E5ED",
         "range": [
          "2020-06-08 13:31:40.08",
          "2020-09-06 19:15:01.5395"
         ],
         "showgrid": true,
         "tickfont": {
          "color": "#4D5663"
         },
         "title": {
          "font": {
           "color": "#4D5663"
          },
          "text": ""
         },
         "type": "date",
         "zerolinecolor": "#E1E5ED"
        },
        "yaxis": {
         "autorange": false,
         "gridcolor": "#E1E5ED",
         "range": [
          -21985780.357621938,
          38184654.87694597
         ],
         "showgrid": true,
         "tickfont": {
          "color": "#4D5663"
         },
         "title": {
          "font": {
           "color": "#4D5663"
          },
          "text": ""
         },
         "type": "linear",
         "zerolinecolor": "#E1E5ED"
        }
       }
      },
      "image/png": "[encoded data removed]",
      "text/html": [
       "<div>                            <div id=\"7f0d287c-dcab-4ca6-9eaf-9f5ba157c327\" class=\"plotly-graph-div\" style=\"height:525px; width:100%;\"></div>            <script type=\"text/javascript\">                require([\"plotly\"], function(Plotly) {                    window.PLOTLYENV=window.PLOTLYENV || {};\n",
       "                    window.PLOTLYENV.BASE_URL='https://plot.ly';                                    if (document.getElementById(\"7f0d287c-dcab-4ca6-9eaf-9f5ba157c327\")) {                    Plotly.newPlot(                        \"7f0d287c-dcab-4ca6-9eaf-9f5ba157c327\",                        [{\"line\":{\"color\":\"rgba(255, 153, 51, 1.0)\",\"dash\":\"solid\",\"shape\":\"linear\",\"width\":1.3},\"mode\":\"lines\",\"name\":\"Volume\",\"text\":\"\",\"x\":[\"2020-07-01\",\"2020-07-02\",\"2020-07-03\",\"2020-07-06\",\"2020-07-07\",\"2020-07-08\",\"2020-07-09\",\"2020-07-10\",\"2020-07-13\",\"2020-07-14\",\"2020-07-15\",\"2020-07-16\",\"2020-07-17\",\"2020-07-20\",\"2020-07-21\",\"2020-07-22\",\"2020-07-23\",\"2020-07-24\",\"2020-07-27\",\"2020-07-28\",\"2020-07-29\",\"2020-07-30\",\"2020-07-31\",\"2020-08-03\",\"2020-08-04\",\"2020-08-05\",\"2020-08-06\",\"2020-08-07\",\"2020-08-10\",\"2020-08-11\",\"2020-08-12\",\"2020-08-13\",\"2020-08-14\",\"2020-08-18\",\"2020-08-19\",\"2020-08-20\",\"2020-08-21\",\"2020-08-24\",\"2020-08-25\",\"2020-08-26\",\"2020-08-27\",\"2020-08-28\",\"2020-08-31\",\"2020-09-01\",\"2020-09-02\",\"2020-09-03\",\"2020-09-04\",\"2020-09-07\",\"2020-09-08\",\"2020-09-09\",\"2020-09-10\",\"2020-09-11\",\"2020-09-14\",\"2020-09-15\",\"2020-09-16\",\"2020-09-17\",\"2020-09-18\",\"2020-09-21\",\"2020-09-22\",\"2020-09-23\",\"2020-09-24\",\"2020-09-25\",\"2020-09-28\",\"2020-09-29\",\"2020-10-05\",\"2020-10-06\",\"2020-10-07\",\"2020-10-08\",\"2020-10-12\",\"2020-10-13\",\"2020-10-14\",\"2020-10-15\",\"2020-10-16\",\"2020-10-19\",\"2020-10-20\",\"2020-10-21\",\"2020-10-22\",\"2020-10-23\",\"2020-10-26\",\"2020-10-27\",\"2020-10-28\",\"2020-10-29\",\"2020-10-30\",\"2020-11-02\",\"2020-11-03\",\"2020-11-04\",\"2020-11-05\",\"2020-11-06\",\"2020-11-09\",\"2020-11-10\",\"2020-11-11\",\"2020-11-12\",\"2020-11-13\",\"2020-11-16\",\"2020-11-17\",\"2020-11-18\",\"2020-11-19\",\"2020-11-20\",\"2020-11-23\",\"2020-11-24\",\"2020-11-25\",\"2020-11-26\",\"2020-11-27\",\"2020-11-30\"],\"y\":[2957350,1429912,3505959,5148966,28716072,15686852,8047240,21832615,13164176,10573019,8046389,4585122,10346334,8684128,0,8513185,0,7202366,17014592,36371681,13369199,16135343,9550127,5853424,4529032,4779936,3403245,2582484,1869408,1760964,2147793,2849271,2635995,8167164,2279796,7406541,2826108,6447748,8298145,6839845,2753712,1932901,8923037,8457244,5227173,3060054,3207785,1990166,1896434,1971294,1168991,4196887,1454336,797504,1613973,1274638,11151883,5504786,13709460,5349571,3130738,3873628,8123549,3151057,3157659,2832451,3006442,1333877,1235415,2159439,1857945,1648363,1106753,3029185,1100126,3452509,1226408,1847507,840553,2104948,1019478,880817,663468,532258,1452688,1204282,577934,549155,589650,979177,1306219,3541236,10987113,4448368,2178006,1246035,2598945,786924,863132,1597675,1040250,3357638,798815,1409700],\"type\":\"scatter\"}],                        {\"legend\":{\"bgcolor\":\"#F5F6F9\",\"font\":{\"color\":\"#4D5663\"}},\"paper_bgcolor\":\"#F5F6F9\",\"plot_bgcolor\":\"#F5F6F9\",\"template\":{\"data\":{\"barpolar\":[{\"marker\":{\"line\":{\"color\":\"#E5ECF6\",\"width\":0.5},\"pattern\":{\"fillmode\":\"overlay\",\"size\":10,\"solidity\":0.2}},\"type\":\"barpolar\"}],\"bar\":[{\"error_x\":{\"color\":\"#2a3f5f\"},\"error_y\":{\"color\":\"#2a3f5f\"},\"marker\":{\"line\":{\"color\":\"#E5ECF6\",\"width\":0.5},\"pattern\":{\"fillmode\":\"overlay\",\"size\":10,\"solidity\":0.2}},\"type\":\"bar\"}],\"carpet\":[{\"aaxis\":{\"endlinecolor\":\"#2a3f5f\",\"gridcolor\":\"white\",\"linecolor\":\"white\",\"minorgridcolor\":\"white\",\"startlinecolor\":\"#2a3f5f\"},\"baxis\":{\"endlinecolor\":\"#2a3f5f\",\"gridcolor\":\"white\",\"linecolor\":\"white\",\"minorgridcolor\":\"white\",\"startlinecolor\":\"#2a3f5f\"},\"type\":\"carpet\"}],\"choropleth\":[{\"colorbar\":{\"outlinewidth\":0,\"ticks\":\"\"},\"type\":\"choropleth\"}],\"contourcarpet\":[{\"colorbar\":{\"outlinewidth\":0,\"ticks\":\"\"},\"type\":\"contourcarpet\"}],\"contour\":[{\"colorbar\":{\"outlinewidth\":0,\"ticks\":\"\"},\"colorscale\":[[0.0,\"#0d0887\"],[0.1111111111111111,\"#46039f\"],[0.2222222222222222,\"#7201a8\"],[0.3333333333333333,\"#9c179e\"],[0.4444444444444444,\"#bd3786\"],[0.5555555555555556,\"#d8576b\"],[0.6666666666666666,\"#ed7953\"],[0.7777777777777778,\"#fb9f3a\"],[0.8888888888888888,\"#fdca26\"],[1.0,\"#f0f921\"]],\"type\":\"contour\"}],\"heatmapgl\":[{\"colorbar\":{\"outlinewidth\":0,\"ticks\":\"\"},\"colorscale\":[[0.0,\"#0d0887\"],[0.1111111111111111,\"#46039f\"],[0.2222222222222222,\"#7201a8\"],[0.3333333333333333,\"#9c179e\"],[0.4444444444444444,\"#bd3786\"],[0.5555555555555556,\"#d8576b\"],[0.6666666666666666,\"#ed7953\"],[0.7777777777777778,\"#fb9f3a\"],[0.8888888888888888,\"#fdca26\"],[1.0,\"#f0f921\"]],\"type\":\"heatmapgl\"}],\"heatmap\":[{\"colorbar\":{\"outlinewidth\":0,\"ticks\":\"\"},\"colorscale\":[[0.0,\"#0d0887\"],[0.1111111111111111,\"#46039f\"],[0.2222222222222222,\"#7201a8\"],[0.3333333333333333,\"#9c179e\"],[0.4444444444444444,\"#bd3786\"],[0.5555555555555556,\"#d8576b\"],[0.6666666666666666,\"#ed7953\"],[0.7777777777777778,\"#fb9f3a\"],[0.8888888888888888,\"#fdca26\"],[1.0,\"#f0f921\"]],\"type\":\"heatmap\"}],\"histogram2dcontour\":[{\"colorbar\":{\"outlinewidth\":0,\"ticks\":\"\"},\"colorscale\":[[0.0,\"#0d0887\"],[0.1111111111111111,\"#46039f\"],[0.2222222222222222,\"#7201a8\"],[0.3333333333333333,\"#9c179e\"],[0.4444444444444444,\"#bd3786\"],[0.5555555555555556,\"#d8576b\"],[0.6666666666666666,\"#ed7953\"],[0.7777777777777778,\"#fb9f3a\"],[0.8888888888888888,\"#fdca26\"],[1.0,\"#f0f921\"]],\"type\":\"histogram2dcontour\"}],\"histogram2d\":[{\"colorbar\":{\"outlinewidth\":0,\"ticks\":\"\"},\"colorscale\":[[0.0,\"#0d0887\"],[0.1111111111111111,\"#46039f\"],[0.2222222222222222,\"#7201a8\"],[0.3333333333333333,\"#9c179e\"],[0.4444444444444444,\"#bd3786\"],[0.5555555555555556,\"#d8576b\"],[0.6666666666666666,\"#ed7953\"],[0.7777777777777778,\"#fb9f3a\"],[0.8888888888888888,\"#fdca26\"],[1.0,\"#f0f921\"]],\"type\":\"histogram2d\"}],\"histogram\":[{\"marker\":{\"pattern\":{\"fillmode\":\"overlay\",\"size\":10,\"solidity\":0.2}},\"type\":\"histogram\"}],\"mesh3d\":[{\"colorbar\":{\"outlinewidth\":0,\"ticks\":\"\"},\"type\":\"mesh3d\"}],\"parcoords\":[{\"line\":{\"colorbar\":{\"outlinewidth\":0,\"ticks\":\"\"}},\"type\":\"parcoords\"}],\"pie\":[{\"automargin\":true,\"type\":\"pie\"}],\"scatter3d\":[{\"line\":{\"colorbar\":{\"outlinewidth\":0,\"ticks\":\"\"}},\"marker\":{\"colorbar\":{\"outlinewidth\":0,\"ticks\":\"\"}},\"type\":\"scatter3d\"}],\"scattercarpet\":[{\"marker\":{\"colorbar\":{\"outlinewidth\":0,\"ticks\":\"\"}},\"type\":\"scattercarpet\"}],\"scattergeo\":[{\"marker\":{\"colorbar\":{\"outlinewidth\":0,\"ticks\":\"\"}},\"type\":\"scattergeo\"}],\"scattergl\":[{\"marker\":{\"colorbar\":{\"outlinewidth\":0,\"ticks\":\"\"}},\"type\":\"scattergl\"}],\"scattermapbox\":[{\"marker\":{\"colorbar\":{\"outlinewidth\":0,\"ticks\":\"\"}},\"type\":\"scattermapbox\"}],\"scatterpolargl\":[{\"marker\":{\"colorbar\":{\"outlinewidth\":0,\"ticks\":\"\"}},\"type\":\"scatterpolargl\"}],\"scatterpolar\":[{\"marker\":{\"colorbar\":{\"outlinewidth\":0,\"ticks\":\"\"}},\"type\":\"scatterpolar\"}],\"scatter\":[{\"fillpattern\":{\"fillmode\":\"overlay\",\"size\":10,\"solidity\":0.2},\"type\":\"scatter\"}],\"scatterternary\":[{\"marker\":{\"colorbar\":{\"outlinewidth\":0,\"ticks\":\"\"}},\"type\":\"scatterternary\"}],\"surface\":[{\"colorbar\":{\"outlinewidth\":0,\"ticks\":\"\"},\"colorscale\":[[0.0,\"#0d0887\"],[0.1111111111111111,\"#46039f\"],[0.2222222222222222,\"#7201a8\"],[0.3333333333333333,\"#9c179e\"],[0.4444444444444444,\"#bd3786\"],[0.5555555555555556,\"#d8576b\"],[0.6666666666666666,\"#ed7953\"],[0.7777777777777778,\"#fb9f3a\"],[0.8888888888888888,\"#fdca26\"],[1.0,\"#f0f921\"]],\"type\":\"surface\"}],\"table\":[{\"cells\":{\"fill\":{\"color\":\"#EBF0F8\"},\"line\":{\"color\":\"white\"}},\"header\":{\"fill\":{\"color\":\"#C8D4E3\"},\"line\":{\"color\":\"white\"}},\"type\":\"table\"}]},\"layout\":{\"annotationdefaults\":{\"arrowcolor\":\"#2a3f5f\",\"arrowhead\":0,\"arrowwidth\":1},\"autotypenumbers\":\"strict\",\"coloraxis\":{\"colorbar\":{\"outlinewidth\":0,\"ticks\":\"\"}},\"colorscale\":{\"diverging\":[[0,\"#8e0152\"],[0.1,\"#c51b7d\"],[0.2,\"#de77ae\"],[0.3,\"#f1b6da\"],[0.4,\"#fde0ef\"],[0.5,\"#f7f7f7\"],[0.6,\"#e6f5d0\"],[0.7,\"#b8e186\"],[0.8,\"#7fbc41\"],[0.9,\"#4d9221\"],[1,\"#276419\"]],\"sequential\":[[0.0,\"#0d0887\"],[0.1111111111111111,\"#46039f\"],[0.2222222222222222,\"#7201a8\"],[0.3333333333333333,\"#9c179e\"],[0.4444444444444444,\"#bd3786\"],[0.5555555555555556,\"#d8576b\"],[0.6666666666666666,\"#ed7953\"],[0.7777777777777778,\"#fb9f3a\"],[0.8888888888888888,\"#fdca26\"],[1.0,\"#f0f921\"]],\"sequentialminus\":[[0.0,\"#0d0887\"],[0.1111111111111111,\"#46039f\"],[0.2222222222222222,\"#7201a8\"],[0.3333333333333333,\"#9c179e\"],[0.4444444444444444,\"#bd3786\"],[0.5555555555555556,\"#d8576b\"],[0.6666666666666666,\"#ed7953\"],[0.7777777777777778,\"#fb9f3a\"],[0.8888888888888888,\"#fdca26\"],[1.0,\"#f0f921\"]]},\"colorway\":[\"#636efa\",\"#EF553B\",\"#00cc96\",\"#ab63fa\",\"#FFA15A\",\"#19d3f3\",\"#FF6692\",\"#B6E880\",\"#FF97FF\",\"#FECB52\"],\"font\":{\"color\":\"#2a3f5f\"},\"geo\":{\"bgcolor\":\"white\",\"lakecolor\":\"white\",\"landcolor\":\"#E5ECF6\",\"showlakes\":true,\"showland\":true,\"subunitcolor\":\"white\"},\"hoverlabel\":{\"align\":\"left\"},\"hovermode\":\"closest\",\"mapbox\":{\"style\":\"light\"},\"paper_bgcolor\":\"white\",\"plot_bgcolor\":\"#E5ECF6\",\"polar\":{\"angularaxis\":{\"gridcolor\":\"white\",\"linecolor\":\"white\",\"ticks\":\"\"},\"bgcolor\":\"#E5ECF6\",\"radialaxis\":{\"gridcolor\":\"white\",\"linecolor\":\"white\",\"ticks\":\"\"}},\"scene\":{\"xaxis\":{\"backgroundcolor\":\"#E5ECF6\",\"gridcolor\":\"white\",\"gridwidth\":2,\"linecolor\":\"white\",\"showbackground\":true,\"ticks\":\"\",\"zerolinecolor\":\"white\"},\"yaxis\":{\"backgroundcolor\":\"#E5ECF6\",\"gridcolor\":\"white\",\"gridwidth\":2,\"linecolor\":\"white\",\"showbackground\":true,\"ticks\":\"\",\"zerolinecolor\":\"white\"},\"zaxis\":{\"backgroundcolor\":\"#E5ECF6\",\"gridcolor\":\"white\",\"gridwidth\":2,\"linecolor\":\"white\",\"showbackground\":true,\"ticks\":\"\",\"zerolinecolor\":\"white\"}},\"shapedefaults\":{\"line\":{\"color\":\"#2a3f5f\"}},\"ternary\":{\"aaxis\":{\"gridcolor\":\"white\",\"linecolor\":\"white\",\"ticks\":\"\"},\"baxis\":{\"gridcolor\":\"white\",\"linecolor\":\"white\",\"ticks\":\"\"},\"bgcolor\":\"#E5ECF6\",\"caxis\":{\"gridcolor\":\"white\",\"linecolor\":\"white\",\"ticks\":\"\"}},\"title\":{\"x\":0.05},\"xaxis\":{\"automargin\":true,\"gridcolor\":\"white\",\"linecolor\":\"white\",\"ticks\":\"\",\"title\":{\"standoff\":15},\"zerolinecolor\":\"white\",\"zerolinewidth\":2},\"yaxis\":{\"automargin\":true,\"gridcolor\":\"white\",\"linecolor\":\"white\",\"ticks\":\"\",\"title\":{\"standoff\":15},\"zerolinecolor\":\"white\",\"zerolinewidth\":2}}},\"title\":{\"font\":{\"color\":\"#4D5663\"}},\"xaxis\":{\"gridcolor\":\"#E1E5ED\",\"showgrid\":true,\"tickfont\":{\"color\":\"#4D5663\"},\"title\":{\"font\":{\"color\":\"#4D5663\"},\"text\":\"\"},\"zerolinecolor\":\"#E1E5ED\"},\"yaxis\":{\"gridcolor\":\"#E1E5ED\",\"showgrid\":true,\"tickfont\":{\"color\":\"#4D5663\"},\"title\":{\"font\":{\"color\":\"#4D5663\"},\"text\":\"\"},\"zerolinecolor\":\"#E1E5ED\"}},                        {\"showLink\": true, \"linkText\": \"Export to plot.ly\", \"plotlyServerURL\": \"https://plot.ly\", \"responsive\": true}                    ).then(function(){\n",
       "                            \n",
       "var gd = document.getElementById('7f0d287c-dcab-4ca6-9eaf-9f5ba157c327');\n",
       "var x = new MutationObserver(function (mutations, observer) {{\n",
       "        var display = window.getComputedStyle(gd).display;\n",
       "        if (!display || display === 'none') {{\n",
       "            console.log([gd, 'removed!']);\n",
       "            Plotly.purge(gd);\n",
       "            observer.disconnect();\n",
       "        }}\n",
       "}});\n",
       "\n",
       "// Listen for the removal of the full notebook cells\n",
       "var notebookContainer = gd.closest('#notebook-container');\n",
       "if (notebookContainer) {{\n",
       "    x.observe(notebookContainer, {childList: true});\n",
       "}}\n",
       "\n",
       "// Listen for the clearing of the current output cell\n",
       "var outputEl = gd.closest('.output');\n",
       "if (outputEl) {{\n",
       "    x.observe(outputEl, {childList: true});\n",
       "}}\n",
       "\n",
       "                        })                };                });            </script>        </div>"
      ]
     },
     "metadata": {},
     "output_type": "display_data"
    }
   ],
   "source": [
    "df_sinpung['Volume'].iplot(kind = 'line')"
   ]
  },
  {
   "cell_type": "markdown",
   "id": "b6819a31",
   "metadata": {
    "ExecuteTime": {
     "end_time": "2022-12-07T12:06:08.098873Z",
     "start_time": "2022-12-07T12:06:08.085878Z"
    }
   },
   "source": [
    "코로나 19사태로 인해 백신개발 관련 종목들이 급등하면서 6월 21일, 6월 23일 매매거래가 정지되었다.<br>\n",
    "이와 같이 특수한 상황인 경우 모델이 다음 날 수익률을 예측하는데 어려움을 가질 수 있으므로 해당 데이터를 제거한다.<br>\n",
    "앞선 시각화에서 매매거래 정지와 같이 특수한 상황으로 Low값이 0으로 나타나는 경우가 있으므로, <br>\n",
    "데이터셋 구축 시 조건을 충족하는 데이터에 대해 학습을 진행한다."
   ]
  }
 ],
 "metadata": {
  "kernelspec": {
   "display_name": "Python 3 (ipykernel)",
   "language": "python",
   "name": "python3"
  },
  "language_info": {
   "codemirror_mode": {
    "name": "ipython",
    "version": 3
   },
   "file_extension": ".py",
   "mimetype": "text/x-python",
   "name": "python",
   "nbconvert_exporter": "python",
   "pygments_lexer": "ipython3",
   "version": "3.9.13"
  },
  "toc": {
   "base_numbering": 1,
   "nav_menu": {},
   "number_sections": true,
   "sideBar": true,
   "skip_h1_title": false,
   "title_cell": "Table of Contents",
   "title_sidebar": "Contents",
   "toc_cell": false,
   "toc_position": {
    "height": "711.989px",
    "left": "47px",
    "top": "110.781px",
    "width": "383.963px"
   },
   "toc_section_display": true,
   "toc_window_display": true
  },
  "toc-autonumbering": false
 },
 "nbformat": 4,
 "nbformat_minor": 5
}
