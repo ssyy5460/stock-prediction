{
 "cells": [
  {
   "cell_type": "markdown",
   "metadata": {},
   "source": [
    "Dense Layer를 활용하여 주식 예측해보기 <br>\n",
    "데이터셋 조건 : 1조, 거래일 10일, next_change : 0.02 <br>\n",
    "Final earning rate : -22.86 %<br>\n",
    "모델 선택 시 Dense Layer 고려 \n",
    "\n"
   ]
  },
  {
   "cell_type": "code",
   "execution_count": 2,
   "metadata": {
    "ExecuteTime": {
     "end_time": "2023-03-08T13:40:40.133109Z",
     "start_time": "2023-03-08T13:40:35.793686Z"
    },
    "tags": []
   },
   "outputs": [],
   "source": [
    "import os\n",
    "#os.environ['TF_CPP_MIN_LOG_LEVEL'] = '3' \n",
    "os.environ[\"CUDA_VISIBLE_DEVICES\"] = \"-1\"\n",
    "import pickle\n",
    "import tensorflow as tf\n",
    "import numpy as np\n",
    "import pandas as pd"
   ]
  },
  {
   "cell_type": "code",
   "execution_count": 3,
   "metadata": {
    "ExecuteTime": {
     "end_time": "2023-03-08T13:40:40.825233Z",
     "start_time": "2023-03-08T13:40:40.136076Z"
    }
   },
   "outputs": [
    {
     "name": "stdout",
     "output_type": "stream",
     "text": [
      "tf.Tensor(\n",
      "[[22. 28.]\n",
      " [49. 64.]], shape=(2, 2), dtype=float32)\n"
     ]
    }
   ],
   "source": [
    "gpus = tf.config.experimental.list_physical_devices('GPU')\n",
    "if gpus:\n",
    "  # Restrict TensorFlow to only allocate 2GB of memory on the first GPU\n",
    "  try:\n",
    "    tf.config.experimental.set_virtual_device_configuration(\n",
    "        gpus[0],\n",
    "        [tf.config.experimental.VirtualDeviceConfiguration(memory_limit=2048)])\n",
    "    logical_gpus = tf.config.experimental.list_logical_devices('GPU')\n",
    "    print(len(gpus), \"Physical GPUs,\", len(logical_gpus), \"Logical GPUs\")\n",
    "  except RuntimeError as e:\n",
    "    # Virtual devices must be set before GPUs have been initialized\n",
    "    print(e)\n",
    "  \n",
    "    \n",
    "a = tf.constant([[1.0, 2.0, 3.0], [4.0, 5.0, 6.0]])\n",
    "b = tf.constant([[1.0, 2.0], [3.0, 4.0], [5.0, 6.0]])\n",
    "c = tf.matmul(a, b)\n",
    "\n",
    "print(c)"
   ]
  },
  {
   "cell_type": "markdown",
   "metadata": {},
   "source": [
    "# 데이터셋 불러오기"
   ]
  },
  {
   "cell_type": "code",
   "execution_count": 4,
   "metadata": {
    "ExecuteTime": {
     "end_time": "2023-03-08T13:40:40.840192Z",
     "start_time": "2023-03-08T13:40:40.829224Z"
    }
   },
   "outputs": [],
   "source": [
    "def load_file(TYPE,trading, days,target):\n",
    "    with open('../data/{}_{}_{}_{}.pickle'.format(TYPE,trading, days,target), 'rb') as f:\n",
    "        data = pickle.load(f)\n",
    "    return data"
   ]
  },
  {
   "cell_type": "code",
   "execution_count": 5,
   "metadata": {
    "ExecuteTime": {
     "end_time": "2023-03-08T13:40:40.872107Z",
     "start_time": "2023-03-08T13:40:40.846179Z"
    }
   },
   "outputs": [],
   "source": [
    "def load_model(model,trading, days,target):\n",
    "    with open('../model/{}_{}_{}_{}.pickle'.format(model,trading, days,target), 'rb') as f:\n",
    "        model = pickle.load(f)\n",
    "    return model"
   ]
  },
  {
   "cell_type": "code",
   "execution_count": 6,
   "metadata": {
    "ExecuteTime": {
     "end_time": "2023-03-08T13:40:40.888109Z",
     "start_time": "2023-03-08T13:40:40.877094Z"
    }
   },
   "outputs": [],
   "source": [
    "train = load_file('train',10000,10,0.02)\n",
    "val = load_file('val',10000,10,0.02)\n",
    "test = load_file('test', 10000,10,0.02)"
   ]
  },
  {
   "cell_type": "code",
   "execution_count": 8,
   "metadata": {
    "ExecuteTime": {
     "end_time": "2023-03-08T13:40:51.559153Z",
     "start_time": "2023-03-08T13:40:51.531228Z"
    }
   },
   "outputs": [],
   "source": [
    "lst_code2date_train = []\n",
    "trainX = []\n",
    "trainY = []\n",
    "\n",
    "for line in train:\n",
    "    code, date, x, y = line\n",
    "    lst_code2date_train.append([code,date])\n",
    "    trainX.append(list(map(int, x.split(','))))\n",
    "    trainY.append(int(y))\n",
    "trainX=np.array(trainX)\n",
    "trainY=np.array(trainY)"
   ]
  },
  {
   "cell_type": "code",
   "execution_count": 13,
   "metadata": {
    "ExecuteTime": {
     "end_time": "2023-03-08T13:42:18.745026Z",
     "start_time": "2023-03-08T13:42:18.730051Z"
    }
   },
   "outputs": [],
   "source": [
    "lst_code2date_val = []\n",
    "valX=[]\n",
    "valY=[]\n",
    "\n",
    "for line in val:\n",
    "    code, date, x, y = line\n",
    "    lst_code2date_val.append([code,date])\n",
    "    valX.append(list(map(int, x.split(','))))\n",
    "    valY.append(int(y))\n",
    "valX=np.array(valX)\n",
    "valY=np.array(valY)"
   ]
  },
  {
   "cell_type": "code",
   "execution_count": 11,
   "metadata": {
    "ExecuteTime": {
     "end_time": "2023-03-08T13:41:38.326152Z",
     "start_time": "2023-03-08T13:41:38.306175Z"
    }
   },
   "outputs": [],
   "source": [
    "lst_code2date_test = []\n",
    "testX=[]\n",
    "testY=[]\n",
    "\n",
    "for line in test:\n",
    "    code, date, x, y = line\n",
    "    lst_code2date_test.append([code,date])\n",
    "    testX.append(list(map(int, x.split(','))))\n",
    "    testY.append(int(y))\n",
    "testX=np.array(testX)\n",
    "testY=np.array(testY)"
   ]
  },
  {
   "cell_type": "markdown",
   "metadata": {},
   "source": [
    "# Modeling"
   ]
  },
  {
   "cell_type": "code",
   "execution_count": 14,
   "metadata": {
    "ExecuteTime": {
     "end_time": "2023-03-08T13:42:20.894270Z",
     "start_time": "2023-03-08T13:42:20.601054Z"
    }
   },
   "outputs": [
    {
     "name": "stdout",
     "output_type": "stream",
     "text": [
      "Model: \"sequential\"\n",
      "_________________________________________________________________\n",
      "Layer (type)                 Output Shape              Param #   \n",
      "=================================================================\n",
      "flatten (Flatten)            (None, 50)                0         \n",
      "_________________________________________________________________\n",
      "dense (Dense)                (None, 256)               13056     \n",
      "_________________________________________________________________\n",
      "dense_1 (Dense)              (None, 128)               32896     \n",
      "_________________________________________________________________\n",
      "dense_2 (Dense)              (None, 64)                8256      \n",
      "_________________________________________________________________\n",
      "dense_3 (Dense)              (None, 32)                2080      \n",
      "_________________________________________________________________\n",
      "dense_4 (Dense)              (None, 1)                 33        \n",
      "=================================================================\n",
      "Total params: 56,321\n",
      "Trainable params: 56,321\n",
      "Non-trainable params: 0\n",
      "_________________________________________________________________\n"
     ]
    }
   ],
   "source": [
    "from tqdm.notebook import tqdm\n",
    "from tensorflow import keras\n",
    "\n",
    "model = keras.models.Sequential()\n",
    "model.add(keras.layers.InputLayer(input_shape=(trainX.shape[1])))\n",
    "model.add(keras.layers.Flatten())\n",
    "model.add(keras.layers.Dense(256, activation='hard_sigmoid'))\n",
    "model.add(keras.layers.Dense(128, activation='hard_sigmoid'))\n",
    "model.add(keras.layers.Dense(64, activation='hard_sigmoid'))\n",
    "model.add(keras.layers.Dense(32, activation='hard_sigmoid'))\n",
    "model.add(keras.layers.Dense(1, activation='sigmoid'))\n",
    "    \n",
    "model.compile(optimizer=keras.optimizers.Adam(\n",
    "    learning_rate=keras.optimizers.schedules.ExponentialDecay(0.01,decay_steps=100000,decay_rate=0.96)), \n",
    "    loss=\"binary_crossentropy\",\n",
    "    metrics=['accuracy'])\n",
    "model.summary()"
   ]
  },
  {
   "cell_type": "code",
   "execution_count": 15,
   "metadata": {
    "ExecuteTime": {
     "end_time": "2023-03-08T13:42:31.290067Z",
     "start_time": "2023-03-08T13:42:27.802391Z"
    },
    "scrolled": true
   },
   "outputs": [
    {
     "name": "stdout",
     "output_type": "stream",
     "text": [
      "Epoch 1/50\n",
      "3/3 [==============================] - 2s 235ms/step - loss: 0.7188 - accuracy: 0.4949 - val_loss: 0.6023 - val_accuracy: 0.7143\n",
      "\n",
      "Epoch 00001: val_accuracy improved from -inf to 0.71429, saving model to .\\model_keras_mlp.h5\n",
      "Epoch 2/50\n",
      "3/3 [==============================] - 0s 35ms/step - loss: 0.6866 - accuracy: 0.4995 - val_loss: 0.5907 - val_accuracy: 0.7571\n",
      "\n",
      "Epoch 00002: val_accuracy improved from 0.71429 to 0.75714, saving model to .\\model_keras_mlp.h5\n",
      "Epoch 3/50\n",
      "3/3 [==============================] - 0s 29ms/step - loss: 0.6215 - accuracy: 0.7129 - val_loss: 0.5908 - val_accuracy: 0.8000\n",
      "\n",
      "Epoch 00003: val_accuracy improved from 0.75714 to 0.80000, saving model to .\\model_keras_mlp.h5\n",
      "Epoch 4/50\n",
      "3/3 [==============================] - 0s 30ms/step - loss: 0.5902 - accuracy: 0.7456 - val_loss: 0.5223 - val_accuracy: 0.7714\n",
      "\n",
      "Epoch 00004: val_accuracy did not improve from 0.80000\n",
      "Epoch 5/50\n",
      "3/3 [==============================] - 0s 32ms/step - loss: 0.5533 - accuracy: 0.7415 - val_loss: 0.5290 - val_accuracy: 0.7857\n",
      "\n",
      "Epoch 00005: val_accuracy did not improve from 0.80000\n",
      "Epoch 6/50\n",
      "3/3 [==============================] - 0s 46ms/step - loss: 0.5607 - accuracy: 0.7368 - val_loss: 0.5067 - val_accuracy: 0.7857\n",
      "\n",
      "Epoch 00006: val_accuracy did not improve from 0.80000\n",
      "Epoch 7/50\n",
      "3/3 [==============================] - 0s 42ms/step - loss: 0.5554 - accuracy: 0.7646 - val_loss: 0.5066 - val_accuracy: 0.7714\n",
      "\n",
      "Epoch 00007: val_accuracy did not improve from 0.80000\n",
      "Epoch 8/50\n",
      "3/3 [==============================] - 0s 33ms/step - loss: 0.5351 - accuracy: 0.7689 - val_loss: 0.5218 - val_accuracy: 0.7714\n",
      "\n",
      "Epoch 00008: val_accuracy did not improve from 0.80000\n",
      "Epoch 9/50\n",
      "3/3 [==============================] - 0s 28ms/step - loss: 0.5352 - accuracy: 0.7607 - val_loss: 0.5234 - val_accuracy: 0.7714\n",
      "\n",
      "Epoch 00009: val_accuracy did not improve from 0.80000\n",
      "Epoch 10/50\n",
      "3/3 [==============================] - 0s 30ms/step - loss: 0.5232 - accuracy: 0.7721 - val_loss: 0.5269 - val_accuracy: 0.7714\n",
      "\n",
      "Epoch 00010: val_accuracy did not improve from 0.80000\n",
      "Epoch 11/50\n",
      "3/3 [==============================] - 0s 40ms/step - loss: 0.5083 - accuracy: 0.7874 - val_loss: 0.5236 - val_accuracy: 0.7714\n",
      "\n",
      "Epoch 00011: val_accuracy did not improve from 0.80000\n",
      "Epoch 12/50\n",
      "3/3 [==============================] - 0s 39ms/step - loss: 0.5113 - accuracy: 0.7791 - val_loss: 0.5270 - val_accuracy: 0.7714\n",
      "\n",
      "Epoch 00012: val_accuracy did not improve from 0.80000\n",
      "Epoch 13/50\n",
      "3/3 [==============================] - 0s 38ms/step - loss: 0.5145 - accuracy: 0.7739 - val_loss: 0.5355 - val_accuracy: 0.7714\n",
      "\n",
      "Epoch 00013: val_accuracy did not improve from 0.80000\n",
      "Epoch 14/50\n",
      "3/3 [==============================] - 0s 34ms/step - loss: 0.4847 - accuracy: 0.7980 - val_loss: 0.5347 - val_accuracy: 0.7714\n",
      "\n",
      "Epoch 00014: val_accuracy did not improve from 0.80000\n",
      "Epoch 15/50\n",
      "3/3 [==============================] - 0s 31ms/step - loss: 0.4883 - accuracy: 0.8023 - val_loss: 0.5346 - val_accuracy: 0.7714\n",
      "\n",
      "Epoch 00015: val_accuracy did not improve from 0.80000\n",
      "Epoch 16/50\n",
      "3/3 [==============================] - 0s 28ms/step - loss: 0.5155 - accuracy: 0.7755 - val_loss: 0.5404 - val_accuracy: 0.7714\n",
      "\n",
      "Epoch 00016: val_accuracy did not improve from 0.80000\n",
      "Epoch 17/50\n",
      "3/3 [==============================] - 0s 29ms/step - loss: 0.5100 - accuracy: 0.7867 - val_loss: 0.5502 - val_accuracy: 0.7571\n",
      "\n",
      "Epoch 00017: val_accuracy did not improve from 0.80000\n",
      "Epoch 18/50\n",
      "3/3 [==============================] - 0s 31ms/step - loss: 0.4956 - accuracy: 0.7892 - val_loss: 0.5716 - val_accuracy: 0.7571\n",
      "\n",
      "Epoch 00018: val_accuracy did not improve from 0.80000\n",
      "Epoch 19/50\n",
      "3/3 [==============================] - 0s 41ms/step - loss: 0.4906 - accuracy: 0.8040 - val_loss: 0.5664 - val_accuracy: 0.7714\n",
      "\n",
      "Epoch 00019: val_accuracy did not improve from 0.80000\n",
      "Epoch 20/50\n",
      "3/3 [==============================] - 0s 33ms/step - loss: 0.4727 - accuracy: 0.8232 - val_loss: 0.5752 - val_accuracy: 0.7571\n",
      "\n",
      "Epoch 00020: val_accuracy did not improve from 0.80000\n",
      "Epoch 21/50\n",
      "3/3 [==============================] - 0s 32ms/step - loss: 0.5010 - accuracy: 0.8007 - val_loss: 0.5572 - val_accuracy: 0.7571\n",
      "\n",
      "Epoch 00021: val_accuracy did not improve from 0.80000\n",
      "Epoch 22/50\n",
      "3/3 [==============================] - 0s 27ms/step - loss: 0.4660 - accuracy: 0.8147 - val_loss: 0.5663 - val_accuracy: 0.7571\n",
      "\n",
      "Epoch 00022: val_accuracy did not improve from 0.80000\n",
      "Epoch 23/50\n",
      "3/3 [==============================] - 0s 31ms/step - loss: 0.4623 - accuracy: 0.8162 - val_loss: 0.5744 - val_accuracy: 0.7571\n",
      "Restoring model weights from the end of the best epoch.\n",
      "\n",
      "Epoch 00023: val_accuracy did not improve from 0.80000\n",
      "Epoch 00023: early stopping\n"
     ]
    }
   ],
   "source": [
    "es = keras.callbacks.EarlyStopping(monitor=\"val_accuracy\", patience=20, verbose=1, mode=\"auto\", restore_best_weights=True)\n",
    "lr = keras.callbacks.ReduceLROnPlateau(monitor=\"val_loss\", factor=0.5, patience=10, verbose=1)\n",
    "sv = keras.callbacks.ModelCheckpoint(\n",
    "    \"./model_keras_mlp.h5\", monitor='val_accuracy', verbose=1, save_best_only=True,\n",
    "    save_weights_only=False, mode='auto', save_freq='epoch',\n",
    "    options=None\n",
    "    )\n",
    "\n",
    "history = model.fit(trainX, trainY, validation_split=0.20, batch_size=128, epochs=50, callbacks=[es, sv], shuffle=True)            "
   ]
  },
  {
   "cell_type": "code",
   "execution_count": 18,
   "metadata": {
    "ExecuteTime": {
     "end_time": "2023-03-08T13:43:01.256552Z",
     "start_time": "2023-03-08T13:43:01.051105Z"
    }
   },
   "outputs": [
    {
     "data": {
      "text/plain": [
       "array([[0.658133  ],\n",
       "       [0.65446424],\n",
       "       [0.72243625],\n",
       "       [0.70702267],\n",
       "       [0.7305692 ]], dtype=float32)"
      ]
     },
     "execution_count": 18,
     "metadata": {},
     "output_type": "execute_result"
    }
   ],
   "source": [
    "# load a saved model\n",
    "from tensorflow.keras.models import load_model\n",
    "saved_model = load_model('./model_keras_mlp.h5')\n",
    "predY = model.predict(valX)\n",
    "predY[:5]"
   ]
  },
  {
   "cell_type": "markdown",
   "metadata": {},
   "source": [
    "## 손실 그래프 그리기"
   ]
  },
  {
   "cell_type": "code",
   "execution_count": 19,
   "metadata": {
    "ExecuteTime": {
     "end_time": "2023-03-08T13:43:03.246136Z",
     "start_time": "2023-03-08T13:43:02.890089Z"
    }
   },
   "outputs": [],
   "source": [
    "import matplotlib.pyplot as plt"
   ]
  },
  {
   "cell_type": "code",
   "execution_count": 20,
   "metadata": {
    "ExecuteTime": {
     "end_time": "2023-03-08T13:43:04.222526Z",
     "start_time": "2023-03-08T13:43:03.969203Z"
    }
   },
   "outputs": [
    {
     "data": {
      "image/png": "[encoded data removed]",
      "text/plain": [
       "<Figure size 432x288 with 1 Axes>"
      ]
     },
     "metadata": {
      "needs_background": "light"
     },
     "output_type": "display_data"
    }
   ],
   "source": [
    "epochs = np.arange(1,len(history.history['loss'])+1)\n",
    "plt.plot(epochs,history.history['loss'], label = 'traning loss')\n",
    "plt.plot(epochs, history.history['val_loss'], label = 'validation loss')\n",
    "plt.xlabel('epochs')\n",
    "plt.ylabel('Loss')\n",
    "plt.legend()\n",
    "plt.show()"
   ]
  },
  {
   "cell_type": "code",
   "execution_count": 22,
   "metadata": {
    "ExecuteTime": {
     "end_time": "2023-03-08T13:44:01.448847Z",
     "start_time": "2023-03-08T13:44:01.425879Z"
    }
   },
   "outputs": [],
   "source": [
    "lst_output = []\n",
    "\n",
    "for (code,date),y in zip(lst_code2date_test, predY):\n",
    "    if y >= 0.9:\n",
    "        lst_output.append([code, date, 'buy','r80'])\n",
    "        lst_output.append([code, date+\"n\", 'sell', 'all'])\n",
    "    elif y >= 0.7:\n",
    "        lst_output.append([code, date, 'buy','r50'])\n",
    "        lst_output.append([code, date+\"n\", 'sell', 'all'])\n",
    "    elif y >= 0.5:\n",
    "        lst_output.append([code, date, 'buy', 'r30'])\n",
    "        lst_output.append([code, date+\"n\", 'sell', 'all'])\n",
    "    elif y >= 0.3:\n",
    "        lst_output.append([code, date, 'buy', 'r10'])\n",
    "        lst_output.append([code, date+\"n\", 'sell', 'all'])"
   ]
  },
  {
   "cell_type": "code",
   "execution_count": 24,
   "metadata": {
    "ExecuteTime": {
     "end_time": "2023-03-08T13:44:18.833428Z",
     "start_time": "2023-03-08T13:44:18.817471Z"
    }
   },
   "outputs": [
    {
     "data": {
      "text/plain": [
       "[['222080', '20210930', 'buy', 'r30'],\n",
       " ['222080', '20210930n', 'sell', 'all'],\n",
       " ['035080', '20210714', 'buy', 'r30'],\n",
       " ['035080', '20210714n', 'sell', 'all'],\n",
       " ['028300', '20210830', 'buy', 'r50'],\n",
       " ['028300', '20210830n', 'sell', 'all'],\n",
       " ['064260', '20211118', 'buy', 'r50'],\n",
       " ['064260', '20211118n', 'sell', 'all'],\n",
       " ['064260', '20211119', 'buy', 'r50'],\n",
       " ['064260', '20211119n', 'sell', 'all'],\n",
       " ['038070', '20210820', 'buy', 'r30'],\n",
       " ['038070', '20210820n', 'sell', 'all'],\n",
       " ['019170', '20210812', 'buy', 'r30'],\n",
       " ['019170', '20210812n', 'sell', 'all'],\n",
       " ['036570', '20211111', 'buy', 'r10'],\n",
       " ['036570', '20211111n', 'sell', 'all'],\n",
       " ['036570', '20211112', 'buy', 'r10'],\n",
       " ['036570', '20211112n', 'sell', 'all'],\n",
       " ['035420', '20210908', 'buy', 'r10'],\n",
       " ['035420', '20210908n', 'sell', 'all'],\n",
       " ['000660', '20210811', 'buy', 'r30'],\n",
       " ['000660', '20210811n', 'sell', 'all'],\n",
       " ['000660', '20210812', 'buy', 'r50'],\n",
       " ['000660', '20210812n', 'sell', 'all'],\n",
       " ['000660', '20210813', 'buy', 'r50'],\n",
       " ['000660', '20210813n', 'sell', 'all'],\n",
       " ['000660', '20211122', 'buy', 'r50'],\n",
       " ['000660', '20211122n', 'sell', 'all'],\n",
       " ['034020', '20211025', 'buy', 'r10'],\n",
       " ['034020', '20211025n', 'sell', 'all'],\n",
       " ['034020', '20211104', 'buy', 'r30'],\n",
       " ['034020', '20211104n', 'sell', 'all'],\n",
       " ['005930', '20210715', 'buy', 'r30'],\n",
       " ['005930', '20210715n', 'sell', 'all'],\n",
       " ['005930', '20210719', 'buy', 'r50'],\n",
       " ['005930', '20210719n', 'sell', 'all'],\n",
       " ['005930', '20210722', 'buy', 'r50'],\n",
       " ['005930', '20210722n', 'sell', 'all'],\n",
       " ['005930', '20210728', 'buy', 'r30'],\n",
       " ['005930', '20210728n', 'sell', 'all'],\n",
       " ['005930', '20210729', 'buy', 'r30'],\n",
       " ['005930', '20210729n', 'sell', 'all'],\n",
       " ['005930', '20210730', 'buy', 'r50'],\n",
       " ['005930', '20210730n', 'sell', 'all'],\n",
       " ['005930', '20210803', 'buy', 'r50'],\n",
       " ['005930', '20210803n', 'sell', 'all'],\n",
       " ['005930', '20210804', 'buy', 'r50'],\n",
       " ['005930', '20210804n', 'sell', 'all'],\n",
       " ['005930', '20210805', 'buy', 'r50'],\n",
       " ['005930', '20210805n', 'sell', 'all']]"
      ]
     },
     "execution_count": 24,
     "metadata": {},
     "output_type": "execute_result"
    }
   ],
   "source": [
    "lst_output[:50]"
   ]
  },
  {
   "cell_type": "code",
   "execution_count": 16,
   "metadata": {
    "ExecuteTime": {
     "end_time": "2022-12-08T14:28:22.582595Z",
     "start_time": "2022-12-08T14:28:22.562648Z"
    }
   },
   "outputs": [],
   "source": [
    "lst_output.sort(key = lambda x: x[1]) # date 기준으로 주문 요청 결과 정렬\n",
    "\n",
    "OF = open('../data/order_request_dense.txt','w')\n",
    "for row in lst_output:\n",
    "    OF.write('\\t'.join(map(str, row)) + '\\n')\n",
    "OF.close()"
   ]
  },
  {
   "cell_type": "markdown",
   "metadata": {},
   "source": [
    "# 수익률 계산"
   ]
  },
  {
   "cell_type": "code",
   "execution_count": 40,
   "metadata": {
    "ExecuteTime": {
     "end_time": "2022-12-08T14:28:23.544024Z",
     "start_time": "2022-12-08T14:28:23.482192Z"
    }
   },
   "outputs": [],
   "source": [
    "import pymysql\n",
    "import warnings\n",
    "warnings.filterwarnings(action ='ignore')\n",
    "# database\n",
    "# con = pymysql.connect()\n",
    "\n",
    "cursor = con.cursor()"
   ]
  },
  {
   "cell_type": "code",
   "execution_count": 22,
   "metadata": {
    "ExecuteTime": {
     "end_time": "2022-12-08T14:28:29.237802Z",
     "start_time": "2022-12-08T14:28:24.399740Z"
    }
   },
   "outputs": [
    {
     "data": {
      "application/vnd.jupyter.widget-view+json": {
       "model_id": "6ef0cc5b9de94a8382bead469a432231",
       "version_major": 2,
       "version_minor": 0
      },
      "text/plain": [
       "0it [00:00, ?it/s]"
      ]
     },
     "metadata": {},
     "output_type": "display_data"
    },
    {
     "name": "stdout",
     "output_type": "stream",
     "text": [
      "Final earning rate : -22.86496 %\n"
     ]
    }
   ],
   "source": [
    "start_money = 10000000 # 초기 현금 1천만원\n",
    "money = start_money\n",
    "dic_code2num ={}  # 보유 종목\n",
    "\n",
    "\n",
    "IF = open('../data/order_request_dense.txt','r')\n",
    "for i, line in tqdm(enumerate(IF)): #주문 일지를 한 줄 읽어 옴\n",
    "    code, date, request, amount = line.strip().split(\"\\t\")\n",
    "    \n",
    "    ##############################################################################################\n",
    "    sql_query = '''\n",
    "                SELECT *\n",
    "                FROM stock_{}\n",
    "                WHERE Date\n",
    "                BETWEEN '2021-01-01' AND '2021-07-01'\n",
    "                '''.format(code)\n",
    "    stock = pd.read_sql(sql = sql_query, con = con)\n",
    "    lst_stock = stock.values.tolist()\n",
    "    \n",
    "    for idx, row in enumerate(lst_stock):\n",
    "        Date = row[0].strftime('%Y%m%d')        \n",
    "        if date.endswith('n'):\n",
    "            if date.rstrip('n') == Date:\n",
    "                sell_close = lst_stock[idx+1][4]\n",
    "        elif date == Date:\n",
    "            buy_close = lst_stock[idx][4]\n",
    "\n",
    "    ##############################################################################################\n",
    "    \n",
    "    if request == 'buy': # buy인 경우\n",
    "        if amount.startswith('r'):\n",
    "            request_money = money * float(amount.lstrip(\"r\")) / 100\n",
    "        elif amount == 'all':\n",
    "            request_money = money\n",
    "        elif amount.isdigit():\n",
    "            request_money = int(amount)\n",
    "        # elif amount == ~~~~~    ##### 기타 필요한 매수 요청 옵션이 있을 시 작성\n",
    "        else:\n",
    "            raise Exception('Not permitted option')\n",
    "        request_money = min(request_money, money)\n",
    "        buy_num = int(request_money / buy_close)\n",
    "        money -= buy_num * buy_close  # 현재 금액(money)을 실제 매수액을 뺀 만큼 업데이트\n",
    "        if code not in dic_code2num:\n",
    "            dic_code2num[code] = 0\n",
    "        dic_code2num[code] += buy_num # 보유 종목 데이터에 구매 종목(code)를 매수 개수 만큼 증가\n",
    "    if request == 'sell': # sell인 경우\n",
    "        if amount == 'all':\n",
    "            sell_num = dic_code2num[code]\n",
    "        # elif amount == ~~~~~    ##### 기타 필요한 매도 요청 옵션이 있을 시 작성\n",
    "        else:\n",
    "            raise Exception('Not permitted option')            \n",
    "        money += sell_num * sell_close\n",
    "        dic_code2num[code] -= sell_num\n",
    "        if dic_code2num[code] == 0:\n",
    "            del dic_code2num[code]\n",
    "IF.close()            \n",
    "            \n",
    "if dic_code2num != {}: # 매매가 종료되었는데 보유 종목이 있으면\n",
    "    raise Exception('Not empty stock') \n",
    "\n",
    "print(\"Final earning rate : {} %\".format(str((money-start_money) / start_money * 100)))"
   ]
  }
 ],
 "metadata": {
  "kernelspec": {
   "display_name": "Python 3",
   "language": "python",
   "name": "python3"
  },
  "language_info": {
   "codemirror_mode": {
    "name": "ipython",
    "version": 3
   },
   "file_extension": ".py",
   "mimetype": "text/x-python",
   "name": "python",
   "nbconvert_exporter": "python",
   "pygments_lexer": "ipython3",
   "version": "3.8.5"
  },
  "toc": {
   "base_numbering": 1,
   "nav_menu": {},
   "number_sections": true,
   "sideBar": true,
   "skip_h1_title": false,
   "title_cell": "Table of Contents",
   "title_sidebar": "Contents",
   "toc_cell": false,
   "toc_position": {},
   "toc_section_display": true,
   "toc_window_display": true
  }
 },
 "nbformat": 4,
 "nbformat_minor": 4
}
