{
 "cells": [
  {
   "cell_type": "markdown",
   "id": "e1d40e47",
   "metadata": {},
   "source": [
    "<strong> 데이터 세트 구축 <br></strong>\n",
    "train : 2018년 1월 1일 ~ 2020년 12월 31일 <br>\n",
    "val : 2021년 1월 1일 ~ 2021년 6월 30일 <br>\n",
    "test : 2021년 7월 1일 ~ 2021년 12월 31일 <br>\n",
    "<strong>데이터셋 생성조건</strong><br> \n",
    "- 거래대금 : 1조,1000억, 100억, 10억,1억\n",
    "- 거래일 : 10일\n",
    "- next_change : (0.05, 0.02)"
   ]
  },
  {
   "cell_type": "code",
   "execution_count": 1,
   "id": "8bf4eee9",
   "metadata": {
    "ExecuteTime": {
     "end_time": "2023-06-23T15:29:42.756585Z",
     "start_time": "2023-06-23T15:29:41.831064Z"
    },
    "scrolled": true
   },
   "outputs": [],
   "source": [
    "import numpy as np\n",
    "import pandas as pd\n",
    "from tqdm import tqdm\n",
    "import datetime\n",
    "import numpy as np\n",
    "import pickle\n",
    "import pymysql\n",
    "import warnings\n",
    "warnings.filterwarnings(action = 'ignore')"
   ]
  },
  {
   "cell_type": "markdown",
   "id": "cf598682",
   "metadata": {},
   "source": [
    "# 데이터셋 구축 & 파일저장 함수"
   ]
  },
  {
   "cell_type": "code",
   "execution_count": 2,
   "id": "9b8a7a65",
   "metadata": {
    "ExecuteTime": {
     "end_time": "2023-06-23T15:29:44.066082Z",
     "start_time": "2023-06-23T15:29:44.055112Z"
    }
   },
   "outputs": [],
   "source": [
    "def make_data_train(trading, days, label): \n",
    "    # 코드 리스트 \n",
    "   \n",
    "    IF=open(\"../../data/code_list.txt\", 'r')\n",
    "    lst_code = IF.readlines()\n",
    "    \n",
    "    # train\n",
    "\n",
    "    lst_train = []\n",
    "\n",
    "    \n",
    "    # database\n",
    "    # con = pymysql.connect()\n",
    "\n",
    "    cursor = con.cursor()\n",
    " \n",
    "    for line in tqdm(lst_code): \n",
    "        code = line.strip()\n",
    "        sql_query = '''\n",
    "                    SELECT *\n",
    "                    FROM stock_{}\n",
    "                    WHERE (Date BETWEEN '2018-01-01' AND '2020-12-31') AND (Low not in (0))\n",
    "                    '''.format(code)\n",
    "        stock = pd.read_sql(sql = sql_query, con = con)\n",
    "        stock.dropna(inplace=True) # nan 제거 \n",
    "        lst_stock = stock.values.tolist()  \n",
    "\n",
    "\n",
    "        for i, row in enumerate(lst_stock): \n",
    "            date, close, volume = row[0].strftime('%Y%m%d'), row[4], row[5]\n",
    "            # 거래대금, 이동평균선 범위 조건\n",
    "            if (close * volume >= trading*100000000) :\n",
    "                if i < (days-1):   # 예외 처리 \n",
    "                    continue                               \n",
    "\n",
    "                lst_result = []\n",
    "                \n",
    "                Ddays_date = lst_stock[i-(days-1):i+1]\n",
    "                                           \n",
    "                for row2 in Ddays_date:\n",
    "                    Open,High,Low,Close,Volume = row2[1:6]\n",
    "                    Trading = Close * Volume\n",
    "                    lst_result += [Open,High,Low,Close,Trading]\n",
    "                y = int(row[6] >= label)\n",
    "                target = float(row[6])\n",
    "                \n",
    "                data = ','.join(map(str,lst_result))\n",
    "                \n",
    "\n",
    "                lst_train.append([code,date,data,y])\n",
    "\n",
    "    return np.array(lst_train)"
   ]
  },
  {
   "cell_type": "code",
   "execution_count": 3,
   "id": "e824469f",
   "metadata": {
    "ExecuteTime": {
     "end_time": "2023-06-23T15:29:55.116515Z",
     "start_time": "2023-06-23T15:29:55.103549Z"
    }
   },
   "outputs": [],
   "source": [
    "def make_data_val(trading, days, label): \n",
    "    # 코드 리스트 \n",
    "   \n",
    "    IF=open(\"../../data/code_list.txt\", 'r')\n",
    "    lst_code = IF.readlines()\n",
    "    \n",
    "\n",
    "\n",
    "    lst_val = []\n",
    "\n",
    "    # database\n",
    "    # con = pymysql.connect()\n",
    "    cursor = con.cursor()\n",
    " \n",
    "    for line in tqdm(lst_code): \n",
    "        code = line.strip()\n",
    "        sql_query = '''\n",
    "                    SELECT *\n",
    "                    FROM stock_{}\n",
    "                    WHERE (Date BETWEEN '2021-01-01' AND '2021-06-30') AND (Low not in (0))\n",
    "                    '''.format(code)\n",
    "        stock = pd.read_sql(sql = sql_query, con = con)\n",
    "        stock.dropna(inplace=True) # nan 제거 \n",
    "        lst_stock = stock.values.tolist()  \n",
    "\n",
    "\n",
    "        for i, row in enumerate(lst_stock): \n",
    "            date, close, volume = row[0].strftime('%Y%m%d'), row[4], row[5]\n",
    "            # 거래대금, 이동평균선 범위 조건\n",
    "            if (close * volume >= trading*100000000) :\n",
    "                if i < (days-1):   # 예외 처리 \n",
    "                    continue                               \n",
    "\n",
    "                lst_result = []\n",
    "                \n",
    "                Ddays_date = lst_stock[i-(days-1):i+1]\n",
    "                                           \n",
    "                for row2 in Ddays_date:\n",
    "                    Open,High,Low,Close,Volume = row2[1:6]\n",
    "                    Trading = Close * Volume\n",
    "                    lst_result += [Open,High,Low,Close,Trading]\n",
    "                y = int(row[6] >= label)\n",
    "                target = float(row[6])\n",
    "                data = ','.join(map(str,lst_result))\n",
    "                \n",
    "     \n",
    "                lst_val.append([code,date,data,y])\n",
    "\n",
    "    return np.array(lst_val)"
   ]
  },
  {
   "cell_type": "code",
   "execution_count": 4,
   "id": "09630f2f",
   "metadata": {
    "ExecuteTime": {
     "end_time": "2023-06-23T15:29:59.417009Z",
     "start_time": "2023-06-23T15:29:59.407035Z"
    }
   },
   "outputs": [],
   "source": [
    "def make_data_test(trading, days, label): \n",
    "    # 코드 리스트 \n",
    "   \n",
    "    IF=open(\"../../data/code_list.txt\", 'r')\n",
    "    lst_code = IF.readlines()\n",
    "    \n",
    "\n",
    "    lst_test = []\n",
    "    \n",
    "    # database\n",
    "    # con = pymysql.connect()\n",
    "\n",
    "    cursor = con.cursor()\n",
    " \n",
    "    for line in tqdm(lst_code): \n",
    "        code = line.strip()\n",
    "        sql_query = '''\n",
    "                    SELECT *\n",
    "                    FROM stock_{}\n",
    "                    WHERE (Date BETWEEN '2021-07-01' AND '2021-12-31') AND (Low not in (0))\n",
    "                    '''.format(code)\n",
    "        stock = pd.read_sql(sql = sql_query, con = con)\n",
    "        stock.dropna(inplace=True) # nan 제거 \n",
    "        lst_stock = stock.values.tolist()  \n",
    "\n",
    "\n",
    "        for i, row in enumerate(lst_stock): \n",
    "            date, close, volume = row[0].strftime('%Y%m%d'), row[4], row[5]\n",
    "            # 거래대금, 이동평균선 범위 조건\n",
    "            if (close * volume >= trading*100000000) :\n",
    "                if i < (days-1):   # 예외 처리 \n",
    "                    continue                               \n",
    "\n",
    "                lst_result = []\n",
    "                \n",
    "                Ddays_date = lst_stock[i-(days-1):i+1]\n",
    "                                           \n",
    "                for row2 in Ddays_date:\n",
    "                    Open,High,Low,Close,Volume = row2[1:6]\n",
    "                    Trading = Close * Volume\n",
    "                    lst_result += [Open,High,Low,Close,Trading]\n",
    "                y = int(row[6] >= label)\n",
    "                target = float(row[6])\n",
    "                data = ','.join(map(str,lst_result))\n",
    "                \n",
    "\n",
    "                lst_test.append([code,date,data,y])\n",
    "\n",
    "    return np.array(lst_test)"
   ]
  },
  {
   "cell_type": "code",
   "execution_count": 14,
   "id": "153a64b6",
   "metadata": {
    "ExecuteTime": {
     "end_time": "2023-06-22T17:42:23.780592Z",
     "start_time": "2023-06-22T17:42:23.767626Z"
    }
   },
   "outputs": [],
   "source": [
    "def dump_file(TYPE, trading, days,target,data):\n",
    "    with open('../../data/{}_{}_{}_{}.pickle'.format(TYPE,trading, days,target), 'wb') as f:\n",
    "        pickle.dump(data, f)"
   ]
  },
  {
   "cell_type": "markdown",
   "id": "5f4d7a0d",
   "metadata": {
    "ExecuteTime": {
     "end_time": "2022-11-27T08:42:36.871753Z",
     "start_time": "2022-11-27T08:42:36.854802Z"
    }
   },
   "source": [
    "# Change 0.02\n",
    "## 거래대금 1조 \n",
    "함수보고 리턴값 바꾸기"
   ]
  },
  {
   "cell_type": "code",
   "execution_count": 13,
   "id": "fc9b06dc",
   "metadata": {
    "ExecuteTime": {
     "end_time": "2023-06-20T14:06:47.010984Z",
     "start_time": "2023-06-20T14:05:41.701598Z"
    }
   },
   "outputs": [
    {
     "name": "stderr",
     "output_type": "stream",
     "text": [
      "100%|██████████████████████████████████████████████████████████████████████████████| 1561/1561 [01:08<00:00, 22.84it/s]\n"
     ]
    }
   ],
   "source": [
    "train_data = make_data_train(10000, 10, 0.02)"
   ]
  },
  {
   "cell_type": "code",
   "execution_count": 14,
   "id": "4c7d12d4",
   "metadata": {
    "ExecuteTime": {
     "end_time": "2023-06-20T14:07:20.347408Z",
     "start_time": "2023-06-20T14:06:47.014979Z"
    },
    "scrolled": true
   },
   "outputs": [
    {
     "name": "stderr",
     "output_type": "stream",
     "text": [
      "100%|██████████████████████████████████████████████████████████████████████████████| 1561/1561 [00:29<00:00, 53.81it/s]\n"
     ]
    }
   ],
   "source": [
    "val_data = make_data_val(10000, 10, 0.02)"
   ]
  },
  {
   "cell_type": "code",
   "execution_count": 15,
   "id": "91461b73",
   "metadata": {
    "ExecuteTime": {
     "end_time": "2023-06-20T14:07:53.235095Z",
     "start_time": "2023-06-20T14:07:20.353436Z"
    },
    "scrolled": true
   },
   "outputs": [
    {
     "name": "stderr",
     "output_type": "stream",
     "text": [
      "100%|██████████████████████████████████████████████████████████████████████████████| 1561/1561 [00:28<00:00, 54.36it/s]\n"
     ]
    }
   ],
   "source": [
    "test_data= make_data_test(10000, 10, 0.02)"
   ]
  },
  {
   "cell_type": "code",
   "execution_count": 17,
   "id": "6a8a4cbb-57ca-41a9-b3c3-0831cc119f1b",
   "metadata": {},
   "outputs": [
    {
     "data": {
      "text/plain": [
       "((350, 4), (187, 4), (82, 4))"
      ]
     },
     "execution_count": 17,
     "metadata": {},
     "output_type": "execute_result"
    }
   ],
   "source": [
    "train_data.shape, val_data.shape, test_data.shape"
   ]
  },
  {
   "cell_type": "code",
   "execution_count": 18,
   "id": "083e09e4",
   "metadata": {
    "ExecuteTime": {
     "end_time": "2023-06-20T14:07:54.350039Z",
     "start_time": "2023-06-20T14:07:53.239086Z"
    },
    "tags": []
   },
   "outputs": [],
   "source": [
    "dump_file('train',10000, 10, 0.02,train_data)\n",
    "dump_file('val',10000, 10, 0.02,val_data)\n",
    "dump_file('test',10000, 10, 0.02,test_data)"
   ]
  },
  {
   "cell_type": "markdown",
   "id": "d87d87f3",
   "metadata": {},
   "source": [
    "\n",
    "## 거래대금 1천억 "
   ]
  },
  {
   "cell_type": "code",
   "execution_count": 19,
   "id": "07e22d11-ac7c-4ab8-bbbd-f82dbf8de806",
   "metadata": {
    "ExecuteTime": {
     "end_time": "2023-06-20T14:06:47.010984Z",
     "start_time": "2023-06-20T14:05:41.701598Z"
    }
   },
   "outputs": [
    {
     "name": "stderr",
     "output_type": "stream",
     "text": [
      "100%|██████████████████████████████████████████████████████████████████████████████| 1561/1561 [01:11<00:00, 21.87it/s]\n"
     ]
    }
   ],
   "source": [
    "train_data = make_data_train(1000, 10, 0.02)"
   ]
  },
  {
   "cell_type": "code",
   "execution_count": 20,
   "id": "583b51e1-c7c6-403c-92fa-f6f5bf4f0008",
   "metadata": {
    "ExecuteTime": {
     "end_time": "2023-06-20T14:07:20.347408Z",
     "start_time": "2023-06-20T14:06:47.014979Z"
    },
    "scrolled": true
   },
   "outputs": [
    {
     "name": "stderr",
     "output_type": "stream",
     "text": [
      "100%|██████████████████████████████████████████████████████████████████████████████| 1561/1561 [00:32<00:00, 48.38it/s]\n"
     ]
    }
   ],
   "source": [
    "val_data = make_data_val(1000, 10, 0.02)"
   ]
  },
  {
   "cell_type": "code",
   "execution_count": 21,
   "id": "dbbe942a-921e-467a-9bac-60e76e36e96c",
   "metadata": {
    "ExecuteTime": {
     "end_time": "2023-06-20T14:07:53.235095Z",
     "start_time": "2023-06-20T14:07:20.353436Z"
    },
    "scrolled": true
   },
   "outputs": [
    {
     "name": "stderr",
     "output_type": "stream",
     "text": [
      "100%|██████████████████████████████████████████████████████████████████████████████| 1561/1561 [00:34<00:00, 44.94it/s]\n"
     ]
    }
   ],
   "source": [
    "test_data= make_data_test(1000, 10, 0.02)"
   ]
  },
  {
   "cell_type": "code",
   "execution_count": 22,
   "id": "cd415802-5096-4e33-9b55-630224bc8ffe",
   "metadata": {},
   "outputs": [
    {
     "data": {
      "text/plain": [
       "((11975, 4), (4467, 4), (3585, 4))"
      ]
     },
     "execution_count": 22,
     "metadata": {},
     "output_type": "execute_result"
    }
   ],
   "source": [
    "train_data.shape, val_data.shape, test_data.shape"
   ]
  },
  {
   "cell_type": "code",
   "execution_count": 23,
   "id": "9896cfe6-08d0-48ca-9e48-da92e7f39655",
   "metadata": {
    "ExecuteTime": {
     "end_time": "2023-06-20T14:07:54.350039Z",
     "start_time": "2023-06-20T14:07:53.239086Z"
    },
    "tags": []
   },
   "outputs": [],
   "source": [
    "dump_file('train',1000, 10, 0.02,train_data)\n",
    "dump_file('val',1000, 10, 0.02,val_data)\n",
    "dump_file('test',1000, 10, 0.02,test_data)"
   ]
  },
  {
   "cell_type": "markdown",
   "id": "c7137b4c",
   "metadata": {
    "tags": []
   },
   "source": [
    "## 거래대금 100억 "
   ]
  },
  {
   "cell_type": "code",
   "execution_count": 24,
   "id": "21e5ca33-6804-4b25-b216-0f87c5ca8ce7",
   "metadata": {
    "ExecuteTime": {
     "end_time": "2023-06-20T14:06:47.010984Z",
     "start_time": "2023-06-20T14:05:41.701598Z"
    }
   },
   "outputs": [
    {
     "name": "stderr",
     "output_type": "stream",
     "text": [
      "100%|██████████████████████████████████████████████████████████████████████████████| 1561/1561 [01:14<00:00, 20.98it/s]\n"
     ]
    }
   ],
   "source": [
    "train_data = make_data_train(100, 10, 0.02)"
   ]
  },
  {
   "cell_type": "code",
   "execution_count": 25,
   "id": "35a3616d-8b66-4838-bef2-5273fedd1014",
   "metadata": {
    "ExecuteTime": {
     "end_time": "2023-06-20T14:07:20.347408Z",
     "start_time": "2023-06-20T14:06:47.014979Z"
    },
    "scrolled": true
   },
   "outputs": [
    {
     "name": "stderr",
     "output_type": "stream",
     "text": [
      "100%|██████████████████████████████████████████████████████████████████████████████| 1561/1561 [00:32<00:00, 48.71it/s]\n"
     ]
    }
   ],
   "source": [
    "val_data = make_data_val(100, 10, 0.02)"
   ]
  },
  {
   "cell_type": "code",
   "execution_count": 26,
   "id": "f1f24f8f-ac51-41ce-ac06-70bf6bc93cb8",
   "metadata": {
    "ExecuteTime": {
     "end_time": "2023-06-20T14:07:53.235095Z",
     "start_time": "2023-06-20T14:07:20.353436Z"
    },
    "scrolled": true
   },
   "outputs": [
    {
     "name": "stderr",
     "output_type": "stream",
     "text": [
      "100%|██████████████████████████████████████████████████████████████████████████████| 1561/1561 [00:34<00:00, 45.06it/s]\n"
     ]
    }
   ],
   "source": [
    "test_data= make_data_test(100, 10, 0.02)"
   ]
  },
  {
   "cell_type": "code",
   "execution_count": 29,
   "id": "0f74f2bd-d20b-4f0c-a5b8-437ae69dd532",
   "metadata": {},
   "outputs": [
    {
     "data": {
      "text/plain": [
       "((133796, 4), (35297, 4), (28895, 4))"
      ]
     },
     "execution_count": 29,
     "metadata": {},
     "output_type": "execute_result"
    }
   ],
   "source": [
    "train_data.shape, val_data.shape, test_data.shape"
   ]
  },
  {
   "cell_type": "code",
   "execution_count": 30,
   "id": "f72b658d-8e20-4e22-b588-bb17b85de2a2",
   "metadata": {
    "ExecuteTime": {
     "end_time": "2023-06-20T14:07:54.350039Z",
     "start_time": "2023-06-20T14:07:53.239086Z"
    },
    "tags": []
   },
   "outputs": [],
   "source": [
    "dump_file('train',100, 10, 0.02,train_data)\n",
    "dump_file('val',100, 10, 0.02,val_data)\n",
    "dump_file('test',100, 10, 0.02,test_data)"
   ]
  },
  {
   "cell_type": "markdown",
   "id": "4357a899",
   "metadata": {},
   "source": [
    "## 거래대금 10억"
   ]
  },
  {
   "cell_type": "code",
   "execution_count": 31,
   "id": "64fa801f-7522-4adf-bcd2-8bb86ab839be",
   "metadata": {
    "ExecuteTime": {
     "end_time": "2023-06-20T14:06:47.010984Z",
     "start_time": "2023-06-20T14:05:41.701598Z"
    }
   },
   "outputs": [
    {
     "name": "stderr",
     "output_type": "stream",
     "text": [
      "100%|██████████████████████████████████████████████████████████████████████████████| 1561/1561 [01:54<00:00, 13.64it/s]\n"
     ]
    }
   ],
   "source": [
    "train_data = make_data_train(10, 10, 0.02)"
   ]
  },
  {
   "cell_type": "code",
   "execution_count": 32,
   "id": "11ef51a5-0495-4da7-9611-b9d98c48d969",
   "metadata": {
    "ExecuteTime": {
     "end_time": "2023-06-20T14:07:20.347408Z",
     "start_time": "2023-06-20T14:06:47.014979Z"
    },
    "scrolled": true
   },
   "outputs": [
    {
     "name": "stderr",
     "output_type": "stream",
     "text": [
      "100%|██████████████████████████████████████████████████████████████████████████████| 1561/1561 [00:53<00:00, 29.43it/s]\n"
     ]
    }
   ],
   "source": [
    "val_data = make_data_val(10, 10, 0.02)"
   ]
  },
  {
   "cell_type": "code",
   "execution_count": 33,
   "id": "525a0dc4-c41c-4c47-90b9-9496a35c5461",
   "metadata": {
    "ExecuteTime": {
     "end_time": "2023-06-20T14:07:53.235095Z",
     "start_time": "2023-06-20T14:07:20.353436Z"
    },
    "scrolled": true
   },
   "outputs": [
    {
     "name": "stderr",
     "output_type": "stream",
     "text": [
      "100%|██████████████████████████████████████████████████████████████████████████████| 1561/1561 [00:41<00:00, 38.01it/s]\n"
     ]
    }
   ],
   "source": [
    "test_data= make_data_test(10, 10, 0.02)"
   ]
  },
  {
   "cell_type": "code",
   "execution_count": 34,
   "id": "97c19d0e-0dbe-47d2-93c4-37237fa97376",
   "metadata": {},
   "outputs": [
    {
     "data": {
      "text/plain": [
       "((513097, 4), (120470, 4), (101004, 4))"
      ]
     },
     "execution_count": 34,
     "metadata": {},
     "output_type": "execute_result"
    }
   ],
   "source": [
    "train_data.shape, val_data.shape, test_data.shape"
   ]
  },
  {
   "cell_type": "code",
   "execution_count": 35,
   "id": "c6225a3f-1974-4264-8aa4-517b2288f1b7",
   "metadata": {
    "ExecuteTime": {
     "end_time": "2023-06-20T14:07:54.350039Z",
     "start_time": "2023-06-20T14:07:53.239086Z"
    },
    "tags": []
   },
   "outputs": [],
   "source": [
    "dump_file('train',10, 10, 0.02,train_data)\n",
    "dump_file('val',10, 10, 0.02,val_data)\n",
    "dump_file('test',10, 10, 0.02,test_data)"
   ]
  },
  {
   "cell_type": "markdown",
   "id": "d2a27b5d",
   "metadata": {},
   "source": [
    "# Scaling"
   ]
  },
  {
   "cell_type": "code",
   "execution_count": 6,
   "id": "72f8364b",
   "metadata": {
    "ExecuteTime": {
     "end_time": "2023-06-22T17:40:01.216008Z",
     "start_time": "2023-06-22T17:39:55.537711Z"
    }
   },
   "outputs": [],
   "source": [
    "from sklearn.preprocessing import MinMaxScaler"
   ]
  },
  {
   "cell_type": "code",
   "execution_count": 7,
   "id": "a2459ad9",
   "metadata": {
    "ExecuteTime": {
     "end_time": "2023-06-22T17:40:01.231751Z",
     "start_time": "2023-06-22T17:40:01.218784Z"
    }
   },
   "outputs": [],
   "source": [
    "scaler = MinMaxScaler()"
   ]
  },
  {
   "cell_type": "code",
   "execution_count": 4,
   "id": "1b6aece3",
   "metadata": {
    "ExecuteTime": {
     "end_time": "2023-06-22T17:39:53.360326Z",
     "start_time": "2023-06-22T17:39:53.347334Z"
    }
   },
   "outputs": [],
   "source": [
    "def make_data_scaling_train(trading, days, label): \n",
    "\n",
    "    # 코드 리스트 \n",
    "    IF=open(\"../../data/code_list.txt\", 'r')\n",
    "    lst_code = IF.readlines()\n",
    "    \n",
    "\n",
    "\n",
    "    col_scaling = ['Open', 'High', 'Low', 'Close', 'Trading']  \n",
    "    # trainX, trainY\n",
    "    lst_train = []\n",
    "    \n",
    "    # database\n",
    "    con = pymysql.connect(\n",
    "        host = 'ahnbi2.suwon.ac.kr', \n",
    "        port = 3306, \n",
    "        user = 'stock_user', \n",
    "        passwd = 'bigdata', \n",
    "        db = 'stock_db', \n",
    "        charset = 'utf8'\n",
    "    )\n",
    "\n",
    "    for line in tqdm(lst_code): \n",
    "        code = line.strip()\n",
    "        sql_query = '''\n",
    "                    SELECT *\n",
    "                    FROM stock_{}\n",
    "                    WHERE (Date BETWEEN '2018-01-01' AND '2020-12-31') AND (Low not in (0))\n",
    "                    '''.format(code)\n",
    "\n",
    "        stock = pd.read_sql(sql=sql_query, con= con)\n",
    "        stock.dropna(inplace=True) # nan 제거 \n",
    "        lst_stock = stock.values.tolist()\n",
    "        \n",
    "        stock['Trading'] = stock['Close'] * stock['Volume'] # 거래대금 컬럼 추가 \n",
    "        scaler = MinMaxScaler()\n",
    "        scale_stock = scaler.fit_transform(stock[col_scaling])\n",
    "        df_stock_scale = pd.DataFrame(scale_stock, columns = ['Open', 'High', 'Low', 'Close', 'Trading'])\n",
    "        lst_stock_scale = df_stock_scale.values.tolist()\n",
    "        \n",
    "        \n",
    "        for i, row in enumerate(lst_stock): \n",
    "            date, close, volume = row[0].strftime('%Y%m%d'), row[4], row[5]\n",
    "            # 거래대금, 이동평균선 범위 조건\n",
    "            if (close * volume >= trading*100000000) :\n",
    "                if i < (days-1):   # 예외 처리 \n",
    "                    continue                               \n",
    "\n",
    "                result=[]\n",
    "                for row2 in lst_stock_scale[i-(days-1):i+1]:  \n",
    "                    result += row2 # scaling                 \n",
    "                y = int(row[6]>=label) # next change 사용    \n",
    "                \n",
    "                data = ','.join(map(str,result))\n",
    "                \n",
    "                lst_train.append([code,date,data,y])\n",
    "\n",
    "    return np.array(lst_train)"
   ]
  },
  {
   "cell_type": "code",
   "execution_count": 3,
   "id": "3b0d86a4",
   "metadata": {
    "ExecuteTime": {
     "end_time": "2023-06-22T17:39:52.042191Z",
     "start_time": "2023-06-22T17:39:52.027233Z"
    }
   },
   "outputs": [],
   "source": [
    "def make_data_scaling_val(trading, days, label): \n",
    "    # 코드 리스트 \n",
    "   \n",
    "    IF=open(\"../../data/code_list.txt\", 'r')\n",
    "    lst_code = IF.readlines()\n",
    "    \n",
    "\n",
    "    lst_val = []\n",
    "\n",
    "     # database\n",
    "    con = pymysql.connect(\n",
    "        host = 'ahnbi2.suwon.ac.kr', \n",
    "        port = 3306, \n",
    "        user = 'stock_user', \n",
    "        passwd = 'bigdata', \n",
    "        db = 'stock_db', \n",
    "        charset = 'utf8'\n",
    "    )\n",
    "\n",
    "    cursor = con.cursor()\n",
    "    \n",
    "    col_scaling = ['Open', 'High', 'Low', 'Close', 'Trading']   \n",
    "\n",
    "       \n",
    "    for line in tqdm(lst_code): \n",
    "        code = line.strip()\n",
    "        sql_query = '''\n",
    "                    SELECT *\n",
    "                    FROM stock_{}\n",
    "                    WHERE (Date BETWEEN '2021-01-01' AND '2021-06-30') AND (Low not in (0))\n",
    "                    '''.format(code)\n",
    "\n",
    "        stock = pd.read_sql(sql=sql_query, con= con)\n",
    "        stock.dropna(inplace=True) # nan 제거 \n",
    "        lst_stock = stock.values.tolist()\n",
    "        \n",
    "        stock['Trading'] = stock['Close'] * stock['Volume'] # 거래대금 컬럼 추가 \n",
    "        scaler = MinMaxScaler()\n",
    "        scale_stock = scaler.fit_transform(stock[col_scaling])\n",
    "        df_stock_scale = pd.DataFrame(scale_stock, columns = ['Open', 'High', 'Low', 'Close', 'Trading'])\n",
    "        lst_stock_scale = df_stock_scale.values.tolist()\n",
    "        \n",
    "        \n",
    "        for i, row in enumerate(lst_stock): \n",
    "            date, close, volume = row[0].strftime('%Y%m%d'), row[4], row[5]\n",
    "            # 거래대금, 이동평균선 범위 조건\n",
    "            if (close * volume >= trading*100000000) :\n",
    "                if i < (days-1):   # 예외 처리 \n",
    "                    continue                               \n",
    "\n",
    "                result=[]\n",
    "                for row2 in lst_stock_scale[i-(days-1):i+1]:  \n",
    "                    result += row2 # scaling                 \n",
    "                y = int(row[6]>=label) # next change 사용    \n",
    "                \n",
    "                data = ','.join(map(str,result))     \n",
    "                lst_val.append([code,date,data,y])\n",
    "\n",
    "    return np.array(lst_val)"
   ]
  },
  {
   "cell_type": "code",
   "execution_count": 2,
   "id": "cf713d46",
   "metadata": {
    "ExecuteTime": {
     "end_time": "2023-06-22T17:39:51.216174Z",
     "start_time": "2023-06-22T17:39:51.194205Z"
    }
   },
   "outputs": [],
   "source": [
    "def make_data_scaling_test(trading, days, label): \n",
    "    # 코드 리스트 \n",
    "   \n",
    "    IF=open(\"../../data/code_list.txt\", 'r')\n",
    "    lst_code = IF.readlines()\n",
    "    \n",
    "    lst_test = []\n",
    "    \n",
    "    # database\n",
    "    con = pymysql.connect(\n",
    "        host = 'ahnbi2.suwon.ac.kr', \n",
    "        port = 3306, \n",
    "        user = 'stock_user', \n",
    "        passwd = 'bigdata', \n",
    "        db = 'stock_db', \n",
    "        charset = 'utf8'\n",
    "    )\n",
    "    \n",
    "    col_scaling = ['Open', 'High', 'Low', 'Close', 'Trading']   \n",
    "\n",
    "    col_no_scaling = ['Change']\n",
    "       \n",
    "    for line in tqdm(lst_code): \n",
    "        code = line.strip()\n",
    "        sql_query = '''\n",
    "                    SELECT *\n",
    "                    FROM stock_{}\n",
    "                    WHERE (Date BETWEEN '2021-07-01' AND '2021-12-31') AND (Low not in (0))\n",
    "                    '''.format(code)\n",
    "\n",
    "        stock = pd.read_sql(sql=sql_query, con= con)\n",
    "        stock.dropna(inplace=True) # nan 제거 \n",
    "        lst_stock = stock.values.tolist()\n",
    "        \n",
    "        stock['Trading'] = stock['Close'] * stock['Volume'] # 거래대금 컬럼 추가 \n",
    "        scaler = MinMaxScaler()\n",
    "        scale_stock = scaler.fit_transform(stock[col_scaling])\n",
    "        df_stock_scale = pd.DataFrame(scale_stock, columns = ['Open', 'High', 'Low', 'Close', 'Trading'])\n",
    "        lst_stock_scale = df_stock_scale.values.tolist()\n",
    "        \n",
    "        \n",
    "        for i, row in enumerate(lst_stock): \n",
    "            date, close, volume = row[0].strftime('%Y%m%d'), row[4], row[5]\n",
    "            # 거래대금, 이동평균선 범위 조건\n",
    "            if (close * volume >= trading*100000000) :\n",
    "                if i < (days-1):   # 예외 처리 \n",
    "                    continue                               \n",
    "\n",
    "                result=[]\n",
    "                for row2 in lst_stock_scale[i-(days-1):i+1]:  \n",
    "                    result += row2 # scaling                 \n",
    "                y = int(row[6]>=label) # next change 사용    \n",
    "                \n",
    "                data = ','.join(map(str,result))\n",
    "\n",
    "                lst_test.append([code,date,data,y])\n",
    "\n",
    "    return np.array(lst_test)"
   ]
  },
  {
   "cell_type": "code",
   "execution_count": 8,
   "id": "d067fd24-0afa-433e-894c-457e1831c2db",
   "metadata": {},
   "outputs": [
    {
     "name": "stderr",
     "output_type": "stream",
     "text": [
      "100%|██████████████████████████████████████████████████████████████████████████████| 1561/1561 [01:49<00:00, 14.22it/s]\n"
     ]
    }
   ],
   "source": [
    "train = make_data_scaling_train(100, 10, 0.02)"
   ]
  },
  {
   "cell_type": "code",
   "execution_count": 133,
   "id": "cc339339",
   "metadata": {
    "ExecuteTime": {
     "end_time": "2023-06-20T13:49:24.365449Z",
     "start_time": "2023-06-20T13:48:35.690265Z"
    },
    "scrolled": true
   },
   "outputs": [
    {
     "name": "stderr",
     "output_type": "stream",
     "text": [
      "100%|██████████████████████████████████████████████████████████████████████████████| 1561/1561 [00:39<00:00, 39.62it/s]\n"
     ]
    }
   ],
   "source": [
    "val = make_data_scaling_val(100, 10, 0.02)"
   ]
  },
  {
   "cell_type": "code",
   "execution_count": 134,
   "id": "da64cc47",
   "metadata": {
    "ExecuteTime": {
     "end_time": "2023-06-20T13:50:11.462865Z",
     "start_time": "2023-06-20T13:49:24.373429Z"
    }
   },
   "outputs": [
    {
     "name": "stderr",
     "output_type": "stream",
     "text": [
      "100%|██████████████████████████████████████████████████████████████████████████████| 1561/1561 [00:40<00:00, 38.64it/s]\n"
     ]
    }
   ],
   "source": [
    "test = make_data_scaling_test(100, 10, 0.02)"
   ]
  },
  {
   "cell_type": "code",
   "execution_count": 135,
   "id": "f94e0ea1",
   "metadata": {
    "ExecuteTime": {
     "end_time": "2023-06-20T13:50:11.493884Z",
     "start_time": "2023-06-20T13:50:11.470346Z"
    }
   },
   "outputs": [
    {
     "data": {
      "text/plain": [
       "((133796, 4), (35297, 4), (28895, 4))"
      ]
     },
     "execution_count": 135,
     "metadata": {},
     "output_type": "execute_result"
    }
   ],
   "source": [
    "train.shape, val.shape, test.shape"
   ]
  },
  {
   "cell_type": "code",
   "execution_count": 136,
   "id": "4f2f8f7b",
   "metadata": {
    "ExecuteTime": {
     "end_time": "2023-06-20T13:50:37.029824Z",
     "start_time": "2023-06-20T13:50:11.495884Z"
    },
    "scrolled": true
   },
   "outputs": [],
   "source": [
    "dump_file('scaling_train',100, 10, 0.02,train)\n",
    "dump_file('scaling_val',100, 10, 0.02,val)\n",
    "dump_file('scaling_test',100, 10, 0.02,test)"
   ]
  },
  {
   "cell_type": "markdown",
   "id": "386ebb9a-2efc-481a-a876-01767df03d10",
   "metadata": {},
   "source": [
    "## 거래대금 100억 & 임계값 설정 \n",
    "### change 0.05"
   ]
  },
  {
   "cell_type": "code",
   "execution_count": 9,
   "id": "d5e7c0bf",
   "metadata": {
    "ExecuteTime": {
     "end_time": "2023-06-22T17:41:16.459698Z",
     "start_time": "2023-06-22T17:40:14.563203Z"
    },
    "scrolled": true
   },
   "outputs": [
    {
     "name": "stderr",
     "output_type": "stream",
     "text": [
      "100%|██████████████████████████████████████████████████████████████████████████████| 1561/1561 [01:01<00:00, 25.57it/s]\n"
     ]
    }
   ],
   "source": [
    "train = make_data_scaling_train(100, 10, 0.05)"
   ]
  },
  {
   "cell_type": "code",
   "execution_count": 10,
   "id": "6ffa9085",
   "metadata": {
    "ExecuteTime": {
     "end_time": "2023-06-22T17:41:46.211819Z",
     "start_time": "2023-06-22T17:41:16.462660Z"
    },
    "scrolled": true
   },
   "outputs": [
    {
     "name": "stderr",
     "output_type": "stream",
     "text": [
      "100%|██████████████████████████████████████████████████████████████████████████████| 1561/1561 [00:29<00:00, 52.92it/s]\n"
     ]
    }
   ],
   "source": [
    "val = make_data_scaling_val(100, 10, 0.05)"
   ]
  },
  {
   "cell_type": "code",
   "execution_count": 11,
   "id": "693173ec",
   "metadata": {
    "ExecuteTime": {
     "end_time": "2023-06-22T17:42:13.444794Z",
     "start_time": "2023-06-22T17:41:46.213814Z"
    },
    "scrolled": true
   },
   "outputs": [
    {
     "name": "stderr",
     "output_type": "stream",
     "text": [
      "100%|██████████████████████████████████████████████████████████████████████████████| 1561/1561 [00:27<00:00, 57.75it/s]\n"
     ]
    }
   ],
   "source": [
    "test = make_data_scaling_test(100, 10, 0.05)"
   ]
  },
  {
   "cell_type": "code",
   "execution_count": 12,
   "id": "f662977e",
   "metadata": {
    "ExecuteTime": {
     "end_time": "2023-06-22T17:42:13.476208Z",
     "start_time": "2023-06-22T17:42:13.448269Z"
    }
   },
   "outputs": [
    {
     "data": {
      "text/plain": [
       "((133796, 4), (35297, 4), (28895, 4))"
      ]
     },
     "execution_count": 12,
     "metadata": {},
     "output_type": "execute_result"
    }
   ],
   "source": [
    "train.shape, val.shape, test.shape"
   ]
  },
  {
   "cell_type": "code",
   "execution_count": 15,
   "id": "88a1f6ac",
   "metadata": {
    "ExecuteTime": {
     "end_time": "2023-06-22T17:42:53.600474Z",
     "start_time": "2023-06-22T17:42:31.058975Z"
    }
   },
   "outputs": [],
   "source": [
    "dump_file('scaling_train',100, 10, 0.05,train)\n",
    "dump_file('scaling_val',100, 10, 0.05,val)\n",
    "dump_file('scaling_test',100, 10, 0.05,test)"
   ]
  },
  {
   "cell_type": "markdown",
   "id": "3986480d",
   "metadata": {},
   "source": [
    "# 거래일 설정\n",
    "## 5일"
   ]
  },
  {
   "cell_type": "code",
   "execution_count": 16,
   "id": "8e705c2c",
   "metadata": {
    "ExecuteTime": {
     "end_time": "2023-06-22T18:01:51.648303Z",
     "start_time": "2023-06-22T18:00:45.923726Z"
    }
   },
   "outputs": [
    {
     "name": "stderr",
     "output_type": "stream",
     "text": [
      "100%|██████████████████████████████████████████████████████████████████████████████| 1561/1561 [01:04<00:00, 24.13it/s]\n"
     ]
    }
   ],
   "source": [
    "train_data = make_data_scaling_train(100, 5, 0.02)"
   ]
  },
  {
   "cell_type": "code",
   "execution_count": 17,
   "id": "4eb3da0b",
   "metadata": {
    "ExecuteTime": {
     "end_time": "2023-06-22T18:02:22.115266Z",
     "start_time": "2023-06-22T18:01:51.651295Z"
    },
    "scrolled": true
   },
   "outputs": [
    {
     "name": "stderr",
     "output_type": "stream",
     "text": [
      "100%|██████████████████████████████████████████████████████████████████████████████| 1561/1561 [00:30<00:00, 51.67it/s]\n"
     ]
    }
   ],
   "source": [
    "val_data = make_data_scaling_val(100, 5, 0.02)"
   ]
  },
  {
   "cell_type": "code",
   "execution_count": 18,
   "id": "04fd32f3",
   "metadata": {
    "ExecuteTime": {
     "end_time": "2023-06-22T18:02:49.586601Z",
     "start_time": "2023-06-22T18:02:22.117264Z"
    },
    "scrolled": false
   },
   "outputs": [
    {
     "name": "stderr",
     "output_type": "stream",
     "text": [
      "100%|██████████████████████████████████████████████████████████████████████████████| 1561/1561 [00:27<00:00, 57.22it/s]\n"
     ]
    }
   ],
   "source": [
    "test_data= make_data_scaling_test(100, 5, 0.02)"
   ]
  },
  {
   "cell_type": "code",
   "execution_count": 19,
   "id": "5cdfe7db",
   "metadata": {
    "ExecuteTime": {
     "end_time": "2023-06-22T18:03:00.343277Z",
     "start_time": "2023-06-22T18:02:49.590214Z"
    },
    "tags": []
   },
   "outputs": [],
   "source": [
    "dump_file('scaling_train',100, 5, 0.02,train_data)\n",
    "dump_file('scaling_val',100, 5, 0.02,val_data)\n",
    "dump_file('scaling_test',100, 5, 0.02,test_data)"
   ]
  },
  {
   "cell_type": "markdown",
   "id": "2b8fd1b9",
   "metadata": {},
   "source": [
    "## 20일"
   ]
  },
  {
   "cell_type": "code",
   "execution_count": 20,
   "id": "57cfc29f",
   "metadata": {
    "ExecuteTime": {
     "end_time": "2023-06-22T18:04:08.853408Z",
     "start_time": "2023-06-22T18:03:00.346225Z"
    }
   },
   "outputs": [
    {
     "name": "stderr",
     "output_type": "stream",
     "text": [
      "100%|██████████████████████████████████████████████████████████████████████████████| 1561/1561 [01:06<00:00, 23.50it/s]\n"
     ]
    }
   ],
   "source": [
    "train_data = make_data_scaling_train(100, 20, 0.02)"
   ]
  },
  {
   "cell_type": "code",
   "execution_count": 21,
   "id": "390ad6c1",
   "metadata": {
    "ExecuteTime": {
     "end_time": "2023-06-22T18:04:40.947031Z",
     "start_time": "2023-06-22T18:04:08.857398Z"
    },
    "scrolled": true
   },
   "outputs": [
    {
     "name": "stderr",
     "output_type": "stream",
     "text": [
      "100%|██████████████████████████████████████████████████████████████████████████████| 1561/1561 [00:31<00:00, 49.21it/s]\n"
     ]
    }
   ],
   "source": [
    "val_data = make_data_scaling_val(100, 20, 0.02)"
   ]
  },
  {
   "cell_type": "code",
   "execution_count": 22,
   "id": "490e6664",
   "metadata": {
    "ExecuteTime": {
     "end_time": "2023-06-22T18:05:09.956889Z",
     "start_time": "2023-06-22T18:04:40.950033Z"
    },
    "scrolled": true
   },
   "outputs": [
    {
     "name": "stderr",
     "output_type": "stream",
     "text": [
      "100%|██████████████████████████████████████████████████████████████████████████████| 1561/1561 [00:28<00:00, 54.61it/s]\n"
     ]
    }
   ],
   "source": [
    "test_data= make_data_scaling_test(100, 20, 0.02)"
   ]
  },
  {
   "cell_type": "code",
   "execution_count": 23,
   "id": "85718988",
   "metadata": {
    "ExecuteTime": {
     "end_time": "2023-06-22T18:06:27.970836Z",
     "start_time": "2023-06-22T18:05:09.960879Z"
    },
    "tags": []
   },
   "outputs": [],
   "source": [
    "dump_file('scaling_train',100, 20, 0.02,train_data)\n",
    "dump_file('scaling_val',100, 20, 0.02,val_data)\n",
    "dump_file('scaling_test',100, 20, 0.02,test_data)"
   ]
  }
 ],
 "metadata": {
  "kernelspec": {
   "display_name": "Python 3 (ipykernel)",
   "language": "python",
   "name": "python3"
  },
  "language_info": {
   "codemirror_mode": {
    "name": "ipython",
    "version": 3
   },
   "file_extension": ".py",
   "mimetype": "text/x-python",
   "name": "python",
   "nbconvert_exporter": "python",
   "pygments_lexer": "ipython3",
   "version": "3.9.13"
  },
  "toc": {
   "base_numbering": 1,
   "nav_menu": {},
   "number_sections": true,
   "sideBar": true,
   "skip_h1_title": false,
   "title_cell": "Table of Contents",
   "title_sidebar": "Contents",
   "toc_cell": false,
   "toc_position": {
    "height": "calc(100% - 180px)",
    "left": "10px",
    "top": "150px",
    "width": "383.949px"
   },
   "toc_section_display": true,
   "toc_window_display": true
  },
  "toc-autonumbering": false
 },
 "nbformat": 4,
 "nbformat_minor": 5
}
