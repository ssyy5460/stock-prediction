{
 "cells": [
  {
   "cell_type": "code",
   "execution_count": 1,
   "metadata": {
    "ExecuteTime": {
     "end_time": "2022-12-01T14:29:04.639726Z",
     "start_time": "2022-12-01T14:28:59.077600Z"
    }
   },
   "outputs": [],
   "source": [
    "import numpy as np\n",
    "import pandas as pd\n",
    "from tqdm import tqdm\n",
    "import datetime\n",
    "import pickle\n",
    "from sklearn.linear_model import LogisticRegression\n",
    "import pymysql"
   ]
  },
  {
   "cell_type": "code",
   "execution_count": 2,
   "metadata": {},
   "outputs": [],
   "source": [
    "con = pymysql.connect(\n",

    ")"
   ]
  },
  {
   "cell_type": "markdown",
   "metadata": {
    "ExecuteTime": {
     "end_time": "2022-11-21T14:27:11.356704Z",
     "start_time": "2022-11-21T14:27:11.344212Z"
    }
   },
   "source": [
    "## 구축한 머신러닝 데이터 불러오기"
   ]
  },
  {
   "cell_type": "markdown",
   "metadata": {},
   "source": [
    "거래대금 : 1조<br> 거래일 : 10일 <br> 종속변수 임계값 : 0.02"
   ]
  },
  {
   "cell_type": "code",
   "execution_count": 3,
   "metadata": {
    "ExecuteTime": {
     "end_time": "2022-12-01T14:29:04.654688Z",
     "start_time": "2022-12-01T14:29:04.641721Z"
    }
   },
   "outputs": [],
   "source": [
    "def load_file(TYPE,trading, days,target):\n",
    "    with open('../../data/{}_{}_{}_{}.pickle'.format(TYPE,trading, days,target), 'rb') as f:\n",
    "        data = pickle.load(f)\n",
    "    return data"
   ]
  },
  {
   "cell_type": "code",
   "execution_count": 38,
   "metadata": {
    "ExecuteTime": {
     "end_time": "2022-12-01T14:29:19.359884Z",
     "start_time": "2022-12-01T14:29:04.736498Z"
    }
   },
   "outputs": [],
   "source": [
    "train = load_file('train',10000,10,0.02)\n",
    "val = load_file('val',10000,10,0.02)\n",
    "test = load_file('test', 10000,10,0.02)"
   ]
  },
  {
   "cell_type": "markdown",
   "metadata": {},
   "source": [
    "### train"
   ]
  },
  {
   "cell_type": "code",
   "execution_count": 5,
   "metadata": {
    "ExecuteTime": {
     "end_time": "2022-12-01T14:29:51.877394Z",
     "start_time": "2022-12-01T14:29:19.385814Z"
    }
   },
   "outputs": [],
   "source": [
    "lst_code2date = []\n",
    "trainX = []\n",
    "trainY = []\n",
    "\n",
    "for line in train:\n",
    "    code, date, x, y = line\n",
    "    lst_code2date.append([code,date])\n",
    "    trainX.append(list(map(int, x.split(','))))\n",
    "    trainY.append(int(y))"
   ]
  },
  {
   "cell_type": "code",
   "execution_count": 6,
   "metadata": {
    "ExecuteTime": {
     "end_time": "2022-12-01T14:29:57.106415Z",
     "start_time": "2022-12-01T14:29:51.889364Z"
    }
   },
   "outputs": [],
   "source": [
    "trainX = np.array(trainX)\n",
    "trainY = np.array(trainY)"
   ]
  },
  {
   "cell_type": "code",
   "execution_count": 7,
   "metadata": {},
   "outputs": [
    {
     "data": {
      "text/plain": [
       "(350, 50)"
      ]
     },
     "execution_count": 7,
     "metadata": {},
     "output_type": "execute_result"
    }
   ],
   "source": [
    "trainX.shape"
   ]
  },
  {
   "cell_type": "markdown",
   "metadata": {
    "tags": []
   },
   "source": [
    "## val"
   ]
  },
  {
   "cell_type": "code",
   "execution_count": 24,
   "metadata": {
    "ExecuteTime": {
     "end_time": "2022-12-01T14:30:05.874973Z",
     "start_time": "2022-12-01T14:29:57.153290Z"
    }
   },
   "outputs": [],
   "source": [
    "lst_code2date = []\n",
    "valX = []\n",
    "valY = []\n",
    "\n",
    "for line in val:\n",
    "    code, date, x, y = line\n",
    "    lst_code2date.append([code,date])\n",
    "    valX.append(list(map(int, x.split(','))))\n",
    "    valY.append(int(y))\n",
    "valX = np.array(valX)\n",
    "valY = np.array(valY)"
   ]
  },
  {
   "cell_type": "markdown",
   "metadata": {},
   "source": [
    "## test"
   ]
  },
  {
   "cell_type": "code",
   "execution_count": 52,
   "metadata": {
    "ExecuteTime": {
     "end_time": "2022-12-01T14:30:05.874973Z",
     "start_time": "2022-12-01T14:29:57.153290Z"
    }
   },
   "outputs": [],
   "source": [
    "test_code2date = []\n",
    "testX = []\n",
    "testY = []\n",
    "\n",
    "for line in test:\n",
    "    code, date, x, y = line\n",
    "    test_code2date.append([code,date])\n",
    "    testX.append(list(map(int, x.split(','))))\n",
    "    testY.append(int(y))\n",
    "testX = np.array(testX)\n",
    "testY = np.array(testY)"
   ]
  },
  {
   "cell_type": "markdown",
   "metadata": {},
   "source": [
    "### Modeling"
   ]
  },
  {
   "cell_type": "code",
   "execution_count": 26,
   "metadata": {
    "ExecuteTime": {
     "end_time": "2022-12-01T14:30:09.104414Z",
     "start_time": "2022-12-01T14:30:05.876967Z"
    }
   },
   "outputs": [
    {
     "data": {
      "text/plain": [
       "LogisticRegression(random_state=42)"
      ]
     },
     "execution_count": 26,
     "metadata": {},
     "output_type": "execute_result"
    }
   ],
   "source": [
    "LR = LogisticRegression(random_state = 42)\n",
    "LR.fit(trainX, trainY)"
   ]
  },
  {
   "cell_type": "code",
   "execution_count": 27,
   "metadata": {
    "ExecuteTime": {
     "end_time": "2022-12-01T14:30:09.304878Z",
     "start_time": "2022-12-01T14:30:09.216116Z"
    }
   },
   "outputs": [],
   "source": [
    "predY = LR.predict_proba(valX) # predict_proba 함수는 예측한 값을 확률 값으로 출력\n",
    "predY2 = LR.predict(valX) # predict 함수는 예측한 값을 이진 값(1 또는 0)으로 출력"
   ]
  },
  {
   "cell_type": "code",
   "execution_count": 28,
   "metadata": {
    "ExecuteTime": {
     "end_time": "2022-12-01T14:30:09.365717Z",
     "start_time": "2022-12-01T14:30:09.306874Z"
    }
   },
   "outputs": [
    {
     "data": {
      "text/plain": [
       "array([[0.42621095, 0.57378905],\n",
       "       [0.44811538, 0.55188462],\n",
       "       [0.44331061, 0.55668939],\n",
       "       [0.46710413, 0.53289587],\n",
       "       [0.29387045, 0.70612955]])"
      ]
     },
     "execution_count": 28,
     "metadata": {},
     "output_type": "execute_result"
    }
   ],
   "source": [
    "predY[:5]"
   ]
  },
  {
   "cell_type": "code",
   "execution_count": 13,
   "metadata": {
    "ExecuteTime": {
     "end_time": "2022-12-01T14:30:09.395636Z",
     "start_time": "2022-12-01T14:30:09.371709Z"
    }
   },
   "outputs": [
    {
     "data": {
      "text/plain": [
       "0.26"
      ]
     },
     "execution_count": 13,
     "metadata": {},
     "output_type": "execute_result"
    }
   ],
   "source": [
    "# 전체 대비 상승 2% 확률 \n",
    "round(np.count_nonzero(predY2) / len(predY2),2)"
   ]
  },
  {
   "cell_type": "markdown",
   "metadata": {},
   "source": [
    "## 주문 요청 일지\n",
    "다음 날 (D+1) 종가 *% 이상 상승 여부 예측 확률에 따라 주문 요청 일지를 작성한다."
   ]
  },
  {
   "cell_type": "code",
   "execution_count": 29,
   "metadata": {
    "ExecuteTime": {
     "end_time": "2022-12-01T15:00:11.683079Z",
     "start_time": "2022-12-01T15:00:11.036764Z"
    }
   },
   "outputs": [],
   "source": [
    "lst_output = []\n",
    "\n",
    "for (code,date),y in zip(lst_code2date, predY):\n",
    "    if y[1] >= 0.9:\n",
    "        lst_output.append([code, date, 'buy','all'])\n",
    "        lst_output.append([code, date+\"n\", 'sell', 'all'])\n",
    "    elif y[1] >= 0.7:\n",
    "        lst_output.append([code, date, 'buy','r90'])\n",
    "        lst_output.append([code, date+\"n\", 'sell', 'all'])\n",
    "    elif y[1] >= 0.5:\n",
    "        lst_output.append([code, date, 'buy', 'r50'])\n",
    "        lst_output.append([code, date+\"n\", 'sell', 'all'])\n",
    "    elif y[1] >= 0.3:\n",
    "        lst_output.append([code, date, 'buy', 'r30'])\n",
    "        lst_output.append([code, date+\"n\", 'sell', 'all'])\n"
   ]
  },
  {
   "cell_type": "code",
   "execution_count": 30,
   "metadata": {},
   "outputs": [
    {
     "data": {
      "text/plain": [
       "[['048410', '20210223', 'buy', 'r50'],\n",
       " ['048410', '20210223n', 'sell', 'all'],\n",
       " ['048410', '20210226', 'buy', 'r50'],\n",
       " ['048410', '20210226n', 'sell', 'all'],\n",
       " ['024810', '20210209', 'buy', 'r50'],\n",
       " ['024810', '20210209n', 'sell', 'all'],\n",
       " ['024810', '20210215', 'buy', 'r50'],\n",
       " ['024810', '20210215n', 'sell', 'all'],\n",
       " ['024810', '20210217', 'buy', 'r90'],\n",
       " ['024810', '20210217n', 'sell', 'all']]"
      ]
     },
     "execution_count": 30,
     "metadata": {},
     "output_type": "execute_result"
    }
   ],
   "source": [
    "lst_output[:10]"
   ]
  },
  {
   "cell_type": "code",
   "execution_count": 31,
   "metadata": {
    "ExecuteTime": {
     "end_time": "2022-12-01T15:00:13.465368Z",
     "start_time": "2022-12-01T15:00:12.724306Z"
    }
   },
   "outputs": [],
   "source": [
    "lst_output.sort(key = lambda x: x[1]) # date 기준으로 주문 요청 결과 정렬\n",
    "\n",
    "# 주문요청일지 저장\n",
    "OF = open('../../data/order_request_baseline.txt','w')\n",
    "for row in lst_output:\n",
    "    OF.write('\\t'.join(map(str, row)) + '\\n')\n",
    "OF.close()"
   ]
  },
  {
   "cell_type": "code",
   "execution_count": 32,
   "metadata": {},
   "outputs": [
    {
     "name": "stderr",
     "output_type": "stream",
     "text": [
      "224it [00:06, 36.21it/s]"
     ]
    },
    {
     "name": "stdout",
     "output_type": "stream",
     "text": [
      "Final earning rate : -54.36991 %\n"
     ]
    },
    {
     "name": "stderr",
     "output_type": "stream",
     "text": [
      "\n"
     ]
    }
   ],
   "source": [
    "start_money = 10000000 # 초기 현금 1천만원\n",
    "money = start_money\n",
    "dic_code2num ={}  # 보유 종목\n",
    "\n",
    "IF = open('../../data/order_request_baseline.txt','r')\n",
    "for i, line in tqdm(enumerate(IF)): #주문 일지를 한 줄 읽어 옴\n",
    "    code, date, request, amount = line.strip().split(\"\\t\")\n",
    "\n",
    "    ##############################################################################################\n",
    "    sql_query = '''\n",
    "                SELECT *\n",
    "                FROM stock_{}\n",
    "                WHERE Date\n",
    "                BETWEEN '2021-01-01' AND '2021-07-01'\n",
    "                '''.format(code)\n",
    "    stock = pd.read_sql(sql = sql_query, con = con)\n",
    "    lst_stock = stock.values.tolist()\n",
    "\n",
    "    for idx, row in enumerate(lst_stock):\n",
    "        Date = row[0].strftime('%Y%m%d')        \n",
    "        if date.endswith('n'):\n",
    "            if date.rstrip('n') == Date:\n",
    "                sell_close = lst_stock[idx+1][4]\n",
    "        elif date == Date:\n",
    "            buy_close = lst_stock[idx][4]\n",
    "\n",
    "    ##############################################################################################\n",
    "\n",
    "    if request == 'buy': \n",
    "        if amount.startswith('r'):\n",
    "            request_money = money * float(amount.lstrip(\"r\")) / 100\n",
    "        elif amount == 'all':\n",
    "            request_money = money\n",
    "        elif amount.isdigit():\n",
    "            request_money = int(amount)\n",
    "\n",
    "        else:\n",
    "            raise Exception('Not permitted option')\n",
    "        request_money = min(request_money, money)\n",
    "        buy_num = int(request_money / buy_close)\n",
    "        money -= buy_num * buy_close  # 현재 금액(money)을 실제 매수액을 뺀 만큼 업데이트\n",
    "        if code not in dic_code2num:\n",
    "            dic_code2num[code] = 0\n",
    "        dic_code2num[code] += buy_num # 보유 종목 데이터에 구매 종목(code)를 매수 개수 만큼 증가\n",
    "    if request == 'sell': # sell인 경우\n",
    "        if amount == 'all':\n",
    "            sell_num = dic_code2num[code]\n",
    "\n",
    "        else:\n",
    "            raise Exception('Not permitted option')            \n",
    "        money += sell_num * sell_close\n",
    "        dic_code2num[code] -= sell_num\n",
    "        if dic_code2num[code] == 0:\n",
    "            del dic_code2num[code]\n",
    "IF.close()            \n",
    "\n",
    "if dic_code2num != {}: # 매매가 종료되었는데 보유 종목이 있으면\n",
    "    raise Exception('Not empty stock') \n",
    "\n",
    "print(\"Final earning rate : {} %\".format(str((money-start_money) / start_money * 100)))"
   ]
  },
  {
   "cell_type": "code",
   "execution_count": 44,
   "metadata": {
    "ExecuteTime": {
     "end_time": "2022-12-01T14:30:09.104414Z",
     "start_time": "2022-12-01T14:30:05.876967Z"
    }
   },
   "outputs": [
    {
     "data": {
      "text/plain": [
       "LogisticRegression(random_state=42)"
      ]
     },
     "execution_count": 44,
     "metadata": {},
     "output_type": "execute_result"
    }
   ],
   "source": [
    "LR = LogisticRegression(random_state = 42)\n",
    "LR.fit(trainX, trainY)"
   ]
  },
  {
   "cell_type": "code",
   "execution_count": 46,
   "metadata": {
    "ExecuteTime": {
     "end_time": "2022-12-01T14:30:09.304878Z",
     "start_time": "2022-12-01T14:30:09.216116Z"
    }
   },
   "outputs": [],
   "source": [
    "predY = LR.predict_proba(testX) # predict_proba 함수는 예측한 값을 확률 값으로 출력\n",
    "predY2 = LR.predict(testX) # predict 함수는 예측한 값을 이진 값(1 또는 0)으로 출력"
   ]
  },
  {
   "cell_type": "code",
   "execution_count": 54,
   "metadata": {
    "ExecuteTime": {
     "end_time": "2022-12-01T15:00:11.683079Z",
     "start_time": "2022-12-01T15:00:11.036764Z"
    }
   },
   "outputs": [],
   "source": [
    "lst_output = []\n",
    "\n",
    "for (code,date),y in zip(test_code2date, predY):\n",
    "    if y[1] >= 0.9:\n",
    "        lst_output.append([code, date, 'buy','all'])\n",
    "        lst_output.append([code, date+\"n\", 'sell', 'all'])\n",
    "    elif y[1] >= 0.7:\n",
    "        lst_output.append([code, date, 'buy','r90'])\n",
    "        lst_output.append([code, date+\"n\", 'sell', 'all'])\n",
    "    elif y[1] >= 0.5:\n",
    "        lst_output.append([code, date, 'buy', 'r50'])\n",
    "        lst_output.append([code, date+\"n\", 'sell', 'all'])\n",
    "    elif y[1] >= 0.3:\n",
    "        lst_output.append([code, date, 'buy', 'r30'])\n",
    "        lst_output.append([code, date+\"n\", 'sell', 'all'])\n"
   ]
  },
  {
   "cell_type": "code",
   "execution_count": 55,
   "metadata": {},
   "outputs": [
    {
     "data": {
      "text/plain": [
       "[['222080', '20210930', 'buy', 'r50'],\n",
       " ['222080', '20210930n', 'sell', 'all'],\n",
       " ['035080', '20210714', 'buy', 'r50'],\n",
       " ['035080', '20210714n', 'sell', 'all'],\n",
       " ['028300', '20210830', 'buy', 'r50'],\n",
       " ['028300', '20210830n', 'sell', 'all'],\n",
       " ['064260', '20211118', 'buy', 'r50'],\n",
       " ['064260', '20211118n', 'sell', 'all'],\n",
       " ['064260', '20211119', 'buy', 'r50'],\n",
       " ['064260', '20211119n', 'sell', 'all']]"
      ]
     },
     "execution_count": 55,
     "metadata": {},
     "output_type": "execute_result"
    }
   ],
   "source": [
    "lst_output[:10]"
   ]
  },
  {
   "cell_type": "code",
   "execution_count": 56,
   "metadata": {
    "ExecuteTime": {
     "end_time": "2022-12-01T15:00:13.465368Z",
     "start_time": "2022-12-01T15:00:12.724306Z"
    }
   },
   "outputs": [],
   "source": [
    "lst_output.sort(key = lambda x: x[1]) # date 기준으로 주문 요청 결과 정렬\n",
    "\n",
    "# 주문요청일지 저장\n",
    "OF = open('../../data/order_request_baseline.txt','w')\n",
    "for row in lst_output:\n",
    "    OF.write('\\t'.join(map(str, row)) + '\\n')\n",
    "OF.close()"
   ]
  },
  {
   "cell_type": "code",
   "execution_count": 57,
   "metadata": {},
   "outputs": [
    {
     "name": "stderr",
     "output_type": "stream",
     "text": [
      "116it [00:03, 35.26it/s]"
     ]
    },
    {
     "name": "stdout",
     "output_type": "stream",
     "text": [
      "Final earning rate : -15.69981 %\n"
     ]
    },
    {
     "name": "stderr",
     "output_type": "stream",
     "text": [
      "\n"
     ]
    }
   ],
   "source": [
    "start_money = 10000000 # 초기 현금 1천만원\n",
    "money = start_money\n",
    "dic_code2num ={}  # 보유 종목\n",
    "\n",
    "IF = open('../../data/order_request_baseline.txt','r')\n",
    "for i, line in tqdm(enumerate(IF)): #주문 일지를 한 줄 읽어 옴\n",
    "    code, date, request, amount = line.strip().split(\"\\t\")\n",
    "\n",
    "    ##############################################################################################\n",
    "    sql_query = '''\n",
    "                SELECT *\n",
    "                FROM stock_{}\n",
    "                WHERE Date\n",
    "                BETWEEN '2021-07-01' AND '2021-12-31'\n",
    "                '''.format(code)\n",
    "    stock = pd.read_sql(sql = sql_query, con = con)\n",
    "    lst_stock = stock.values.tolist()\n",
    "\n",
    "    for idx, row in enumerate(lst_stock):\n",
    "        Date = row[0].strftime('%Y%m%d')        \n",
    "        if date.endswith('n'):\n",
    "            if date.rstrip('n') == Date:\n",
    "                sell_close = lst_stock[idx+1][4]\n",
    "        elif date == Date:\n",
    "            buy_close = lst_stock[idx][4]\n",
    "\n",
    "    ##############################################################################################\n",
    "\n",
    "    if request == 'buy': \n",
    "        if amount.startswith('r'):\n",
    "            request_money = money * float(amount.lstrip(\"r\")) / 100\n",
    "        elif amount == 'all':\n",
    "            request_money = money\n",
    "        elif amount.isdigit():\n",
    "            request_money = int(amount)\n",
    "\n",
    "        else:\n",
    "            raise Exception('Not permitted option')\n",
    "        request_money = min(request_money, money)\n",
    "        buy_num = int(request_money / buy_close)\n",
    "        money -= buy_num * buy_close  # 현재 금액(money)을 실제 매수액을 뺀 만큼 업데이트\n",
    "        if code not in dic_code2num:\n",
    "            dic_code2num[code] = 0\n",
    "        dic_code2num[code] += buy_num # 보유 종목 데이터에 구매 종목(code)를 매수 개수 만큼 증가\n",
    "    if request == 'sell': # sell인 경우\n",
    "        if amount == 'all':\n",
    "            sell_num = dic_code2num[code]\n",
    "\n",
    "        else:\n",
    "            raise Exception('Not permitted option')            \n",
    "        money += sell_num * sell_close\n",
    "        dic_code2num[code] -= sell_num\n",
    "        if dic_code2num[code] == 0:\n",
    "            del dic_code2num[code]\n",
    "IF.close()            \n",
    "\n",
    "if dic_code2num != {}: # 매매가 종료되었는데 보유 종목이 있으면\n",
    "    raise Exception('Not empty stock') \n",
    "\n",
    "print(\"Final earning rate : {} %\".format(str((money-start_money) / start_money * 100)))"
   ]
  }
 ],
 "metadata": {
  "kernelspec": {
   "display_name": "Python 3",
   "language": "python",
   "name": "python3"
  },
  "language_info": {
   "codemirror_mode": {
    "name": "ipython",
    "version": 3
   },
   "file_extension": ".py",
   "mimetype": "text/x-python",
   "name": "python",
   "nbconvert_exporter": "python",
   "pygments_lexer": "ipython3",
   "version": "3.8.5"
  },
  "toc": {
   "base_numbering": 1,
   "nav_menu": {},
   "number_sections": true,
   "sideBar": true,
   "skip_h1_title": false,
   "title_cell": "Table of Contents",
   "title_sidebar": "Contents",
   "toc_cell": false,
   "toc_position": {},
   "toc_section_display": true,
   "toc_window_display": false
  }
 },
 "nbformat": 4,
 "nbformat_minor": 4
}
