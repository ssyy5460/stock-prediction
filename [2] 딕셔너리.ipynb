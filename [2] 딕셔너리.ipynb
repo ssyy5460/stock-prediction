{
 "cells": [
  {
   "cell_type": "markdown",
   "metadata": {
    "ExecuteTime": {
     "end_time": "2022-10-26T15:52:11.785501Z",
     "start_time": "2022-10-26T15:52:11.776527Z"
    }
   },
   "source": [
    "<strong>주가 예측 프로젝트 prac 2</strong>\n",
    "\n",
    "- 딕셔너리 사용 <br>\n",
    "<strong> 수행시간 O(1)</strong> \n",
    "- 과제 1: 0초\n",
    "- 과제 2: 4분 25초\n",
    "- 과제 3: 14초\n",
    "\n",
    "-> 과제2의 경우 리스트 형식보다 약 15초, 과제3의 경우 리스트형식보다 약 2분 40초 빠르게 수행함<br>\n",
    "\n",
    "<strong> **리스트 VS 딕셔너리** </strong>\n",
    "\n",
    "- 딕셔너리는 해쉬 테이블을 이용해 key값에 따라 value의 위치가 결정된다.\n",
    "\n",
    "- 탐색 시 key값이 있으면 굳이 배열 전체를 탐색하지 않고도 value를 얻을 수 있고, 리스트와 딕셔너리의 탐색속도의 차이가 발생한다."
   ]
  },
  {
   "cell_type": "code",
   "execution_count": 1,
   "metadata": {
    "ExecuteTime": {
     "end_time": "2022-10-26T15:54:55.705244Z",
     "start_time": "2022-10-26T15:54:55.692250Z"
    }
   },
   "outputs": [],
   "source": [
    "import pandas as pd\n",
    "import numpy as np \n",
    "from tqdm import tqdm\n",
    "import FinanceDataReader as fdr"
   ]
  },
  {
   "cell_type": "code",
   "execution_count": 2,
   "metadata": {
    "ExecuteTime": {
     "end_time": "2022-10-26T16:10:08.293838Z",
     "start_time": "2022-10-26T16:10:08.239739Z"
    }
   },
   "outputs": [
    {
     "data": {
      "text/html": [
       "<div>\n",
       "<style scoped>\n",
       "    .dataframe tbody tr th:only-of-type {\n",
       "        vertical-align: middle;\n",
       "    }\n",
       "\n",
       "    .dataframe tbody tr th {\n",
       "        vertical-align: top;\n",
       "    }\n",
       "\n",
       "    .dataframe thead th {\n",
       "        text-align: right;\n",
       "    }\n",
       "</style>\n",
       "<table border=\"1\" class=\"dataframe\">\n",
       "  <thead>\n",
       "    <tr style=\"text-align: right;\">\n",
       "      <th></th>\n",
       "      <th>회사명</th>\n",
       "      <th>종목코드</th>\n",
       "      <th>업종</th>\n",
       "      <th>주요제품</th>\n",
       "      <th>상장일</th>\n",
       "      <th>결산월</th>\n",
       "      <th>대표자명</th>\n",
       "      <th>홈페이지</th>\n",
       "      <th>지역</th>\n",
       "    </tr>\n",
       "  </thead>\n",
       "  <tbody>\n",
       "    <tr>\n",
       "      <th>0</th>\n",
       "      <td>BNK금융지주</td>\n",
       "      <td>138930</td>\n",
       "      <td>기타 금융업</td>\n",
       "      <td>금융지주회사</td>\n",
       "      <td>2011-03-30</td>\n",
       "      <td>12월</td>\n",
       "      <td>빈대인</td>\n",
       "      <td>http://www.bnkfg.com</td>\n",
       "      <td>부산광역시</td>\n",
       "    </tr>\n",
       "    <tr>\n",
       "      <th>1</th>\n",
       "      <td>DRB동일</td>\n",
       "      <td>4840</td>\n",
       "      <td>고무제품 제조업</td>\n",
       "      <td>고무벨트(V벨트,콘베이어벨트,평벨트),프라스틱제품 제조,판매</td>\n",
       "      <td>1976-05-21</td>\n",
       "      <td>12월</td>\n",
       "      <td>류영식</td>\n",
       "      <td>http://drbworld.com</td>\n",
       "      <td>부산광역시</td>\n",
       "    </tr>\n",
       "    <tr>\n",
       "      <th>2</th>\n",
       "      <td>DSR</td>\n",
       "      <td>155660</td>\n",
       "      <td>1차 비철금속 제조업</td>\n",
       "      <td>합섬섬유로프</td>\n",
       "      <td>2013-05-15</td>\n",
       "      <td>12월</td>\n",
       "      <td>홍석빈</td>\n",
       "      <td>http://www.dsr.com</td>\n",
       "      <td>부산광역시</td>\n",
       "    </tr>\n",
       "    <tr>\n",
       "      <th>3</th>\n",
       "      <td>GS</td>\n",
       "      <td>78930</td>\n",
       "      <td>기타 금융업</td>\n",
       "      <td>지주회사/부동산 임대</td>\n",
       "      <td>2004-08-05</td>\n",
       "      <td>12월</td>\n",
       "      <td>허태수, 홍순기 (각자 대표이사)</td>\n",
       "      <td>NaN</td>\n",
       "      <td>서울특별시</td>\n",
       "    </tr>\n",
       "    <tr>\n",
       "      <th>4</th>\n",
       "      <td>HDC현대산업개발</td>\n",
       "      <td>294870</td>\n",
       "      <td>건물 건설업</td>\n",
       "      <td>외주주택, 자체공사, 일반건축, 토목 등</td>\n",
       "      <td>2018-06-12</td>\n",
       "      <td>12월</td>\n",
       "      <td>최익훈, 정익희, 김회언 (각자 대표이사)</td>\n",
       "      <td>http://www.hdc-dvp.com</td>\n",
       "      <td>서울특별시</td>\n",
       "    </tr>\n",
       "  </tbody>\n",
       "</table>\n",
       "</div>"
      ],
      "text/plain": [
       "         회사명    종목코드           업종                               주요제품  \\\n",
       "0    BNK금융지주  138930       기타 금융업                             금융지주회사   \n",
       "1      DRB동일    4840     고무제품 제조업  고무벨트(V벨트,콘베이어벨트,평벨트),프라스틱제품 제조,판매   \n",
       "2        DSR  155660  1차 비철금속 제조업                             합섬섬유로프   \n",
       "3         GS   78930       기타 금융업                        지주회사/부동산 임대   \n",
       "4  HDC현대산업개발  294870       건물 건설업             외주주택, 자체공사, 일반건축, 토목 등   \n",
       "\n",
       "          상장일  결산월                     대표자명                    홈페이지     지역  \n",
       "0  2011-03-30  12월                      빈대인    http://www.bnkfg.com  부산광역시  \n",
       "1  1976-05-21  12월                      류영식     http://drbworld.com  부산광역시  \n",
       "2  2013-05-15  12월                      홍석빈      http://www.dsr.com  부산광역시  \n",
       "3  2004-08-05  12월       허태수, 홍순기 (각자 대표이사)                     NaN  서울특별시  \n",
       "4  2018-06-12  12월  최익훈, 정익희, 김회언 (각자 대표이사)  http://www.hdc-dvp.com  서울특별시  "
      ]
     },
     "execution_count": 2,
     "metadata": {},
     "output_type": "execute_result"
    }
   ],
   "source": [
    "df_stock = pd.read_html('http://kind.krx.co.kr/corpgeneral/corpList.do?method=download', header=0)[0] #데이터 불러오기\n",
    "df_stock.head()"
   ]
  },
  {
   "cell_type": "code",
   "execution_count": 3,
   "metadata": {
    "ExecuteTime": {
     "end_time": "2022-10-26T16:10:09.182280Z",
     "start_time": "2022-10-26T16:10:09.157374Z"
    }
   },
   "outputs": [],
   "source": [
    "# 종목코드 바꾸기\n",
    "df_stock['종목코드'] =df_stock['종목코드'].apply(lambda x : str(x).zfill(6))\n",
    "lst_stock = df_stock.values.tolist()"
   ]
  },
  {
   "cell_type": "markdown",
   "metadata": {},
   "source": [
    "# 과제1"
   ]
  },
  {
   "cell_type": "code",
   "execution_count": 5,
   "metadata": {
    "ExecuteTime": {
     "end_time": "2022-10-26T16:10:10.257393Z",
     "start_time": "2022-10-26T16:10:10.237446Z"
    }
   },
   "outputs": [
    {
     "name": "stderr",
     "output_type": "stream",
     "text": [
      "100%|██████████████████████████████████████████████████████████████████████████| 2586/2586 [00:00<00:00, 431992.60it/s]\n"
     ]
    }
   ],
   "source": [
    "result = {}\n",
    "\n",
    "for row in tqdm(lst_stock):\n",
    "    code,name, date = row[1],row[0], row[4]\n",
    "    if date <= '2018-01-02':\n",
    "        result[code]= name\n",
    "        \n",
    "OF = open('../../data/assignment1','w')\n",
    "for row in result:\n",
    "    code, name = row[0],row[1]\n",
    "    OF.write(f'{code}\\t{name}\\n')\n",
    "OF.close()\n",
    "        "
   ]
  },
  {
   "cell_type": "markdown",
   "metadata": {},
   "source": [
    "# 과제2"
   ]
  },
  {
   "cell_type": "code",
   "execution_count": 6,
   "metadata": {
    "ExecuteTime": {
     "end_time": "2022-10-26T16:35:02.314970Z",
     "start_time": "2022-10-26T16:31:03.239787Z"
    },
    "scrolled": true
   },
   "outputs": [
    {
     "name": "stderr",
     "output_type": "stream",
     "text": [
      "100%|██████████████████████████████████████████████████████████████████████████████| 1961/1961 [04:25<00:00,  7.38it/s]\n"
     ]
    }
   ],
   "source": [
    "dic_code2date = {}\n",
    "\n",
    "for code in tqdm(result.keys()):\n",
    "    stock = fdr.DataReader(code,start = '2018-01-01', end = '2021-12-31')\n",
    "\n",
    "    lst_stock = stock.values.tolist()\n",
    "    lst_date = stock.index\n",
    "    \n",
    "    for date, row in zip(lst_date, lst_stock):\n",
    "        close, volume, trading = row[3], row[4], row[3]*row[4]\n",
    "        \n",
    "        if trading >= 1000000000000:\n",
    "            if code not in dic_code2date.keys():\n",
    "                dic_code2date[code] = []\n",
    "                dic_code2date[code].append(date)\n",
    "            else:\n",
    "                dic_code2date[code].append(date)\n",
    "                \n",
    "OF = open('../../data/assignment2.txt', 'w')\n",
    "for code,date in dic_code2date.items():\n",
    "    OF.write(f'{code}\\t{date}\\n')\n",
    "OF.close()"
   ]
  },
  {
   "cell_type": "markdown",
   "metadata": {
    "ExecuteTime": {
     "end_time": "2022-10-26T16:24:33.392843Z",
     "start_time": "2022-10-26T16:24:33.380872Z"
    }
   },
   "source": [
    "# 과제3"
   ]
  },
  {
   "cell_type": "code",
   "execution_count": 9,
   "metadata": {
    "ExecuteTime": {
     "end_time": "2022-10-26T16:39:45.580088Z",
     "start_time": "2022-10-26T16:39:45.534211Z"
    }
   },
   "outputs": [
    {
     "data": {
      "text/plain": [
       "[Timestamp('2020-08-07 00:00:00'),\n",
       " Timestamp('2021-01-06 00:00:00'),\n",
       " Timestamp('2021-01-11 00:00:00'),\n",
       " Timestamp('2021-02-01 00:00:00'),\n",
       " Timestamp('2021-02-15 00:00:00'),\n",
       " Timestamp('2021-04-12 00:00:00'),\n",
       " Timestamp('2021-07-01 00:00:00')]"
      ]
     },
     "execution_count": 9,
     "metadata": {},
     "output_type": "execute_result"
    }
   ],
   "source": [
    "dic_code2date['096770']"
   ]
  },
  {
   "cell_type": "code",
   "execution_count": 10,
   "metadata": {
    "ExecuteTime": {
     "start_time": "2022-10-26T16:49:09.170Z"
    }
   },
   "outputs": [
    {
     "name": "stderr",
     "output_type": "stream",
     "text": [
      "100%|██████████████████████████████████████████████████████████████████████████████████| 79/79 [00:14<00:00,  5.61it/s]\n"
     ]
    }
   ],
   "source": [
    "dic_result = {}\n",
    "OF = open('../../data/assignment3.txt','w')\n",
    "\n",
    "for row in tqdm(dic_code2date.keys()):\n",
    "    code = row\n",
    "    stock = fdr.DataReader(code,start = '2018-01-01', end = '2021-12-31')\n",
    "    stock.index = stock.index.strftime('%Y%m%d')\n",
    "\n",
    "    lst_stock = stock.values.tolist()\n",
    "    lst_date = stock.index\n",
    "    \n",
    "    for i,row in enumerate(lst_stock):\n",
    "        date = row[0]\n",
    "        # 10일간의 데이터를 모으지 못하는 경우\n",
    "        if i < 9 :\n",
    "            continue\n",
    "            \n",
    "        if date not in lst_date:\n",
    "            continue\n",
    "            \n",
    "        sub_stock = stock[i-9:i+1]\n",
    "        change = stock[i+1][-1]\n",
    "        \n",
    "        lst_result = []\n",
    "        for row in sub_stock:\n",
    "            open, high, low, close, volume = row[1:6]\n",
    "            trading = row[4] * row[5]\n",
    "            lst_result += [open,high,low,close,volume,trading]\n",
    "        result = ','.join(map(str,lst_result))\n",
    "        ratio = str(int(lst_stock[i+1][-1] > 0.02))\n",
    "        \n",
    "        \n",
    "        OF.write('\\t'.join(map(str,[code,date,result,ratio]))) + '\\n'\n",
    "OF.close()\n",
    "        \n",
    "    "
   ]
  }
 ],
 "metadata": {
  "kernelspec": {
   "display_name": "Python 3",
   "language": "python",
   "name": "python3"
  },
  "language_info": {
   "codemirror_mode": {
    "name": "ipython",
    "version": 3
   },
   "file_extension": ".py",
   "mimetype": "text/x-python",
   "name": "python",
   "nbconvert_exporter": "python",
   "pygments_lexer": "ipython3",
   "version": "3.8.5"
  },
  "toc": {
   "base_numbering": 1,
   "nav_menu": {},
   "number_sections": true,
   "sideBar": true,
   "skip_h1_title": false,
   "title_cell": "Table of Contents",
   "title_sidebar": "Contents",
   "toc_cell": false,
   "toc_position": {},
   "toc_section_display": true,
   "toc_window_display": false
  }
 },
 "nbformat": 4,
 "nbformat_minor": 4
}
